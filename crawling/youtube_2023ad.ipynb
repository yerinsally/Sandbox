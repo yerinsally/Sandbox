{
 "cells": [
  {
   "cell_type": "code",
   "execution_count": 1,
   "metadata": {},
   "outputs": [
    {
     "data": {
      "text/plain": [
       "'c:\\\\Users\\\\SANDBOX\\\\Desktop\\\\Sandbox\\\\crawling'"
      ]
     },
     "execution_count": 1,
     "metadata": {},
     "output_type": "execute_result"
    }
   ],
   "source": [
    "from selenium import webdriver\n",
    "import time\n",
    "from bs4 import BeautifulSoup\n",
    "from selenium.webdriver import ActionChains\n",
    "from selenium.webdriver.common.keys import Keys\n",
    "import math\n",
    "import pandas as pd\n",
    "import numpy as np\n",
    "from tqdm import tqdm\n",
    "import os\n",
    "from selenium.webdriver.common.by import By\n",
    "import json\n",
    "import pygsheets\n",
    "from google.oauth2 import service_account\n",
    "import platform\n",
    "import datetime\n",
    "from dateutil.relativedelta import relativedelta\n",
    "import sys\n",
    "from selenium.webdriver.chrome.service import Service as ChromeService\n",
    "from webdriver_manager.chrome import ChromeDriverManager\n",
    "\n",
    "class MyChromeDriver(webdriver.Chrome):\n",
    "\n",
    "    def __init__(self, headless=False, maximize=True):\n",
    "\n",
    "        options = webdriver.ChromeOptions()\n",
    "        if headless:\n",
    "            options.add_argument('--headless')\n",
    "\n",
    "        webdriver.Chrome.__init__(self, service=ChromeService(ChromeDriverManager().install()), options=options)\n",
    "\n",
    "        if maximize:\n",
    "            self.maximize_window()\n",
    "\n",
    "driver = webdriver.Chrome(service=ChromeService(ChromeDriverManager().install()))\n",
    "\n",
    "if driver is None:\n",
    "        my_driver = MyChromeDriver()\n",
    "        time.sleep(10)\n",
    "else:\n",
    "    my_driver = driver\n",
    "\n",
    "os.getcwd()"
   ]
  },
  {
   "cell_type": "code",
   "execution_count": 2,
   "metadata": {},
   "outputs": [
    {
     "name": "stderr",
     "output_type": "stream",
     "text": [
      " 15%|█▌        | 3/20 [00:00<00:00, 29.05it/s]"
     ]
    },
    {
     "name": "stdout",
     "output_type": "stream",
     "text": [
      "0 [유료광고포함] 새벽 4시 기상해서 미국 하이틴으로 변신하기! 미드 유포리아 캐씨 모닝루틴 챌린지 💖 https://youtu.be/ejj-BAA7lwo&pp 해쭈 [HAEJOO] 공부\n",
      "1 미리 정해두는 5월 필수 공부 (책 증정이벤트 & 유료광고 포함) (중고등 과목별 교재 & 공부법 추천)  | 대치동장원장 시즌6 #자기주도학습 #스터디PT #스터디피티 https://youtu.be/XlP8zzp0VH4&pp 대치동장원장 공부\n",
      "2 인스타충 골 빈 허세녀들의 삶 24시간 밀착 취재 Ep.21 / 쇼호스트 데뷔 https://youtu.be/h2aHHik0_HU&pp 레이디액션 공부\n",
      "3 eng) 카이스트 개강 브이로그 | 과제&공부 꿀팁🍯, 도서관 공부, 개강파티, 운동 | 미러 사용법 | KAIST study vlog https://youtu.be/ckAbdCa8Gk8&pp 밍주라네 Mingjurane 공부\n",
      "4 𝐏𝐥𝐚𝐲𝐥𝐢𝐬𝐭 부장님도 같이 리듬 타게 되는 직장인 노동요 https://youtu.be/qabCoid-K-8&pp 때껄룩ᴛᴀᴋᴇ ᴀ ʟᴏᴏᴋ 공부\n",
      "5 문해력 이슈 | 문제는 영상 때문이다🤔? #highlight #유료광고포함#유퀴즈온더블럭 | YOU QUIZ ON THE BLOCK EP.204 https://youtu.be/iiXDssiA_Ts&pp 유 퀴즈 온 더 튜브 공부\n"
     ]
    },
    {
     "name": "stderr",
     "output_type": "stream",
     "text": [
      " 55%|█████▌    | 11/20 [00:00<00:00, 29.71it/s]"
     ]
    },
    {
     "name": "stdout",
     "output_type": "stream",
     "text": [
      "6 경제공부는 이게 정석이지 https://youtu.be/Dhkx7rudBy4 윤루카스 공부\n",
      "7 #5. 일주일 내내 출근하면서 공부도, 약속도 즐기는 브이로그 | ⭐️유기화학 필기노트 무료나눔 | 유료광고) 공부하면서 돈 버는 파트타임 스터디 | 이대생 브이로그 https://youtu.be/4w4woPuMfYg&pp 해엄 Hae:eom 공부\n",
      "8 홈쇼핑 수도승의 풀소유 인생💰 (홈쇼핑 말고 다른 유료광고 포함)│Ep.79 https://youtu.be/Nfnk_AeTVk0&pp 구라철 공부\n",
      "9 공부를 하면 망하는 이유 https://youtu.be/GKGO1sfYXDs 쌤들 뭐하니? 공부\n",
      "10 [좋좋슈] 사장님 진짜 배민 처음 써보세요? (유료광고포함) https://youtu.be/Z3mY1x3xK30&pp 슈카월드 코믹스 공부\n",
      "11 SUB 사이다) 지방출신은 꼴통 집합소? 빡대가리라고 비하하다 참교육 당한 전교1등ㅋㅋ | [루대숲] - 105번째 사연 https://youtu.be/J-jwQKYGVBo&pp 루디고GO 공부\n",
      "12 챗GPT를 신빡하게 사용하는 방법  ➡️ GPT4 무료사용법 포함 https://youtu.be/Q0HKGCUH1DA&pp 무빙워터 공부\n"
     ]
    },
    {
     "name": "stderr",
     "output_type": "stream",
     "text": [
      " 95%|█████████▌| 19/20 [00:00<00:00, 29.21it/s]"
     ]
    },
    {
     "name": "stdout",
     "output_type": "stream",
     "text": [
      "13 하필 고3때 외계인 쳐들어와ㅠ 전교생이 \"군필 고딩\"이 됨ㅋ 열받은 배그의 민족 방과후 육군훈련으로 점점 특수부대급🔥으로 성장하는 개쩌는 설정의 드라마 나왔다ㅋㅋ https://youtu.be/_bEK-vqluj0&pp 고몽 공부\n",
      "14 바뀐 후, 조회수 630만회 쇼츠 수익 https://youtu.be/fzYrzsdABOM 실수투성이고 외로운 나를 봐 공부\n",
      "15 유로광고 포함!선생님의 추천을 받아 광고합니다~많이 사주세용! #악플ㄴㄴ #유료광고 https://youtu.be/WSf8d8Cd4dc 죄없는 백여우🤍 공부\n",
      "16 대이직의 시대, 급변하는 채용 시장 [유료광고 포함] https://youtu.be/Z6UHlW_SE9E&pp 슈카월드 공부\n",
      "17 [study vlog] 시험기간 공부 vlog/ 08년생 시험공부 브이로그/ 스카에서 쓰기 좋은 마스크 추천 | 류희진 https://youtu.be/nh9phaEhaV0&pp 류희진 공부\n",
      "18 SNS 팔로워수로 권력이 나뉘는 인플루언서맘들의 잘난척과 허세 뒤 숨겨진 갑질러의 모습…! 펜트하우스급 초고급 아파트 쎈케 엄마들의 소름끼치는 저격과 나락《행복배틀》#ena채널 https://youtu.be/uhPy9uyolGw&pp 고몽 공부\n",
      "19 상대방의 호감을 얻는 방법 #shorts https://youtu.be/V147e3QVeNI 준빵조교 공부\n"
     ]
    },
    {
     "name": "stderr",
     "output_type": "stream",
     "text": [
      "100%|██████████| 20/20 [00:00<00:00, 29.56it/s]\n",
      " 30%|███       | 6/20 [00:00<00:00, 28.40it/s]"
     ]
    },
    {
     "name": "stdout",
     "output_type": "stream",
     "text": [
      "0 [유료광고포함] 🏝️ 고독한 여행가가 되어 홀로 1박 2일 브이로그 https://youtu.be/I01pzEznbdU&pp 해쭈 [HAEJOO] 여행\n",
      "1 [유료광고포함] 새벽 4시 기상해서 미국 하이틴으로 변신하기! 미드 유포리아 캐씨 모닝루틴 챌린지 💖 https://youtu.be/ejj-BAA7lwo&pp 해쭈 [HAEJOO] 여행\n",
      "2 오픈 전부터 우당탕탕💫 티격태격💥 서진이네 모음 #highlight  #유료광고포함 #서진이네 EP.1 https://youtu.be/528XMujOZGw&pp tvN 여행\n",
      "3 누가 한국인은 밥심이래? 최소 서진이네는 라면 파워임 #highlight #유료광고포함 #서진이네 EP.2 https://youtu.be/4xB-7hmRNwY&pp tvN 여행\n",
      "4 우리 드라마 주연 어때요? 벌칙 같은 의상 공개 #유료광고포함 #뿅뿅지구오락실2 EP.1 | tvN 230512 방송 https://youtu.be/ZT1BqR2sVXA&pp tvN 여행\n",
      "5 🐝 텅텅 비어가는 벌통...1년에 140억 마리 이상 사라지고 있습니다 \"진짜 이러다 우리 다 죽어 ㅠㅜ\" ｜크랩  (유료광고 포함) https://youtu.be/-r8FWHf27iU&pp 크랩 KLAB 여행\n",
      "6 태국 다녀온 한국인 '이 아메바'에 첫 사망..유일한 예방법은｜크랩 (유료광고포함) https://youtu.be/4vmi49Ij_GY&pp 크랩 KLAB 여행\n"
     ]
    },
    {
     "name": "stderr",
     "output_type": "stream",
     "text": [
      " 60%|██████    | 12/20 [00:00<00:00, 28.90it/s]"
     ]
    },
    {
     "name": "stdout",
     "output_type": "stream",
     "text": [
      "7 [EP1]안녕하세요. 여행 유튜버 입니다. https://youtu.be/nvVhjoA1N_U&pp 주호다 여행\n",
      "8 서진이네 휴일 보내는 법 & MBTI 극 N들의 '만약에' 게임 #유료광고포함 #서진이네 EP.4 | tvN 230317 방송 https://youtu.be/b3aNmuOPgG4&pp tvN 여행\n",
      "9 역대급 매출! 우리 사장님이 (좋게) 달라졌어요~♥ #유료광고포함 #서진이네 EP.6 | tvN 230331 방송 https://youtu.be/D8IHS63MdRA&pp tvN 여행\n",
      "10 👩‍🍳이건 맛의 대! 잔! 치! 만석일 때 서진이네가 손님을 대하는 자세👨‍🍳 #highlight #유료광고포함 #서진이네 EP.6 https://youtu.be/1A2_gPJI0pU&pp tvN 여행\n",
      "11 외항사 승무원 브이로그📝 유럽감성 가득 멜번🏰  빅토리아 도서관🏛 비오는 멜번에서의 커피☕️ 내가 요즘 챙겨먹는 이 것 #승무원콜라겐 #승무원피부관리 #아일로콜라겐 https://youtu.be/JKNIH9Zt73o&pp Hello Ash 여행\n",
      "12 먹으면서 여행하는 방콕 럭셔리 버스 레스토랑 - 태국 여행(2)🇹🇭 https://youtu.be/KGoQ2rocMWw&pp 유일랜드 Uiland 여행\n",
      "13 직원 복지 최고! ★숙소 공개★ 스포의 길로 안내하는 김태형ㅋㅋㅋ #유료광고포함 #서진이네 EP.1 | tvN 230224 방송 https://youtu.be/fHAyWdRR70U&pp tvN 여행\n",
      "14 타이베이 여행가서 꼭 먹어야하는 음식 BEST 12 (유료광고 포함) https://youtu.be/j0GqpEE_JV8  여행\n"
     ]
    },
    {
     "name": "stderr",
     "output_type": "stream",
     "text": [
      "100%|██████████| 20/20 [00:00<00:00, 28.42it/s]"
     ]
    },
    {
     "name": "stdout",
     "output_type": "stream",
     "text": [
      "15 지락이들 핀란드에서 떡볶이를 접하다 #유료광고포함 #뿅뿅지구오락실2 EP.4 | tvN 230602 방송 https://youtu.be/73oAtMAARlQ&pp  여행\n",
      "16 [쿠키 털이] 편집자님이 앙큼하게 구운 쿠키 https://youtu.be/X0KEtnZ7yZk&pp  여행\n",
      "17 야놀자 광고찍은 썰 [유료 광고 포함] https://youtu.be/D9VHFgd9dbw&pp  여행\n",
      "18 언제 이만큼 컸어😭 챙김만 받던 1세대 랜선 조카들이 본격 남들 챙겨주는 영상.MP4💕 #유료광고포함 #이젠날따라와 EP.1 https://youtu.be/xOfh5L-mRSY&pp 푸드링FoodRing 여행\n",
      "19 [sub] EP.1 | 4년 만에 더 다운그레이드(?) 되어 돌아왔습니다 l 🗽이서진의 뉴욕뉴욕2 https://youtu.be/FWKA9BgfvNs&pp tvN 여행\n"
     ]
    },
    {
     "name": "stderr",
     "output_type": "stream",
     "text": [
      "\n",
      " 40%|████      | 8/20 [00:00<00:00, 30.96it/s]"
     ]
    },
    {
     "name": "stdout",
     "output_type": "stream",
     "text": [
      "0 ※야식 주의※ 검정 고무신 급 서진이네 라면 먹방 #유료광고포함 #서진이네 EP.2 | tvN 230303 방송 https://youtu.be/-qSVIN9fvdo&pp tvN 먹방\n",
      "1 누가 한국인은 밥심이래? 최소 서진이네는 라면 파워임 #highlight #유료광고포함 #서진이네 EP.2 https://youtu.be/4xB-7hmRNwY&pp tvN 먹방\n",
      "2 써브웨이 먹방 | 먹는데 재능 있는 지락이들 #유료광고포함 #뿅뿅지구오락실2 EP.6 | tvN 230616 방송 https://youtu.be/iXllEofF2d4&pp tvN 먹방\n",
      "3 먹방 유튜버는 생맥주 최대 얼마나 먹을까 https://youtu.be/kRoNurKqLbc 돼끼 baby_pig_rabbit 먹방\n",
      "4 먹방부터 바다 구경까지! 힐링,,❤ #유료광고포함 #댄스가수유랑단 EP.9 https://youtu.be/qdLM1DaFY5A&pp tvN 먹방\n",
      "5 오픈 전부터 우당탕탕💫 티격태격💥 서진이네 모음 #highlight  #유료광고포함 #서진이네 EP.1 https://youtu.be/528XMujOZGw&pp tvN 먹방\n",
      "6 엠빠나다? 아니죠~ 본새 나는 한국의 만두 맛을 본 후기는? #유료광고포함 #서진이네 EP.2 | tvN 230303 방송 https://youtu.be/R6xfIDLVkww&pp tvN 먹방\n",
      "7 노량진 수산시장 🦀 장어 샤브샤브 & 광어회 우럭회 킹크랩까지! 수산물 먹방 Korean Seafood Market KingCrab Eel Mukbang ASMR Ssoyoung https://youtu.be/M16rLLHQhRk&pp 쏘영 Ssoyoung 먹방\n"
     ]
    },
    {
     "name": "stderr",
     "output_type": "stream",
     "text": [
      " 60%|██████    | 12/20 [00:00<00:00, 30.88it/s]"
     ]
    },
    {
     "name": "stdout",
     "output_type": "stream",
     "text": [
      "8 SUB•VLOG) 간장삼겹조림이랑 김치찌개 해먹고, 옷장정리하는 일상. 옷 기부하기, 알리오올리오, 스타벅스 블랙글레이즈드라떼, bbq치킨, 양배추참치덮밥, 아사히 수퍼드라이 https://youtu.be/9f11QVad_ew&pp 세리티 Serity 먹방\n",
      "9 🍽 쉬는시간 l 복지=밥심♥ 서진이네 직원들의 브레이크 타임! l 서진이네 https://youtu.be/DS_C1mDvLqg&pp 채널 십오야 먹방\n",
      "10 자유를 갈망하는 정유미의 비건 김밥... 우리 장사할 수 있지..? #유료광고포함 #서진이네 EP.1 | tvN 230224 방송 https://youtu.be/L7n8_5kmI2s&pp tvN 먹방\n",
      "11 [출장 십오야2] '야식이다!' 야식을 뿌듯하게 즐기기 시작한 스타쉽 스타들  # 유료광고포함 | tvN 221113 방송 https://youtu.be/z91BBFrgxhs&pp tvN 먹방\n",
      "12 [유료광고포함] 🌱 앗! 지구지킴이 챌린지! 생각보다 쉽다! https://youtu.be/XDuxNaAVyzQ&pp 해쭈 [HAEJOO] 먹방\n",
      "13 지락이들 핀란드에서 떡볶이를 접하다 #유료광고포함 #뿅뿅지구오락실2 EP.4 | tvN 230602 방송 https://youtu.be/73oAtMAARlQ&pp tvN 먹방\n"
     ]
    },
    {
     "name": "stderr",
     "output_type": "stream",
     "text": [
      "100%|██████████| 20/20 [00:00<00:00, 30.36it/s]"
     ]
    },
    {
     "name": "stdout",
     "output_type": "stream",
     "text": [
      "14 나 부러웠어 ㅠㅠ 신기루, 깜짝 생일파티에 눈물💧 찜닭 & 케이크 먹방 #유료광고포함 #한도초과 EP.4 | tvN 221215 방송 https://youtu.be/yr-KWr9-3TE&pp tvN 먹방\n",
      "15 ※시청 전 주의사항※ 냄비에 라면 물 올리세요. 아니면 후회합니다. #유료광고포함 #서진이네 EP.3 | tvN 230310 방송 https://youtu.be/LxysADh6F8g&pp tvN 먹방\n",
      "16 👩‍🍳이건 맛의 대! 잔! 치! 만석일 때 서진이네가 손님을 대하는 자세👨‍🍳 #highlight #유료광고포함 #서진이네 EP.6 https://youtu.be/1A2_gPJI0pU&pp tvN 먹방\n",
      "17 여기 공복에 지락이들이 라면을 조리하고 있습니다. #유료광고포함 #뿅뿅지구오락실2 EP.9 | tvN 230707 방송 https://youtu.be/NFJp8oVdYQ8&pp tvN 먹방\n",
      "18 눈을 왜 그렇게 떠? 분장실 거울 앞에서 ASMR #유료광고포함 #댄스가수유랑단 EP.6 | tvN 230629 방송 https://youtu.be/vKdogz36McE&pp tvN 먹방\n",
      "19 존맛탱 하리보 추천 BEST 3 유료광고 포함 https://youtu.be/V178mWELqs4 추천모아 먹방\n"
     ]
    },
    {
     "name": "stderr",
     "output_type": "stream",
     "text": [
      "\n",
      " 30%|███       | 6/20 [00:00<00:00, 27.54it/s]"
     ]
    },
    {
     "name": "stdout",
     "output_type": "stream",
     "text": [
      "0 편안한 스킨케어 asmr 💕#유료광고포함 #청담언니 #요리하는메이크업아티스트 #shorts #휴캄 https://youtu.be/GXY24ZlsKyE 화장하는청담언니 메이크업\n",
      "1 요즘 나의 필승 메이크업 GRWM. 넌 색조화장 안 한 게 낫다 모임 여러분. 우리는 최고의 피부 메이크업에 힘써야 합니다. (유료광고포함) https://youtu.be/sNMeN6BODf8&pp Susan, 메이크업\n",
      "2 한중일 메이크업 비교하기🇰🇷🇨🇳🇯🇵 https://youtu.be/irNHLXMCbNQ 안다 ANDA 메이크업\n",
      "3 이건 저 믿고사세요🔥메이크업 전문가들도 믿고 사는 올영 색조템 BEST9‼️(ft.음영팔레트,아이돌글리터,픽서원조템,청담샵브러쉬등)ㅣ인보라INBORA https://youtu.be/RDuO1yyS7bY&pp INBORA인보라 메이크업\n",
      "4 ALL다이소 화장품으로 하는 인생메이크업♥️ 내돈내산💸 광고❌ https://youtu.be/5t5irkek8bg&pp 안다 ANDA 메이크업\n",
      "5 눈이 확 커지는 뜻밖의 TIP! 에뛰드 베어꾸 메이크업 (가을소프트 환영, 바닐라코 화이트쿠션 글로우 등) | 민스코 Minsco https://youtu.be/TC2jofIv9p8&pp Minsco 민스코 메이크업\n"
     ]
    },
    {
     "name": "stderr",
     "output_type": "stream",
     "text": [
      " 60%|██████    | 12/20 [00:00<00:00, 27.03it/s]"
     ]
    },
    {
     "name": "stdout",
     "output_type": "stream",
     "text": [
      "6 편의점 갔다가 번호 따이는 메이크업 #makeup https://youtu.be/eaOEZwedGkM 하소빈 SOBIN 메이크업\n",
      "7 평범했던 언니의 퀸카 변신 메이크업 #makeup https://youtu.be/jFzRJHMAMC8 하소빈 SOBIN 메이크업\n",
      "8 얼굴 컨디션 안 좋을 때 하는 봄웜라 메이크업 -u-)b 중요한 촬영 날 같이 준비해요! (유료광고포함) https://youtu.be/lFADoIj9fPg&pp Susan, 메이크업\n",
      "9 20초만에 귀티나는 올드머니 메이크업💍 old money makeup https://youtu.be/BgLoAMlW6NE V I N 빈  메이크업\n",
      "10 시부야 찐갸루✌언니한테 K-메이크업 끼얹으니🎀러블리즈 멤버가 됐는뎁쇼...?🥹😲(에뛰드 유료광고 포함) https://youtu.be/GhL3QKg0rBE&pp 회사원A 메이크업\n",
      "11 [유료광고포함] 새벽 4시 기상해서 미국 하이틴으로 변신하기! 미드 유포리아 캐씨 모닝루틴 챌린지 💖 https://youtu.be/ejj-BAA7lwo&pp 해쭈 [HAEJOO] 메이크업\n",
      "12 뉴진스 멤버되는 'Ditto' 메이크업📹 사실 나 반희수...? https://youtu.be/ETrI3koRRtU 안다 ANDA 메이크업\n",
      "13 자연스러운 메이크업이 어려운 이유 #shorts https://youtu.be/nWfU16dUQ_M 뷰드름 유튜버 인씨 메이크업\n",
      "14 컨실러로 묘한 눈매 연출 👀✨ 무디한 느낌의 가을 초콜릿 메이크업🍫 Mute Chocolate Mousse Makeup https://youtu.be/vNeFltjKWXA&pp PONY Syndrome 메이크업\n"
     ]
    },
    {
     "name": "stderr",
     "output_type": "stream",
     "text": [
      "100%|██████████| 20/20 [00:00<00:00, 27.24it/s]"
     ]
    },
    {
     "name": "stdout",
     "output_type": "stream",
     "text": [
      "15 선셋 글리터 메이크업🌅Sunset Gold Glitter Makeup https://youtu.be/RxoWM1LunB0&pp PONY Syndrome 메이크업\n",
      "16 💐글램 로지 메이크업 (+눈썹 리프트펌 후기 살짝!) Glamorous Rosy Makeup https://youtu.be/mEobbl0MV8s&pp PONY Syndrome 메이크업\n",
      "17 올 여름에는 페어리 코어 메이크업을 해보세여.. GRWM / 인간관계에 대한 고민상담 #유료광고포함 https://youtu.be/T9yh2NTfURY&pp Susan, 메이크업\n",
      "18 남자들이 싫어하는 얼굴 https://youtu.be/AXK71e_hq2I 노은솔 메이크업\n",
      "19 🦚향수에 영감받은 글램 메이크업! Glam Makeup Tutorial Inspired By A Fragrance💚 https://youtu.be/nSHO4z4Fuio&pp PONY Syndrome 메이크업\n"
     ]
    },
    {
     "name": "stderr",
     "output_type": "stream",
     "text": [
      "\n",
      " 30%|███       | 6/20 [00:00<00:00, 27.26it/s]"
     ]
    },
    {
     "name": "stdout",
     "output_type": "stream",
     "text": [
      "0 6만원대 가성비 간이수영장 추천 유료광고 포함 https://youtu.be/WWsfowDCQg0 추천모아 캠핑\n",
      "1 마음만은 벌써 '가을 캠핑' https://youtu.be/IsZXvvSpLrs&pp 녜미누TV neminuTV 캠핑\n",
      "2 산 오징어를 통째 숯불에 구워먹으면 통 찜한걸 후회합니다! https://youtu.be/yaXCaOa0zBc&pp 수산물을부탁해TV 수부해 캠핑\n",
      "3 호수 앞에서 나홀로 즐기는 캠핑은 언제나 행복해.  술빚는호랑이 꿀로 만든 미드술 https://youtu.be/iZbhB7brf5s&pp 찌니 JIN 캠핑\n",
      "4 회사 대표가 직원들이랑 캠핑 가면 생기는 일ㅋㅋㅋ🤣🤣 https://youtu.be/cMBgXD4hVKM&pp VIVO TV - 비보티비 캠핑\n",
      "5 (sub)VLOG 돌아온 캠핑 사랑꾼⛺️ | 라이터로 고기굽기(?) | 반려동물동반 캠핑장 추천 | 양갈비, 새우소금구이, 물놀이 후 라면, 된장죽, 떡꼬치, 던킨도넛, 생식빵 https://youtu.be/1opsoBVInIk&pp 조은fine 캠핑\n",
      "6 아직 알려지지 않은 역대급 계곡 캠핑장에서 우중캠핑ㅣ수심3m부터 낮은 곳까지 어른,아이 모두 즐길 수 있는 올 여름 최고의 캠핑장 https://youtu.be/TLr770QgRA0&pp 반반한캠핑 Bancamp 캠핑\n",
      "7 [유료광고포함] 🌱 앗! 지구지킴이 챌린지! 생각보다 쉽다! https://youtu.be/XDuxNaAVyzQ&pp 해쭈 [HAEJOO] 캠핑\n"
     ]
    },
    {
     "name": "stderr",
     "output_type": "stream",
     "text": [
      " 60%|██████    | 12/20 [00:00<00:00, 28.90it/s]"
     ]
    },
    {
     "name": "stdout",
     "output_type": "stream",
     "text": [
      "8 우수기업탐방 人터뷰 | 감성 차박텐트 아이두젠의 김동진 연구원 | #유료광고포함 https://youtu.be/6r_QSST-meQ&pp TVCHOSUN - TV조선 캠핑\n",
      "9 눈덮인 숲속에 혼자 사는 자연인❄️(여자ver.) / 대패삼겹살+치즈볶음밥/ 붕어빵 / 혼술 https://youtu.be/TX2Aeoczdkk&pp Rirang OnAir 캠핑\n",
      "10 현실적인 폭염 캠핑│여름엔 캠핑 하지 마세요 저희만 하게 ㅋㅋㅋ│폭염 한가운데서 벌레 없이 쾌적한 캠핑│영월 나조스트 캠핑장 https://youtu.be/xfkn2TbmqyA&pp 도토리TV Dotori TV 캠핑\n",
      "11 과소비로 혼쭐난 김숙? 자식같은 캠핑장비 무료나눔합니다! https://youtu.be/ZqaxD1m9Cto&pp 김숙티비kimsookTV 캠핑\n",
      "12 오늘은 내가 캠핑 요리사 ! 솔로캠핑 먹으러 갑니다 🍗 비어캔치킨 . 레일썰매 . 캠핑 브이로그 . 맥스히터 https://youtu.be/Gu9S_MQl4pY&pp 아야캠핑 AYACAMPING 캠핑\n",
      "13 이 정도면 접이식 소형주택🏡 출시만하면 완판된다는 에어텐트로 여름 장박 시작했어요! https://youtu.be/kdNsHH_4P1Q&pp 반반한캠핑 Bancamp 캠핑\n",
      "14 떠내려가는거 아니야? 물폭탄 120mm 우중캠핑│시작부터 끝까지 완벽한 우중캠핑│볼보에서 차를 보내주셨습니다 https://youtu.be/lX8VBwnsu0s&pp 도토리TV Dotori TV 캠핑\n"
     ]
    },
    {
     "name": "stderr",
     "output_type": "stream",
     "text": [
      "100%|██████████| 20/20 [00:00<00:00, 27.98it/s]\n"
     ]
    },
    {
     "name": "stdout",
     "output_type": "stream",
     "text": [
      "15 [ENG] 여기가 그렇게 멋지다길래 저도 가봤습니다!! / 룩트 요거트 이벤트 https://youtu.be/I2FO4izzc5c&pp 헤일리캠핑 HayleyCamping 캠핑\n",
      "16 캠핑은 음식과 날씨가 다했다 #캠핑요리 #추천 https://youtu.be/ljSP9DoJcpI&pp 뽐뽐뽐 캠핑\n",
      "17 숙이와 은이의 신사옥 첫 옥상 캠핑⛺️ https://youtu.be/GtOXLKYJGls&pp VIVO TV - 비보티비 캠핑\n",
      "18 [유료광고 포함] 감성피크닉을 완성하는 캠핑 필수템 마켓비 파라솔과 함께한 용인 길업습지 차크닉 https://youtu.be/XydJGRLNSNU&pp SOSOHOT 소소핫티브이 캠핑\n",
      "19 (유료광고포함 )   코멧 아웃도어 접이식캠핑테이블/즐거운캠핑/사랑하는가족#shorts https://youtu.be/jxICKxRB26g 오로시1000 캠핑\n"
     ]
    },
    {
     "name": "stderr",
     "output_type": "stream",
     "text": [
      " 25%|██▌       | 5/20 [00:00<00:00, 24.29it/s]"
     ]
    },
    {
     "name": "stdout",
     "output_type": "stream",
     "text": [
      "0 다이어트 보조제 추천 BEST 3 유료광고 포함 https://youtu.be/5-b98nq0zTA 추천모아 다이어트\n",
      "1 다이어트 도시락 추천 BEST 3 유료광고 포함 https://youtu.be/rCEbapmtLE8 추천모아 다이어트\n",
      "2 [유료광고포함] 🌱 앗! 지구지킴이 챌린지! 생각보다 쉽다! https://youtu.be/XDuxNaAVyzQ&pp 해쭈 [HAEJOO] 다이어트\n",
      "3 [유료광고포함] 새벽 4시 기상해서 미국 하이틴으로 변신하기! 미드 유포리아 캐씨 모닝루틴 챌린지 💖 https://youtu.be/ejj-BAA7lwo&pp 해쭈 [HAEJOO] 다이어트\n",
      "4 vlog! 다이어트 시작, 새 책장과 이불, 겨울 날 준비, 업사이클링, 서울 한옥 숙소, 청소박박, 바디 스크럽 (유료광고 포함) https://youtu.be/o8VPo7gyNlI&pp Susan, 다이어트\n",
      "5 -5kg 쭉쭉 빠지는 다이어트 식단 / 먹으면 먹을수록 살빠지는 음식 #유료광고포함 #ASMR https://youtu.be/xOr9LIeqQZU&pp 리룰이 rirule 다이어트\n",
      "6 다이어트에 좋은 음식 4가지를 소개하겠습니다 [유료광고포함] https://youtu.be/eRyN-InOMZo 소방의바이블 다이어트\n"
     ]
    },
    {
     "name": "stderr",
     "output_type": "stream",
     "text": [
      " 55%|█████▌    | 11/20 [00:00<00:00, 24.21it/s]"
     ]
    },
    {
     "name": "stdout",
     "output_type": "stream",
     "text": [
      "7 10일 동안 다이어트를 해봤습니다.. https://youtu.be/nmLpn6xD7so&pp 예씨 yessii 다이어트\n",
      "8 초코 단백질 드링크 BEST 3 유료광고 포함 https://youtu.be/yVxezCGVOqo 추천모아 다이어트\n",
      "9 홈트 필수템 추천 BEST 3 유료광고 포함 exported https://youtu.be/Te2M72St3Xc 추천모아 다이어트\n",
      "10 일주일동안 -4kg 다이어트vlog🔥 살 빠질 수 밖에 없는 식단/ 스파르타 PT🤬 [먹은죄 +12kg 없애기 ep.1] https://youtu.be/KCiAXIdh09Q&pp mood in 은송 다이어트\n",
      "11 (유료 광고 포함)다이어트에 좋은 추천 과일! https://youtu.be/UczfBo8zmLk 1분 생생정보 다이어트\n",
      "12 카니보어, 다시 일주일 하면 살이 얼마나 빠질까? Feat. 지방컷보조제   #찐실험 #유료광고 #이벤트 https://youtu.be/G1eOGeKRXdY&pp 제이제이살롱드핏 다이어트\n"
     ]
    },
    {
     "name": "stderr",
     "output_type": "stream",
     "text": [
      " 85%|████████▌ | 17/20 [00:00<00:00, 25.23it/s]"
     ]
    },
    {
     "name": "stdout",
     "output_type": "stream",
     "text": [
      "13 [유료광고] 매일 하는 다이어트! 저도 매일 합니다. 이 음식들을 먹고 성공하세요! https://youtu.be/1A11eAe-6hk Dgar TV : The growth spot on youtube shorts 다이어트\n",
      "14 \"감성욱\"의 Running Vlog /서울 러닝 코스/다이어트 식단/불멍 https://youtu.be/gq8yTXREHqg&pp 별놈들 다이어트\n",
      "15 잘먹으면서 하는 다이어트!  중년 여성 비만 탈출 성공법 !  69세 그녀들의 건강 노하우 공개 [ 건강비법서 2회] 유료광고 포함 https://youtu.be/APoOceA0Vys&pp 굿닥터인부산 다이어트\n",
      "16 여깄어요 ... 복부만 살찌는 사람의 급 다이어트 ...(식단/보조제/다이어트 간식) +댓글이벤트🤍(ENG/JPN) https://youtu.be/aa4lAMh-plY&pp areumsongee아름송이 다이어트\n",
      "17 여름에 먹기 좋은 과일 10가지 (유료광고 포함) https://youtu.be/PR-_2WP5TEM 생각하는 남자 다이어트\n",
      "18 작성자가 먹어 본 프로틴 추천 BEST 3 유료광고 포함 https://youtu.be/TRIWJFM_euk 추천모아 다이어트\n"
     ]
    },
    {
     "name": "stderr",
     "output_type": "stream",
     "text": [
      "100%|██████████| 20/20 [00:00<00:00, 25.29it/s]\n"
     ]
    },
    {
     "name": "stdout",
     "output_type": "stream",
     "text": [
      "19 인생 첫 부부다이어트, 한달간 총 15kg감량 ㄷㄷ https://youtu.be/zik_nBEshqY&pp 사나이 김기훈 다이어트\n"
     ]
    },
    {
     "name": "stderr",
     "output_type": "stream",
     "text": [
      " 20%|██        | 4/20 [00:00<00:00, 16.04it/s]"
     ]
    },
    {
     "name": "stdout",
     "output_type": "stream",
     "text": [
      "0 (유료광고포함)아이폰 유저의 가장 짜릿한 순간 https://youtu.be/pEPcEtswmTw 탐스TV 리뷰\n",
      "1 헐.. 큰 소리를 내면 지도상에서 사라지는 세상에서 살아남으려는 김래원 이종석 차은우 이민기 나오는 캐스팅 끝장나는 꿀잼 영화 나왔다ㄷㄷ [데시벨] https://youtu.be/Ccks45PNCZY&pp 고몽 리뷰\n",
      "2 EP.2 | 둘째 날 아침 7시부터 반수면 상태로 뉴욕의 김밥천국 방문 l 🗽이서진의 뉴욕뉴욕2 https://youtu.be/Fg9O_17A16w&pp 채널 십오야 리뷰\n",
      "3 둘이 합산 아이큐 100! 그래도 육체는 최강 초인! 당신의 배꼽이 팝핀을 추게 하는 이이경과 박성웅의 미췬 개콘급 영화가 나왔다 = [웅남이] https://youtu.be/kSEna3Ni12I&pp 고몽 리뷰\n",
      "4 \"이런 일까지 있었다고?\" 2022년 순삭 정리｜크랩 (유료광고포함) https://youtu.be/n9oDu8gBDQ8&pp 크랩 KLAB 리뷰\n"
     ]
    },
    {
     "name": "stderr",
     "output_type": "stream",
     "text": [
      " 45%|████▌     | 9/20 [00:00<00:00, 15.93it/s]"
     ]
    },
    {
     "name": "stdout",
     "output_type": "stream",
     "text": [
      "5 한소희로 광고를 만들랬더니 영화를 만들어버린 박찬욱 클라스 ㅋㅋ헤이딜러 #유료광고 https://youtu.be/QqNoMJcXjWQ 고몽 리뷰\n",
      "6 세계 최대 박람회 CES 2023, SK와 함께 리뷰하기 [유료광고 포함] https://youtu.be/VwyhmHFS31s&pp 슈카월드 리뷰\n",
      "7 SNS 팔로워수로 권력이 나뉘는 인플루언서맘들의 잘난척과 허세 뒤 숨겨진 갑질러의 모습…! 펜트하우스급 초고급 아파트 쎈케 엄마들의 소름끼치는 저격과 나락《행복배틀》#ena채널 https://youtu.be/uhPy9uyolGw&pp 고몽 리뷰\n",
      "8 [유료광고포함] 새벽 4시 기상해서 미국 하이틴으로 변신하기! 미드 유포리아 캐씨 모닝루틴 챌린지 💖 https://youtu.be/ejj-BAA7lwo&pp 해쭈 [HAEJOO] 리뷰\n"
     ]
    },
    {
     "name": "stderr",
     "output_type": "stream",
     "text": [
      " 55%|█████▌    | 11/20 [00:00<00:00, 13.31it/s]"
     ]
    },
    {
     "name": "stdout",
     "output_type": "stream",
     "text": [
      "9 비탈릭이 이 책을 쓴 진짜 이유를 알려드립니다 (by '비탈릭 부테린 지분증명' 역자 리뷰1) [유료광고포함] https://youtu.be/R5PEWGOxhD0&pp algoran알고란 리뷰\n",
      "10 하필 고3때 외계인 쳐들어와ㅠ 전교생이 \"군필 고딩\"이 됨ㅋ 열받은 배그의 민족 방과후 육군훈련으로 점점 특수부대급🔥으로 성장하는 개쩌는 설정의 드라마 나왔다ㅋㅋ https://youtu.be/_bEK-vqluj0&pp 고몽 리뷰\n",
      "11 여기 클리어 뭐야...?! 블리밍 슬라임 리뷰! #유료광고포함 https://youtu.be/PnKL76YHzIg&pp 박뮤즈 리뷰\n"
     ]
    },
    {
     "name": "stderr",
     "output_type": "stream",
     "text": [
      " 75%|███████▌  | 15/20 [00:01<00:00, 12.04it/s]"
     ]
    },
    {
     "name": "stdout",
     "output_type": "stream",
     "text": [
      "12 무한 회귀자 김동욱과 부딪혀 엄마의 과거로 회귀한 딸이 불행하게 살다 돌아가신 엄마의 과거를 괴롭히는 것들을 다 박살내버리는 대통쾌 드라마 [어쩌다 마주친, 그대] https://youtu.be/pOSOI-XhCxs&pp 고몽 리뷰\n",
      "13 누가 한국인은 밥심이래? 최소 서진이네는 라면 파워임 #highlight #유료광고포함 #서진이네 EP.2 https://youtu.be/4xB-7hmRNwY&pp tvN 리뷰\n",
      "14 기후변화 글로벌 조별과제, 무임승차를 막아라 [유료광고포함] https://youtu.be/3wnxB0rBXeg&pp 슈카월드 리뷰\n"
     ]
    },
    {
     "name": "stderr",
     "output_type": "stream",
     "text": [
      " 85%|████████▌ | 17/20 [00:01<00:00, 11.55it/s]"
     ]
    },
    {
     "name": "stdout",
     "output_type": "stream",
     "text": [
      "15 대이직의 시대, 급변하는 채용 시장 [유료광고 포함] https://youtu.be/Z6UHlW_SE9E&pp 슈카월드 리뷰\n",
      "16 팔라는 패딩은 안 팔고 땀띠 광고 하는 미친 영홬ㅋㅋㅋㅋ https://youtu.be/Ay-tbp4nxv8&pp 구불 리뷰\n",
      "17 일론 머스크, 빌 게이츠도 투자했다고? 인류를 구원할 100년 기술 CCS! https://youtu.be/wGToB0npBps&pp 리뷰엉이: Owl's Review 리뷰\n"
     ]
    },
    {
     "name": "stderr",
     "output_type": "stream",
     "text": [
      "100%|██████████| 20/20 [00:01<00:00, 12.67it/s]"
     ]
    },
    {
     "name": "stdout",
     "output_type": "stream",
     "text": [
      "18 우리 드라마 주연 어때요? 벌칙 같은 의상 공개 #유료광고포함 #뿅뿅지구오락실2 EP.1 | tvN 230512 방송 https://youtu.be/ZT1BqR2sVXA&pp tvN 리뷰\n",
      "19 수능 가산점 때문에 군대에 간 고등학생들에게 벌어진 아주 아주 최악의 사건..! [방과 후 전쟁활동] 4,5,6회 https://youtu.be/wKtDGxQFajk&pp 고몽 리뷰\n"
     ]
    },
    {
     "name": "stderr",
     "output_type": "stream",
     "text": [
      "\n",
      "  0%|          | 1/269 [00:00<01:16,  3.52it/s]"
     ]
    },
    {
     "name": "stdout",
     "output_type": "stream",
     "text": [
      "0 Eng 일상 브이로그: 갓생 유행 속 욜로 선언! 2023 새해 목표와 신년 계획 https://youtu.be/WhSl7G5GKoY&pp 원희 wonxee 브이로그\n"
     ]
    },
    {
     "name": "stderr",
     "output_type": "stream",
     "text": [
      "  1%|          | 2/269 [00:00<01:15,  3.52it/s]"
     ]
    },
    {
     "name": "stdout",
     "output_type": "stream",
     "text": [
      "1 (eng) 새해 브이로그 VLOG https://youtu.be/Fasn2jLpj5E&pp Minjeong Park 브이로그\n"
     ]
    },
    {
     "name": "stderr",
     "output_type": "stream",
     "text": [
      "  1%|          | 3/269 [00:00<01:22,  3.23it/s]"
     ]
    },
    {
     "name": "stdout",
     "output_type": "stream",
     "text": [
      "2 vlog | 오티 주간 대학생 일상 브이로그, 고연전 승리하고 꽁밥 먹기, 대파크림치즈 소금빵, 베이킹 도구 쟁이는 자취생 https://youtu.be/9Ag5vl2F3ps&pp 이욜 eyol 브이로그\n"
     ]
    },
    {
     "name": "stderr",
     "output_type": "stream",
     "text": [
      "  1%|▏         | 4/269 [00:01<01:23,  3.17it/s]"
     ]
    },
    {
     "name": "stdout",
     "output_type": "stream",
     "text": [
      "3 VLOG 리얼극한육아🚨이유식 광기🔥먹성최강 아가먹방🍚옷+가방쇼핑,6개월 아기육아🐥 https://youtu.be/EsffmBE7QMU&pp tweety 트위티 브이로그\n"
     ]
    },
    {
     "name": "stderr",
     "output_type": "stream",
     "text": [
      "  2%|▏         | 5/269 [00:01<01:20,  3.29it/s]"
     ]
    },
    {
     "name": "stdout",
     "output_type": "stream",
     "text": [
      "4 [VLOG] 일상 브이로그 | 일주일동안 먹은 집밥 모음.zip | 소고기샐러드, 꼬마김밥, 어묵탕, 샤브샤브, 묵밥, 짜장밥, 그릭요거트(비마이볼) | 가을옷 언박싱 https://youtu.be/c9gp-t3daaQ&pp 하누 브이로그\n"
     ]
    },
    {
     "name": "stderr",
     "output_type": "stream",
     "text": [
      "  2%|▏         | 6/269 [00:01<01:20,  3.27it/s]"
     ]
    },
    {
     "name": "stdout",
     "output_type": "stream",
     "text": [
      "5 일주일브이로그📹 스타일리스트의 일거수일투족📋 마켓컬리, 퀸즈베리도넛, 금돼지식당, 원당목장, 글램핑 etc https://youtu.be/z768PxDJW14&pp ummazing엄메이징 브이로그\n"
     ]
    },
    {
     "name": "stderr",
     "output_type": "stream",
     "text": [
      "  3%|▎         | 7/269 [00:02<01:20,  3.25it/s]"
     ]
    },
    {
     "name": "stdout",
     "output_type": "stream",
     "text": [
      "6 사골 브이로그. 나폴리탄 해먹고. 빈티지 쇼핑 하고. 샤넬 제주 부띠끄에서 쇼핑도 하고. https://youtu.be/mbGOr7Q-soc&pp 오눅onuk 브이로그\n"
     ]
    },
    {
     "name": "stderr",
     "output_type": "stream",
     "text": [
      "  3%|▎         | 8/269 [00:02<01:18,  3.31it/s]"
     ]
    },
    {
     "name": "stdout",
     "output_type": "stream",
     "text": [
      "7 이 영상을 유료광고를 포함하고 싶습니다 | 톰앤톰스 광고 | 유투브 협찬 | 달라스 일상 브이로그 https://youtu.be/r-KINKdfvfY 정세팔 브이로그\n"
     ]
    },
    {
     "name": "stderr",
     "output_type": "stream",
     "text": [
      "  3%|▎         | 9/269 [00:02<01:19,  3.28it/s]"
     ]
    },
    {
     "name": "stdout",
     "output_type": "stream",
     "text": [
      "8 내집마련 브이로그｜장동건, 고소영 부부가 선택한 집 (한국에서 제일 비쌈) | 청담동 임장 고고✨ https://youtu.be/yWWfDX0-ogQ&pp 뿅글이 브이로그\n"
     ]
    },
    {
     "name": "stderr",
     "output_type": "stream",
     "text": [
      "  4%|▎         | 10/269 [00:03<01:16,  3.38it/s]"
     ]
    },
    {
     "name": "stdout",
     "output_type": "stream",
     "text": [
      "9 건강함을 일상으로 만든 습관성형 다이어트 VLOG🥙 자기관리 + 다이어트 어플 추천 | 채르니Chaerny https://youtu.be/Tt0PiukvvrU&pp 채르니Chaerny 브이로그\n"
     ]
    },
    {
     "name": "stderr",
     "output_type": "stream",
     "text": [
      "  4%|▍         | 11/269 [00:03<01:14,  3.45it/s]"
     ]
    },
    {
     "name": "stdout",
     "output_type": "stream",
     "text": [
      "10 [vlog] 08년생 브이로그/ 일상 브이로그/ 학교 일상 | 류희진 https://youtu.be/O9_66_VSxj8&pp 류희진 브이로그\n"
     ]
    },
    {
     "name": "stderr",
     "output_type": "stream",
     "text": [
      "  4%|▍         | 12/269 [00:03<01:14,  3.44it/s]"
     ]
    },
    {
     "name": "stdout",
     "output_type": "stream",
     "text": [
      "11 교환학생 브이로그 | 집순이 백수가 독일에서 겨울방학을 보내는 법, 카즈하 요거트, 말차 쿠키 굽고 운동하고 새로운 친구들 만나는 잔잔한 일상 https://youtu.be/bClkoOCvS44&pp 이욜 eyol 브이로그\n"
     ]
    },
    {
     "name": "stderr",
     "output_type": "stream",
     "text": [
      "  5%|▍         | 13/269 [00:03<01:17,  3.30it/s]"
     ]
    },
    {
     "name": "stdout",
     "output_type": "stream",
     "text": [
      "12 체중계 올라갔다 놀란 가슴 빵으로 달래보는 브이로그 / bbq 핫황금올리브치킨 / 스타우브 베이비웍 / 매운등갈비찜, 날치알밥, 노브랜드 닭꼬치, https://youtu.be/6nkb9eav8Ww&pp hongsi 홍시 브이로그\n"
     ]
    },
    {
     "name": "stderr",
     "output_type": "stream",
     "text": [
      "  5%|▌         | 14/269 [00:04<01:16,  3.32it/s]"
     ]
    },
    {
     "name": "stdout",
     "output_type": "stream",
     "text": [
      "13 VLOG 브이로그 | 25살 프리랜서 일상(강연하기, 마라톤 완주) | 건강식, 인생카페, 새벽기상 https://youtu.be/fqSHBtK_in8&pp 뿅글이 브이로그\n"
     ]
    },
    {
     "name": "stderr",
     "output_type": "stream",
     "text": [
      "  6%|▌         | 15/269 [00:04<01:15,  3.37it/s]"
     ]
    },
    {
     "name": "stdout",
     "output_type": "stream",
     "text": [
      "14 지옥의 혜화 로터리 타고 출근 브이로그 https://youtu.be/hNmjvjiL5rM&pp 우니oonii 브이로그\n"
     ]
    },
    {
     "name": "stderr",
     "output_type": "stream",
     "text": [
      "  6%|▌         | 16/269 [00:04<01:13,  3.42it/s]"
     ]
    },
    {
     "name": "stdout",
     "output_type": "stream",
     "text": [
      "15 내집마련 브이로그｜송중기가 살던 부자동네(고급빌라 천국, 짱맛 프랑스식 디저트, 서래마을) https://youtu.be/rqYbzOSVKEw&pp 뿅글이 브이로그\n"
     ]
    },
    {
     "name": "stderr",
     "output_type": "stream",
     "text": [
      "  6%|▋         | 17/269 [00:05<01:13,  3.42it/s]"
     ]
    },
    {
     "name": "stdout",
     "output_type": "stream",
     "text": [
      "16 vlog. 올가을 최고의 블랙자켓 쇼핑🖤 노포감성 닭백숙. 유럽 바이브 가맥집. 발레학원. 데일리룩 맛집. 성수동 목살맛집 https://youtu.be/79cu2wkbCbo&pp 수박온니 브이로그\n"
     ]
    },
    {
     "name": "stderr",
     "output_type": "stream",
     "text": [
      "  7%|▋         | 18/269 [00:05<01:14,  3.36it/s]"
     ]
    },
    {
     "name": "stdout",
     "output_type": "stream",
     "text": [
      "17 [유료 광고 포함] 브이로그 카메라 끝판왕 l 소니 ZV-1M2 l 카메라 추천 l 초보 유튜버 필수템 https://youtu.be/d-vSvO-m0Os&pp 혜뮤 HYEMUE 브이로그\n"
     ]
    },
    {
     "name": "stderr",
     "output_type": "stream",
     "text": [
      "  7%|▋         | 19/269 [00:05<01:15,  3.30it/s]"
     ]
    },
    {
     "name": "stdout",
     "output_type": "stream",
     "text": [
      "18 [VLOG] 일상 브이로그 | 얼굴에 편평사마귀 30개가 있었다구요..? | 관리의 날 | 이사준비 | 냉털주간 (소고기 뭇국, 도토리 묵무침) | 찐친 생파 🤍 시내 나들이 https://youtu.be/SV4glubRM2M&pp 하누 브이로그\n"
     ]
    },
    {
     "name": "stderr",
     "output_type": "stream",
     "text": [
      "  7%|▋         | 20/269 [00:06<01:18,  3.16it/s]"
     ]
    },
    {
     "name": "stdout",
     "output_type": "stream",
     "text": [
      "19 Vlog 일상브이로그🤍성수나들이•아이맥 언박싱•존맛 다이어트 쌈장•프렌치토스트🥞 https://youtu.be/OyOgYc514R0&pp 하나HANA 브이로그\n"
     ]
    },
    {
     "name": "stderr",
     "output_type": "stream",
     "text": [
      "  8%|▊         | 21/269 [00:06<01:16,  3.23it/s]"
     ]
    },
    {
     "name": "stdout",
     "output_type": "stream",
     "text": [
      "20 팬(?)한테 돈 빌려달라고 DM 온 썰 | 바프찍음 | 자다가 엄청 울고 로또 삼. 당첨 | 회사 직원 분이 내 구독자 | 또 싸움… | 쫄보의 롯데월드 | 일상 vlog | 새니 https://youtu.be/e3HgOFDhgpU&pp 새니 SENI 브이로그\n"
     ]
    },
    {
     "name": "stderr",
     "output_type": "stream",
     "text": [
      "  8%|▊         | 22/269 [00:06<01:17,  3.18it/s]"
     ]
    },
    {
     "name": "stdout",
     "output_type": "stream",
     "text": [
      "21 [은근부부 브이로그] 혼자만의 시간이 필요한 인프제 주부의 소소한 일상, 15개월 아기와 함께 하는 일상, 동원 딤섬 새우 하가우, 탄탄면 밀키트, V라인 얼굴 마사지기 https://youtu.be/SRkI-5b47LM&pp 은근부부TV 브이로그\n"
     ]
    },
    {
     "name": "stderr",
     "output_type": "stream",
     "text": [
      "  9%|▊         | 23/269 [00:06<01:17,  3.18it/s]"
     ]
    },
    {
     "name": "stdout",
     "output_type": "stream",
     "text": [
      "22 VLOG 프리랜서 브이로그｜일 중독자 감금 일상 (책 추천, 자가격리, 동기부여, 사과떡볶이, 맛집 대방출) https://youtu.be/-KtN7nfrjvA&pp 뿅글이 브이로그\n"
     ]
    },
    {
     "name": "stderr",
     "output_type": "stream",
     "text": [
      "  9%|▉         | 24/269 [00:07<01:15,  3.25it/s]"
     ]
    },
    {
     "name": "stdout",
     "output_type": "stream",
     "text": [
      "23 커피에 진심인 도시에서 백종원의 다방 커피?! #유료광고포함 #장사천재백사장 EP.6 | tvN 230507 방송 https://youtu.be/vT2sMH5dt64&pp tvN 브이로그\n"
     ]
    },
    {
     "name": "stderr",
     "output_type": "stream",
     "text": [
      "  9%|▉         | 25/269 [00:07<01:15,  3.25it/s]"
     ]
    },
    {
     "name": "stdout",
     "output_type": "stream",
     "text": [
      "24 vlog | 일상브이로그 | 한남동 맛집 채소 브런치카페 베지위켄드 | 압구정 멕시칸 데 브라질 | 경복궁 야간개장 | 그랜드하얏트 록시땅 버베나팝업 | 플로리스트일상 | 불리향수 https://youtu.be/L66lcvUJ-pg&pp 라파지블 La Paisible - 자매 브이로그 브이로그\n"
     ]
    },
    {
     "name": "stderr",
     "output_type": "stream",
     "text": [
      " 10%|▉         | 26/269 [00:07<01:13,  3.33it/s]"
     ]
    },
    {
     "name": "stdout",
     "output_type": "stream",
     "text": [
      "25 VLOG 자기관리 브이로그 ｜새해맞이 갓생살기 (신문구독, 강연준비, 헬스)｜30만 영상 만들어준 책 추천 https://youtu.be/o2Ui4r_rtwM&pp 뿅글이 브이로그\n"
     ]
    },
    {
     "name": "stderr",
     "output_type": "stream",
     "text": [
      " 10%|█         | 27/269 [00:08<01:11,  3.38it/s]"
     ]
    },
    {
     "name": "stdout",
     "output_type": "stream",
     "text": [
      "26 VLOG#53 고2 예비 정시러의 국어 공부 브이로그 | 스터디 브이로그 | 콴다과외 | 온라인 과외 https://youtu.be/Oef1tbgt-zE&pp 잼유 JAM:YOU 브이로그\n"
     ]
    },
    {
     "name": "stderr",
     "output_type": "stream",
     "text": [
      " 10%|█         | 28/269 [00:08<01:13,  3.26it/s]"
     ]
    },
    {
     "name": "stdout",
     "output_type": "stream",
     "text": [
      "27 스폰지밥 덕후들 눈 돌아갈 곳👀 #스폰지밥 #브이로그 #쇼츠 #summerofshorts #shorts https://youtu.be/BydHLcwb7iI 밀짱 브이로그\n"
     ]
    },
    {
     "name": "stderr",
     "output_type": "stream",
     "text": [
      " 11%|█         | 29/269 [00:08<01:13,  3.26it/s]"
     ]
    },
    {
     "name": "stdout",
     "output_type": "stream",
     "text": [
      "28 [vlog] 대학생 일상 브이로그ㅣ일주일 브이로그ㅣ또 시험기간..?ㅣnew 네일ㅣ데일리룩ㅣ스킨케어 (feat.피캄) https://youtu.be/Gzzkmsamua8&pp NYUN 뉸아 브이로그\n"
     ]
    },
    {
     "name": "stderr",
     "output_type": "stream",
     "text": [
      " 11%|█         | 30/269 [00:09<01:13,  3.26it/s]"
     ]
    },
    {
     "name": "stdout",
     "output_type": "stream",
     "text": [
      "29 슬프지만 꼭 이겨낼것임VLOG!🥲병원검진, 큐브데이 강행군, 소금빵 푹빠짐🥐 https://youtu.be/9kZp19SygTA&pp tweety 트위티 브이로그\n"
     ]
    },
    {
     "name": "stderr",
     "output_type": "stream",
     "text": [
      " 12%|█▏        | 31/269 [00:09<01:12,  3.28it/s]"
     ]
    },
    {
     "name": "stdout",
     "output_type": "stream",
     "text": [
      "30 Vlog 일상 브이로그 | 건강챙겨.. 샐러드 식단, 복부지방빼는법 복부마사지기..  고체향수 루아페 | 한강, 용산공원 https://youtu.be/48afCexWCb4&pp Mina.이나.h 브이로그\n"
     ]
    },
    {
     "name": "stderr",
     "output_type": "stream",
     "text": [
      " 12%|█▏        | 32/269 [00:09<01:12,  3.27it/s]"
     ]
    },
    {
     "name": "stdout",
     "output_type": "stream",
     "text": [
      "31 VLOG 🏠재택근무 브이로그🏠 요리하고 맛집가고 다꾸하기📕 https://youtu.be/kjbVAMCwaek&pp 제둥VLOG 브이로그\n"
     ]
    },
    {
     "name": "stderr",
     "output_type": "stream",
     "text": [
      " 12%|█▏        | 33/269 [00:10<01:12,  3.23it/s]"
     ]
    },
    {
     "name": "stdout",
     "output_type": "stream",
     "text": [
      "32 VLOGㅣK-직장인의 아침 헬스 브이로그ㅣ헬스장 문 앞까지 다시 집으로 런ㅣ주말에 운동 몰아서 하기ㅣ직장인 운동 브이로그 https://youtu.be/tyPXtFNB4yI&pp 율무차 브이로그\n"
     ]
    },
    {
     "name": "stderr",
     "output_type": "stream",
     "text": [
      " 13%|█▎        | 34/269 [00:10<01:12,  3.24it/s]"
     ]
    },
    {
     "name": "stdout",
     "output_type": "stream",
     "text": [
      "33 STUDIO K를 만드는 사람들📷우리들의 일주일🎥 [STUDIO K 브이로그] https://youtu.be/QkUjnB-G-NA&pp KBS Kpop 브이로그\n"
     ]
    },
    {
     "name": "stderr",
     "output_type": "stream",
     "text": [
      " 13%|█▎        | 35/269 [00:10<01:09,  3.37it/s]"
     ]
    },
    {
     "name": "stdout",
     "output_type": "stream",
     "text": [
      "34 SUB) 새로운 집으로 이사, 다시 복층 오피스텔에서 지내는 일상 브이로그ㅣNEW HOUSE & MOVING VLOG https://youtu.be/xycTpqKElRE&pp 지호 jihofilm 브이로그\n"
     ]
    },
    {
     "name": "stderr",
     "output_type": "stream",
     "text": [
      " 13%|█▎        | 36/269 [00:10<01:11,  3.26it/s]"
     ]
    },
    {
     "name": "stdout",
     "output_type": "stream",
     "text": [
      "35 일주일 아침 공부 모음집 Vlog *전직 대치동 강사 복습 꿀팁 포함* | 브이로그, 공부, 신년계획, 다이어리 소개 https://youtu.be/N0BkHJRb1MI&pp 밍찌채널 브이로그\n"
     ]
    },
    {
     "name": "stderr",
     "output_type": "stream",
     "text": [
      " 14%|█▍        | 37/269 [00:11<01:12,  3.20it/s]"
     ]
    },
    {
     "name": "stdout",
     "output_type": "stream",
     "text": [
      "36 𝘊𝘈 [V-LOG] 캐나다 교환학생 브이로그 ep.0 -(1) / 혼자 출국하기 / 집부터 캘거리 공항 경유까지 (에어캐나다, 인천공항, 밴쿠버공항, 캐나다 출국) https://youtu.be/2jRayaGUR8A&pp 매일의승현 브이로그\n"
     ]
    },
    {
     "name": "stderr",
     "output_type": "stream",
     "text": [
      " 14%|█▍        | 38/269 [00:11<01:11,  3.24it/s]"
     ]
    },
    {
     "name": "stdout",
     "output_type": "stream",
     "text": [
      "37 eng) [VLOG] 직장인브이로그ㅣ열심히 일하고 열심히 노는 브이로그ㅣ1주년 결혼기념 가평여행❤️‍🔥ㅣ마켓컬리 두번 온 썰 푼다,, https://youtu.be/UzkoFzqArco&pp 토리아 toria 브이로그\n"
     ]
    },
    {
     "name": "stderr",
     "output_type": "stream",
     "text": [
      " 14%|█▍        | 39/269 [00:11<01:10,  3.26it/s]"
     ]
    },
    {
     "name": "stdout",
     "output_type": "stream",
     "text": [
      "38 내집마련 브이로그｜송도 상가 주인이 되다?!? (+상가 투자에 대한 생각)｜임장도 함🧚🏻‍♀️ https://youtu.be/vEICqYIj0QI&pp 뿅글이 브이로그\n"
     ]
    },
    {
     "name": "stderr",
     "output_type": "stream",
     "text": [
      " 15%|█▍        | 40/269 [00:12<01:13,  3.13it/s]"
     ]
    },
    {
     "name": "stdout",
     "output_type": "stream",
     "text": [
      "39 바쁜 고3의 현실,, 공부 브이로그ㅣ 집중 잘되는 닥터스탠드 휴대용 멀티독서대ㅣ공부자극ㅣ스터디카페ㅣ스터디 브이로그ㅣStudy vlog https://youtu.be/NcSB_3I4peo&pp 요우 브이로그\n"
     ]
    },
    {
     "name": "stderr",
     "output_type": "stream",
     "text": [
      " 15%|█▌        | 41/269 [00:12<01:13,  3.09it/s]"
     ]
    },
    {
     "name": "stdout",
     "output_type": "stream",
     "text": [
      "40 VLOG 일상 브이로그ㅣ아빠랑 행복했던 완벽한 데이트👨🏻🖤ㅣ옷 사고 맛있는 거 먹고 미사경정공원에서 힐링하기 https://youtu.be/9h41NN0RQNQ&pp 임보영 브이로그\n"
     ]
    },
    {
     "name": "stderr",
     "output_type": "stream",
     "text": [
      " 16%|█▌        | 42/269 [00:12<01:13,  3.07it/s]"
     ]
    },
    {
     "name": "stdout",
     "output_type": "stream",
     "text": [
      "41 [vlog::16] 마우리치오 카텔란, 딸기 뷔폐, 그랜드 하얏트 애프터눈티, 마롱5 마롱글라세 https://youtu.be/CwYkmrtl0jA&pp Roselia 로젤리아 브이로그\n"
     ]
    },
    {
     "name": "stderr",
     "output_type": "stream",
     "text": [
      " 16%|█▌        | 43/269 [00:13<01:13,  3.09it/s]"
     ]
    },
    {
     "name": "stdout",
     "output_type": "stream",
     "text": [
      "42 이젼이의 호캉스 vlog https://youtu.be/d3qFCbx5zB4&pp 이젼 브이로그\n"
     ]
    },
    {
     "name": "stderr",
     "output_type": "stream",
     "text": [
      " 16%|█▋        | 44/269 [00:13<01:12,  3.12it/s]"
     ]
    },
    {
     "name": "stdout",
     "output_type": "stream",
     "text": [
      "43 주변 자취하는 부상자 친구를 도와줘야합니다 #부상자 #브이로그 #서울살이 #자취 https://youtu.be/m068rkvE4rg 내맘대로영상쌓기 브이로그\n"
     ]
    },
    {
     "name": "stderr",
     "output_type": "stream",
     "text": [
      " 17%|█▋        | 45/269 [00:13<01:08,  3.27it/s]"
     ]
    },
    {
     "name": "stdout",
     "output_type": "stream",
     "text": [
      "44 eng) [VLOG] 직장인브이로그ㅣ월말은 빼박 야근ㅣ그 와중에 강남 미팅은 빠질 수 없지ㅣ헬스장 새로 등록했어요 🤸🏻‍♀️ㅣ민초단은 행복해 💚ㅣ마케터, 마케팅 https://youtu.be/3sM5OlXH1ZQ&pp 토리아 toria 브이로그\n"
     ]
    },
    {
     "name": "stderr",
     "output_type": "stream",
     "text": [
      " 17%|█▋        | 46/269 [00:14<01:05,  3.40it/s]"
     ]
    },
    {
     "name": "stdout",
     "output_type": "stream",
     "text": [
      "45 [vlog::10] 소피텔 어물청 전, 모네 인 사이드, 페닌슐라 애프터눈 티, 아니스 캔디 https://youtu.be/r5qMyoo_8kc&pp Roselia 로젤리아 브이로그\n"
     ]
    },
    {
     "name": "stderr",
     "output_type": "stream",
     "text": [
      " 17%|█▋        | 47/269 [00:14<01:06,  3.35it/s]"
     ]
    },
    {
     "name": "stdout",
     "output_type": "stream",
     "text": [
      "46 대학생 필수 스니커즈 추천 BEST 3 유료광고 포함 https://youtu.be/LWUIMv1L6mI 추천모아 브이로그\n"
     ]
    },
    {
     "name": "stderr",
     "output_type": "stream",
     "text": [
      " 18%|█▊        | 48/269 [00:14<01:06,  3.34it/s]"
     ]
    },
    {
     "name": "stdout",
     "output_type": "stream",
     "text": [
      "47 뮤지컬 아르토, 고흐 첫공연 V-log https://youtu.be/RhTJnakrqg4&pp 다미로:그[He] 브이로그\n"
     ]
    },
    {
     "name": "stderr",
     "output_type": "stream",
     "text": [
      " 18%|█▊        | 49/269 [00:14<01:06,  3.31it/s]"
     ]
    },
    {
     "name": "stdout",
     "output_type": "stream",
     "text": [
      "48 Eng  제밥 꼬질한 일상 브이로그: 자격증 공부, 시험기간, 네일 학원 2주차 https://youtu.be/hHEmOIRG3vg&pp 원희 wonxee 브이로그\n"
     ]
    },
    {
     "name": "stderr",
     "output_type": "stream",
     "text": [
      " 19%|█▊        | 50/269 [00:15<01:03,  3.47it/s]"
     ]
    },
    {
     "name": "stdout",
     "output_type": "stream",
     "text": [
      "49 누구나 쉽게 따라할 수 있는 꿀팁 대 방출 ✨봉선이의 차콕생활✨｜봉선로그 EP.2 https://youtu.be/ZQkDb5JpjL0&pp ㄴ신봉선ㄱ 브이로그\n"
     ]
    },
    {
     "name": "stderr",
     "output_type": "stream",
     "text": [
      " 19%|█▉        | 51/269 [00:15<01:03,  3.43it/s]"
     ]
    },
    {
     "name": "stdout",
     "output_type": "stream",
     "text": [
      "50 [음주VLOG] 도대체 다이어트는 언제 할래? 돼지런하게 먹는 일상 🐷 | 수플레, 곱도리탕, 우동, 대한곱창, 만두 | 먹방브이로그 | MUKBANGVLOG https://youtu.be/gkEwJK7f-Yk&pp 료링찾아삼만리 브이로그\n"
     ]
    },
    {
     "name": "stderr",
     "output_type": "stream",
     "text": [
      " 19%|█▉        | 52/269 [00:15<01:02,  3.45it/s]"
     ]
    },
    {
     "name": "stdout",
     "output_type": "stream",
     "text": [
      "51 퇴사한 29살 백수의 절약 일상 브이로그 | 어피티 시즌멤버 발대식 후기💖 모닝 루틴 만들기 https://youtu.be/7fdIE0oa6DQ&pp 헤그랑 브이로그\n"
     ]
    },
    {
     "name": "stderr",
     "output_type": "stream",
     "text": [
      " 20%|█▉        | 53/269 [00:16<01:04,  3.36it/s]"
     ]
    },
    {
     "name": "stdout",
     "output_type": "stream",
     "text": [
      "52 제주 여행 브이로그 ⏤ 인생 첫 서핑을 배우고 🏄‍♀️  찐 로컬 맛집만 다니는 힐링 제주 일상 | 흑돼지 맛집 | 문도지 오름 | 포구에서 밤수영하기 https://youtu.be/RPEj9FnLiwM&pp Cece Kim 브이로그\n"
     ]
    },
    {
     "name": "stderr",
     "output_type": "stream",
     "text": [
      " 20%|██        | 54/269 [00:16<01:03,  3.38it/s]"
     ]
    },
    {
     "name": "stdout",
     "output_type": "stream",
     "text": [
      "53 [VLOG] 새집에서 시작하는 9월, 이삿날 브이로그 🏠 ! 조명 언박싱 https://youtu.be/uyrmty7crz4&pp 하누 브이로그\n"
     ]
    },
    {
     "name": "stderr",
     "output_type": "stream",
     "text": [
      " 20%|██        | 55/269 [00:16<01:05,  3.29it/s]"
     ]
    },
    {
     "name": "stdout",
     "output_type": "stream",
     "text": [
      "54 서현역맛집 브이로그 찐단골들만 찾는 묵은지 양푼이닭도리탕 소개해요 https://youtu.be/SASB8Rmsc7k&pp 슈지킴 vlog 브이로그\n"
     ]
    },
    {
     "name": "stderr",
     "output_type": "stream",
     "text": [
      " 21%|██        | 56/269 [00:17<01:08,  3.12it/s]"
     ]
    },
    {
     "name": "stdout",
     "output_type": "stream",
     "text": [
      "55 vlog | 일상 브이로그 | 플로리스트 일상 | 내멋대로 밀푀유 나베 만들기 | 반얀트리 페스타 바이 민구, 문바 가족모임 | 조러브스 조말론 CBE를 만나다 | 화분 가지치기🪴 https://youtu.be/murSFrflW6E&pp 라파지블 La Paisible - 자매 브이로그 브이로그\n"
     ]
    },
    {
     "name": "stderr",
     "output_type": "stream",
     "text": [
      " 21%|██        | 57/269 [00:17<01:11,  2.97it/s]"
     ]
    },
    {
     "name": "stdout",
     "output_type": "stream",
     "text": [
      "56 23번째 생일주간 브이로그 🎂🫶🏻 | 집주인 몰래 애플 전기종으로 ASMR 하기ㅣ권정열 축제ㅣ시험기간ㅣ무생체, 미역국 만들기ㅣ을지로 토리카미ㅣ한남동 리틀넥ㅣ일상 브이로그 https://youtu.be/MbVimYLoTTk&pp hamzzi 햄찌 브이로그\n"
     ]
    },
    {
     "name": "stderr",
     "output_type": "stream",
     "text": [
      " 22%|██▏       | 58/269 [00:17<01:14,  2.85it/s]"
     ]
    },
    {
     "name": "stdout",
     "output_type": "stream",
     "text": [
      "57 𝐕𝐥𝐨𝐠 ✨지그재그 쇼핑 🤍 먹는데에 진심인 우당탕 브이로그..인데 고양이를 곁들인 🐈 맛있게 먹고 운동하는 30대 여성이랄까.. 😉 통삼겹,오이고봉비빔밥,홍가리비 #23_30 https://youtu.be/dF8nSEqsrvw&pp 어바웃지니 브이로그\n"
     ]
    },
    {
     "name": "stderr",
     "output_type": "stream",
     "text": [
      " 22%|██▏       | 59/269 [00:18<01:14,  2.83it/s]"
     ]
    },
    {
     "name": "stdout",
     "output_type": "stream",
     "text": [
      "58 잘나갔던 연예인이 쿠팡플렉스 하는 이유 (태사자 김형준) https://youtu.be/hWCRaKVQF-Q&pp 직업의모든것 브이로그\n"
     ]
    },
    {
     "name": "stderr",
     "output_type": "stream",
     "text": [
      " 22%|██▏       | 60/269 [00:18<01:14,  2.80it/s]"
     ]
    },
    {
     "name": "stdout",
     "output_type": "stream",
     "text": [
      "59 [VLOG]연말브이로그|수능 끝난 고3들의 크리스마스는?!|파티룸브이로그, 짧은 음주로그|세연Seyeon https://youtu.be/19N5iD0Ptos&pp 세연Seyeon 브이로그\n"
     ]
    },
    {
     "name": "stderr",
     "output_type": "stream",
     "text": [
      " 23%|██▎       | 61/269 [00:18<01:11,  2.90it/s]"
     ]
    },
    {
     "name": "stdout",
     "output_type": "stream",
     "text": [
      "60 [일본 VLOG] 나도 간다 도쿄 여행✈️(1) 대전에서 도쿄까지 같이 가요❤️ / 여행 브이로그 / 먹방 (일본 편의점, 일본 마트, 이치란 라멘) food mukbang https://youtu.be/anVY4Jtjv4Q&pp 소소하진 브이로그\n"
     ]
    },
    {
     "name": "stderr",
     "output_type": "stream",
     "text": [
      " 23%|██▎       | 62/269 [00:19<01:09,  2.97it/s]"
     ]
    },
    {
     "name": "stdout",
     "output_type": "stream",
     "text": [
      "61 의대가 목표인 08년생의 시험기간 브이로그 | 공부 타임랩스 | 공부자극 | 08년생 | 스터디 브이로그 https://youtu.be/P1ZE56utgb0&pp 챠코 브이로그\n"
     ]
    },
    {
     "name": "stderr",
     "output_type": "stream",
     "text": [
      " 23%|██▎       | 63/269 [00:19<01:06,  3.11it/s]"
     ]
    },
    {
     "name": "stdout",
     "output_type": "stream",
     "text": [
      "62 [공시생 브이로그] 컴백이 아냐 떠난 적 없으니까 / ✨구독자이벤트✨ / 러닝타임 20분 / 왕십리 / 등촌칼국수 / 블랙팬서 https://youtu.be/7QSqt4tbw68&pp 너단 UDAN 브이로그\n"
     ]
    },
    {
     "name": "stderr",
     "output_type": "stream",
     "text": [
      " 24%|██▍       | 64/269 [00:19<01:04,  3.20it/s]"
     ]
    },
    {
     "name": "stdout",
     "output_type": "stream",
     "text": [
      "63 또? 코로나 재확진 자가격리 브이로그 먹방 막차ㅣ일상 EP.1 https://youtu.be/q1SN4AZOny0&pp 에브리띵 부부 브이로그\n"
     ]
    },
    {
     "name": "stderr",
     "output_type": "stream",
     "text": [
      " 24%|██▍       | 65/269 [00:20<01:02,  3.24it/s]"
     ]
    },
    {
     "name": "stdout",
     "output_type": "stream",
     "text": [
      "64 𝐕𝐥𝐨𝐠 ✨ 행복 치사량 과다 🌝 맛있게 먹고 운동하는 행복무새 브이로그 🫶 오늘 나 주사위 6 🎲 잘먹는 헬린이 | 뚠뚠또띠아랩,오리주물럭,엄마밥최고 #23_38 https://youtu.be/HoREVxzot8Q&pp 어바웃지니 브이로그\n"
     ]
    },
    {
     "name": "stderr",
     "output_type": "stream",
     "text": [
      " 25%|██▍       | 66/269 [00:20<01:05,  3.08it/s]"
     ]
    },
    {
     "name": "stdout",
     "output_type": "stream",
     "text": [
      "65 Vlog. 서울 사는 직장인의 1분기 일상 보고 / 퇴근 후 알차게 노는 직장인 / 가평, 평창 겨울 여행 / 스케이트부터 스키까지 늦겨울 즐기기 https://youtu.be/0073K2xh7eM&pp 비닐생활 Vinyl Lifestyle 브이로그\n"
     ]
    },
    {
     "name": "stderr",
     "output_type": "stream",
     "text": [
      " 25%|██▍       | 67/269 [00:20<01:04,  3.16it/s]"
     ]
    },
    {
     "name": "stdout",
     "output_type": "stream",
     "text": [
      "66 [Vlog] 유튜버가 한 달동안 먹고 노는 일상브이로그🍔| 데이트도 곁들인..💓 남자친구랑 친언니밖에 친구가 없냐고 물으면 제가 뭐 “아이고~네.” https://youtu.be/0dUgjSqVJCg&pp 유경하다 브이로그\n"
     ]
    },
    {
     "name": "stderr",
     "output_type": "stream",
     "text": [
      " 25%|██▌       | 68/269 [00:21<01:02,  3.23it/s]"
     ]
    },
    {
     "name": "stdout",
     "output_type": "stream",
     "text": [
      "67 VLOG::일상 브이로그☀️| 나도 여행갈래~~/ 먹방인지 일상인지 정체모를 좀좀따리 브이로그🙉 / 어버이날💐 / 일하고 또 일하는 일상,, https://youtu.be/NnS53zRsQrY&pp 아인 ah-in 브이로그\n"
     ]
    },
    {
     "name": "stderr",
     "output_type": "stream",
     "text": [
      " 26%|██▌       | 69/269 [00:21<01:01,  3.26it/s]"
     ]
    },
    {
     "name": "stdout",
     "output_type": "stream",
     "text": [
      "68 일상부터 자기관리까지 갓생 살기 댓걸 챌린지를 해봤어요. https://youtu.be/lmksF7I4DU4&pp Eunjomy 은조미 브이로그\n"
     ]
    },
    {
     "name": "stderr",
     "output_type": "stream",
     "text": [
      " 26%|██▌       | 70/269 [00:21<01:00,  3.30it/s]"
     ]
    },
    {
     "name": "stdout",
     "output_type": "stream",
     "text": [
      "69 사장이자 노동자이자 중국어공부까지 시작한 눈코뜰새 없이 이리저리 바쁘다 바빠 현대사회 브이로그 https://youtu.be/sat4bchmUeE&pp 좋은희Joeunhee 브이로그\n"
     ]
    },
    {
     "name": "stderr",
     "output_type": "stream",
     "text": [
      " 26%|██▋       | 71/269 [00:21<00:59,  3.32it/s]"
     ]
    },
    {
     "name": "stdout",
     "output_type": "stream",
     "text": [
      "70 [VLOG] 일주일 브이로그 | 밖순이 브이로그 | 생일주간 | 신혼부부 브이로그 | 하객룩 | 나혼자산다 해산물뷔페 | 청담 신상 맛집 | 성수동 카페 | 재유JEYU https://youtu.be/m-cbo6-QVBM&pp 재유JEYU 브이로그\n"
     ]
    },
    {
     "name": "stderr",
     "output_type": "stream",
     "text": [
      " 27%|██▋       | 72/269 [00:22<00:58,  3.35it/s]"
     ]
    },
    {
     "name": "stdout",
     "output_type": "stream",
     "text": [
      "71 국내 항공사 이직🤔 비행 전 겟 레디 윗 미✈️ 외항사 장점, 외항사 승무원, 승무원 브이로그, grwm https://youtu.be/3jGRJEAw0R0&pp 현지스로미 Aria 브이로그\n"
     ]
    },
    {
     "name": "stderr",
     "output_type": "stream",
     "text": [
      " 27%|██▋       | 73/269 [00:22<00:58,  3.38it/s]"
     ]
    },
    {
     "name": "stdout",
     "output_type": "stream",
     "text": [
      "72 대만여자 Taiwan 🇹🇼🇰🇷 | 런칭행사 초대 팝업스토어 방문 브이로그 | 국제커플 일상 맛있는거 먹고 열심히 살기 https://youtu.be/Om2hXLchfI4&pp 소함 is 브이로그\n"
     ]
    },
    {
     "name": "stderr",
     "output_type": "stream",
     "text": [
      " 28%|██▊       | 74/269 [00:22<00:57,  3.36it/s]"
     ]
    },
    {
     "name": "stdout",
     "output_type": "stream",
     "text": [
      "73 제주도 최연소 농부 48시간 브이로그 https://youtu.be/2M5Fwdq71pk&pp 이십이세 상진 브이로그\n"
     ]
    },
    {
     "name": "stderr",
     "output_type": "stream",
     "text": [
      " 28%|██▊       | 75/269 [00:23<00:58,  3.32it/s]"
     ]
    },
    {
     "name": "stdout",
     "output_type": "stream",
     "text": [
      "74 일상브이로그│프리랜서의 새해일상│새해라고 달라지는 건 없지 https://youtu.be/YTHvkECvMrw&pp lifeHYEON 현 브이로그\n"
     ]
    },
    {
     "name": "stderr",
     "output_type": "stream",
     "text": [
      " 28%|██▊       | 76/269 [00:23<00:58,  3.30it/s]"
     ]
    },
    {
     "name": "stdout",
     "output_type": "stream",
     "text": [
      "75 [VLOG] 직장인 일상 브이로그 / 남친이랑 여행 데이트 브이로그❤️‍🔥 https://youtu.be/MlOZGr3Xgb0&pp 미소로그 MisoLog 브이로그\n"
     ]
    },
    {
     "name": "stderr",
     "output_type": "stream",
     "text": [
      " 29%|██▊       | 77/269 [00:23<00:59,  3.23it/s]"
     ]
    },
    {
     "name": "stdout",
     "output_type": "stream",
     "text": [
      "76 LA에 y2k 한 스푼 브이로그 https://youtu.be/iKmu54kMrvU&pp YOUIS 유이즈 브이로그\n"
     ]
    },
    {
     "name": "stderr",
     "output_type": "stream",
     "text": [
      " 29%|██▉       | 78/269 [00:24<01:00,  3.16it/s]"
     ]
    },
    {
     "name": "stdout",
     "output_type": "stream",
     "text": [
      "77 MZ 세대가 되고픈 서른살 남자의 브이로그 (feat.비오템옴므) https://youtu.be/6tI48Q7uWr4&pp 강태경TAEKYUNG 브이로그\n"
     ]
    },
    {
     "name": "stderr",
     "output_type": "stream",
     "text": [
      " 29%|██▉       | 79/269 [00:24<01:00,  3.17it/s]"
     ]
    },
    {
     "name": "stdout",
     "output_type": "stream",
     "text": [
      "78 방콕 브이로그🇹🇭 | 매일 새벽에 일어나서 보내는 최애 일상🏃🏻‍♀️(공항 꿀팁, 역대 핫플, 신상 숙소 추천) https://youtu.be/SY3agvXie-Q&pp 뿅글이 브이로그\n"
     ]
    },
    {
     "name": "stderr",
     "output_type": "stream",
     "text": [
      " 30%|██▉       | 80/269 [00:24<00:58,  3.21it/s]"
     ]
    },
    {
     "name": "stdout",
     "output_type": "stream",
     "text": [
      "79 퇴사하고 싶은 날 https://youtu.be/PCs19L20LXU&pp 자취하는 해달이 브이로그\n"
     ]
    },
    {
     "name": "stderr",
     "output_type": "stream",
     "text": [
      " 30%|███       | 81/269 [00:25<00:58,  3.22it/s]"
     ]
    },
    {
     "name": "stdout",
     "output_type": "stream",
     "text": [
      "80 🎄🎄🎄 크록스와 함께하는 2022 연말 맞이! + 난리부르스인 작년 버킷리스트ㅎㅋ... https://youtu.be/9o0VcUXAtPc&pp 모르는지 브이로그\n"
     ]
    },
    {
     "name": "stderr",
     "output_type": "stream",
     "text": [
      " 30%|███       | 82/269 [00:25<01:01,  3.03it/s]"
     ]
    },
    {
     "name": "stdout",
     "output_type": "stream",
     "text": [
      "81 [VLOG] 일상 브이로그 | 수원 행궁동 나들이 | 석촌호수 벚꽃 구경 | 연희동 브런치 카페 | 오랜만에 만난 사람들과 🍻 https://youtu.be/Zm0CrWdbXxs&pp 오늘반찬혬 hyem 브이로그\n"
     ]
    },
    {
     "name": "stderr",
     "output_type": "stream",
     "text": [
      " 31%|███       | 83/269 [00:25<01:02,  2.98it/s]"
     ]
    },
    {
     "name": "stdout",
     "output_type": "stream",
     "text": [
      "82 [VLOG] 일상브이로그 | 1박2일 태안 여행 | 반려견동반여행 | 백사장 해수욕장 | 강아지랑 노는 거 말고는 없음...🐶 https://youtu.be/8mHTwTGG4b4&pp 나희로운 브이로그\n"
     ]
    },
    {
     "name": "stderr",
     "output_type": "stream",
     "text": [
      " 31%|███       | 84/269 [00:26<00:59,  3.10it/s]"
     ]
    },
    {
     "name": "stdout",
     "output_type": "stream",
     "text": [
      "83 14개월, 엄마랑 같이 어린이집 소풍🎈, 구독자님께 선물 받은 옷 개봉🎀, 화명동 장미공원🌹 https://youtu.be/NBdKlbPMwVE&pp 하늬의 시간 Hanee_time_ 브이로그\n"
     ]
    },
    {
     "name": "stderr",
     "output_type": "stream",
     "text": [
      " 32%|███▏      | 85/269 [00:26<00:57,  3.22it/s]"
     ]
    },
    {
     "name": "stdout",
     "output_type": "stream",
     "text": [
      "84 VLOG 사랑하는 우리 엄마 생일🎂감기 연속으로 걸렸던 2주 간의 일상🤧 https://youtu.be/kwMyJM9XMEE&pp 제둥VLOG 브이로그\n"
     ]
    },
    {
     "name": "stderr",
     "output_type": "stream",
     "text": [
      " 32%|███▏      | 86/269 [00:26<00:56,  3.25it/s]"
     ]
    },
    {
     "name": "stdout",
     "output_type": "stream",
     "text": [
      "85 [VLOG] E인척하는 파워 I의 일상 브이로그🏋🏻‍♀️ 10년지기 친구 생일파티 | 서울 맛집 탐방 | 남자친구와 야구장 데이트 | 올해 해외여행 계획!? https://youtu.be/W1e86MDB_bY&pp 웨이채널way channel 브이로그\n"
     ]
    },
    {
     "name": "stderr",
     "output_type": "stream",
     "text": [
      " 32%|███▏      | 87/269 [00:26<00:55,  3.28it/s]"
     ]
    },
    {
     "name": "stdout",
     "output_type": "stream",
     "text": [
      "86 먹방 브이로그 | 맛있으면 0칼로리 👍🏻 맛집 뿌시기 술먹방 | 엽떡 밀키트 짜장면 짬뽕 석화 뚝불 꼬막 장어 육개장 와퍼 붕어빵 MUKBANG VLOG 일상 https://youtu.be/aZghXALch4k&pp 곰슈슈 gomshushu 브이로그\n"
     ]
    },
    {
     "name": "stderr",
     "output_type": "stream",
     "text": [
      " 33%|███▎      | 88/269 [00:27<00:53,  3.37it/s]"
     ]
    },
    {
     "name": "stdout",
     "output_type": "stream",
     "text": [
      "87 [vlog] 직장인 브이로그 | 칼퇴? 그게 뭐죠?! | 새벽퇴근🌙 야근 그 무게를 견뎌라 | 밭두렁🌽 | 구슬 아이스크림•더죠이 | GNM 양배추즙 https://youtu.be/XHpJF0ZHQAU&pp 윤슬 브이로그\n"
     ]
    },
    {
     "name": "stderr",
     "output_type": "stream",
     "text": [
      " 33%|███▎      | 89/269 [00:27<00:54,  3.29it/s]"
     ]
    },
    {
     "name": "stdout",
     "output_type": "stream",
     "text": [
      "88 [sub] 바리스타의 손목을 지켜주는 녀석 칭찬해 ☕️🤎 / 카페브이로그 / 개인카페 브이로그 / 클린포터 리뷰 https://youtu.be/7AaGmImXsXk&pp 린블 rinvely 브이로그\n"
     ]
    },
    {
     "name": "stderr",
     "output_type": "stream",
     "text": [
      " 33%|███▎      | 90/269 [00:27<00:53,  3.32it/s]"
     ]
    },
    {
     "name": "stdout",
     "output_type": "stream",
     "text": [
      "89 연경제 vlogㅣ동세네는 수업을 찢어~🐻‍❄️ 대학생 일상 브이로그!ㅣ대학교 기숙사, 연세대학교 국제캠퍼스 https://youtu.be/YRaGeEG_qzQ&pp 동세네DSN 브이로그\n"
     ]
    },
    {
     "name": "stderr",
     "output_type": "stream",
     "text": [
      " 34%|███▍      | 91/269 [00:28<00:52,  3.39it/s]"
     ]
    },
    {
     "name": "stdout",
     "output_type": "stream",
     "text": [
      "90 육아 브이로그 l 12개월 아기 또 가정보육🤦‍♀️새로운 전집, 걸음마 연습, 결혼식 사회 보기, 촉감놀이 실패 https://youtu.be/3y1uP6f_rgs&pp 우엉ueong 브이로그\n"
     ]
    },
    {
     "name": "stderr",
     "output_type": "stream",
     "text": [
      " 34%|███▍      | 92/269 [00:28<00:52,  3.37it/s]"
     ]
    },
    {
     "name": "stdout",
     "output_type": "stream",
     "text": [
      "91 먹방 브이로그 | 중요한 건 꺾이지 않는 먹을 마음 | 다이어트 포기 | 마라탕 닭갈비 꽈배기 이삭토스트 바지락술찜 문어덮밥 갈비탕 왕만두 파스타 치즈케이크 MUKBANG VLOG https://youtu.be/KtSLMbrMqz8&pp 곰슈슈 gomshushu 브이로그\n"
     ]
    },
    {
     "name": "stderr",
     "output_type": "stream",
     "text": [
      " 35%|███▍      | 93/269 [00:28<00:52,  3.33it/s]"
     ]
    },
    {
     "name": "stdout",
     "output_type": "stream",
     "text": [
      "92 VLOG˖◛⁺⑅♡일상 조각 모음 브이로그 / 월요팅!! https://youtu.be/kgb-AVibf3o&pp 영이 브이로그\n"
     ]
    },
    {
     "name": "stderr",
     "output_type": "stream",
     "text": [
      " 35%|███▍      | 94/269 [00:28<00:52,  3.31it/s]"
     ]
    },
    {
     "name": "stdout",
     "output_type": "stream",
     "text": [
      "93 𝐕𝐥𝐨𝐠 ✨집밥 브이로그, 열무비빔밥에 미친 사람 🤤 이게 바로 찐행복일까,,ʚ♥ɞ | 여름인데..다들 열무비빔밥 안 먹니..? | 새벽 운동하는 헬린이, 파김치볶음밥 #23_35 https://youtu.be/fCFVR_SDXXs&pp 어바웃지니 브이로그\n"
     ]
    },
    {
     "name": "stderr",
     "output_type": "stream",
     "text": [
      " 35%|███▌      | 95/269 [00:29<00:54,  3.18it/s]"
     ]
    },
    {
     "name": "stdout",
     "output_type": "stream",
     "text": [
      "94 데일리룩 브이로그ㅣ가을 겨울 패션하울ㅣ오늘의집 장스탠드 조립하고 혼술하는 일상🕯 https://youtu.be/JZ740FFxFSk&pp 수지suji 브이로그\n"
     ]
    },
    {
     "name": "stderr",
     "output_type": "stream",
     "text": [
      " 36%|███▌      | 96/269 [00:29<00:53,  3.25it/s]"
     ]
    },
    {
     "name": "stdout",
     "output_type": "stream",
     "text": [
      "95 4부_디즈니랜드에 가다!🎡그리고 아쉬운 작별..[누베스어린이합창단] https://youtu.be/Zl7jduHzZAU&pp 누베스어린이합창단 브이로그\n"
     ]
    },
    {
     "name": "stderr",
     "output_type": "stream",
     "text": [
      " 36%|███▌      | 97/269 [00:29<00:56,  3.05it/s]"
     ]
    },
    {
     "name": "stdout",
     "output_type": "stream",
     "text": [
      "96 Vlog:: 🎊울산 공업축제 브이로그🎊 | #울산 #공업축제 #북극여우로토 https://youtu.be/kGj-MhYazIM&pp 북극여우 로토TV 브이로그\n"
     ]
    },
    {
     "name": "stderr",
     "output_type": "stream",
     "text": [
      " 36%|███▋      | 98/269 [00:30<00:57,  2.97it/s]"
     ]
    },
    {
     "name": "stdout",
     "output_type": "stream",
     "text": [
      "97 결혼기념일 그 이후, 생존신고👧🏻   (더현대서울, 63파빌리온, 공덕족발골목, 생일파티, 급변해버린 일상🏝) https://youtu.be/PkkNfFGO93s&pp 오레오쀼 브이로그\n"
     ]
    },
    {
     "name": "stderr",
     "output_type": "stream",
     "text": [
      " 37%|███▋      | 99/269 [00:30<00:58,  2.91it/s]"
     ]
    },
    {
     "name": "stdout",
     "output_type": "stream",
     "text": [
      "98 VLOGㅣ그래서 운동은요?? 업무 과다 스트레스 탄수화물 파티의 한 주ㅣ타락한 직장인 운동 브이로그ㅣ직장인 아침 헬스 브이로그 https://youtu.be/FK-0U2niNRM&pp 율무차 브이로그\n"
     ]
    },
    {
     "name": "stderr",
     "output_type": "stream",
     "text": [
      " 37%|███▋      | 100/269 [00:31<00:57,  2.96it/s]"
     ]
    },
    {
     "name": "stdout",
     "output_type": "stream",
     "text": [
      "99 [CAFE VLOG] 이건 눈물인가요 땀인가요...주7일 노동자의 디저트카페브이로그 https://youtu.be/_FEv2La7qZI&pp 고요비koyobi 브이로그\n"
     ]
    },
    {
     "name": "stderr",
     "output_type": "stream",
     "text": [
      " 38%|███▊      | 101/269 [00:31<00:57,  2.93it/s]"
     ]
    },
    {
     "name": "stdout",
     "output_type": "stream",
     "text": [
      "100 [브이로그] 취미 부자! 자수미싱하고 베이킹하고 / 타르트랑 파운드케이크 / 오랜만에 부부 데이트 / 남산 얼마만이야? 그린 얼루어 캠페인 / 최애 집밥 메뉴 / VLOG https://youtu.be/_4rgrOoS0gA&pp misonugool미소너굴 브이로그\n"
     ]
    },
    {
     "name": "stderr",
     "output_type": "stream",
     "text": [
      " 38%|███▊      | 102/269 [00:31<00:58,  2.87it/s]"
     ]
    },
    {
     "name": "stdout",
     "output_type": "stream",
     "text": [
      "101 [vlog] 08년생 방학 마지막주 브이로그/놀고 공부하고 쇼핑하는 08년생 vlog | 류희진 https://youtu.be/lKAnaQs8_hE&pp 류희진 브이로그\n"
     ]
    },
    {
     "name": "stderr",
     "output_type": "stream",
     "text": [
      " 38%|███▊      | 103/269 [00:32<00:55,  3.02it/s]"
     ]
    },
    {
     "name": "stdout",
     "output_type": "stream",
     "text": [
      "102 sub) [VLOG] 직장인브이로그ㅣ퇴사할까 말까 고민🙄ㅣ보라카이 여행 준비✈ㅣ조금 짧아도 이해해주세오,,흑흑💦 https://youtu.be/vNhi-WpTEJw&pp 토리아 toria 브이로그\n"
     ]
    },
    {
     "name": "stderr",
     "output_type": "stream",
     "text": [
      " 39%|███▊      | 104/269 [00:32<00:52,  3.13it/s]"
     ]
    },
    {
     "name": "stdout",
     "output_type": "stream",
     "text": [
      "103 [vlog] 놀고 공부하는 08년생 브이로그/ 학교 일상 | 류희진 https://youtu.be/deBcOagMfJg&pp 류희진 브이로그\n"
     ]
    },
    {
     "name": "stderr",
     "output_type": "stream",
     "text": [
      " 39%|███▉      | 105/269 [00:32<00:52,  3.13it/s]"
     ]
    },
    {
     "name": "stdout",
     "output_type": "stream",
     "text": [
      "104 [vlog] 육아 브이로그 | 육아템 추천 | 중기2 밥솥이유식 레시피 | 이유식 신세계 입문 | 밥솥 칸막이 추천 | 앙파파 통통이유식 조리세트 | 이유식 큐브 정리 방법 https://youtu.be/rkbDpPh9pfo&pp 비타숨 vitasoom 브이로그\n"
     ]
    },
    {
     "name": "stderr",
     "output_type": "stream",
     "text": [
      " 39%|███▉      | 106/269 [00:33<00:55,  2.96it/s]"
     ]
    },
    {
     "name": "stdout",
     "output_type": "stream",
     "text": [
      "105 eng) [VLOG] 직장인브이로그ㅣ상세페이지 기획이라뇨💢ㅣ산리오뽑기ㅣ마이멜로디말고 쿠로미💜ㅣ마포차돌박이, 꽃바구니, 1주일 2마라샹궈, 야근 또 야근 https://youtu.be/oFBzxCXQ7eM&pp 토리아 toria 브이로그\n"
     ]
    },
    {
     "name": "stderr",
     "output_type": "stream",
     "text": [
      " 40%|███▉      | 107/269 [00:33<00:54,  2.98it/s]"
     ]
    },
    {
     "name": "stdout",
     "output_type": "stream",
     "text": [
      "106 28살 복학생, 집이 두 개가 됐다. 대학원 과제하고 남편이랑 운동하는 Vlog  | 브이로그 https://youtu.be/ZWCid-2v8Fo&pp 밍찌채널 브이로그\n"
     ]
    },
    {
     "name": "stderr",
     "output_type": "stream",
     "text": [
      " 40%|████      | 108/269 [00:33<00:56,  2.84it/s]"
     ]
    },
    {
     "name": "stdout",
     "output_type": "stream",
     "text": [
      "107 VLOG 🥗일주일치 집반찬 만들어놓기🥗 문해력 테스트 충격적인 점수🥹 https://youtu.be/39J5_MujYVI&pp 제둥VLOG 브이로그\n"
     ]
    },
    {
     "name": "stderr",
     "output_type": "stream",
     "text": [
      " 41%|████      | 109/269 [00:34<00:57,  2.80it/s]"
     ]
    },
    {
     "name": "stdout",
     "output_type": "stream",
     "text": [
      "108 고3 절망편, 뭐했다고 벌써 6모?ㅣ공부 브이로그ㅣ소니 WH-1000XM5 미드나잇 블루ㅣstudy vlog https://youtu.be/Txo83t4q2Mk&pp 요우 브이로그\n"
     ]
    },
    {
     "name": "stderr",
     "output_type": "stream",
     "text": [
      " 41%|████      | 110/269 [00:34<00:57,  2.76it/s]"
     ]
    },
    {
     "name": "stdout",
     "output_type": "stream",
     "text": [
      "109 [CAFE VLOG] 자영업 3년차 폼 미쳤다.. 디저트카페 브이로그 https://youtu.be/xqezz8VvEfU&pp 고요비koyobi 브이로그\n"
     ]
    },
    {
     "name": "stderr",
     "output_type": "stream",
     "text": [
      " 41%|████▏     | 111/269 [00:34<00:55,  2.87it/s]"
     ]
    },
    {
     "name": "stdout",
     "output_type": "stream",
     "text": [
      "110 먹방 브이로그 | 인생 뭐 먹는게 다지..🐖 | 핫플 맛집 뿌시기 😋 돈까스 짜장면 반반치킨 와퍼 대창항정살덮밥 초밥 돼지김치찌개 모카크림빵 타르트 MUKBANG VLOG 일상 https://youtu.be/istchpSs9Xo&pp 곰슈슈 gomshushu 브이로그\n"
     ]
    },
    {
     "name": "stderr",
     "output_type": "stream",
     "text": [
      " 42%|████▏     | 112/269 [00:35<00:54,  2.88it/s]"
     ]
    },
    {
     "name": "stdout",
     "output_type": "stream",
     "text": [
      "111 ENG) [VLOG] 직장인 브이로그 ㅣ 코로나 처음 확진된 자의 병가 일기 ㅣ 캥거루 패싸움 보고 감동받은 이야기 https://youtu.be/QCzt7vvzQ0E&pp 직빵인의 소소한주 - Weekly logs 브이로그\n"
     ]
    },
    {
     "name": "stderr",
     "output_type": "stream",
     "text": [
      " 42%|████▏     | 113/269 [00:35<00:52,  2.96it/s]"
     ]
    },
    {
     "name": "stdout",
     "output_type": "stream",
     "text": [
      "112 [vlog]프리랜서 일상 브이로그ㅣ쭈꾸미 먹고 붕어빵 먹고 텐동 먹으면서 하는 즐거운 프레늘 다이어트ㅣ언박싱(프레늘 쉐이크) 데일리룩 https://youtu.be/gdaK6tQfqsw&pp 가한나 브이로그\n"
     ]
    },
    {
     "name": "stderr",
     "output_type": "stream",
     "text": [
      " 42%|████▏     | 114/269 [00:35<00:50,  3.09it/s]"
     ]
    },
    {
     "name": "stdout",
     "output_type": "stream",
     "text": [
      "113 vlog. 직장인 브이로그 | 무기력 속에서 나를 지키는 습관들 (feat. 가벼운 영어) | 퇴근 후 헬스하고 공부하는 일상 https://youtu.be/mkhYFY6Yl2A&pp 오담필름 odamfilm 브이로그\n"
     ]
    },
    {
     "name": "stderr",
     "output_type": "stream",
     "text": [
      " 43%|████▎     | 115/269 [00:36<00:48,  3.16it/s]"
     ]
    },
    {
     "name": "stdout",
     "output_type": "stream",
     "text": [
      "114 VLOG 대학생 브이로그ㅣ예대생의 시험기간😳ㅣ하루에 시험 3개..?!ㅣ3일간의 기록ㅣ미용과ㅣ중간고사 https://youtu.be/MtKBDOPDrhg&pp 임보영 브이로그\n"
     ]
    },
    {
     "name": "stderr",
     "output_type": "stream",
     "text": [
      " 43%|████▎     | 116/269 [00:36<00:46,  3.27it/s]"
     ]
    },
    {
     "name": "stdout",
     "output_type": "stream",
     "text": [
      "115 A day in my life 🎀 예비고1 방학 브이로그 https://youtu.be/5jIB8tyiVtA&pp 굥나 브이로그\n"
     ]
    },
    {
     "name": "stderr",
     "output_type": "stream",
     "text": [
      " 43%|████▎     | 117/269 [00:36<00:47,  3.18it/s]"
     ]
    },
    {
     "name": "stdout",
     "output_type": "stream",
     "text": [
      "116 직장인의 평일 브이로그 ㅣ 직장동료와 놀기 ㅣ 가다실 9 접종 ㅣ 좁쌀여드름 케어ㅣ 다이니 브이로그 https://youtu.be/ywa82puIwNw&pp 함다 HAMDA 브이로그\n"
     ]
    },
    {
     "name": "stderr",
     "output_type": "stream",
     "text": [
      " 44%|████▍     | 118/269 [00:36<00:47,  3.20it/s]"
     ]
    },
    {
     "name": "stdout",
     "output_type": "stream",
     "text": [
      "117 3개월 아기 육아 브이로그 🐰 스스로 잠드는 아기의 수면 의식 & 피부 관리 루틴 (태열 & 땀띠 정복하기) https://youtu.be/_JP-QRUJC1k&pp 루비 영 Ruby Young 브이로그\n"
     ]
    },
    {
     "name": "stderr",
     "output_type": "stream",
     "text": [
      " 44%|████▍     | 119/269 [00:37<00:45,  3.26it/s]"
     ]
    },
    {
     "name": "stdout",
     "output_type": "stream",
     "text": [
      "118 이대리의 능력을 보여줄게⭐ 점점 글로벌해지는 FiPA | 기획조정실 이정호대리 브이로그 우직소3 ep.1 https://youtu.be/G2QEjwrnXhA&pp 한국어촌어항공단 브이로그\n"
     ]
    },
    {
     "name": "stderr",
     "output_type": "stream",
     "text": [
      " 45%|████▍     | 120/269 [00:37<00:46,  3.20it/s]"
     ]
    },
    {
     "name": "stdout",
     "output_type": "stream",
     "text": [
      "119 연예인이랑 단둘이 대만 여행 브이로그🇹🇼| 3일 만에 +2kg 증량, 대만 명문대 친구 사귐, 현지인체험, 현지맛집, 훠궈, 쇼핑, 우육면, 딘타이펑, 소행운, 바다 | 새니 https://youtu.be/ZEWFKmcd57Y&pp 새니 SENI 브이로그\n"
     ]
    },
    {
     "name": "stderr",
     "output_type": "stream",
     "text": [
      " 45%|████▍     | 121/269 [00:37<00:47,  3.09it/s]"
     ]
    },
    {
     "name": "stdout",
     "output_type": "stream",
     "text": [
      "120 40후반 1인가구 일상 브이로그 vlog 에어컨 없이 여름 맞을 준비 plus 장보기 집밥 요리 https://youtu.be/DAyswU_XBfU&pp 맘이봄 (마음이 봄) 브이로그\n"
     ]
    },
    {
     "name": "stderr",
     "output_type": "stream",
     "text": [
      " 45%|████▌     | 122/269 [00:38<00:46,  3.18it/s]"
     ]
    },
    {
     "name": "stdout",
     "output_type": "stream",
     "text": [
      "121 가성비 좋은 인간 | 채널의 정체성 | 나의 이야기 https://youtu.be/Q2jqerL6nc8&pp 자취하는 해달이 브이로그\n"
     ]
    },
    {
     "name": "stderr",
     "output_type": "stream",
     "text": [
      " 46%|████▌     | 123/269 [00:38<00:45,  3.22it/s]"
     ]
    },
    {
     "name": "stdout",
     "output_type": "stream",
     "text": [
      "122 나의 미국생활 적응기 ⏤ 첫 친구들이 생겼다! 집 대청소하고 드라이카레 만들기, 브레빌 커피머신 언박싱 (2023년 최고 잘산템 예상..☕️) | VLOG https://youtu.be/JZMQtkym8XM&pp Cece Kim 브이로그\n"
     ]
    },
    {
     "name": "stderr",
     "output_type": "stream",
     "text": [
      " 46%|████▌     | 124/269 [00:38<00:44,  3.25it/s]"
     ]
    },
    {
     "name": "stdout",
     "output_type": "stream",
     "text": [
      "123 먹방 브이로그 | 먹부림에 또 쪄버린 일주일 🍖 스테이크 노티드빵 돼갈 햄쏘야 육회 오돌뼈 타코 파스타 핫도그 우동 어묵 | 먹는 일상 맛집 술먹방 다이어트 MUKBANG VLOG https://youtu.be/6w0ipshtgNU&pp 곰슈슈 gomshushu 브이로그\n"
     ]
    },
    {
     "name": "stderr",
     "output_type": "stream",
     "text": [
      " 46%|████▋     | 125/269 [00:39<00:44,  3.25it/s]"
     ]
    },
    {
     "name": "stdout",
     "output_type": "stream",
     "text": [
      "124 [VLOG] 서가대 보러 간 날 브이로그✨원영공주 코앞에서 직관 ..🫣(ft.중요한 날 꼭 하는 관리) https://youtu.be/NvjxddT_Um0&pp 령령 Ryeongryeong 브이로그\n"
     ]
    },
    {
     "name": "stderr",
     "output_type": "stream",
     "text": [
      " 47%|████▋     | 126/269 [00:39<00:43,  3.30it/s]"
     ]
    },
    {
     "name": "stdout",
     "output_type": "stream",
     "text": [
      "125 먹방 브이로그💓 스시 오마카세 #스시마카세 , 바른치킨, 구시야끼에독코, 레알몬스터, 건물주맥주, 막케집✨ 그만먹고싶어.. https://youtu.be/Ijf9wuEmLZA&pp MIJU 미주 브이로그\n"
     ]
    },
    {
     "name": "stderr",
     "output_type": "stream",
     "text": [
      " 47%|████▋     | 127/269 [00:39<00:45,  3.11it/s]"
     ]
    },
    {
     "name": "stdout",
     "output_type": "stream",
     "text": [
      "126 [vlog::19] 리틀넥, 위글위글집 도산, 그랑핸드, 미뉴트 빠삐용, 더 현대 서울, 산리오빵 https://youtu.be/KqSrvVHz4pw&pp Roselia 로젤리아 브이로그\n"
     ]
    },
    {
     "name": "stderr",
     "output_type": "stream",
     "text": [
      " 48%|████▊     | 128/269 [00:40<00:44,  3.18it/s]"
     ]
    },
    {
     "name": "stdout",
     "output_type": "stream",
     "text": [
      "127 관광명소 없는 경주여행 브이로그(사촌계모임, 경주여행인데 이제 산속에 있는... 가리비, 대하, 지리산흑돼지 삼겹살, 경주우마왕) https://youtu.be/H3rZH--U098&pp 오레오쀼 브이로그\n"
     ]
    },
    {
     "name": "stderr",
     "output_type": "stream",
     "text": [
      " 48%|████▊     | 129/269 [00:40<00:43,  3.25it/s]"
     ]
    },
    {
     "name": "stdout",
     "output_type": "stream",
     "text": [
      "128 🐷연휴에 3키로 득템한 사람의 먹방브이로그(떡국,갈비찜,잡채,비빔밥,짜장면,탕수육,크림새우,소고기,된장찌개) https://youtu.be/qnXKmRepYJM&pp 똥그리 ddonguri 브이로그\n"
     ]
    },
    {
     "name": "stderr",
     "output_type": "stream",
     "text": [
      " 48%|████▊     | 130/269 [00:40<00:43,  3.17it/s]"
     ]
    },
    {
     "name": "stdout",
     "output_type": "stream",
     "text": [
      "129 🎄바빠도 건강은 야무지게 챙기는 연말 일상 브이로그🎁 (+올영페스타, 구독자이벤트) :: 채소(CHAESO) https://youtu.be/xaAky1bgGpw&pp CHAESO 채소 브이로그\n"
     ]
    },
    {
     "name": "stderr",
     "output_type": "stream",
     "text": [
      " 49%|████▊     | 131/269 [00:41<00:42,  3.22it/s]"
     ]
    },
    {
     "name": "stdout",
     "output_type": "stream",
     "text": [
      "130 함선생 카이센동 아분드 카페 https://youtu.be/kwshEARunQ4&pp 한남동그녀 브이로그\n"
     ]
    },
    {
     "name": "stderr",
     "output_type": "stream",
     "text": [
      " 49%|████▉     | 132/269 [00:41<00:41,  3.28it/s]"
     ]
    },
    {
     "name": "stdout",
     "output_type": "stream",
     "text": [
      "131 VLOG 데이트 브이로그ㅣ700일 기념 피크닉🧺ㅣ도시락 만들기ㅣ당근김밥🥕ㅣ비 오는 날 실내데이트 https://youtu.be/HZiSEjIxUHQ&pp 임보영 브이로그\n"
     ]
    },
    {
     "name": "stderr",
     "output_type": "stream",
     "text": [
      " 49%|████▉     | 133/269 [00:41<00:40,  3.35it/s]"
     ]
    },
    {
     "name": "stdout",
     "output_type": "stream",
     "text": [
      "132 이 남자의 일주일 자기관리 브이로그 https://youtu.be/ExaWq2krWHA&pp 강태경TAEKYUNG 브이로그\n"
     ]
    },
    {
     "name": "stderr",
     "output_type": "stream",
     "text": [
      " 50%|████▉     | 134/269 [00:41<00:39,  3.40it/s]"
     ]
    },
    {
     "name": "stdout",
     "output_type": "stream",
     "text": [
      "133 VLOGㅣJ처럼 살고 싶은 P 직장인의 갓생 브이로그ㅣK-직장인의 아침 헬스 브이로그ㅣ직장인 운동 브이로그(텀블러추천, 스탠리, 퀜처, 미니미 무물타임) https://youtu.be/woZoo4BkNhU&pp 율무차 브이로그\n"
     ]
    },
    {
     "name": "stderr",
     "output_type": "stream",
     "text": [
      " 50%|█████     | 135/269 [00:42<00:39,  3.41it/s]"
     ]
    },
    {
     "name": "stdout",
     "output_type": "stream",
     "text": [
      "134 VLOG 육아 브이로그 |16개월 아기의 눈물나는 첫 어린이집 등원 😭 / 어린이집 등원 준비물 | 건조함의 끝판왕 환절기 아기 피부 관리 (feat.몽디에스) https://youtu.be/FzT8x6KPmLE&pp 으누츄네eunuchu 브이로그\n"
     ]
    },
    {
     "name": "stderr",
     "output_type": "stream",
     "text": [
      " 51%|█████     | 136/269 [00:42<00:38,  3.45it/s]"
     ]
    },
    {
     "name": "stdout",
     "output_type": "stream",
     "text": [
      "135 먹방 브이로그 | 살찌면 어때 맛있으면 돼지 꿀꿀.. | 우리할매떡볶이 장인한과 파지약과 대새레드치킨 바지락찜 어드벤트캘린더 피자 삼겹살 돈까스 | 다이어트 MUKBANG VLOG https://youtu.be/31-VvepciiQ&pp 곰슈슈 gomshushu 브이로그\n"
     ]
    },
    {
     "name": "stderr",
     "output_type": "stream",
     "text": [
      " 51%|█████     | 137/269 [00:42<00:39,  3.38it/s]"
     ]
    },
    {
     "name": "stdout",
     "output_type": "stream",
     "text": [
      "136 식집사의 하루 https://youtu.be/Y8-53qYFHus&pp 현주네 Hyunjune 브이로그\n"
     ]
    },
    {
     "name": "stderr",
     "output_type": "stream",
     "text": [
      " 51%|█████▏    | 138/269 [00:43<00:39,  3.35it/s]"
     ]
    },
    {
     "name": "stdout",
     "output_type": "stream",
     "text": [
      "137 사진까지 돈으로 만드는 짠순이의 절약 브이로그 https://youtu.be/xLsfwVXFoOs&pp 김알밥은 파이어족 브이로그\n"
     ]
    },
    {
     "name": "stderr",
     "output_type": "stream",
     "text": [
      " 52%|█████▏    | 139/269 [00:43<00:38,  3.34it/s]"
     ]
    },
    {
     "name": "stdout",
     "output_type": "stream",
     "text": [
      "138 Vlog 일상 브이로그 | 코우브 kouve 가을 네일 폴리쉬, 광화문 광장 스타벅스 좋아, 아이허브 추천 할인코드, 스트레스 해소 중.. https://youtu.be/QpqkLKeO8SI&pp Mina.이나.h 브이로그\n"
     ]
    },
    {
     "name": "stderr",
     "output_type": "stream",
     "text": [
      " 52%|█████▏    | 140/269 [00:43<00:38,  3.39it/s]"
     ]
    },
    {
     "name": "stdout",
     "output_type": "stream",
     "text": [
      "139 VLOG. 남편 출장 가고 한국인 친구와 보낸 일주일! 운동하고 요리해먹는 알찬 미국 일상 브이로그 | 파리 감성 충만한 워싱턴DC 맛집 https://youtu.be/xtyNeTEpdZQ&pp Cece Kim 브이로그\n"
     ]
    },
    {
     "name": "stderr",
     "output_type": "stream",
     "text": [
      " 52%|█████▏    | 141/269 [00:44<00:41,  3.06it/s]"
     ]
    },
    {
     "name": "stdout",
     "output_type": "stream",
     "text": [
      "140 천당과 지옥을 오가는 베이킹 / 또 역시 대충 살자.  | Vlog💜 https://youtu.be/BU8Aq4uc0Fs&pp 빈사마 Binsama 브이로그\n"
     ]
    },
    {
     "name": "stderr",
     "output_type": "stream",
     "text": [
      " 53%|█████▎    | 142/269 [00:44<00:42,  2.98it/s]"
     ]
    },
    {
     "name": "stdout",
     "output_type": "stream",
     "text": [
      "141 윤윤부부의 시골이야기/ 시골에서 첫 식사/ 첫 손님/ 옥수수 60개 심기/ 모종 심기 바쁜 5월/ 시윤스런시골이야기/ 주부브이로그 https://youtu.be/Nlw0et6r72c&pp 시윤스런, 작은집이야기 Siyunesrun 브이로그\n"
     ]
    },
    {
     "name": "stderr",
     "output_type": "stream",
     "text": [
      " 53%|█████▎    | 143/269 [00:44<00:40,  3.10it/s]"
     ]
    },
    {
     "name": "stdout",
     "output_type": "stream",
     "text": [
      "142 다이어트 브이로그🥗과카몰리 스프레드+ 통밀크래커 JMT콤부차 추천💛 양배추 쌈밥🥬 https://youtu.be/po-S4TYRebw&pp 후메이크업whozmakeup 브이로그\n"
     ]
    },
    {
     "name": "stderr",
     "output_type": "stream",
     "text": [
      " 54%|█████▎    | 144/269 [00:45<00:38,  3.22it/s]"
     ]
    },
    {
     "name": "stdout",
     "output_type": "stream",
     "text": [
      "143 그동안 쫌쫌따리 해왔던 셀프케어데이 모음💅🏻연말맞이 네일, 공복유산소, 새로운 컬러로 염색, 물광 나는 홈케어 디바이스, 모닝루틴✨ https://youtu.be/VtkZ_iMv-g0&pp 에바EVA 브이로그\n"
     ]
    },
    {
     "name": "stderr",
     "output_type": "stream",
     "text": [
      " 54%|█████▍    | 145/269 [00:45<00:37,  3.28it/s]"
     ]
    },
    {
     "name": "stdout",
     "output_type": "stream",
     "text": [
      "144 중소기업 20년차 회사생활 브이로그 EP38, 좃소를보았다 1탄 공개합니다 https://youtu.be/yi1Pezw6E9A&pp 마빼아부지 브이로그\n"
     ]
    },
    {
     "name": "stderr",
     "output_type": "stream",
     "text": [
      " 54%|█████▍    | 146/269 [00:45<00:37,  3.27it/s]"
     ]
    },
    {
     "name": "stdout",
     "output_type": "stream",
     "text": [
      "145 집에서도 꾸준히 자기관리 하는 남자의 브이로그 (feat.치아미백) https://youtu.be/Ov4sMoHaS7g&pp 강태경TAEKYUNG 브이로그\n"
     ]
    },
    {
     "name": "stderr",
     "output_type": "stream",
     "text": [
      " 55%|█████▍    | 147/269 [00:45<00:36,  3.35it/s]"
     ]
    },
    {
     "name": "stdout",
     "output_type": "stream",
     "text": [
      "146 VLOG | 6월 힐링 브이로그 ✨ | 잔잔하게 힐링 하고 싶은 사람 모여라,,⭐︎ 그림도 그리고, 이사도 도와주고, K-시골 체험도,,⭐︎ https://youtu.be/8x7ReuZsypg&pp SEOZZLING 서즐링 브이로그\n"
     ]
    },
    {
     "name": "stderr",
     "output_type": "stream",
     "text": [
      " 55%|█████▌    | 148/269 [00:46<00:35,  3.37it/s]"
     ]
    },
    {
     "name": "stdout",
     "output_type": "stream",
     "text": [
      "147 [VLOG] 대략적인 일상기록 브이로그🤗ㅣ경복궁 야간개장 데이트💜ㅣ입 터진 일주일💦ㅣ재택근무, 집밥, 리클 https://youtu.be/EwqqaXOvfwg&pp 토리아 toria 브이로그\n"
     ]
    },
    {
     "name": "stderr",
     "output_type": "stream",
     "text": [
      " 55%|█████▌    | 149/269 [00:46<00:35,  3.39it/s]"
     ]
    },
    {
     "name": "stdout",
     "output_type": "stream",
     "text": [
      "148 부산으로 놀러왔어요 https://youtu.be/hGusogw2HS4&pp 크무죠와 친구들 Kumujo and friends. 브이로그\n"
     ]
    },
    {
     "name": "stderr",
     "output_type": "stream",
     "text": [
      " 56%|█████▌    | 150/269 [00:46<00:35,  3.37it/s]"
     ]
    },
    {
     "name": "stdout",
     "output_type": "stream",
     "text": [
      "149 Vlog:: 🌼울산 장생포 수국축제 브이로그🌼 | #울산 #수국축제 #북극여우로토 https://youtu.be/wF5PRdG0So8&pp 북극여우 로토TV 브이로그\n"
     ]
    },
    {
     "name": "stderr",
     "output_type": "stream",
     "text": [
      " 56%|█████▌    | 151/269 [00:47<00:34,  3.40it/s]"
     ]
    },
    {
     "name": "stdout",
     "output_type": "stream",
     "text": [
      "150 [VLOG] 직장인브이로그ㅣ아웃백 런치 좋아💛ㅣ일주일 내내 뜨개꽃 만들기💐ㅣ맛도리들의 향연😍ㅣ짱꼬집, 49재, 재택근무, 집밥해먹기, 마라샹궈 https://youtu.be/8M2Z_UtsaoU&pp 토리아 toria 브이로그\n"
     ]
    },
    {
     "name": "stderr",
     "output_type": "stream",
     "text": [
      " 57%|█████▋    | 152/269 [00:47<00:35,  3.28it/s]"
     ]
    },
    {
     "name": "stdout",
     "output_type": "stream",
     "text": [
      "151 [SUB] 새집 이사 완료✨ 압구정&성수 인테리어 소품샵 투어 브이로그 https://youtu.be/yUGIEP03Mdk&pp 수수연수 브이로그\n"
     ]
    },
    {
     "name": "stderr",
     "output_type": "stream",
     "text": [
      " 57%|█████▋    | 153/269 [00:47<00:35,  3.30it/s]"
     ]
    },
    {
     "name": "stdout",
     "output_type": "stream",
     "text": [
      "152 새벽 기상 3개월차 말티즈 견주 브이로그 | 직장인 갓생 | 소니 링크버즈 https://youtu.be/_HP6Cwik6aw&pp DoRong Vlog 브이로그\n"
     ]
    },
    {
     "name": "stderr",
     "output_type": "stream",
     "text": [
      " 57%|█████▋    | 154/269 [00:47<00:34,  3.34it/s]"
     ]
    },
    {
     "name": "stdout",
     "output_type": "stream",
     "text": [
      "153 브이로그 | 부산 광안리 여행 | 핫플 | 테라스 카페 | 맛집추천 | 건강김밥 | 봄 제철음식 | 봄옷 추천🫶🏻 | 밀더락마켓 | 낮술.. https://youtu.be/K7s4HlDYPs0&pp 상희sanghui 브이로그\n"
     ]
    },
    {
     "name": "stderr",
     "output_type": "stream",
     "text": [
      " 58%|█████▊    | 155/269 [00:48<00:34,  3.34it/s]"
     ]
    },
    {
     "name": "stdout",
     "output_type": "stream",
     "text": [
      "154 정신 🍒..이 각박한 세상 속..! 에버랜드 퇴근 후 우됭탕 일상 모음 ZIP [부제: 투잡 하지마.] https://youtu.be/EoHXhV2ceiA&pp 모르는지 브이로그\n"
     ]
    },
    {
     "name": "stderr",
     "output_type": "stream",
     "text": [
      " 58%|█████▊    | 156/269 [00:48<00:33,  3.34it/s]"
     ]
    },
    {
     "name": "stdout",
     "output_type": "stream",
     "text": [
      "155 n잡러 특 : 의도치 않게 갓생 사는 브이로그ㅣ본업 영상 PD & 부업 유튜버 일상ㅣ피아노, 테니스 취미 즐기고 대전 맛집까지 털기 (두부 두루치기, 성심당) https://youtu.be/xyzw4o0YKyI&pp 차차 CHA! 브이로그\n"
     ]
    },
    {
     "name": "stderr",
     "output_type": "stream",
     "text": [
      " 58%|█████▊    | 157/269 [00:48<00:33,  3.36it/s]"
     ]
    },
    {
     "name": "stdout",
     "output_type": "stream",
     "text": [
      "156 [VLOG] 행복주간 주5일 재택근무🏡ㅣ본격 집밥 토선생🍳ㅣ출석율 좋은 헬린이🏃🏻‍♀️ㅣ 마켓컬리, 일리커피머신, 존윅4, 수원광교롯데아울렛 https://youtu.be/ihi7l2htjd0&pp 토리아 toria 브이로그\n"
     ]
    },
    {
     "name": "stderr",
     "output_type": "stream",
     "text": [
      " 59%|█████▊    | 158/269 [00:49<00:33,  3.35it/s]"
     ]
    },
    {
     "name": "stdout",
     "output_type": "stream",
     "text": [
      "157 vlog | 직장인 브이로그 | 8개월차 건축 감리회사 직장인의 업무 브이로그 | 겨울철 스킨 케어와 선크림 추천(feat. 더하르나이) | 일하고 먹고 노느라 바쁜 직장인 일상 https://youtu.be/BBwwnnyYc0o&pp 장제로 Jero 브이로그\n"
     ]
    },
    {
     "name": "stderr",
     "output_type": "stream",
     "text": [
      " 59%|█████▉    | 159/269 [00:49<00:32,  3.34it/s]"
     ]
    },
    {
     "name": "stdout",
     "output_type": "stream",
     "text": [
      "158 잃어버린 건강을 찾아떠나는 청정 산골 여행기 https://youtu.be/6pKzNn4dY8g&pp 계곡은개골개골 브이로그\n"
     ]
    },
    {
     "name": "stderr",
     "output_type": "stream",
     "text": [
      " 59%|█████▉    | 160/269 [00:49<00:32,  3.35it/s]"
     ]
    },
    {
     "name": "stdout",
     "output_type": "stream",
     "text": [
      "159 이게 뭐지? 사료는 아닌데... https://youtu.be/wN09dwLg0Ws&pp 하루견과 with haru 브이로그\n"
     ]
    },
    {
     "name": "stderr",
     "output_type": "stream",
     "text": [
      " 60%|█████▉    | 161/269 [00:50<00:32,  3.31it/s]"
     ]
    },
    {
     "name": "stdout",
     "output_type": "stream",
     "text": [
      "160 [무지출 챌린지] 2억 모으는 28살 짠순이 절약브이로그 | 생활비 절약하는 가장 쉬운 방법 https://youtu.be/gF0O_XfUn0k&pp 헤그랑 브이로그\n"
     ]
    },
    {
     "name": "stderr",
     "output_type": "stream",
     "text": [
      " 60%|██████    | 162/269 [00:50<00:32,  3.32it/s]"
     ]
    },
    {
     "name": "stdout",
     "output_type": "stream",
     "text": [
      "161 절약 vlog 수육 도시락 만들기🍖 별거없는 자취생 하루 브이로그⏳ https://youtu.be/h8s7feVDWrE&pp 동글이 브이로그\n"
     ]
    },
    {
     "name": "stderr",
     "output_type": "stream",
     "text": [
      " 61%|██████    | 163/269 [00:50<00:32,  3.26it/s]"
     ]
    },
    {
     "name": "stdout",
     "output_type": "stream",
     "text": [
      "162 vlog 요리 브이로그, 집 밥 만들어 먹는 일상🍚｜벤츠에서 준 선물 언방식, 가지 덮밥, 누룽지 닭백숙🐓🍆 https://youtu.be/ExqcabweEuY&pp 기만솔 Gimansol 브이로그\n"
     ]
    },
    {
     "name": "stderr",
     "output_type": "stream",
     "text": [
      " 61%|██████    | 164/269 [00:51<00:32,  3.25it/s]"
     ]
    },
    {
     "name": "stdout",
     "output_type": "stream",
     "text": [
      "163 SUB) 입술필러 녹였어요! 일상 조각 모음 브이로그❤️ 된다언니랑 재유 집들이ㅣ남편이랑 호캉스+역시 쇼핑메이트😆(좀 웃김ㅎㅎ)ㅣ요상한 파인다이닝ㅣ안다즈 맛집ㅣ최모나 https://youtu.be/sNFHXTHBkX0&pp 최모나choimona 브이로그\n"
     ]
    },
    {
     "name": "stderr",
     "output_type": "stream",
     "text": [
      " 61%|██████▏   | 165/269 [00:51<00:30,  3.35it/s]"
     ]
    },
    {
     "name": "stdout",
     "output_type": "stream",
     "text": [
      "164 구르미들의 하루 (Vlog) [2부] https://youtu.be/DNTTDq01QhA&pp 누베스어린이합창단 브이로그\n"
     ]
    },
    {
     "name": "stderr",
     "output_type": "stream",
     "text": [
      " 62%|██████▏   | 166/269 [00:51<00:31,  3.30it/s]"
     ]
    },
    {
     "name": "stdout",
     "output_type": "stream",
     "text": [
      "165 대만여자 Taiwan 🇹🇼🇰🇷 |  한국거주8년차 내친구들 짱 예쁘다~ 갸루! 여자들만 데이트 맛집카페 투어 브이로그 | 韓國生活第8年我的韓國歐逆顏值都超高？女孩日就是要吃！ https://youtu.be/Hu_n-3cT-Ms&pp 소함 is 브이로그\n"
     ]
    },
    {
     "name": "stderr",
     "output_type": "stream",
     "text": [
      " 62%|██████▏   | 167/269 [00:51<00:32,  3.16it/s]"
     ]
    },
    {
     "name": "stdout",
     "output_type": "stream",
     "text": [
      "166 VLOG˖◛⁺⑅♡일상 조각 모음 브이로그 / 월요팅!! https://youtu.be/kgb-AVibf3o&pp 영이 브이로그\n"
     ]
    },
    {
     "name": "stderr",
     "output_type": "stream",
     "text": [
      " 62%|██████▏   | 168/269 [00:52<00:32,  3.14it/s]"
     ]
    },
    {
     "name": "stdout",
     "output_type": "stream",
     "text": [
      "167 [VLOG | 일상] 11월 브이로그(부산본가/킨텍스 2022 메가쇼 시즌2/디스커버리 운동화) https://youtu.be/ovmRFFaMSfw&pp 영쿤youngkun 브이로그\n"
     ]
    },
    {
     "name": "stderr",
     "output_type": "stream",
     "text": [
      " 63%|██████▎   | 169/269 [00:52<00:30,  3.27it/s]"
     ]
    },
    {
     "name": "stdout",
     "output_type": "stream",
     "text": [
      "168 극 E의 주말 브이로그 | 텐션주의⚠️ | 직장인이라면 공감 '못'할?! | 세사로그 ep.15 https://youtu.be/bmkp9eWAfWs&pp 세상이 사랑하는 패션, 세사패TV 브이로그\n"
     ]
    },
    {
     "name": "stderr",
     "output_type": "stream",
     "text": [
      " 63%|██████▎   | 170/269 [00:52<00:30,  3.29it/s]"
     ]
    },
    {
     "name": "stdout",
     "output_type": "stream",
     "text": [
      "169 제주 여행 브이로그 ⏤ 인생 첫 서핑을 배우고 🏄‍♀️  찐 로컬 맛집만 다니는 힐링 제주 일상 | 흑돼지 맛집 | 문도지 오름 | 포구에서 밤수영하기 https://youtu.be/RPEj9FnLiwM&pp Cece Kim 브이로그\n"
     ]
    },
    {
     "name": "stderr",
     "output_type": "stream",
     "text": [
      " 64%|██████▎   | 171/269 [00:53<00:30,  3.22it/s]"
     ]
    },
    {
     "name": "stdout",
     "output_type": "stream",
     "text": [
      "170 소식먹방 브이로그ㅣ남들 마라탕 쿨타임 채울때 나는 샌드위치 쿨타임 채운다.🥪ㅣ댕존맛 배달샌드위치ㅣ오설록 콤부차🍐🍋 https://youtu.be/3b7Dko_Henw&pp 수수하 SOOHA 브이로그\n"
     ]
    },
    {
     "name": "stderr",
     "output_type": "stream",
     "text": [
      " 64%|██████▍   | 172/269 [00:53<00:30,  3.13it/s]"
     ]
    },
    {
     "name": "stdout",
     "output_type": "stream",
     "text": [
      "171 [vlog::18] 올림픽공원 벚꽃 구경, 파크하얏트 서울 오셀라스, 잠실 라인프렌즈 럭키하우스, 시그니엘 비채나, 롯데월드몰 노티드월드 https://youtu.be/ywlwmHZ7HGI&pp Roselia 로젤리아 브이로그\n"
     ]
    },
    {
     "name": "stderr",
     "output_type": "stream",
     "text": [
      " 64%|██████▍   | 173/269 [00:53<00:30,  3.14it/s]"
     ]
    },
    {
     "name": "stdout",
     "output_type": "stream",
     "text": [
      "172 eng) [VLOG] 직장인브이로그ㅣ챗바퀴 같은 마케터의 일상ㅣ캐리비안베이👙ㅣ마케팅대행사에서는 무슨일을 할까? 더 자세하게 업무이야기 풀어봄 https://youtu.be/w3_uwBp09F8&pp 토리아 toria 브이로그\n"
     ]
    },
    {
     "name": "stderr",
     "output_type": "stream",
     "text": [
      " 65%|██████▍   | 174/269 [00:54<00:29,  3.24it/s]"
     ]
    },
    {
     "name": "stdout",
     "output_type": "stream",
     "text": [
      "173 Vlog | 라구나비치 | 브이로그 | 캘리포니아 🌴⛱☀️ https://youtu.be/vsBmeunMsRw&pp roseismydream  브이로그\n"
     ]
    },
    {
     "name": "stderr",
     "output_type": "stream",
     "text": [
      " 65%|██████▌   | 175/269 [00:54<00:29,  3.22it/s]"
     ]
    },
    {
     "name": "stdout",
     "output_type": "stream",
     "text": [
      "174 VLOG 직장인 일상 브이로그 | 남편 도시락 싸고 수업 잘 듣는 야수딩 | 석촌 벚꽃놀이🌸 | 라뜨라쥬 https://youtu.be/_HL43G_oyJ8&pp 김민지구한바퀴 Minzigu 브이로그\n"
     ]
    },
    {
     "name": "stderr",
     "output_type": "stream",
     "text": [
      " 65%|██████▌   | 176/269 [00:54<00:29,  3.13it/s]"
     ]
    },
    {
     "name": "stdout",
     "output_type": "stream",
     "text": [
      "175 ❤️ 26개월아기발달 / 공부맘브이로그 / 미나리전 부치며 유아식레시피 만드는 일상 ❤️ https://youtu.be/Mc7OlzTLMKM&pp BLINK BOMBOM [블링크봄봄] 브이로그\n"
     ]
    },
    {
     "name": "stderr",
     "output_type": "stream",
     "text": [
      " 66%|██████▌   | 177/269 [00:55<00:28,  3.24it/s]"
     ]
    },
    {
     "name": "stdout",
     "output_type": "stream",
     "text": [
      "176 몽글몽글 따수운 12월 브이로그 왔다구요🎄❤️ https://youtu.be/d-hkCmspw-U&pp OMAMIA 오마미아 브이로그\n"
     ]
    },
    {
     "name": "stderr",
     "output_type": "stream",
     "text": [
      " 66%|██████▌   | 178/269 [00:55<00:27,  3.27it/s]"
     ]
    },
    {
     "name": "stdout",
     "output_type": "stream",
     "text": [
      "177 매일하는 초초초간단 데일리 메이크업👄 10분컷 쌉가능👌🏻 +이벤트🔥 https://youtu.be/rA6Z-GExEAw&pp 김무비 KIM MOVIE 브이로그\n"
     ]
    },
    {
     "name": "stderr",
     "output_type": "stream",
     "text": [
      " 67%|██████▋   | 179/269 [00:55<00:27,  3.32it/s]"
     ]
    },
    {
     "name": "stdout",
     "output_type": "stream",
     "text": [
      "178 1년에 3천만원 모으기 (식비 절약편) https://youtu.be/y5YCwBLxtOM&pp 자취하는 해달이 브이로그\n"
     ]
    },
    {
     "name": "stderr",
     "output_type": "stream",
     "text": [
      " 67%|██████▋   | 180/269 [00:55<00:27,  3.29it/s]"
     ]
    },
    {
     "name": "stdout",
     "output_type": "stream",
     "text": [
      "179 [VLOG | 일상] 10월 브이로그(연남동/서울랜드/식물기르기) https://youtu.be/Z6oSpMhts-c&pp 영쿤youngkun 브이로그\n"
     ]
    },
    {
     "name": "stderr",
     "output_type": "stream",
     "text": [
      " 67%|██████▋   | 181/269 [00:56<00:29,  3.03it/s]"
     ]
    },
    {
     "name": "stdout",
     "output_type": "stream",
     "text": [
      "180 [육아브이로그] 봄을 미리 느껴보는 에버랜드나비체험프로젝트!ㅣ#라이브나비체험관 ㅣ겨울실내체험ㅣ아이와가볼만한곳ㅣ에버랜드브이로그 https://youtu.be/jd2Ir-1lsgo&pp 맘라이크 momlike 브이로그\n"
     ]
    },
    {
     "name": "stderr",
     "output_type": "stream",
     "text": [
      " 68%|██████▊   | 182/269 [00:56<00:28,  3.02it/s]"
     ]
    },
    {
     "name": "stdout",
     "output_type": "stream",
     "text": [
      "181 [VLOG] 직장인브이로그ㅣ일하고 대부도 놀러간돠🚗ㅣ퐈-려한 New네일💅ㅣ포도밭 할머니 칼국수, 더 헤이븐펜션, 브런치카페, 재택근무 https://youtu.be/BbIToStHbj8&pp 토리아 toria 브이로그\n"
     ]
    },
    {
     "name": "stderr",
     "output_type": "stream",
     "text": [
      " 68%|██████▊   | 183/269 [00:57<00:28,  3.00it/s]"
     ]
    },
    {
     "name": "stdout",
     "output_type": "stream",
     "text": [
      "182 [4K] BMW M 50주년 행사 브이로그, VLOG [EP.16] 1부 https://youtu.be/wO2yDs7Ut5c&pp 오토리쉬AUTOLISH 브이로그\n"
     ]
    },
    {
     "name": "stderr",
     "output_type": "stream",
     "text": [
      " 68%|██████▊   | 184/269 [00:57<00:27,  3.10it/s]"
     ]
    },
    {
     "name": "stdout",
     "output_type": "stream",
     "text": [
      "183 [브이로그] vlog#5 | 직장인 브이로그 이제 반차를 겉들인;) | 혼자 카페투어☕️, 경복궁, 자하 서울, 모키 문래, 군고구마, 혼자도 잘 노는 일상😌 https://youtu.be/TyvCHYdu3HY&pp 쏘노울 sSoNobySoul 브이로그\n"
     ]
    },
    {
     "name": "stderr",
     "output_type": "stream",
     "text": [
      " 69%|██████▉   | 185/269 [00:57<00:26,  3.16it/s]"
     ]
    },
    {
     "name": "stdout",
     "output_type": "stream",
     "text": [
      "184 30세 이혜인, 첫 독립을 하다🏠 | 자취 브이로그 | 부이록 대하드라마 | 혜인, VLOG https://youtu.be/3V9dnECmY_M&pp 혜인 heimish 브이로그\n"
     ]
    },
    {
     "name": "stderr",
     "output_type": "stream",
     "text": [
      " 69%|██████▉   | 186/269 [00:57<00:25,  3.23it/s]"
     ]
    },
    {
     "name": "stdout",
     "output_type": "stream",
     "text": [
      "185 유지 브이로그) 여행 가서 많이 먹더라도 운동은 꾸준히 하는 일상 (강릉여행, 강릉 맛집 추천, 다이어트 브이로그, 작심랩 콤부차, 후토마끼 레시피, 다이어트 식단) https://youtu.be/uoVNCSAVq4o&pp 나나 Nanasserie 브이로그\n"
     ]
    },
    {
     "name": "stderr",
     "output_type": "stream",
     "text": [
      " 70%|██████▉   | 187/269 [00:58<00:28,  2.86it/s]"
     ]
    },
    {
     "name": "stdout",
     "output_type": "stream",
     "text": [
      "186 vlog * 피시방 알바 브이로그 | 어려분 유튜브에 죄송하지만 브이로그 하나만 올리갯습니다 https://youtu.be/p7-1cBSNYrk&pp 도민이 브이로그\n"
     ]
    },
    {
     "name": "stderr",
     "output_type": "stream",
     "text": [
      " 70%|██████▉   | 188/269 [00:58<00:29,  2.75it/s]"
     ]
    },
    {
     "name": "stdout",
     "output_type": "stream",
     "text": [
      "187 [vlog]프리랜서 일상 브이로그ㅣ밥 먹고 카페가는 똑같지만 즐거운 일상ㅣ여전히 붕어빵이 좋아ㅣ파이토웨이 써큐시안ㅣ콜레스테롤 관리 https://youtu.be/Ynx6L9U7m0A&pp 가한나 브이로그\n"
     ]
    },
    {
     "name": "stderr",
     "output_type": "stream",
     "text": [
      " 70%|███████   | 189/269 [00:59<00:27,  2.89it/s]"
     ]
    },
    {
     "name": "stdout",
     "output_type": "stream",
     "text": [
      "188 다이어트 브이로그 이렇게 하는건가? https://youtu.be/iPUj_nIfweI&pp 옆집간호사 구슬언니 브이로그\n"
     ]
    },
    {
     "name": "stderr",
     "output_type": "stream",
     "text": [
      " 71%|███████   | 190/269 [00:59<00:26,  2.96it/s]"
     ]
    },
    {
     "name": "stdout",
     "output_type": "stream",
     "text": [
      "189 국가대표 13년차의 N번째 출국 🛫🇯🇵 https://youtu.be/mqI5Q3RuX00&pp YOMMIE 요미  브이로그\n"
     ]
    },
    {
     "name": "stderr",
     "output_type": "stream",
     "text": [
      " 71%|███████   | 191/269 [00:59<00:26,  3.00it/s]"
     ]
    },
    {
     "name": "stdout",
     "output_type": "stream",
     "text": [
      "190 방콕 브이로그🇹🇭 | 이렇게 폭망한 여행 보신 분?😢 (여행적금, 대환장폭우, 현지인 찐맛집, 푸켓 반얀트리) https://youtu.be/esWJOoPkC0c&pp 뿅글이 브이로그\n"
     ]
    },
    {
     "name": "stderr",
     "output_type": "stream",
     "text": [
      " 71%|███████▏  | 192/269 [00:59<00:24,  3.14it/s]"
     ]
    },
    {
     "name": "stdout",
     "output_type": "stream",
     "text": [
      "191 16살 차 커플vlog| 찐 일상이 담긴 4박 5일 완도 여행🌊단백질 귀신👻, 두부 요리, 완도 핵맛집!🥩 https://youtu.be/LqKn6_Rhxls&pp 빙빙이와 도아미 브이로그\n"
     ]
    },
    {
     "name": "stderr",
     "output_type": "stream",
     "text": [
      " 72%|███████▏  | 193/269 [01:00<00:24,  3.10it/s]"
     ]
    },
    {
     "name": "stdout",
     "output_type": "stream",
     "text": [
      "192 븐이의 일상 브이로그 #50 | 홈메이드 #샌드위치 레시피🥪 | 유퀴즈 김현준 작가님 북토크 📚 |#올영세일 추천템 | 바버 (barbor)자켓 | 더글로리 파트2 https://youtu.be/DmJf0MGJ0DA&pp 븐이 브이로그\n"
     ]
    },
    {
     "name": "stderr",
     "output_type": "stream",
     "text": [
      " 72%|███████▏  | 194/269 [01:00<00:24,  3.12it/s]"
     ]
    },
    {
     "name": "stdout",
     "output_type": "stream",
     "text": [
      "193 VLOG 연휴 브이로그, 2주만에 돌아왔어요🖐 https://youtu.be/lvyfFCUsnUY&pp 제둥VLOG 브이로그\n"
     ]
    },
    {
     "name": "stderr",
     "output_type": "stream",
     "text": [
      " 72%|███████▏  | 195/269 [01:00<00:22,  3.23it/s]"
     ]
    },
    {
     "name": "stdout",
     "output_type": "stream",
     "text": [
      "194 [vlog::17] 성수 메종파이브그라운드, 보마켓, 서울숲 사슴, 감도, 마켓컬리 식빵 취향찾기, 에르제 원데이, 케이크만들기 https://youtu.be/aSkTBiLmUHk&pp Roselia 로젤리아 브이로그\n"
     ]
    },
    {
     "name": "stderr",
     "output_type": "stream",
     "text": [
      " 73%|███████▎  | 196/269 [01:01<00:22,  3.25it/s]"
     ]
    },
    {
     "name": "stdout",
     "output_type": "stream",
     "text": [
      "195 VLOG🎄커플들 사이, 아싸의 혼자놀기 브이로그.. https://youtu.be/GIef7dVeGnI&pp 보미름 브이로그\n"
     ]
    },
    {
     "name": "stderr",
     "output_type": "stream",
     "text": [
      " 73%|███████▎  | 197/269 [01:01<00:22,  3.20it/s]"
     ]
    },
    {
     "name": "stdout",
     "output_type": "stream",
     "text": [
      "196 [VLOG] EP01_ 안성 캠핑장 (산우물쉼터오토캠핑장) with Pyo, Woo https://youtu.be/oQQV5_w6fcY&pp RORO 브이로그\n"
     ]
    },
    {
     "name": "stderr",
     "output_type": "stream",
     "text": [
      " 74%|███████▎  | 198/269 [01:01<00:21,  3.26it/s]"
     ]
    },
    {
     "name": "stdout",
     "output_type": "stream",
     "text": [
      "197 🇺🇸 미국 브이로그 ep.12 | 캘리포니아 브이로그 | 셀프(?)세차 🧼 | 잠바주스 🥭 망고 스무디 | chili's 칠리스 🌶️ | 미국 VLOG | 미국 일상 브이로그 https://youtu.be/WP9ct4oB-pg&pp hamzzi 햄찌 브이로그\n"
     ]
    },
    {
     "name": "stderr",
     "output_type": "stream",
     "text": [
      " 74%|███████▍  | 199/269 [01:02<00:20,  3.36it/s]"
     ]
    },
    {
     "name": "stdout",
     "output_type": "stream",
     "text": [
      "198 아무도 없는 사무실에 혼자 일하는 브이로그 | 주말 당직 근무 직장인 VLOG | 3시간 웨이팅 맛집 3곳,, 런던베이글, 리스카페, 한강, 가족모임 | 일상 Vlog | 새니 https://youtu.be/OjjOnDuY6vw&pp 새니 SENI 브이로그\n"
     ]
    },
    {
     "name": "stderr",
     "output_type": "stream",
     "text": [
      " 74%|███████▍  | 200/269 [01:02<00:20,  3.33it/s]"
     ]
    },
    {
     "name": "stdout",
     "output_type": "stream",
     "text": [
      "199 [VLOG] 밥먹고 일하고 재택하고 운동하는 직장인💦ㅣ샘플옷, 조기퇴근, 자몽청, 알리오올리오파스타, 컬리 언박싱 https://youtu.be/_fKNqgvdZmw&pp 토리아 toria 브이로그\n"
     ]
    },
    {
     "name": "stderr",
     "output_type": "stream",
     "text": [
      " 75%|███████▍  | 201/269 [01:02<00:21,  3.22it/s]"
     ]
    },
    {
     "name": "stdout",
     "output_type": "stream",
     "text": [
      "200 고2 수시러의 평일 10시간 공부 브이로그 :  큐비 북스로 자투리 시간 활용하기 / 학교 브이로그 / 무료 문제집 / 큐비 https://youtu.be/SGj2Yq4BWyw&pp 정서 브이로그\n"
     ]
    },
    {
     "name": "stderr",
     "output_type": "stream",
     "text": [
      " 75%|███████▌  | 202/269 [01:03<00:21,  3.18it/s]"
     ]
    },
    {
     "name": "stdout",
     "output_type": "stream",
     "text": [
      "201 시카고 직장인 일상 브이로그✨ 퇴근 후 가기 좋은 네추럴 와인바 | 드디어 봄 피크닉! | 미국 디자이너 일상 https://youtu.be/5Ijx1cjkGmg&pp 디데이DeeDay 브이로그\n"
     ]
    },
    {
     "name": "stderr",
     "output_type": "stream",
     "text": [
      " 75%|███████▌  | 203/269 [01:03<00:20,  3.27it/s]"
     ]
    },
    {
     "name": "stdout",
     "output_type": "stream",
     "text": [
      "202 vlog 일상 브이로그 🥗 다이어트 시작과 쫌쫌따리 일상들, 그리고 유튜브 1주년 감사합니다 ...💗 ͜ (ᵔ ̮ ᵔ)› https://youtu.be/s4MbRVjTlVo&pp 민제 meenje 브이로그\n"
     ]
    },
    {
     "name": "stderr",
     "output_type": "stream",
     "text": [
      " 76%|███████▌  | 204/269 [01:03<00:21,  2.98it/s]"
     ]
    },
    {
     "name": "stdout",
     "output_type": "stream",
     "text": [
      "203 소소한 미국 일상 브이로그 | 외국에서도 김밥 싸서 등산하는 한국인,,,⛰️. 최애동네 조지타운 나들이. 언박싱(더로우 긴자샌들, 더그란 수건, 지승민의 공기) https://youtu.be/zXkGfZYlt7Q&pp Cece Kim 브이로그\n"
     ]
    },
    {
     "name": "stderr",
     "output_type": "stream",
     "text": [
      " 76%|███████▌  | 205/269 [01:04<00:20,  3.13it/s]"
     ]
    },
    {
     "name": "stdout",
     "output_type": "stream",
     "text": [
      "204 [vlog::09] 팔래드신, 소피텔 쟈뎅디베르, 젤라띠젤라띠, 잠수교집, 석촌호수 밉, 구선왕도고, 바티망전시 https://youtu.be/BL2u8nX5eVc&pp Roselia 로젤리아 브이로그\n"
     ]
    },
    {
     "name": "stderr",
     "output_type": "stream",
     "text": [
      " 77%|███████▋  | 206/269 [01:04<00:20,  3.14it/s]"
     ]
    },
    {
     "name": "stdout",
     "output_type": "stream",
     "text": [
      "205 인생은 왜 이리 힘들까요? 회의감에 펑펑 울어버린.. | 기사로 정부 제도 바꾼 뿌듯한 날! | 직장인 기자 브이로그 | 새니 https://youtu.be/TO6i9iskSuE&pp 새니 SENI 브이로그\n"
     ]
    },
    {
     "name": "stderr",
     "output_type": "stream",
     "text": [
      " 77%|███████▋  | 207/269 [01:04<00:20,  3.05it/s]"
     ]
    },
    {
     "name": "stdout",
     "output_type": "stream",
     "text": [
      "206 27개월 공주님과👑 함께한 인생 마지막(?) 드레스! 둘째 만삭 촬영 VLOG ｜만삭 스튜디오 촬영, 홈케어, 청담동 메이크업, 만삭 브이로그 https://youtu.be/049PzYvsycU&pp 최희로그 CHOI-HEE LOG 브이로그\n"
     ]
    },
    {
     "name": "stderr",
     "output_type": "stream",
     "text": [
      " 77%|███████▋  | 208/269 [01:04<00:19,  3.18it/s]"
     ]
    },
    {
     "name": "stdout",
     "output_type": "stream",
     "text": [
      "207 VLOG | 쌍둥이랑 학교 째고 브이로그 😎 24시간 밀착! | 구독자 이벤트도 있다 (feat. 츠바키 샴푸, 아떼) https://youtu.be/rM1Rxx9U-vA&pp 보미름 브이로그\n"
     ]
    },
    {
     "name": "stderr",
     "output_type": "stream",
     "text": [
      " 78%|███████▊  | 209/269 [01:05<00:18,  3.20it/s]"
     ]
    },
    {
     "name": "stdout",
     "output_type": "stream",
     "text": [
      "208 등산 VLOG | 꽃봄에 보는 겨울산 | 덕유산 향적봉, 지리산 바래봉 | 운동 브이로그 | 혜인, VLOG https://youtu.be/9H5sqAuIW1k&pp 혜인 heimish 브이로그\n"
     ]
    },
    {
     "name": "stderr",
     "output_type": "stream",
     "text": [
      " 78%|███████▊  | 210/269 [01:05<00:18,  3.24it/s]"
     ]
    },
    {
     "name": "stdout",
     "output_type": "stream",
     "text": [
      "209 직장인 브이로그ㅣ인생 첫 리프테라ㅣ브라이덜 샤워ㅣ샤넬 클래식 지갑 은장ㅣ먹고 먹고 또 먹고 🍔 (오스테리아 리오,허니콤보,한남 오아시스)ㅣ현실 다이슨 스타일러ㅣ일주일 출근룩 https://youtu.be/-PCcdjIaAc4&pp 미리다 브이로그\n"
     ]
    },
    {
     "name": "stderr",
     "output_type": "stream",
     "text": [
      " 78%|███████▊  | 211/269 [01:05<00:18,  3.19it/s]"
     ]
    },
    {
     "name": "stdout",
     "output_type": "stream",
     "text": [
      "210 [VLOG]자취 브이로그 가을맞이 대청소🧹자취템 추천 / 복층 오피스텔 청소 | 헤이미 HEYMII https://youtu.be/mVOzVNOYUBQ&pp 헤이미 HEYMII 브이로그\n"
     ]
    },
    {
     "name": "stderr",
     "output_type": "stream",
     "text": [
      " 79%|███████▉  | 212/269 [01:06<00:17,  3.21it/s]"
     ]
    },
    {
     "name": "stdout",
     "output_type": "stream",
     "text": [
      "211 VLOGㅣ일어나~ 운동가야지😏 K-직장인의 아침 헬스 브이로그ㅣ직장인 운동 브이로그ㅣ구독자 이벤트 있음 https://youtu.be/cm9YkRQjxGM&pp 율무차 브이로그\n"
     ]
    },
    {
     "name": "stderr",
     "output_type": "stream",
     "text": [
      " 79%|███████▉  | 213/269 [01:06<00:17,  3.15it/s]"
     ]
    },
    {
     "name": "stdout",
     "output_type": "stream",
     "text": [
      "212 (Vlog) 결혼 3년차 드디어 임밍아웃!! ㅣ난임이라더니 한번에?ㅣ남편의 반응ㅣ 태명공개ㅣ임신 초기 4주차 브이로그 https://youtu.be/2gGSqaK0qg4&pp 오늘나래 onl narae  브이로그\n"
     ]
    },
    {
     "name": "stderr",
     "output_type": "stream",
     "text": [
      " 80%|███████▉  | 214/269 [01:06<00:16,  3.25it/s]"
     ]
    },
    {
     "name": "stdout",
     "output_type": "stream",
     "text": [
      "213 (sub) 먹방같지만 브이로그 입니다. 3박 4일 대만 여행 브이로그 (대만식 아침식사, 훠궈 무한리필, 존맛 디저트, 스린 야시장) https://youtu.be/4aUH6KhVVT4&pp bbomni 뽐니 브이로그\n"
     ]
    },
    {
     "name": "stderr",
     "output_type": "stream",
     "text": [
      " 80%|███████▉  | 215/269 [01:07<00:16,  3.28it/s]"
     ]
    },
    {
     "name": "stdout",
     "output_type": "stream",
     "text": [
      "214 동거 일상 브이로그 | 🥙포케 만들어 먹고 밤산책할래?🥙 / 현실동거/포케만들기/장보기 https://youtu.be/vnovxNjKzNs&pp 다비빅 Davivik 브이로그\n"
     ]
    },
    {
     "name": "stderr",
     "output_type": "stream",
     "text": [
      " 80%|████████  | 216/269 [01:07<00:16,  3.19it/s]"
     ]
    },
    {
     "name": "stdout",
     "output_type": "stream",
     "text": [
      "215 [VLOG] 스위스 여행 브이로그🇨🇭|고소공포증이 융프라우 가면 생기는 일😭|스위스에서 령둥이들과 팬밋업(?) |성공적인 맛집투어(한식당,치즈퐁듀,초콜릿) https://youtu.be/I5vNFW27SYs&pp 령령 Ryeongryeong 브이로그\n"
     ]
    },
    {
     "name": "stderr",
     "output_type": "stream",
     "text": [
      " 81%|████████  | 217/269 [01:07<00:15,  3.31it/s]"
     ]
    },
    {
     "name": "stdout",
     "output_type": "stream",
     "text": [
      "216 VLOG 강사 브이로그👩🏻‍🏫 | 점심시간 갓생살기☕️ | 운동 자극 브이로그🏃🏻‍♀️ | 1부이록 2마라톤 | 이직성공 | 혜인, VLOG https://youtu.be/plXzIL8w6RM&pp 혜인 heimish 브이로그\n"
     ]
    },
    {
     "name": "stderr",
     "output_type": "stream",
     "text": [
      " 81%|████████  | 218/269 [01:08<00:15,  3.32it/s]"
     ]
    },
    {
     "name": "stdout",
     "output_type": "stream",
     "text": [
      "217 eng) [VLOG] 직장인브이로그ㅣ짧은 일주일ㅣ바쁘다 바빠 현대사회💦ㅣ시할머님 별세😥, 야근, 신년회 https://youtu.be/zIaJtpAOltQ&pp 토리아 toria 브이로그\n"
     ]
    },
    {
     "name": "stderr",
     "output_type": "stream",
     "text": [
      " 81%|████████▏ | 219/269 [01:08<00:15,  3.17it/s]"
     ]
    },
    {
     "name": "stdout",
     "output_type": "stream",
     "text": [
      "218 직장인 브이로그. 출근 전 모닝노트, 경제 신문, 아로마 오일 소개 💆🏻‍♀️ 오트밀 닭죽해먹고 운동하는 일상 https://youtu.be/Gx9VVcjS1CE&pp yebaksa 예박사 브이로그\n"
     ]
    },
    {
     "name": "stderr",
     "output_type": "stream",
     "text": [
      " 82%|████████▏ | 220/269 [01:08<00:15,  3.07it/s]"
     ]
    },
    {
     "name": "stdout",
     "output_type": "stream",
     "text": [
      "219 캠핑 브이로그 . 쫄보 강아지와 차없이 떠난 재밌는 섬 여행 . 장봉도 백패킹 . 바다 파도소리 ASMR https://youtu.be/fUsPrZ7XfH4&pp 류캠프 RYUCAMP 브이로그\n"
     ]
    },
    {
     "name": "stderr",
     "output_type": "stream",
     "text": [
      " 82%|████████▏ | 221/269 [01:09<00:16,  2.96it/s]"
     ]
    },
    {
     "name": "stdout",
     "output_type": "stream",
     "text": [
      "220 직장인 VLOG/ 일상브이로그 (왜 다 결혼?ㅠㅣ아무튼 또 출근..ㅣ미니 룸투어ㅣ축무연습ㅣ마켓비 조립ㅣ100시간 크림ㅣ프로타주 펜슬) https://youtu.be/ibfxW4b3vXo&pp MARONG 마롱 브이로그\n"
     ]
    },
    {
     "name": "stderr",
     "output_type": "stream",
     "text": [
      " 83%|████████▎ | 222/269 [01:09<00:16,  2.82it/s]"
     ]
    },
    {
     "name": "stdout",
     "output_type": "stream",
     "text": [
      "221 VLOG 봄이 너무 좋은 사람의 일상 브이로그...🌼 서촌 나들이, 그린얼루어 행사, 왕맛있는 남산왕돈까스, 리경씌 생일 축하해 https://youtu.be/9a8XZZ5-hR0&pp Joohana 주하나 브이로그\n"
     ]
    },
    {
     "name": "stderr",
     "output_type": "stream",
     "text": [
      " 83%|████████▎ | 223/269 [01:09<00:15,  2.89it/s]"
     ]
    },
    {
     "name": "stdout",
     "output_type": "stream",
     "text": [
      "222 올해가 가기전 카이막 먹기 성공! 🥧크리스마스 쿠키 만들고 🍅토마토 카레 만들기 브이로그 VLOG https://youtu.be/ZLWXeOcoDpc&pp 규리 KYULEE 브이로그\n"
     ]
    },
    {
     "name": "stderr",
     "output_type": "stream",
     "text": [
      " 83%|████████▎ | 224/269 [01:10<00:16,  2.74it/s]"
     ]
    },
    {
     "name": "stdout",
     "output_type": "stream",
     "text": [
      "223 혼란하다 혼란해.. 일상 짜집기 브이로그 Vlog | 전다니Dany https://youtu.be/R76c2yOf_nw&pp 전다니Dany 브이로그\n"
     ]
    },
    {
     "name": "stderr",
     "output_type": "stream",
     "text": [
      " 84%|████████▎ | 225/269 [01:10<00:15,  2.90it/s]"
     ]
    },
    {
     "name": "stdout",
     "output_type": "stream",
     "text": [
      "224 [VLOG] 일상 브이로그 🫧 | new 팝업 알바 | 팥앙금 만들기 | 겟레디윗미 | 요거트보울 | https://youtu.be/b0b0iJjreW4&pp 물맹두M 브이로그\n"
     ]
    },
    {
     "name": "stderr",
     "output_type": "stream",
     "text": [
      " 84%|████████▍ | 226/269 [01:10<00:14,  2.94it/s]"
     ]
    },
    {
     "name": "stdout",
     "output_type": "stream",
     "text": [
      "225 VLOG 일상 브이로그ㅣ국가시험반 19살 미용학원 보조강사🐤 https://youtu.be/ZPUi9W0_wdo&pp 임보영 브이로그\n"
     ]
    },
    {
     "name": "stderr",
     "output_type": "stream",
     "text": [
      " 84%|████████▍ | 227/269 [01:11<00:13,  3.05it/s]"
     ]
    },
    {
     "name": "stdout",
     "output_type": "stream",
     "text": [
      "226 국내 3위 의대 수석 졸업자는 누굴까? | 너무 힘들어서 혼술함ㅎ | 달바 괄사 후기, 생방송 출연, 10년지기 친구들, 새 부서 적응, 방송기자 직장인 브이로그 | 새니 https://youtu.be/UWE3sa1JKVk&pp 새니 SENI 브이로그\n"
     ]
    },
    {
     "name": "stderr",
     "output_type": "stream",
     "text": [
      " 85%|████████▍ | 228/269 [01:11<00:13,  2.98it/s]"
     ]
    },
    {
     "name": "stdout",
     "output_type": "stream",
     "text": [
      "227 Vlog. 9월 마지막 브이로그 | 고양이 키우고 싶은 사람🙋🏻‍♀️| 반려묘 셀프 미용 | 포토이즘 | 아말피커피 | 전주 비화실 | 웨딩 드레스쇼 | 어썸케이크 | 마켓컬리 https://youtu.be/aQc5Oyzgpmk&pp Iamjuue아이엠주 브이로그\n"
     ]
    },
    {
     "name": "stderr",
     "output_type": "stream",
     "text": [
      " 85%|████████▌ | 229/269 [01:11<00:13,  3.07it/s]"
     ]
    },
    {
     "name": "stdout",
     "output_type": "stream",
     "text": [
      "228 싱그러운 봄💚일주일 VLOG🌸 | 민지랑데이트, 벚꽃 구경, 운동, 한강 나들이 https://youtu.be/uJAcKMxbYPE&pp 신지연 SHIN JIYEON 브이로그\n"
     ]
    },
    {
     "name": "stderr",
     "output_type": "stream",
     "text": [
      " 86%|████████▌ | 230/269 [01:12<00:12,  3.14it/s]"
     ]
    },
    {
     "name": "stdout",
     "output_type": "stream",
     "text": [
      "229 해산물 먹방 브이로그 | 혼자 신나서 또 만취했네요😵 아나고회 간장게장 꽃게무침 통문어 라면 게장국수 대선 소주 먹방 Alcohol mukbang vlog https://youtu.be/34vTfR2KTlU&pp 세라는 술말려 브이로그\n"
     ]
    },
    {
     "name": "stderr",
     "output_type": "stream",
     "text": [
      " 86%|████████▌ | 231/269 [01:12<00:11,  3.19it/s]"
     ]
    },
    {
     "name": "stdout",
     "output_type": "stream",
     "text": [
      "230 미국 출장 준비 브이로그 | 사내 기자상, 출장 준비물 가방 싸기, 출국, 출입처 바뀜, 인천공항 | 직장인 기자 일상 브이로그 | 새니 https://youtu.be/ESwGRRJ4jOE&pp 새니 SENI 브이로그\n"
     ]
    },
    {
     "name": "stderr",
     "output_type": "stream",
     "text": [
      " 86%|████████▌ | 232/269 [01:12<00:12,  2.95it/s]"
     ]
    },
    {
     "name": "stdout",
     "output_type": "stream",
     "text": [
      "231 [VLOG] 열심히 재택하는 직장인🏡(?)ㅣ집밥 레벨 Lv.2 승급🍚ㅣ컬리 언박싱🛒ㅣ옷 샘플 촬영📸ㅣ연어스테이크, 신라면파스타, 달걀말이, 두부조림, 된장찌개, 삼각김밥 https://youtu.be/ziSr8vdLYjo&pp 토리아 toria 브이로그\n"
     ]
    },
    {
     "name": "stderr",
     "output_type": "stream",
     "text": [
      " 87%|████████▋ | 233/269 [01:13<00:12,  2.98it/s]"
     ]
    },
    {
     "name": "stdout",
     "output_type": "stream",
     "text": [
      "232 [VLOG] 일상 브이로그 | 메이크업샵 | 압구정 찐맛집 | 훠궈소스 꿀조합 | 당일치기 글램핑 | 팬밋업 | 갓생 브이로그 | 라이브커머스 | 신혼부부 브이로그 | 재유JEYU https://youtu.be/PaqrCDoulsc&pp 재유JEYU 브이로그\n"
     ]
    },
    {
     "name": "stderr",
     "output_type": "stream",
     "text": [
      " 87%|████████▋ | 234/269 [01:13<00:12,  2.90it/s]"
     ]
    },
    {
     "name": "stdout",
     "output_type": "stream",
     "text": [
      "233 언니 퇴근길에 떡볶이 픽업해와~❤ 우리할매떡볶이 마라떡볶이, 가래떡떡볶이, 순대, 마라로제떡볶이, 라볶이, 진주 땡초김밥, 그래놀라, 감자튀김 먹방 브이로그 Mukbang Vlog https://youtu.be/uLghMnYGFEI&pp 효비HyoBee 브이로그\n"
     ]
    },
    {
     "name": "stderr",
     "output_type": "stream",
     "text": [
      " 87%|████████▋ | 235/269 [01:13<00:11,  2.89it/s]"
     ]
    },
    {
     "name": "stdout",
     "output_type": "stream",
     "text": [
      "234 [vlog::12] 온혜화, 대상포진+코로나🤒, 파티세리폰드 2022 어드벤트캘린더, 청기와, 크럼버스 https://youtu.be/wRcox1BSlIA&pp Roselia 로젤리아 브이로그\n"
     ]
    },
    {
     "name": "stderr",
     "output_type": "stream",
     "text": [
      " 88%|████████▊ | 236/269 [01:14<00:12,  2.67it/s]"
     ]
    },
    {
     "name": "stdout",
     "output_type": "stream",
     "text": [
      "235 찜질팩 해드리니 녹아내리시는군요🫶🏻 #고양이 #고양이브이로그 #고양이집사 #뚱냥이 #아이폰14프로 #고양이영상 #고양이일상 #브이로그 #iphone14pro  #겸둥이 #냥이 https://youtu.be/fe5UQxm8ctA 꼬니스토리 브이로그\n"
     ]
    },
    {
     "name": "stderr",
     "output_type": "stream",
     "text": [
      " 88%|████████▊ | 237/269 [01:14<00:11,  2.67it/s]"
     ]
    },
    {
     "name": "stdout",
     "output_type": "stream",
     "text": [
      "236 vlog | 일상 브이로그 | 직장인 브이로그 | ootd | 필라테스 | 아쿠아리움 | new 가방 | new 그립톡 | 당근 김밥 | 광어회 | 미리 생일파티 | 아이폰 컴백 https://youtu.be/PMIZug_oGi0&pp 현갱 브이로그\n"
     ]
    },
    {
     "name": "stderr",
     "output_type": "stream",
     "text": [
      " 88%|████████▊ | 238/269 [01:15<00:11,  2.80it/s]"
     ]
    },
    {
     "name": "stdout",
     "output_type": "stream",
     "text": [
      "237 (eng) 집순민정 다이어리 : 운동과 쇼핑, 독서, 일하는 멍집사🐾 일상 At home vlog https://youtu.be/Fyzuz8ocFTY&pp Minjeong Park 브이로그\n"
     ]
    },
    {
     "name": "stderr",
     "output_type": "stream",
     "text": [
      " 89%|████████▉ | 239/269 [01:15<00:10,  2.84it/s]"
     ]
    },
    {
     "name": "stdout",
     "output_type": "stream",
     "text": [
      "238 Vlog | 일상 브이로그 | 플로리스트 자매 하루 | 일개미들이 보내는 연말 | 페인트칠 | 밀키트 파스타와 다이어트 피넛버터에 반하다 | 크리스마스 트리 설치 | 명동성당 미사 https://youtu.be/hX80t6z0p8Q&pp 라파지블 La Paisible - 자매 브이로그 브이로그\n"
     ]
    },
    {
     "name": "stderr",
     "output_type": "stream",
     "text": [
      " 89%|████████▉ | 240/269 [01:15<00:10,  2.71it/s]"
     ]
    },
    {
     "name": "stdout",
     "output_type": "stream",
     "text": [
      "239 vlog | 브이로그가 돌아왔다!🎶 #vlog #브이로그 #일상 #일상브이로그 #프리랜서일상 #댄서브이로그 #일주일브이로그 #꿀잼 #아이폰14사전예약 #쪼과니 #언박싱 https://youtu.be/1wI2moGmm9g&pp 쪼과니 브이로그\n"
     ]
    },
    {
     "name": "stderr",
     "output_type": "stream",
     "text": [
      " 90%|████████▉ | 241/269 [01:16<00:10,  2.77it/s]"
     ]
    },
    {
     "name": "stdout",
     "output_type": "stream",
     "text": [
      "240 드디어 퍼스널컬러 진단했는데.. 충격ㅣ직장인 주말 브이로그ㅣ진단받고 바로 염색하고 왔어요  💇🏻‍♀️ㅣ스트로베리32 망고 케익🥭ㅣ클렌징부터 라이트 루틴까지ㅣ클렌징폼 추천ㅣ패드 추천 https://youtu.be/CbkMn7D27hc&pp 미리다 브이로그\n"
     ]
    },
    {
     "name": "stderr",
     "output_type": "stream",
     "text": [
      " 90%|████████▉ | 242/269 [01:16<00:09,  2.97it/s]"
     ]
    },
    {
     "name": "stdout",
     "output_type": "stream",
     "text": [
      "241 eng) [VLOG] 직장인브이로그ㅣ우마카세 회식ㅣPX에서 장보면 완전 쌈💵ㅣ크리스마스 명동성당🎄 https://youtu.be/2l7QG7F_1E0&pp 토리아 toria 브이로그\n"
     ]
    },
    {
     "name": "stderr",
     "output_type": "stream",
     "text": [
      " 90%|█████████ | 243/269 [01:16<00:08,  3.11it/s]"
     ]
    },
    {
     "name": "stdout",
     "output_type": "stream",
     "text": [
      "242 DIET VLOG 바디프로필 준비 2주차 브이로그, 다이어트 꿀 어플 추천🤍 (PT, 폴댄스, 닭가슴살 추천) https://youtu.be/WizK0nuQ2-g&pp 안아란anaran 브이로그\n"
     ]
    },
    {
     "name": "stderr",
     "output_type": "stream",
     "text": [
      " 91%|█████████ | 244/269 [01:16<00:07,  3.15it/s]"
     ]
    },
    {
     "name": "stdout",
     "output_type": "stream",
     "text": [
      "243 [vlog] 일상 브이로그 | 육아 브이로그 | 문센가고 이유식 먹다가 끝나는 영상 | 구독자님 만난 썰 | 8개월 원윅 너 뭐 돼? | 아기 엉덩이 클렌져, 포블랑시 https://youtu.be/bMkDR9Bp2E8&pp 비타숨 vitasoom 브이로그\n"
     ]
    },
    {
     "name": "stderr",
     "output_type": "stream",
     "text": [
      " 91%|█████████ | 245/269 [01:17<00:07,  3.22it/s]"
     ]
    },
    {
     "name": "stdout",
     "output_type": "stream",
     "text": [
      "244 [vlog] 직장인 브이로그 | 강릉출장, 생일 맞이 에버랜드, 무소음 꿀템 추천 | 아이리버 X 진로 무선 키보드 마우스 세트 | 직장인 출근룩 https://youtu.be/vRr0RNhx4cA&pp 민주 minjoo 브이로그\n"
     ]
    },
    {
     "name": "stderr",
     "output_type": "stream",
     "text": [
      " 91%|█████████▏| 246/269 [01:17<00:06,  3.33it/s]"
     ]
    },
    {
     "name": "stdout",
     "output_type": "stream",
     "text": [
      "245 김장은 핑계 / 김장김치와 수육 먹방 / 할머니집 / 엄마랑 쇼핑 / 할머니호박죽 https://youtu.be/H6KrVq8wyGA&pp 체콩순 브이로그\n"
     ]
    },
    {
     "name": "stderr",
     "output_type": "stream",
     "text": [
      " 92%|█████████▏| 247/269 [01:17<00:06,  3.27it/s]"
     ]
    },
    {
     "name": "stdout",
     "output_type": "stream",
     "text": [
      "246 [VLOG] 다 먹고 살자고 일하는 거 아니겠어요? 👩🏻‍🍳 | 약과쿠키, 불그리, 치킨, 칼국수, 맥도날드, 미역국, 볶음밥 | 먹방 브이로그 | MUKBANGVLOG https://youtu.be/3ZkrKkpYJrQ&pp 료링찾아삼만리 브이로그\n"
     ]
    },
    {
     "name": "stderr",
     "output_type": "stream",
     "text": [
      " 92%|█████████▏| 248/269 [01:18<00:06,  3.16it/s]"
     ]
    },
    {
     "name": "stdout",
     "output_type": "stream",
     "text": [
      "247 중요한 것은 꺾이지 않는 마음 https://youtu.be/TXbvg009X08&pp 우주쏘녀 브이로그\n"
     ]
    },
    {
     "name": "stderr",
     "output_type": "stream",
     "text": [
      " 93%|█████████▎| 249/269 [01:18<00:06,  3.29it/s]"
     ]
    },
    {
     "name": "stdout",
     "output_type": "stream",
     "text": [
      "248 신랑 39살 생일파티 브이로그 https://youtu.be/W1LlYpfFeJE&pp 이디모 브이로그\n"
     ]
    },
    {
     "name": "stderr",
     "output_type": "stream",
     "text": [
      " 93%|█████████▎| 250/269 [01:18<00:05,  3.33it/s]"
     ]
    },
    {
     "name": "stdout",
     "output_type": "stream",
     "text": [
      "249 직장인 브이로그ㅣ일주일 출근룩ㅣ입 터진 한 주 🍔ㅣ찐으로 효과본 셀프 치아미백제 추천ㅣ주말까지 일하고 집에서 요양하는 VLOGㅣ언박싱 이모저모 📦 https://youtu.be/yaaR9kl095M&pp 미리다 브이로그\n"
     ]
    },
    {
     "name": "stderr",
     "output_type": "stream",
     "text": [
      " 93%|█████████▎| 251/269 [01:19<00:05,  3.35it/s]"
     ]
    },
    {
     "name": "stdout",
     "output_type": "stream",
     "text": [
      "250 [VLOG] 1박 2일 강릉여행 브이로그/ 이번 여행도 매우 성공적🥰/ 강릉 뚜벅이 여행/ 강문해변/ 툇마루/ 두딩/ 애시당초/ 주룩주룩양조장 https://youtu.be/3WctNGCPjb0&pp 빵희당_사부작 사부작 브이로그\n"
     ]
    },
    {
     "name": "stderr",
     "output_type": "stream",
     "text": [
      " 94%|█████████▎| 252/269 [01:19<00:04,  3.45it/s]"
     ]
    },
    {
     "name": "stdout",
     "output_type": "stream",
     "text": [
      "251 븐이의 일상 브이로그 #44 | K직장인 출퇴근 | 얼그레이 하이볼🍹| 인터벌과 다이어트💪| 보조배터리 추천🔋| 영화 #교섭 | 오뎅바 | #더글로리 연진중독🫠 https://youtu.be/jtLd2ui-IrI&pp 븐이 브이로그\n"
     ]
    },
    {
     "name": "stderr",
     "output_type": "stream",
     "text": [
      " 94%|█████████▍| 253/269 [01:19<00:05,  3.03it/s]"
     ]
    },
    {
     "name": "stdout",
     "output_type": "stream",
     "text": [
      "252 취뽀했는데 인생 왜 그래요? | 제2의 박대기 기자 폭설 눈사람 스탠딩, 신촌 한복판에서 관종 | 구독자 시민인터뷰, SBS 다이어리, 경락 | 방송기자 직장인 브이로그 | 새니 https://youtu.be/K5nUquI3O_E&pp 새니 SENI 브이로그\n"
     ]
    },
    {
     "name": "stderr",
     "output_type": "stream",
     "text": [
      " 94%|█████████▍| 254/269 [01:20<00:04,  3.02it/s]"
     ]
    },
    {
     "name": "stdout",
     "output_type": "stream",
     "text": [
      "253 [공시생 브이로그] 우당탕탕 김너단 / #에듀윌공무원 / 필기구 소개 / 휴게소 여행 https://youtu.be/faSrUQfGmUw&pp 너단 UDAN 브이로그\n"
     ]
    },
    {
     "name": "stderr",
     "output_type": "stream",
     "text": [
      " 95%|█████████▍| 255/269 [01:20<00:04,  3.09it/s]"
     ]
    },
    {
     "name": "stdout",
     "output_type": "stream",
     "text": [
      "254 Vlog. 3년째 유지될 수 밖에 없는 이유🏋️ (존맛식단들 | 새로운 헬스장 | 뉴진스덕질 | 댄서들의풀파티) | 민스코 Minsco https://youtu.be/3U4vzx9ZQD4&pp Minsco 민스코 브이로그\n"
     ]
    },
    {
     "name": "stderr",
     "output_type": "stream",
     "text": [
      " 95%|█████████▌| 256/269 [01:20<00:04,  3.04it/s]"
     ]
    },
    {
     "name": "stdout",
     "output_type": "stream",
     "text": [
      "255 vlog • 일상 브이로그 | 직장인 브이로그 | 찜질방 | 연속 외근 | 여름 옷 쇼핑 (앤아더스토리즈, 미쏘) | 한강 회식 | 갈매기살, 마라탕, 신전떡볶이 | 필라테스 https://youtu.be/28THuEfttcE&pp 현갱 브이로그\n"
     ]
    },
    {
     "name": "stderr",
     "output_type": "stream",
     "text": [
      " 96%|█████████▌| 257/269 [01:21<00:03,  3.05it/s]"
     ]
    },
    {
     "name": "stdout",
     "output_type": "stream",
     "text": [
      "256 [VLOG] 직장인브이로그ㅣ3일이나 재택근무할 줄 몰랐어요🏡💦ㅣ디올 지수립밤 스트로베리 31, 낙원타코, 봉구스밥버거, 안성미팅 https://youtu.be/Tae1L2NcxAQ&pp 토리아 toria 브이로그\n"
     ]
    },
    {
     "name": "stderr",
     "output_type": "stream",
     "text": [
      " 96%|█████████▌| 258/269 [01:21<00:03,  3.11it/s]"
     ]
    },
    {
     "name": "stdout",
     "output_type": "stream",
     "text": [
      "257 VLOG 저 코 뚫었어요..👃🏻 갑자기 영종도 여행가고 코피어싱하는 즉흥인간의 삶, 에드워드 호퍼 전시, 자연도 소금빵, 오오티디 브이로그 https://youtu.be/XXUuSjEiITk&pp Joohana 주하나 브이로그\n"
     ]
    },
    {
     "name": "stderr",
     "output_type": "stream",
     "text": [
      " 96%|█████████▋| 259/269 [01:21<00:03,  3.14it/s]"
     ]
    },
    {
     "name": "stdout",
     "output_type": "stream",
     "text": [
      "258 [VLOG] 다녀온지 1년 뒤에 올리는 짱구야 캠핑가자! / 전시회 / 먹방 (크리스탈 제이드 소롱포, 짱구 카페) / 조카 / 육아 / 여행 https://youtu.be/UPvL8r4hFnQ&pp 소소하진 브이로그\n"
     ]
    },
    {
     "name": "stderr",
     "output_type": "stream",
     "text": [
      " 97%|█████████▋| 260/269 [01:22<00:02,  3.05it/s]"
     ]
    },
    {
     "name": "stdout",
     "output_type": "stream",
     "text": [
      "259 vlog 🥣 내 생일은 내가 챙긴다... 생일 주간 브이로그 | 피크닉 • 생일 케이크 만들기 • 선물 언박싱 🧃🎂🎀 https://youtu.be/C31wGCyWjg0&pp 민제 meenje 브이로그\n"
     ]
    },
    {
     "name": "stderr",
     "output_type": "stream",
     "text": [
      " 97%|█████████▋| 261/269 [01:22<00:02,  2.94it/s]"
     ]
    },
    {
     "name": "stdout",
     "output_type": "stream",
     "text": [
      "260 겨울맞이 인테리어 브이로그🌲(오늘의 집, 크리스마스 트리, 인테리어 소품) https://youtu.be/DSjEE8awxk8&pp Judylog 브이로그\n"
     ]
    },
    {
     "name": "stderr",
     "output_type": "stream",
     "text": [
      " 97%|█████████▋| 262/269 [01:22<00:02,  2.98it/s]"
     ]
    },
    {
     "name": "stdout",
     "output_type": "stream",
     "text": [
      "261 제주브이로그02) 겨울여행, 동백꽃 천국 카멜리야힐 🌺, 신화월드 랜딩관, 랜딩 다이닝 레스토랑, 조식, 신창풍차해안도로, 협재해수욕장, 그럼외도, 갈치조림 황해식당🐟 https://youtu.be/GahOpYLXpMw&pp 엘라의세상 Ella World 브이로그\n"
     ]
    },
    {
     "name": "stderr",
     "output_type": "stream",
     "text": [
      " 98%|█████████▊| 263/269 [01:23<00:01,  3.10it/s]"
     ]
    },
    {
     "name": "stdout",
     "output_type": "stream",
     "text": [
      "262 VLOG 대학생 브이로그ㅣ6시에 일어나서 학교가기ㅣ미용과 일상ㅣ일주일 코디 https://youtu.be/dwDtR-MZTMI&pp 임보영 브이로그\n"
     ]
    },
    {
     "name": "stderr",
     "output_type": "stream",
     "text": [
      " 98%|█████████▊| 264/269 [01:23<00:01,  3.07it/s]"
     ]
    },
    {
     "name": "stdout",
     "output_type": "stream",
     "text": [
      "263 VLOGㅣ직장인 브이로그ㅣ일상 브이로그ㅣ먹고 놀고 쉬고 반복한 설 연휴 🧧ㅣ또 또 먹방 (랍스터, 다금바리, 집밥, 야채곱창)ㅣ벌써 1주년 ❤️ㅣ연남동 에어비앤비ㅣ앤티크 카페 https://youtu.be/m1k1ulojU7Y&pp 미리다 브이로그\n"
     ]
    },
    {
     "name": "stderr",
     "output_type": "stream",
     "text": [
      " 99%|█████████▊| 265/269 [01:23<00:01,  2.95it/s]"
     ]
    },
    {
     "name": "stdout",
     "output_type": "stream",
     "text": [
      "264 직장인 갓생 브이로그, 건강한 자기계발 습관 만들기 https://youtu.be/Qda5WVgMt8w&pp yebaksa 예박사 브이로그\n"
     ]
    },
    {
     "name": "stderr",
     "output_type": "stream",
     "text": [
      " 99%|█████████▉| 266/269 [01:24<00:01,  2.99it/s]"
     ]
    },
    {
     "name": "stdout",
     "output_type": "stream",
     "text": [
      "265 [vlog] 일상 브이로그| 생일 주간 언박싱 | 디올 레이디백 언박싱| 첫 마라톤 | 강릉 여행| 번아웃 극복| 데일리룩 https://youtu.be/oIPa9Km9r1Q&pp 이개은 브이로그\n"
     ]
    },
    {
     "name": "stderr",
     "output_type": "stream",
     "text": [
      " 99%|█████████▉| 267/269 [01:24<00:00,  3.03it/s]"
     ]
    },
    {
     "name": "stdout",
     "output_type": "stream",
     "text": [
      "266 vlog. 직장인 브이로그. 학원강사. 블랙라벨 끄적끄적..✏️. 남자친구와 벌써 헤어지다니🥹. 서점 데이트. 여행 후 피부 진정관리🌱 / 수수 브이로그 https://youtu.be/9aQNy3cCXvQ&pp 수수 브이로그\n"
     ]
    },
    {
     "name": "stderr",
     "output_type": "stream",
     "text": [
      "100%|█████████▉| 268/269 [01:24<00:00,  3.03it/s]"
     ]
    },
    {
     "name": "stdout",
     "output_type": "stream",
     "text": [
      "267 동거 브이로그 | 아침식사와 도시락 메뉴는?😋오랜만에 만난 친구와 데이트하기😛 https://youtu.be/p3G-P_tLtt0&pp 다비빅 Davivik 브이로그\n"
     ]
    },
    {
     "name": "stderr",
     "output_type": "stream",
     "text": [
      "100%|██████████| 269/269 [01:25<00:00,  3.16it/s]"
     ]
    },
    {
     "name": "stdout",
     "output_type": "stream",
     "text": [
      "268 븐이의 일상 브이로그 #41 | #서울일러스트페어 | vllo 편집 | 최애 쇼핑몰 추천 #킨다베이지, #어베인 | 재택일상 | 스타벅스 2023 프리퀀시 | 팀호완 https://youtu.be/MwOdA98Bm_w&pp 븐이 브이로그\n"
     ]
    },
    {
     "name": "stderr",
     "output_type": "stream",
     "text": [
      "\n",
      " 20%|██        | 4/20 [00:00<00:00, 30.81it/s]"
     ]
    },
    {
     "name": "stdout",
     "output_type": "stream",
     "text": [
      "0 헬스 가성비 신발 BEST 3 유료광고 포함 https://youtu.be/1t9BiXhMHmI 추천모아 운동\n",
      "1 홈트 필수템 추천 BEST 3 유료광고 포함 exported https://youtu.be/Te2M72St3Xc 추천모아 운동\n",
      "2 [유료광고포함] 새벽 4시 기상해서 미국 하이틴으로 변신하기! 미드 유포리아 캐씨 모닝루틴 챌린지 💖 https://youtu.be/ejj-BAA7lwo&pp 해쭈 [HAEJOO] 운동\n",
      "3 다이어트 도시락 추천 BEST 3 유료광고 포함 https://youtu.be/rCEbapmtLE8 추천모아 운동\n",
      "4 [VLOG] 헬친놈 직장인,,1일 3헬스 루틴, 불금에도 원정헬스,, (짐박스 강남점) https://youtu.be/r4J74swqmFU&pp 인생이시트콤_고구마 VLOG 운동\n",
      "5 다이어트 보조제 추천 BEST 3 유료광고 포함 https://youtu.be/5-b98nq0zTA 추천모아 운동\n",
      "6 줄 스트랩 추천 BEST 3 (유료광고 포함) https://youtu.be/0kT4KEIfnCw 추천모아 운동\n",
      "7 가성비 짐웨어 헬스 양말 추천 유료광고 포함 exported https://youtu.be/XEQ8fuL_ROA 추천모아 운동\n"
     ]
    },
    {
     "name": "stderr",
     "output_type": "stream",
     "text": [
      " 60%|██████    | 12/20 [00:00<00:00, 29.91it/s]"
     ]
    },
    {
     "name": "stdout",
     "output_type": "stream",
     "text": [
      "8 훅 스트랩 추천 BEST3 (유료광고 포함) https://youtu.be/4neNOSCSWG4 추천모아 운동\n",
      "9 OOTD VLOG! 빈티지 쇼핑하고 식물도 사고 비건 지향 식사와 운동을 하였습니다.. 그리하여 나는 건강걸로 다시 태어남 (유료광고) https://youtu.be/PbnY8ueDG5Q&pp Susan, 운동\n",
      "10 VLOGㅣ그래서 운동은요?? 업무 과다 스트레스 탄수화물 파티의 한 주ㅣ타락한 직장인 운동 브이로그ㅣ직장인 아침 헬스 브이로그 https://youtu.be/FK-0U2niNRM&pp 율무차 운동\n",
      "11 요즘 운동할 때 무슨 노래 들어? (feat. 전민기) #빅데이터  | 유료광고포함 https://youtu.be/761cMr1NlCs&pp KBS 스포츠 운동\n",
      "12 바뀐 후, 조회수 630만회 쇼츠 수익 https://youtu.be/fzYrzsdABOM 실수투성이고 외로운 나를 봐 운동\n",
      "13 작성자가 먹어 본 프로틴 추천 BEST 3 유료광고 포함 https://youtu.be/TRIWJFM_euk 추천모아 운동\n"
     ]
    },
    {
     "name": "stderr",
     "output_type": "stream",
     "text": [
      "100%|██████████| 20/20 [00:00<00:00, 29.69it/s]"
     ]
    },
    {
     "name": "stdout",
     "output_type": "stream",
     "text": [
      "14 [유료광고] 단기간 다이어트 인터벌트레이닝 - 제품 관련 정보는 고정댓글📌 https://youtu.be/FE-CiwQbnQg eing? 운동\n",
      "15 24시간 동안 4번 운동하기 (지옥 하체루틴) feat.아디다스 https://youtu.be/QZwaVAhYVss&pp 제이제이살롱드핏 운동\n",
      "16 열심히 운동해도 옷만 입으면 몸 안좋아지는 사람✋(이유+방법) https://youtu.be/d4ZDxKWVRpQ&pp 성철봉 운동\n",
      "17 여동생이 넷플릭스에 나온 건에 대하여,,, https://youtu.be/e_a9OSV8GJ8&pp 피지컬갤러리 운동\n",
      "18 서진이네 휴일 보내는 법 & MBTI 극 N들의 '만약에' 게임 #유료광고포함 #서진이네 EP.4 | tvN 230317 방송 https://youtu.be/b3aNmuOPgG4&pp tvN 운동\n",
      "19 [폭스클럽]EP.31양양 인구해변에서 찐사랑 찾기❤️ https://youtu.be/Hp4W-IqemCo&pp 밈고리즘 운동\n"
     ]
    },
    {
     "name": "stderr",
     "output_type": "stream",
     "text": [
      "\n",
      " 30%|███       | 6/20 [00:00<00:00, 26.74it/s]"
     ]
    },
    {
     "name": "stdout",
     "output_type": "stream",
     "text": [
      "0 (유료광고포함)아이폰 유저의 가장 짜릿한 순간 https://youtu.be/pEPcEtswmTw 탐스TV 추천\n",
      "1 한소희로 광고를 만들랬더니 영화를 만들어버린 박찬욱 클라스 ㅋㅋ헤이딜러 #유료광고 https://youtu.be/QqNoMJcXjWQ 고몽 추천\n",
      "2 존맛탱 하리보 추천 BEST 3 유료광고 포함 https://youtu.be/V178mWELqs4 추천모아 추천\n",
      "3 준표는 서운해! 찹찹 찹스테이크처럼 발려버린 대한 팀..★ #유료광고포함 #뿅뿅지구오락실2 EP.2 | tvN 230519 방송 https://youtu.be/LeAiF5ImNYM&pp tvN 추천\n",
      "4 해야되는 일 or 하고 싶은 일 | 두 마리 토끼 잡은 정동식 자기님 #highlight  #유료광고포함#유퀴즈온더블럭 | YOU QUIZ ON THE BLOCK EP.196 https://youtu.be/dMr406AcpTI&pp 유 퀴즈 온 더 튜브 추천\n",
      "5 유랑단 단체 포스터 촬영장🔥 데뷔 합 129년 차의 카리스마ㄷㄷ #유료광고포함 #댄스가수유랑단 EP.1 | tvN 230525 방송 https://youtu.be/wNC6LdCUSZ4&pp tvN 추천\n"
     ]
    },
    {
     "name": "stderr",
     "output_type": "stream",
     "text": [
      " 60%|██████    | 12/20 [00:00<00:00, 24.15it/s]"
     ]
    },
    {
     "name": "stdout",
     "output_type": "stream",
     "text": [
      "6 (유료광고포함)갤럭시 유저가 처음 아이폰을 쓰면 겪는 황당한 일3 https://youtu.be/PP8azrtToms 탐스TV 추천\n",
      "7 [아빠의 눈물] 정동식 자기님의 말에 결국 눈물 흘린 아빠 유재석 #유료광고포함#유퀴즈온더블럭 | YOU QUIZ ON THE BLOCK EP.196 | tvN 230531 방송 https://youtu.be/tjgx9SZwL3I&pp 유 퀴즈 온 더 튜브 추천\n",
      "8 핸드폰 꾸미기 말고 박지녕 꾸미기#광고 #유료광고포함 https://youtu.be/NVcvoMYAzpY 방지턱 커플 추천\n",
      "9 //오답 많음// 나비족어 마스터한 미미 #highlight #뿅뿅지구오락실2 EP.2 https://youtu.be/tz3nPiQH8N8&pp tvN 추천\n",
      "10 정숙이가 된 엄정화의 남모를 부담감ㅠㅠ첫방 함께해 주는 유랑단💓#유료광고포함 #댄스가수유랑단 EP.3 | tvN 230608 방송 https://youtu.be/O-HRPY74yTI&pp tvN 추천\n",
      "11 6만원대 가성비 간이수영장 추천 유료광고 포함 https://youtu.be/WWsfowDCQg0 추천모아 추천\n",
      "12 냉장고 탑3 추천!!(유료광고포함) https://youtu.be/_0pbI9YdOD4 일단보면이득 추천\n"
     ]
    },
    {
     "name": "stderr",
     "output_type": "stream",
     "text": [
      "100%|██████████| 20/20 [00:00<00:00, 25.39it/s]"
     ]
    },
    {
     "name": "stdout",
     "output_type": "stream",
     "text": [
      "13 편안한 스킨케어 asmr 💕#유료광고포함 #청담언니 #요리하는메이크업아티스트 #shorts #휴캄 https://youtu.be/GXY24ZlsKyE 화장하는청담언니 추천\n",
      "14 여름에 먹기 좋은 과일 10가지 (유료광고 포함) https://youtu.be/PR-_2WP5TEM 생각하는 남자 추천\n",
      "15 무난한 신발 추천 BEST 3 (유료광고 포함) https://youtu.be/64yagLqCJ0s 추천모아 추천\n",
      "16 그 시절 아이템-⭐장착과 함께 폼 바로 나오는 유랑단 #유료광고포함 #댄스가수유랑단 EP.1 | tvN 230525 방송 https://youtu.be/ugPsDjVIHJo&pp tvN 추천\n",
      "17 줄 스트랩 추천 BEST 3 (유료광고 포함) https://youtu.be/0kT4KEIfnCw 추천모아 추천\n",
      "18 이효리의 한 마디에서 시작된 레전드의 모임⭐ 너희가 '페스티벌'을 알아..? #유료광고포함 #댄스가수유랑단 EP.1 | tvN 230525 방송 https://youtu.be/x5nM8o_PucM&pp tvN 추천\n",
      "19 [유료광고포함] 새벽 4시 기상해서 미국 하이틴으로 변신하기! 미드 유포리아 캐씨 모닝루틴 챌린지 💖 https://youtu.be/ejj-BAA7lwo&pp 해쭈 [HAEJOO] 추천\n"
     ]
    },
    {
     "name": "stderr",
     "output_type": "stream",
     "text": [
      "\n",
      " 10%|█         | 2/20 [00:00<00:02,  8.95it/s]"
     ]
    },
    {
     "name": "stdout",
     "output_type": "stream",
     "text": [
      "0 🖤무채색 일주일 코디🖤 여자 스트릿 캐주얼 코디 7가지 OOTD 🏴‍☠️ https://youtu.be/-8WN3cSs2x0&pp 송필드 코디\n",
      "1 🧐무신사 가성비 아이템으로 가을 캠퍼스 룩 코디하기 | Mmlg,디스이즈네버댓,브라운브레스,마하그리드,나이스고스트클럽 https://youtu.be/_DHIebbEIoE&pp 오늘의 주우재 코디\n",
      "2 빛의 속도로 삭제됐다는 아이들 \"퀸카\" 충격적인 안무 https://youtu.be/FaPQDElrbks 이슈피드 코디\n"
     ]
    },
    {
     "name": "stderr",
     "output_type": "stream",
     "text": [
      " 25%|██▌       | 5/20 [00:00<00:01,  8.35it/s]"
     ]
    },
    {
     "name": "stdout",
     "output_type": "stream",
     "text": [
      "3 미리보는 여름 데일리룩 코디 7개! 뭐가 젤 괜찮아용?😯 https://youtu.be/Zv718c5Q77Y 박에스더 - PARK ESTHER 코디\n",
      "4 [ENG CC / 유료광고 포함] 이거만 보면 매일 아침 오늘 뭐 입지? 고민 끝🙌 제품이 아닌 룩을 파는 스타일 큐레이션 플랫폼🏠 스트레인져POV💘 https://youtu.be/mBTirZH0_iQ&pp 슈스스TV 코디\n"
     ]
    },
    {
     "name": "stderr",
     "output_type": "stream",
     "text": [
      " 35%|███▌      | 7/20 [00:00<00:01,  8.23it/s]"
     ]
    },
    {
     "name": "stdout",
     "output_type": "stream",
     "text": [
      "5 와 진짜 20살이라고 해도 믿겠네..;; 패션 스타일 미쳤다 https://youtu.be/jcpZ5RcjLEY&pp 스타일가이드 최겨울 코디\n",
      "6 요즘 뭐 입지?🌸 일교차 심한 환절기 코디🌷 Get dressed with me! https://youtu.be/oFk3vxctIMw 한별Hanbyul 코디\n"
     ]
    },
    {
     "name": "stderr",
     "output_type": "stream",
     "text": [
      " 45%|████▌     | 9/20 [00:01<00:01,  8.57it/s]"
     ]
    },
    {
     "name": "stdout",
     "output_type": "stream",
     "text": [
      "7 봄 패션 코디 준비해야죠? LMC 23SS 신상 쇼핑 둘러보기..! 냠냠 https://youtu.be/4YETlJhbEII&pp 스타일가이드 최겨울 코디\n",
      "8 OOTD VLOG! 빈티지 쇼핑하고 식물도 사고 비건 지향 식사와 운동을 하였습니다.. 그리하여 나는 건강걸로 다시 태어남 (유료광고) https://youtu.be/PbnY8ueDG5Q&pp Susan, 코디\n"
     ]
    },
    {
     "name": "stderr",
     "output_type": "stream",
     "text": [
      " 55%|█████▌    | 11/20 [00:01<00:01,  8.28it/s]"
     ]
    },
    {
     "name": "stdout",
     "output_type": "stream",
     "text": [
      "9 애매한 날씨에 뭐 입지?💧 일교차 심한 날 봄옷 코디! #shorts https://youtu.be/eQN5EreRC9I 한별Hanbyul 코디\n",
      "10 2022 잘 입은 가을 패션 코디북.zip https://youtu.be/Aawwg_ozafo&pp 스타일가이드 최겨울 코디\n"
     ]
    },
    {
     "name": "stderr",
     "output_type": "stream",
     "text": [
      " 65%|██████▌   | 13/20 [00:01<00:01,  6.88it/s]"
     ]
    },
    {
     "name": "stdout",
     "output_type": "stream",
     "text": [
      "11 제발... 손상모 이렇게 감지 마세요! #유료광고 https://youtu.be/vwM7syalwzU 키오 kio_x 코디\n",
      "12 세상에서 가장 '미안한' 직업? 장기구득코디네이터｜크랩 (유료 광고 포함) https://youtu.be/l3r6TghsgYo&pp 크랩 KLAB 코디\n"
     ]
    },
    {
     "name": "stderr",
     "output_type": "stream",
     "text": [
      " 75%|███████▌  | 15/20 [00:01<00:00,  6.90it/s]"
     ]
    },
    {
     "name": "stdout",
     "output_type": "stream",
     "text": [
      "13 (유료광고)Vlog. 직장인 일상ㅣ에잇세컨즈 겨울옷 털어봤어요🛍ㅣ겨울 데일리룩 코디추천❄️ㅣ직장인 출근룩ㅣ가디건&니트&스커트&부츠ㅣZARAㅣ브룩스브라더스ㅣ https://youtu.be/Saz437mmnME&pp 밍글vlog 코디\n",
      "14 알베 취향 가득 담은 2022 f/w 코디 모음👕👖🧦 https://youtu.be/g7ZACp0La1k&pp 알베르토 몬디 Alberto Mondi 코디\n"
     ]
    },
    {
     "name": "stderr",
     "output_type": "stream",
     "text": [
      " 85%|████████▌ | 17/20 [00:02<00:00,  6.66it/s]"
     ]
    },
    {
     "name": "stdout",
     "output_type": "stream",
     "text": [
      "15 봄 소풍 나들이 완벽한 인생샷을 위한 코디 l 활동성🙅🏻‍♀️ THE PERFECT PICNIC OUTFITS #picnic#cody#goodvibes#스타일링 https://youtu.be/lMx2y_tRZSc STYLE BOOK9 코디\n",
      "16 예쁘지만 편하게! 신혼여행 코디추천! (가을날씨 도심편) https://youtu.be/IwZM6m6eaww&pp 듬아 코디\n"
     ]
    },
    {
     "name": "stderr",
     "output_type": "stream",
     "text": [
      " 95%|█████████▌| 19/20 [00:02<00:00,  6.86it/s]"
     ]
    },
    {
     "name": "stdout",
     "output_type": "stream",
     "text": [
      "17 가을에 옷 잘 입으려면 이것만 기억하세요! 평범한 옷을 한 끗 차이로 고급지게 코디하는 법✔️ https://youtu.be/8Q0EDXsMC3w&pp AliceFunk 앨리스펑크 코디\n",
      "18 인⭐그램 업로드에 빠진 이효리 남다른(?) 출근길 스타일링 #유료광고포함 #댄스가수유랑단 EP.4 | tvN 230615 방송 https://youtu.be/3BA3k748akY&pp tvN 코디\n"
     ]
    },
    {
     "name": "stderr",
     "output_type": "stream",
     "text": [
      "100%|██████████| 20/20 [00:02<00:00,  7.57it/s]\n"
     ]
    },
    {
     "name": "stdout",
     "output_type": "stream",
     "text": [
      "19 다이어트 보조제 추천 BEST 3 유료광고 포함 https://youtu.be/5-b98nq0zTA 추천모아 코디\n"
     ]
    },
    {
     "name": "stderr",
     "output_type": "stream",
     "text": [
      " 10%|█         | 2/20 [00:00<00:02,  8.12it/s]"
     ]
    },
    {
     "name": "stdout",
     "output_type": "stream",
     "text": [
      "0 (유료광고포함)아이폰 유저의 가장 짜릿한 순간 https://youtu.be/pEPcEtswmTw 탐스TV 리뷰\n",
      "1 [유료광고포함] 새벽 4시 기상해서 미국 하이틴으로 변신하기! 미드 유포리아 캐씨 모닝루틴 챌린지 💖 https://youtu.be/ejj-BAA7lwo&pp 해쭈 [HAEJOO] 리뷰\n"
     ]
    },
    {
     "name": "stderr",
     "output_type": "stream",
     "text": [
      " 20%|██        | 4/20 [00:00<00:02,  7.50it/s]"
     ]
    },
    {
     "name": "stdout",
     "output_type": "stream",
     "text": [
      "2 EP.2 | 둘째 날 아침 7시부터 반수면 상태로 뉴욕의 김밥천국 방문 l 🗽이서진의 뉴욕뉴욕2 https://youtu.be/Fg9O_17A16w&pp 채널 십오야 리뷰\n",
      "3 한소희로 광고를 만들랬더니 영화를 만들어버린 박찬욱 클라스 ㅋㅋ헤이딜러 #유료광고 https://youtu.be/QqNoMJcXjWQ 고몽 리뷰\n"
     ]
    },
    {
     "name": "stderr",
     "output_type": "stream",
     "text": [
      " 30%|███       | 6/20 [00:00<00:01,  8.12it/s]"
     ]
    },
    {
     "name": "stdout",
     "output_type": "stream",
     "text": [
      "4 여기 클리어 뭐야...?! 블리밍 슬라임 리뷰! #유료광고포함 https://youtu.be/PnKL76YHzIg&pp 박뮤즈 리뷰\n",
      "5 헐.. 큰 소리를 내면 지도상에서 사라지는 세상에서 살아남으려는 김래원 이종석 차은우 이민기 나오는 캐스팅 끝장나는 꿀잼 영화 나왔다ㄷㄷ [데시벨] https://youtu.be/Ccks45PNCZY&pp 고몽 리뷰\n"
     ]
    },
    {
     "name": "stderr",
     "output_type": "stream",
     "text": [
      " 40%|████      | 8/20 [00:00<00:01,  8.20it/s]"
     ]
    },
    {
     "name": "stdout",
     "output_type": "stream",
     "text": [
      "6 \"이런 일까지 있었다고?\" 2022년 순삭 정리｜크랩 (유료광고포함) https://youtu.be/n9oDu8gBDQ8&pp 크랩 KLAB 리뷰\n",
      "7 둘이 합산 아이큐 100! 그래도 육체는 최강 초인! 당신의 배꼽이 팝핀을 추게 하는 이이경과 박성웅의 미췬 개콘급 영화가 나왔다 = [웅남이] https://youtu.be/kSEna3Ni12I&pp 고몽 리뷰\n"
     ]
    },
    {
     "name": "stderr",
     "output_type": "stream",
     "text": [
      " 50%|█████     | 10/20 [00:01<00:01,  8.02it/s]"
     ]
    },
    {
     "name": "stdout",
     "output_type": "stream",
     "text": [
      "8 [유료광고포함] 🏝️ 고독한 여행가가 되어 홀로 1박 2일 브이로그 https://youtu.be/I01pzEznbdU&pp 해쭈 [HAEJOO] 리뷰\n",
      "9 SNS 팔로워수로 권력이 나뉘는 인플루언서맘들의 잘난척과 허세 뒤 숨겨진 갑질러의 모습…! 펜트하우스급 초고급 아파트 쎈케 엄마들의 소름끼치는 저격과 나락《행복배틀》#ena채널 https://youtu.be/uhPy9uyolGw&pp 고몽 리뷰\n"
     ]
    },
    {
     "name": "stderr",
     "output_type": "stream",
     "text": [
      " 60%|██████    | 12/20 [00:01<00:01,  7.36it/s]"
     ]
    },
    {
     "name": "stdout",
     "output_type": "stream",
     "text": [
      "10 누가 한국인은 밥심이래? 최소 서진이네는 라면 파워임 #highlight #유료광고포함 #서진이네 EP.2 https://youtu.be/4xB-7hmRNwY&pp tvN 리뷰\n",
      "11 세계 최대 박람회 CES 2023, SK와 함께 리뷰하기 [유료광고 포함] https://youtu.be/VwyhmHFS31s&pp 슈카월드 리뷰\n"
     ]
    },
    {
     "name": "stderr",
     "output_type": "stream",
     "text": [
      " 70%|███████   | 14/20 [00:01<00:00,  7.80it/s]"
     ]
    },
    {
     "name": "stdout",
     "output_type": "stream",
     "text": [
      "12 무한 회귀자 김동욱과 부딪혀 엄마의 과거로 회귀한 딸이 불행하게 살다 돌아가신 엄마의 과거를 괴롭히는 것들을 다 박살내버리는 대통쾌 드라마 [어쩌다 마주친, 그대] https://youtu.be/pOSOI-XhCxs&pp 고몽 리뷰\n",
      "13 하필 고3때 외계인 쳐들어와ㅠ 전교생이 \"군필 고딩\"이 됨ㅋ 열받은 배그의 민족 방과후 육군훈련으로 점점 특수부대급🔥으로 성장하는 개쩌는 설정의 드라마 나왔다ㅋㅋ https://youtu.be/_bEK-vqluj0&pp 고몽 리뷰\n"
     ]
    },
    {
     "name": "stderr",
     "output_type": "stream",
     "text": [
      " 80%|████████  | 16/20 [00:02<00:00,  7.36it/s]"
     ]
    },
    {
     "name": "stdout",
     "output_type": "stream",
     "text": [
      "14 제발... 손상모 이렇게 감지 마세요! #유료광고 https://youtu.be/vwM7syalwzU 키오 kio_x 리뷰\n",
      "15 (유료광고포함)갤럭시 유저라면 이제는 지우세요 https://youtu.be/ax4r2mjGKDA 탐스TV 리뷰\n"
     ]
    },
    {
     "name": "stderr",
     "output_type": "stream",
     "text": [
      " 95%|█████████▌| 19/20 [00:02<00:00,  8.08it/s]"
     ]
    },
    {
     "name": "stdout",
     "output_type": "stream",
     "text": [
      "16 여기 공복에 지락이들이 라면을 조리하고 있습니다. #유료광고포함 #뿅뿅지구오락실2 EP.9 | tvN 230707 방송 https://youtu.be/NFJp8oVdYQ8&pp tvN 리뷰\n",
      "17 리뷰 1000개 이상 써큘레이터 추천 BEST 3 유료광고 포함 https://youtu.be/EYuAsr1AOIw 추천모아 리뷰\n",
      "18 진귀하다는 아이유의 애교 궁극기에 박서준 현실웃음 살살터지는 영화 보여 ⟪드림⟫ #유료광고 https://youtu.be/hEemFSaHWpU 고몽 리뷰\n"
     ]
    },
    {
     "name": "stderr",
     "output_type": "stream",
     "text": [
      "100%|██████████| 20/20 [00:02<00:00,  7.75it/s]\n"
     ]
    },
    {
     "name": "stdout",
     "output_type": "stream",
     "text": [
      "19 (유료광고포함) 초등학생일기장으로 좋은 키즈바인더 감정일기장 https://youtu.be/rcjR13fe-N0&pp 맘케터 momketer 리뷰\n"
     ]
    }
   ],
   "source": [
    "# # 크롬 드라이버 옵션 설정 : 지정하면 크롬 아예 안보임\n",
    "# chrome_options = webdriver.ChromeOptions()\n",
    "# chrome_options.add_argument('--headless')\n",
    "# chrome_options.add_argument(\"--disable-gpu\")\n",
    "# chrome_options.add_argument('--no-sandbox')\n",
    "# chrome_options.add_argument('--disable-dev-shm-usage')\n",
    "#driver = webdriver.Chrome() # 크롬 옵션 지정 시 options=chrome_options 추가\n",
    "\n",
    "# 올해 광고 영상 크롤링\n",
    "title_list = []\n",
    "video_list = []\n",
    "channel_list = []\n",
    "keyword_list = []\n",
    "include_list = ['공부', '여행', '먹방', '메이크업', '캠핑', '다이어트', '리뷰', '브이로그', '운동', '추천', '코디', '리뷰']\n",
    "\n",
    "for k in range(len(include_list)) :\n",
    "    try :\n",
    "        search_keyword = '%23'+include_list[k]+'%2B유료광고포함'\n",
    "        url = 'https://www.youtube.com/results?search_query='+search_keyword\n",
    "        my_driver.get(url)\n",
    "        time.sleep(2)\n",
    "\n",
    "        my_driver.find_element(By.CSS_SELECTOR,\n",
    "                               '#filter-button > ytd-button-renderer > yt-button-shape > button > yt-touch-feedback-shape > div > div.yt-spec-touch-feedback-shape__fill').click()\n",
    "        time.sleep(2)\n",
    "        \n",
    "        my_driver.find_element(By.XPATH,\n",
    "                               '/html/body/ytd-app/ytd-popup-container/tp-yt-paper-dialog/ytd-search-filter-options-dialog-renderer/div[2]/ytd-search-filter-group-renderer[1]/ytd-search-filter-renderer[5]/a').click()\n",
    "        time.sleep(2)\n",
    "    \n",
    "        # try :\n",
    "        #     upload_date.find_elements(By.ID,'endpoint')[3].click()\n",
    "        #     time.sleep(2)\n",
    "        # except :\n",
    "        #     my_driver.quit()\n",
    "        #     continue\n",
    "\n",
    "        last_height = my_driver.execute_script(\"return document.documentElement.scrollHeight\")\n",
    "\n",
    "        while True:\n",
    "            my_driver.execute_script(\"window.scrollTo(0, document.documentElement.scrollHeight);\")\n",
    "            time.sleep(1)\n",
    "\n",
    "            new_height = my_driver.execute_script(\"return document.documentElement.scrollHeight\")\n",
    "            if new_height == last_height:\n",
    "                break\n",
    "\n",
    "            last_height = new_height\n",
    "\n",
    "        pageString = my_driver.page_source\n",
    "        soup = BeautifulSoup(pageString, features='html.parser')\n",
    "\n",
    "        for i in tqdm(range(len(soup.find_all('ytd-video-renderer',{'class':'style-scope ytd-item-section-renderer'})))): \n",
    "        #soup.find_all('ytd-video-meta-block', 'style-scope ytd-video-renderer byline-separated'))):\n",
    "\n",
    "            title = soup.find_all('a',{'id':'video-title'})[i].text.split('\\n')[2]\n",
    "            title_list.append(title)\n",
    "\n",
    "            if 'shorts' in soup.find_all('a',{'id':'video-title'})[i].get('href'):\n",
    "                video = 'https://youtu.be/'+ soup.find_all('a',{'id':'video-title'})[i].get('href').split('/')[2]\n",
    "                video_list.append(video)\n",
    "\n",
    "            else :\n",
    "                video = 'https://youtu.be/'+ soup.find_all('a',{'id':'video-title'})[i].get('href').split('=')[1]\n",
    "                video_list.append(video)\n",
    "\n",
    "            channel = soup.find_all('yt-formatted-string',{'class':'style-scope ytd-channel-name'})[i].text\n",
    "            channel_list.append(channel)\n",
    "\n",
    "            keyword = include_list[k]\n",
    "            keyword_list.append(keyword)\n",
    "\n",
    "            print(i, title, video, channel, keyword)\n",
    "            \n",
    "    except :\n",
    "        print('오류')\n",
    "        \n",
    "driver.quit()"
   ]
  },
  {
   "cell_type": "code",
   "execution_count": 3,
   "metadata": {},
   "outputs": [
    {
     "data": {
      "text/html": [
       "<div>\n",
       "<style scoped>\n",
       "    .dataframe tbody tr th:only-of-type {\n",
       "        vertical-align: middle;\n",
       "    }\n",
       "\n",
       "    .dataframe tbody tr th {\n",
       "        vertical-align: top;\n",
       "    }\n",
       "\n",
       "    .dataframe thead th {\n",
       "        text-align: right;\n",
       "    }\n",
       "</style>\n",
       "<table border=\"1\" class=\"dataframe\">\n",
       "  <thead>\n",
       "    <tr style=\"text-align: right;\">\n",
       "      <th></th>\n",
       "      <th>제목</th>\n",
       "      <th>비디오 URL</th>\n",
       "      <th>채널</th>\n",
       "      <th>키워드</th>\n",
       "    </tr>\n",
       "  </thead>\n",
       "  <tbody>\n",
       "    <tr>\n",
       "      <th>0</th>\n",
       "      <td>[유료광고포함] 새벽 4시 기상해서 미국 하이틴으로 변신하기! 미드 유포리아 캐씨 ...</td>\n",
       "      <td>https://youtu.be/ejj-BAA7lwo&amp;pp</td>\n",
       "      <td>해쭈 [HAEJOO]</td>\n",
       "      <td>공부</td>\n",
       "    </tr>\n",
       "    <tr>\n",
       "      <th>1</th>\n",
       "      <td>미리 정해두는 5월 필수 공부 (책 증정이벤트 &amp; 유료광고 포함) (중고등 과목별 ...</td>\n",
       "      <td>https://youtu.be/XlP8zzp0VH4&amp;pp</td>\n",
       "      <td>대치동장원장</td>\n",
       "      <td>공부</td>\n",
       "    </tr>\n",
       "    <tr>\n",
       "      <th>2</th>\n",
       "      <td>인스타충 골 빈 허세녀들의 삶 24시간 밀착 취재 Ep.21 / 쇼호스트 데뷔</td>\n",
       "      <td>https://youtu.be/h2aHHik0_HU&amp;pp</td>\n",
       "      <td>레이디액션</td>\n",
       "      <td>공부</td>\n",
       "    </tr>\n",
       "    <tr>\n",
       "      <th>3</th>\n",
       "      <td>eng) 카이스트 개강 브이로그 | 과제&amp;공부 꿀팁🍯, 도서관 공부, 개강파티, 운...</td>\n",
       "      <td>https://youtu.be/ckAbdCa8Gk8&amp;pp</td>\n",
       "      <td>밍주라네 Mingjurane</td>\n",
       "      <td>공부</td>\n",
       "    </tr>\n",
       "    <tr>\n",
       "      <th>4</th>\n",
       "      <td>𝐏𝐥𝐚𝐲𝐥𝐢𝐬𝐭 부장님도 같이 리듬 타게 되는 직장인 노동요</td>\n",
       "      <td>https://youtu.be/qabCoid-K-8&amp;pp</td>\n",
       "      <td>때껄룩ᴛᴀᴋᴇ ᴀ ʟᴏᴏᴋ</td>\n",
       "      <td>공부</td>\n",
       "    </tr>\n",
       "    <tr>\n",
       "      <th>...</th>\n",
       "      <td>...</td>\n",
       "      <td>...</td>\n",
       "      <td>...</td>\n",
       "      <td>...</td>\n",
       "    </tr>\n",
       "    <tr>\n",
       "      <th>484</th>\n",
       "      <td>(유료광고포함)갤럭시 유저라면 이제는 지우세요</td>\n",
       "      <td>https://youtu.be/ax4r2mjGKDA</td>\n",
       "      <td>탐스TV</td>\n",
       "      <td>리뷰</td>\n",
       "    </tr>\n",
       "    <tr>\n",
       "      <th>485</th>\n",
       "      <td>여기 공복에 지락이들이 라면을 조리하고 있습니다. #유료광고포함 #뿅뿅지구오락실2 ...</td>\n",
       "      <td>https://youtu.be/NFJp8oVdYQ8&amp;pp</td>\n",
       "      <td>tvN</td>\n",
       "      <td>리뷰</td>\n",
       "    </tr>\n",
       "    <tr>\n",
       "      <th>486</th>\n",
       "      <td>리뷰 1000개 이상 써큘레이터 추천 BEST 3 유료광고 포함</td>\n",
       "      <td>https://youtu.be/EYuAsr1AOIw</td>\n",
       "      <td>추천모아</td>\n",
       "      <td>리뷰</td>\n",
       "    </tr>\n",
       "    <tr>\n",
       "      <th>487</th>\n",
       "      <td>진귀하다는 아이유의 애교 궁극기에 박서준 현실웃음 살살터지는 영화 보여 ⟪드림⟫ #...</td>\n",
       "      <td>https://youtu.be/hEemFSaHWpU</td>\n",
       "      <td>고몽</td>\n",
       "      <td>리뷰</td>\n",
       "    </tr>\n",
       "    <tr>\n",
       "      <th>488</th>\n",
       "      <td>(유료광고포함) 초등학생일기장으로 좋은 키즈바인더 감정일기장</td>\n",
       "      <td>https://youtu.be/rcjR13fe-N0&amp;pp</td>\n",
       "      <td>맘케터 momketer</td>\n",
       "      <td>리뷰</td>\n",
       "    </tr>\n",
       "  </tbody>\n",
       "</table>\n",
       "<p>489 rows × 4 columns</p>\n",
       "</div>"
      ],
      "text/plain": [
       "                                                    제목  \\\n",
       "0    [유료광고포함] 새벽 4시 기상해서 미국 하이틴으로 변신하기! 미드 유포리아 캐씨 ...   \n",
       "1    미리 정해두는 5월 필수 공부 (책 증정이벤트 & 유료광고 포함) (중고등 과목별 ...   \n",
       "2          인스타충 골 빈 허세녀들의 삶 24시간 밀착 취재 Ep.21 / 쇼호스트 데뷔   \n",
       "3    eng) 카이스트 개강 브이로그 | 과제&공부 꿀팁🍯, 도서관 공부, 개강파티, 운...   \n",
       "4                    𝐏𝐥𝐚𝐲𝐥𝐢𝐬𝐭 부장님도 같이 리듬 타게 되는 직장인 노동요   \n",
       "..                                                 ...   \n",
       "484                          (유료광고포함)갤럭시 유저라면 이제는 지우세요   \n",
       "485  여기 공복에 지락이들이 라면을 조리하고 있습니다. #유료광고포함 #뿅뿅지구오락실2 ...   \n",
       "486                리뷰 1000개 이상 써큘레이터 추천 BEST 3 유료광고 포함   \n",
       "487  진귀하다는 아이유의 애교 궁극기에 박서준 현실웃음 살살터지는 영화 보여 ⟪드림⟫ #...   \n",
       "488                  (유료광고포함) 초등학생일기장으로 좋은 키즈바인더 감정일기장   \n",
       "\n",
       "                             비디오 URL               채널 키워드  \n",
       "0    https://youtu.be/ejj-BAA7lwo&pp      해쭈 [HAEJOO]  공부  \n",
       "1    https://youtu.be/XlP8zzp0VH4&pp           대치동장원장  공부  \n",
       "2    https://youtu.be/h2aHHik0_HU&pp            레이디액션  공부  \n",
       "3    https://youtu.be/ckAbdCa8Gk8&pp  밍주라네 Mingjurane  공부  \n",
       "4    https://youtu.be/qabCoid-K-8&pp   때껄룩ᴛᴀᴋᴇ ᴀ ʟᴏᴏᴋ  공부  \n",
       "..                               ...              ...  ..  \n",
       "484     https://youtu.be/ax4r2mjGKDA             탐스TV  리뷰  \n",
       "485  https://youtu.be/NFJp8oVdYQ8&pp              tvN  리뷰  \n",
       "486     https://youtu.be/EYuAsr1AOIw             추천모아  리뷰  \n",
       "487     https://youtu.be/hEemFSaHWpU               고몽  리뷰  \n",
       "488  https://youtu.be/rcjR13fe-N0&pp     맘케터 momketer  리뷰  \n",
       "\n",
       "[489 rows x 4 columns]"
      ]
     },
     "execution_count": 3,
     "metadata": {},
     "output_type": "execute_result"
    }
   ],
   "source": [
    "# 데이터프레임으로 저장\n",
    "data = {\n",
    "    '제목': title_list,\n",
    "    '비디오 URL': video_list,\n",
    "    '채널': channel_list,\n",
    "    '키워드': keyword_list,\n",
    "}\n",
    "\n",
    "crawling_1 = pd.DataFrame(data)\n",
    "crawling_1"
   ]
  },
  {
   "cell_type": "code",
   "execution_count": null,
   "metadata": {},
   "outputs": [],
   "source": [
    "# 영상(비디오 url) 접속 후 광고 배너 & 더보기란 크롤링\n",
    "\n",
    "driver = webdriver.Chrome()\n",
    "\n",
    "title_list = []\n",
    "channel_list = []\n",
    "channel_id_list = []\n",
    "date_list = []\n",
    "view_list = []\n",
    "sub_list = []\n",
    "ad_banner_list = []\n",
    "description_list = []\n",
    "\n",
    "for i in tqdm(range(len(video_list))):\n",
    "    driver.get(video_list[i])\n",
    "    time.sleep(3)\n",
    "    \n",
    "    page_source = driver.page_source\n",
    "    soup = BeautifulSoup(page_source, 'html.parser')\n",
    "    \n",
    "    # 제목\n",
    "    title = soup.find_all('yt-formatted-string',attrs={'class' : 'ytd-watch-metadata'})[0].text\n",
    "    title_list.append(title)\n",
    "    \n",
    "    # 채널명\n",
    "    channel = soup.find_all('yt-formatted-string',{'id':'text'})[0].text\n",
    "    channel_list.append(channel)\n",
    "    \n",
    "    # 채널ID\n",
    "    channel_id = str(soup).split(',\"channelId\":\"')[1].split('\",\"')[0]\n",
    "    channel_id_list.append(channel_id)\n",
    "    \n",
    "    # 업로드 일자\n",
    "    date = soup.find_all('span', attrs={'class' : 'inline-metadata-item style-scope ytd-video-meta-block'})[1::2]\n",
    "    date_list.append(date)\n",
    "    \n",
    "    # 조회수\n",
    "    view = soup.find_all('span', attrs={'class' : 'inline-metadata-item style-scope ytd-video-meta-block'})[0::2]\n",
    "    view_list.append(view)\n",
    "    \n",
    "    # 구독자 수\n",
    "    sub = soup.find_all('div', class_='style-scope ytd-video-description-infocards-section-renderer')[0].text.split('구독자')[1].strip().split('명')[0].strip()\n",
    "    sub_list.append(sub)\n",
    "    \n",
    "    # 유료 광고 영상 배너 확인\n",
    "    ad_banner_exists = False\n",
    "    try:\n",
    "        ad_banner = soup.find_all('div', class_='ytp-paid-content-overlay')\n",
    "        ad_banner_exists = True\n",
    "    except:\n",
    "        pass\n",
    "\n",
    "    if ad_banner_exists:\n",
    "        ad_banner = \"T\"\n",
    "    else:\n",
    "        ad_banner = \"F\"\n",
    "    ad_banner_list.append(ad_banner)\n",
    "    \n",
    "    # 더보기란 상세 내용\n",
    "    try:\n",
    "        description = soup.find_all('span',{'class' : 'yt-core-attributed-string yt-core-attributed-string--white-space-pre-wrap'})[2].text\n",
    "        description_list.append(description)\n",
    "        \n",
    "    except:\n",
    "        print('더보기 없음')\n",
    "        description = '더보기 없음'\n",
    "        description_list.append(description)\n",
    "        \n",
    "    print(i, video_list[i], title, channel, ad_banner, description)\n",
    "\n",
    "driver.quit()"
   ]
  },
  {
   "cell_type": "code",
   "execution_count": 72,
   "metadata": {},
   "outputs": [
    {
     "name": "stderr",
     "output_type": "stream",
     "text": [
      "  0%|          | 1/489 [00:06<54:42,  6.73s/it]"
     ]
    },
    {
     "name": "stdout",
     "output_type": "stream",
     "text": [
      "0 https://youtu.be/ejj-BAA7lwo&pp [유료광고포함] 새벽 4시 기상해서 미국 하이틴으로 변신하기! 미드 유포리아 캐씨 모닝루틴 챌린지 💖 해쭈 [HAEJOO] UC6KwCU8Y8Uw4h_Q0ptLZkqw 2023. 2. 10. 1,113,938 75.1만 T 💖디오디너리X해쭈 이벤트💖\n",
      "\n",
      "📣앙큼불여우들 주-목!!!\n",
      "영상 시청 후 댓글과 함께 아래 링크에 \n",
      "들어가셔서 폼을 제출하시고 \n",
      "디오디너리 데일리 세트 받아 가세요!!!\n",
      "\n",
      "링크👉🏽https://forms.gle/RXgcNAFXfqrj2fcq6\n",
      "\n",
      "참여 기간 : 2월 10~20일\n",
      "당첨자 개별 연락 : 2월 24일\n",
      "\n",
      "[제품 구매처]\n",
      "\n",
      "💄시코르\n",
      "https://chicor.com/exhibition/3337?ut...\n",
      "\n",
      "🧴디오디너리 공식 브랜드 스토어\n",
      "https://brand.naver.com/theordinary/s...\n",
      "\n",
      "🛍️오프라인 매장\n",
      "\n",
      "디오디너리 연남 매장: 서울시 마포구 동교동 153-1 1층\n",
      "디오디너리 가로수길 매장: 서울시 강남구 신사동 533-14 1층\n",
      "\n",
      "-\n",
      "\n",
      "비지니스 문의는 이쪽으로 👉🏽 haejoo@sandboxnetwork.net\n",
      "감성가득 인스타그램 👉🏽  https://instagram.com/hae_jooooo_\n",
      "미지의 그곳 해쭈 팬카페 👉🏽  https://m.cafe.naver.com/australiahaeju\n"
     ]
    },
    {
     "name": "stderr",
     "output_type": "stream",
     "text": [
      "  0%|          | 2/489 [00:12<52:23,  6.45s/it]"
     ]
    },
    {
     "name": "stdout",
     "output_type": "stream",
     "text": [
      "1 https://youtu.be/XlP8zzp0VH4&pp 미리 정해두는 5월 필수 공부 (책 증정이벤트 & 유료광고 포함) (중고등 과목별 교재 & 공부법 추천)  | 대치동장원장 시즌6 #자기주도학습 #스터디PT #스터디피티 대치동장원장 UCiNbRpsxCHAWNvqwJ5VEuGg 2023. 4. 8. 7,378 3.34만 T 대치동장원장의 자기주도학습 노하우를 체계적으로 마스터할 수 있는\n",
      "CLASSU 자기주도학습 마스터 클래스\n",
      "신학기 10% 할인 이벤트 중!\n",
      "다음의 링크로 들어가셔서 결제하시면 10% 할인이 자동 적용 됩니다.\n",
      "https://me2.do/5qgfKqju\n",
      "가장 진보한 과학적인 자기주도학습 공부법 배우고 싶으면 꼭 신청하세요.\n",
      "\n",
      "스마트맘과 혼공러를 위해 대치동장원장이 준비했습니다!\n",
      "살아 있는 대치동 상위 1% 교육 노하우를\n",
      "자녀의 상황에 맞춰\n",
      "실천 가능한 자기주도학습로 적용할 수 있게 도와드립니다.\n",
      "\n",
      "목차\n",
      "00:00 Intro\n",
      "\n",
      "\n",
      "\n",
      "#자기주도학습 #스터디피티 #스터디PT #대치동공부법 #실천가능공부법 #혼공공부법 #자녀교육 #자녀학습지도 #대치동자기주도학습 #학원 선택\n"
     ]
    },
    {
     "name": "stderr",
     "output_type": "stream",
     "text": [
      "  1%|          | 3/489 [00:19<51:46,  6.39s/it]"
     ]
    },
    {
     "name": "stdout",
     "output_type": "stream",
     "text": [
      "2 https://youtu.be/h2aHHik0_HU&pp 인스타충 골 빈 허세녀들의 삶 24시간 밀착 취재 Ep.21 / 쇼호스트 데뷔 레이디액션 UCt_UFhBBHk5rQPQv12Y7RHg 2023. 9. 15. 4,719 61.3만 T 🔗 지마켓 한가위빅세일 레이디액션샵 \n",
      " https://abr.ge/phqhv8\n",
      "\n",
      "📌 스마일캐시 이벤트 (선착순 100명 대상 스마일캐시 2만원 지급) \n",
      ": https://forms.gle/wSxj6Y44xQcpdeHT7\n",
      "\n",
      "🍚 쿠쿠 본사직영 CRP-CHP1010FD 10인용 IH전기압력 밥솥\n",
      "정상가: 290,290원\n",
      "한가위빅세일가: 196,480원\n",
      "레이디액션샵 전용 쿠폰 할인가: 188,380원 (8,100원 추가 할인) \n",
      "→ 인플루언서 전용 쿠폰 + 카드 할인 적용 금액\n",
      " \n",
      "🍚 쿠쿠 본사직영 CRP-LHLR1010FW 10인용 트윈프레셔 저당 밥솥 +CF-F1010WH 써큘레이터\n",
      "정상가: 479,440원\n",
      "한가위빅세일가: 341,420원\n",
      "레이디액션샵 전용 쿠폰 할인가: 341,420원 (13,370원 추가 할인) \n",
      "→ 인플루언서 전용 쿠폰 + 카드 할인 적용 금액\n",
      "\n",
      "🍚 쿠쿠 본사직영 CRP-LHTR0610FWM 6인용 IH전기압력 밥솥 +CF-F1010WH 써큘레이터\n",
      "정상가: 390,140원\n",
      "한가위빅세일가: 280,060원\n",
      "레이디액션샵 전용 쿠폰 할인가: 269,170원 (10,890원 추가 할인) \n",
      "→ 인플루언서 전용 쿠폰 + 카드 할인 적용 금액\n",
      "\n",
      "🍚 쿠쿠 본사직영 6인용 IH 마스터셰프 사일런스 밥솥 CRP-NHTR0610FW\n",
      "정상가: 563,070원\n",
      "한가위빅세일가: 424,800원\n",
      "레이디액션샵 전용 쿠폰 할인가: 409,090원 (15,710원 추가 할인) \n",
      "→ 인플루언서 전용 쿠폰 + 카드 할인 적용 금액\n",
      "\n",
      "🥗 쿠쿠 본사직영 음식물처리기 CFD-C151MONW\n",
      "정상가: 770,000원\n",
      "한가위빅세일가: 597,990원\n",
      "레이디액션샵 전용 쿠폰 할인가: 576,510원 (21,480원 추가 할인) \n",
      "→ 인플루언서 전용 쿠폰 + 카드 할인 적용 금액\n",
      "\n",
      "🧹 쿠쿠 본사직영 파워클론 무선 청소기 CVC-AE1420NW\n",
      "정상가: 267,640원\n",
      "한가위빅세일가: 177,520원\n",
      "레이디액션샵 전용 쿠폰 할인가: 170,060원 (7,460원 추가 할인) \n",
      "→ 인플루언서 전용 쿠폰 + 카드 할인 적용 금액\n",
      "\n",
      "#지마켓 #한가위빅세일 #쿠쿠 #절약 #할인 \n",
      "\n",
      "[레이디액션's PROFILE]\n",
      "   임선양 / 29\n",
      "   임슬기 / 29\n",
      "\n",
      "오늘도 레이디액션의 영상을 재밌게 봐 주셔서 감사합니다 :)\n",
      "\n",
      "▶광고 및 협찬 문의용 메일 : ladac95@naver.com\n",
      "\n",
      "▶유튜브 구독하기 :    / @ladyaction624  \n",
      "\n",
      "▶페이스북 팔로우 : \n",
      "https://www.facebook.com/ladyaction624\n",
      "\n",
      "▶인스타그램 주소 :\n",
      "임선양 https://www.instagram.com/sunyang0ju/\n",
      "임슬기 https://www.instagram.com/seulgoooooo/\n",
      "\n",
      "📌 본 영상은 유료 광고를 포함하고 있습니다.\n"
     ]
    },
    {
     "name": "stderr",
     "output_type": "stream",
     "text": [
      "  1%|          | 4/489 [00:24<47:08,  5.83s/it]"
     ]
    },
    {
     "name": "stdout",
     "output_type": "stream",
     "text": [
      "3 https://youtu.be/ckAbdCa8Gk8&pp eng) 카이스트 개강 브이로그 | 과제&공부 꿀팁🍯, 도서관 공부, 개강파티, 운동 | 미러 사용법 | KAIST study vlog 밍주라네 Mingjurane UC5SgqP_CWRu9q1xR5i4ycdQ 2023. 9. 12. 1,884 4.52천 T 본 영상은 미러의 유료광고를 포함하고 있습니다.\n",
      "This video is sponsored by Mirror.\n",
      "\n",
      "여러분도 미러로 깔끔하고 정리된 \n",
      "디지털 작업공간을 만들어보세요! ✨\n",
      "\n",
      "다운로드 링크\n",
      "https://bit.ly/3LhBWX1\n",
      "\n",
      "\n",
      "💜Instagram @mi._.ngju\n",
      "💙mingjurane@gmail.com\n",
      "\n",
      "Music by\n",
      "Public Library Commute  - Yesterdays - https://thmatc.co/?l=FE0B7493\n",
      "north takoda - home alone - https://thmatc.co/?l=4A7D1A58\n",
      "Labit - sorry - https://thmatc.co/?l=9D811405\n",
      "Mykyl - So Long to Sanity - https://thmatc.co/?l=5455733F\n",
      "Fiji Blue - Lucky  - https://thmatc.co/?l=A121BC6B\n",
      "#카이스트 #개강브이로그 #과제 #공부브이로그 #기숙사브이로그 #대학생브이로그 #공대생브이로그 #카이스트생브이로그 #카이스트브이로그 #공부자극 #KAIST #Vlog #korea #studyvlog\n"
     ]
    },
    {
     "name": "stderr",
     "output_type": "stream",
     "text": [
      "  1%|          | 5/489 [00:29<44:35,  5.53s/it]"
     ]
    },
    {
     "name": "stdout",
     "output_type": "stream",
     "text": [
      "4 https://youtu.be/qabCoid-K-8&pp 𝐏𝐥𝐚𝐲𝐥𝐢𝐬𝐭 부장님도 같이 리듬 타게 되는 직장인 노동요 때껄룩ᴛᴀᴋᴇ ᴀ ʟᴏᴏᴋ UCVut4hqvrjQC4qDE3oc5qig 2022. 10. 18. 1,454,518 149만 T * 본 콘텐츠는 눈곰이 의 지원을 받아 함께 제작하였으며, \n",
      "유료 광고를 포함하고 있습니다\n",
      "\n",
      "│눈곰이 X 때껄룩│\n",
      "넘치는 흥을 감추고 오늘도 사회생활 중인 여러분을 위해,\n",
      "때껄룩이 사회초년생 눈곰이와 함께\n",
      "고개가 절로 끄덕여지는 노동요 플레이리스트를 준비했어요!\n",
      "\n",
      "일하기 싫을 때 듣는 이 플레이리스트처럼,\n",
      "지겹고 힘든 업무시간 속 여러분에게 활기를 불어넣는 건 무엇인가요?\n",
      "\n",
      "업무 스트레스를 훨훨 날려버리는 여러분만의 방법을 들려주세요!\n",
      "추첨을 통해 20분께 회사생활 필수템, 눈곰이 머그컵을 드립니다.\n",
      "\n",
      "🧸 참여방법\n",
      "① 나만의 업무 스트레스 해소법을 댓글로 적어주세요.\n",
      "② 댓글 작성 후, 하단 링크 속 게시물에 '유튜브 계정명 / 참여완료' 댓글을 남겨주세요. \n",
      "(ex. 때껄룩 / 참여완료)\n",
      "https://www.instagram.com/reel/Cj2qQc...\n",
      "③ 눈곰이 인스타그램을 팔로우하면 끝!\n",
      "\n",
      "🎁 경품: 눈곰이 무광 머그컵 (20명)\n",
      "✨ 이벤트 기간: 2022.10.18(화) ~ 10.31(월)\n",
      "🎤 당첨자 발표: 2022.11.02(수) / 인스타그램 댓글공지 및 DM 개별안내\n",
      "\n",
      " 자, 다들 눈곰이와 함께 키보드 치는 척 둠칫둠칫 박자탈 준비 됐죠?\n",
      "❄ 눈곰이 인스타그램 보러가기 : https://www.instagram.com/nungom.is.m...\n",
      "#눈곰이 #플레이리스트 #직장인 #노동요\n",
      "#둠칫둠칫 #신나는 #팝송 #playlist #pop\n"
     ]
    },
    {
     "name": "stderr",
     "output_type": "stream",
     "text": [
      "  1%|          | 6/489 [00:34<42:34,  5.29s/it]"
     ]
    },
    {
     "name": "stdout",
     "output_type": "stream",
     "text": [
      "5 https://youtu.be/iiXDssiA_Ts&pp 문해력 이슈 | 문제는 영상 때문이다🤔? #highlight #유료광고포함#유퀴즈온더블럭 | YOU QUIZ ON THE BLOCK EP.204 유 퀴즈 온 더 튜브 UC920m3pMPH45qztdhppZhwA 2023. 7. 27. 651,827 85.6만 T 티빙에서 스트리밍 : https://tving.onelink.me/xHqC/30a78d6f\n",
      "#유퀴즈 #유재석 #조세호\n",
      "유퀴즈온더블럭 YOU QUIZ ON THE BLOCK EP.204\n",
      "#해결사\n",
      "매주 (수) 저녁 8시 45분 tvN 방송\n",
      "\n",
      "#티빙에서스트리밍\n"
     ]
    },
    {
     "name": "stderr",
     "output_type": "stream",
     "text": [
      "  1%|▏         | 7/489 [00:38<41:14,  5.13s/it]"
     ]
    },
    {
     "name": "stdout",
     "output_type": "stream",
     "text": [
      "더보기 없음\n",
      "6 https://youtu.be/Dhkx7rudBy4 경제공부는 이게 정석이지 윤루카스 UCPS7ZJ9ozIXA3Olnd9QysuA 2023. 1. 14. 647,182 39.2만 T 더보기 없음\n"
     ]
    },
    {
     "name": "stderr",
     "output_type": "stream",
     "text": [
      "  2%|▏         | 8/489 [00:43<40:30,  5.05s/it]"
     ]
    },
    {
     "name": "stdout",
     "output_type": "stream",
     "text": [
      "7 https://youtu.be/4w4woPuMfYg&pp #5. 일주일 내내 출근하면서 공부도, 약속도 즐기는 브이로그 | ⭐️유기화학 필기노트 무료나눔 | 유료광고) 공부하면서 돈 버는 파트타임 스터디 | 이대생 브이로그 해엄 Hae:eom UCztF2SdevKnmRA2qEjomW6A 2023. 2. 6. 1,727 2.21천 T 📢 이 영상은 파트타임 스터디 어플의 유료 광고를 포함하고 있습니다.\n",
      "\n",
      "안녕하세요. :)\n",
      "이번 영상에서는 제 일주일을 짧게짧게 모아봤습니다.\n",
      "월화수목금/토/일 각각 다른 자아로 매일 출근하는 일상과 더불어 틈틈이 친구들도 만나고, 전공 공부도 복습하는 부분에 집중해봤어요!\n",
      "무엇보다 소소한 채널이지만 소소하게 이벤트를 2개 가져와봤습니다 •͈ᴗ•͈\n",
      "\n",
      "🌿Event 1\n",
      "수험생 때 공부하는게 너무 힘들어서 차라리 돈이라도 받으면 나을까 싶었었는데,\n",
      "’파트타임 스터디‘는 진짜로 공부하면 돈을 주는 공부 챌린지 어플입니다!\n",
      "직접 체험해본 결과, 보증금이 걸려있으니 강제성도 있고,\n",
      "무엇보다 보상이 현금으로 들어오다보니 동기부여가 되더라구요!\n",
      "(나머지는 영상 확인➰)\n",
      "\n",
      "절대적 순공 시간이 많으신 수험생, 고시생 분들께 특히나 추천드리는 어플이라 소개드려요☺️\n",
      "\n",
      "무엇보다 2가지 혜택을 동시에 얻을 수 있는 히든 쿠폰 번호도 가져왔으니 한 번 체험해보세요!\n",
      "[쿠폰 번호: hae777]\n",
      "\n",
      "✔️파트타임 스터디 링크 \n",
      "- 안드로이드 : https://bit.ly/3kbF8sx\n",
      "- IOS : https://apple.co/3VZgtEx\n",
      "- 랜딩페이지 : https://bit.ly/3zgi3ri_2\n",
      "\n",
      "🌿Event 2\n",
      "유기화학 전범위의 필기노트를 무료로 나눔합니다!\n",
      "다음 구글 드라이브 링크에 들어가시면 굿노트, pdf 파일이 보이실거예요.\n",
      "굿노트가 없으신 분들은 pdf를 다운 받으시면 되지만 하이퍼링크는 걸려있지 않는 파일임을 감안해주세요!\n",
      "\n",
      "구글 드라이브: 🫧\n",
      "\n",
      "이 링크는 2월 한달 동안 유효합니다. :)\n",
      "\n",
      "+ 이 노트의 서식은 제 블로그에 무료로 공유하고 있습니다🥰\n",
      "https://m.blog.naver.com/hae-eom/2226...\n",
      "\n",
      "그럼 재밌게 봐주세요. :)\n",
      "\n",
      "【instagram】 @hae.eom_\n"
     ]
    },
    {
     "name": "stderr",
     "output_type": "stream",
     "text": [
      "  2%|▏         | 9/489 [00:49<42:14,  5.28s/it]"
     ]
    },
    {
     "name": "stdout",
     "output_type": "stream",
     "text": [
      "8 https://youtu.be/Nfnk_AeTVk0&pp 홈쇼핑 수도승의 풀소유 인생💰 (홈쇼핑 말고 다른 유료광고 포함)│Ep.79 구라철 UC8jn6wsEWH9Edynop6DYX8g 최초 공개: 2023. 5. 12. 432,807 32.1만 T 예- 김구랍니다! 제 절친한 지기 염경환이가 홈쇼핑으로 연 30억을 번다고 하는데요 씁-\n",
      "과연 그 돈을 벌만큼 잘하고 있는지! 제가 그 생방 현장을 직접 찾아가봤습니다!\n",
      "\n",
      "#김구라 #구라철 #염경환\n",
      "비즈니스 문의  👉 gura.givemoney@gmail.com\n"
     ]
    },
    {
     "name": "stderr",
     "output_type": "stream",
     "text": [
      "  2%|▏         | 10/489 [00:54<41:06,  5.15s/it]"
     ]
    },
    {
     "name": "stdout",
     "output_type": "stream",
     "text": [
      "9 https://youtu.be/GKGO1sfYXDs 공부를 하면 망하는 이유 쌤들 뭐하니? UCJ80ETGvGQ1amKtYwoqG3zA 2023. 3. 9. 220,351 2.26천 T 공부를 하면 망하는 이유\n",
      "#학원 #학원강사 #학원강사브이로그 #학원브이로그 #일타강사\n"
     ]
    },
    {
     "name": "stderr",
     "output_type": "stream",
     "text": [
      "  2%|▏         | 11/489 [00:59<40:56,  5.14s/it]"
     ]
    },
    {
     "name": "stdout",
     "output_type": "stream",
     "text": [
      "10 https://youtu.be/Z3mY1x3xK30&pp [좋좋슈] 사장님 진짜 배민 처음 써보세요? (유료광고포함) 슈카월드 코믹스 UCJo6G1u0e_-wS-JQn3T-zEw 2023. 3. 8. 178,048 39.8만 T * 아래 링크를 통해 배달의민족 앱을 처음 이용하는 시청자분들께 17,000원의 혜택을 드립니다!\n",
      "- url : https://baeminkr.onelink.me/XgL8/48oy...\n",
      "- 쿠폰코드 : 슈카월드\n",
      "\n",
      "▶ [좋아요 좋아요 슈카월드]\n",
      "📌 좋좋슈 최초 광고를 맞이하여 텐션 MAX된 니니와 앤톡이\n",
      "& 법카로 모듬회 회식 가즈아~!\n",
      "\n",
      "#배달의민족 #좋좋슈\n"
     ]
    },
    {
     "name": "stderr",
     "output_type": "stream",
     "text": [
      "  2%|▏         | 12/489 [01:05<43:48,  5.51s/it]"
     ]
    },
    {
     "name": "stdout",
     "output_type": "stream",
     "text": [
      "11 https://youtu.be/J-jwQKYGVBo&pp SUB 사이다) 지방출신은 꼴통 집합소? 빡대가리라고 비하하다 참교육 당한 전교1등ㅋㅋ | [루대숲] - 105번째 사연 루디고GO UCqHP70746lwBPFp30_wl5gQ 2023. 4. 8. 481,498 38.5만 T 큐비 앱에 관해 궁금하다면? 아래 링크로 얼른 설치해보기🤍\n",
      "💥앱스토어:  apple.co/3d9uXkZ\n",
      "💥플레이스토어:  bit.ly/3BeIOhQ\n",
      "\n",
      "💌 여러분의 재밌는 루대숲 사연 제보를 기다립니다~! \n",
      "\n",
      "💜비즈니스 문의는 여기로💜\n",
      "inforudygo@gmail.com\n",
      "\n",
      "💜루대숲 출연 신청 메일💜\n",
      "(연기 영상과 연락처, 경력 꼭 첨부 부탁드립니다)\n",
      "rudygo.love@gmail.com\n",
      "\n",
      "💜루대숲 사연함💜\n",
      "rudygo.love@gmail.com\n",
      "\n",
      "#루디고 #루대숲 #참교육 #큐비 #전교1등 #문제집 #사이다 \n",
      "\n",
      "👇 루디 GO! SNS GO!\n",
      "https://www.facebook.com/rudygo.official\n",
      "https://www.tiktok.com/@rudygo.offici...\n"
     ]
    },
    {
     "name": "stderr",
     "output_type": "stream",
     "text": [
      "  3%|▎         | 13/489 [01:11<43:10,  5.44s/it]"
     ]
    },
    {
     "name": "stdout",
     "output_type": "stream",
     "text": [
      "12 https://youtu.be/Q0HKGCUH1DA&pp 챗GPT를 신빡하게 사용하는 방법  ➡️ GPT4 무료사용법 포함 무빙워터 UCY0gKpXFzg_Db399xEv0Ojw 2023. 5. 21. 149,120 18.6만 T 이제 AI의 시대가 왔다고 합니다. \n",
      "하지만 나는 대부분의 사람들은 AI를 사용하고 있지 않습니다. \n",
      "\n",
      "AI로 대표되는 챗gpt (GPT4)\n",
      "사람들이 아직 사용하지 않고 있는 이유는 두 가지,\n",
      "\n",
      "1. 이걸로 뭘 해야 할지 몰라서\n",
      "2. 유료라서\n",
      "\n",
      "저도 압니다. \n",
      "아무리 이야기 해도 아마 시도해 보는 사람은 적겠지요? \n",
      "하지만 이렇게 한번이라도 생성형 AI를, GPT4를 경험해보지 않으면,\n",
      "우리는 어느새 \"세상물정 모르는 아재\"가 될 지도 모릅니다. \n",
      "\n",
      "트렌드를 따르는 것을 너무나도 싫어하지만, \n",
      "이런 거대한 변화는 함께 체험하고 알아 가자구요 =) \n",
      "\n",
      "#자막수정:   GPA4 ➡️ GPT4   🙏\n",
      "\n",
      "\n",
      "#챗gpt 사용법 #gpt4 #챗gpt #뤼튼 \n",
      "\n",
      "[본 영상은 뤼튼테크놀로지스의 유료광고가 포함되어 있습니다.]\n",
      "\n",
      "바로가기:\n",
      "https://wrtn.ai/?utm_source=youtube&u...\n",
      "gn=update&utm_content=mvng\n",
      "\n",
      "\n",
      "\n",
      "\n",
      "[저의 이야기가 더 궁금하신 분들은]\n",
      " + 📚 책: https://url.kr/nsqyjd\n",
      " + 👩🏻‍🏫 자존감 수업: https://101creator.page.link/G2m7\n",
      " + 📸 인스타그램: https://www.instagram.com/mvngwter/\n",
      " + 📻 라디오: https://www.music-flo.com/detail/prog...\n",
      " + 📂 비즈니스 문의: mvngwter@gmail.com\n",
      "\n",
      "\n",
      "[사용장비]\n",
      "사용하는 카메라: Sony a6400,  // sony a7c\n",
      "카메라 렌즈: sony 18-105, sony 35-18, sigma 16-18, // sony 16-35\n",
      "카메라 마이크: Rode videomicro pro plus\n",
      "- 편집 프로그램: Final cut X\n",
      "- 음원 사이트: Artlist 비디오용 음악 라이센스\n",
      "  ㅇ https://artlist.io/무빙워터-3233396\n"
     ]
    },
    {
     "name": "stderr",
     "output_type": "stream",
     "text": [
      "  3%|▎         | 14/489 [01:16<43:10,  5.45s/it]"
     ]
    },
    {
     "name": "stdout",
     "output_type": "stream",
     "text": [
      "13 https://youtu.be/_bEK-vqluj0&pp 하필 고3때 외계인 쳐들어와ㅠ 전교생이 \"군필 고딩\"이 됨ㅋ 열받은 배그의 민족 방과후 육군훈련으로 점점 특수부대급🔥으로 성장하는 개쩌는 설정의 드라마 나왔다ㅋㅋ 고몽 UCpcft4FJXgUjnxWoQYsl7Ug 2023. 4. 1. 3,956,144 229만 T 이 영상엔 유료광고가 포함되었으며, 티빙의 저작권 허가를 받고 업로드 되었습니다. \n",
      "#유료광고 #티빙 #방과후전0쟁활동\n"
     ]
    },
    {
     "name": "stderr",
     "output_type": "stream",
     "text": [
      "  3%|▎         | 15/489 [01:21<42:36,  5.39s/it]"
     ]
    },
    {
     "name": "stdout",
     "output_type": "stream",
     "text": [
      "14 https://youtu.be/fzYrzsdABOM 바뀐 후, 조회수 630만회 쇼츠 수익 실수투성이고 외로운 나를 봐 UCq41T1enIfx_52BuuesMLmg 2023. 3. 25. 352,908 1.51만 T #shorts  \n",
      "안녕하세요? 시청해주셔서 감사합니다\n"
     ]
    },
    {
     "name": "stderr",
     "output_type": "stream",
     "text": [
      "  3%|▎         | 16/489 [01:26<41:35,  5.28s/it]"
     ]
    },
    {
     "name": "stdout",
     "output_type": "stream",
     "text": [
      "더보기 없음\n",
      "15 https://youtu.be/WSf8d8Cd4dc 유로광고 포함!선생님의 추천을 받아 광고합니다~많이 사주세용! #악플ㄴㄴ #유료광고 죄없는 백여우🤍 UCYq6FaA2IuljgYzxyc-RU3A 2023. 6. 20. 83 254 T 더보기 없음\n"
     ]
    },
    {
     "name": "stderr",
     "output_type": "stream",
     "text": [
      "  3%|▎         | 17/489 [01:32<43:12,  5.49s/it]"
     ]
    },
    {
     "name": "stdout",
     "output_type": "stream",
     "text": [
      "16 https://youtu.be/Z6UHlW_SE9E&pp 대이직의 시대, 급변하는 채용 시장 [유료광고 포함] 슈카월드 UCsJ6RuBiTVWRX156FVbeaGg 2023. 3. 9. 490,818 279만 T 그리팅의 유료광고가 포함된 영상입니다.\n",
      "\n",
      "국내 1등 ATS 그리팅 알아보기 : https://bit.ly/3kXfybe\n",
      "슈카 구독자 2개월 무료체험 이벤트 : 회원가입 👉 우측 상단 프로필 클릭 👉 이벤트탭 클릭 👉 \"슈카이벤트\" 입력\n",
      "*단 2주일 한정 (3/9 ~ 3/22)\n",
      "*결제 이력 없는 신규 가입 고객 한정\n",
      "\n",
      "#Greeting\n"
     ]
    },
    {
     "name": "stderr",
     "output_type": "stream",
     "text": [
      "  4%|▎         | 18/489 [01:38<42:51,  5.46s/it]"
     ]
    },
    {
     "name": "stdout",
     "output_type": "stream",
     "text": [
      "17 https://youtu.be/nh9phaEhaV0&pp [study vlog] 시험기간 공부 vlog/ 08년생 시험공부 브이로그/ 스카에서 쓰기 좋은 마스크 추천 | 류희진 류희진 UCz4yPJFDRz7dv_mrGIEWYUg 2022. 10. 10. 63,773 2.08만 T #08년생 #브이로그 #시험기간\n",
      "이 영상은 ‘마스크혁명’의 유료광고를 포함하고 있습니다\n",
      "\n",
      "비즈니스 문의\n",
      "회사\n",
      "contact@lamstudio.co.kr\n",
      "\n",
      "개인\n",
      "ryuheejin0714@gmail.com\n",
      "or\n",
      "ryuheejin7@naver.com\n",
      "\n",
      "music\n",
      "\n",
      "✔ Clock by 좌우\n",
      "\n",
      "🎧 Download / Stream \n",
      "- https://www.sellbuymusic.com/musicDet...\n",
      "\n",
      "✔ thraw by okuyoon\n",
      "\n",
      "🎧 okuyoon\n",
      "- https://www.instagram.com/iont.ru/?hl=ko\n",
      "\n",
      "🎧 Download / Stream \n",
      "- https://www.sellbuymusic.com/musicDet...\n",
      "\n",
      "✔ 새벽 by KH71\n",
      "\n",
      "🎧 Download / Stream \n",
      "- https://www.sellbuymusic.com/musicDet...\n"
     ]
    },
    {
     "name": "stderr",
     "output_type": "stream",
     "text": [
      "  4%|▍         | 19/489 [01:43<43:03,  5.50s/it]"
     ]
    },
    {
     "name": "stdout",
     "output_type": "stream",
     "text": [
      "18 https://youtu.be/uhPy9uyolGw&pp SNS 팔로워수로 권력이 나뉘는 인플루언서맘들의 잘난척과 허세 뒤 숨겨진 갑질러의 모습…! 펜트하우스급 초고급 아파트 쎈케 엄마들의 소름끼치는 저격과 나락《행복배틀》#ena채널 고몽 UCpcft4FJXgUjnxWoQYsl7Ug 2023. 6. 2. 3,843,808 229만 T 이 영상엔 유료광고가 포함되어 있으며, 저작권 허가를 받았습니다.\n",
      "[행복배틀] 1-2화이며, 본방 시청은 아래 채널번호에서 가능합니다.\n",
      "지니TV 1/skylife 1/Btv 40/U+ 72/LG헬로비전 45/딜라이브 58/CMB 37/Btv케이블 57/HCN 996\n",
      "#유료광고 #행복배틀 #ena채널\n"
     ]
    },
    {
     "name": "stderr",
     "output_type": "stream",
     "text": [
      "  4%|▍         | 20/489 [01:48<41:41,  5.33s/it]"
     ]
    },
    {
     "name": "stdout",
     "output_type": "stream",
     "text": [
      "19 https://youtu.be/V147e3QVeNI 상대방의 호감을 얻는 방법 #shorts 준빵조교 UCZBnTuV4vECT_JiJcZkxE2A 2023. 3. 19. 107,816 29.2만 T #shorts \n",
      "\n",
      "※이 영상은 '치킨플러스'의 유료광고를 포함하고 있습니다※  \n",
      "치킨플러스 어플에서 한달구독료 2000원으로 6000원 할인권 네장을!\n",
      "[ ※ 포장 주문 전용 앱 ※]\n"
     ]
    },
    {
     "name": "stderr",
     "output_type": "stream",
     "text": [
      "  4%|▍         | 21/489 [01:54<43:09,  5.53s/it]"
     ]
    },
    {
     "name": "stdout",
     "output_type": "stream",
     "text": [
      "20 https://youtu.be/I01pzEznbdU&pp [유료광고포함] 🏝️ 고독한 여행가가 되어 홀로 1박 2일 브이로그 해쭈 [HAEJOO] UC6KwCU8Y8Uw4h_Q0ptLZkqw 2023. 3. 5. 888,969 75.1만 T 영상 속 한정세트는 3월 한달간 만나볼 수 있고, \n",
      "3/8 올영세일 기간동안 최대 35% 할인으로 만나볼 수 있답니다!\n",
      "아래 링크를 확인해주세요! 쭈바쭈바~\n",
      "\n",
      "👉🏽https://ma.oliveyoung.co.kr/m/G.do?go...\n",
      "\n",
      "-\n",
      "\n",
      "비지니스 문의는 이쪽으로 👉🏽 haejoo@sandboxnetwork.net\n",
      "감성가득 인스타그램 👉🏽  https://instagram.com/hae_jooooo_\n",
      "미지의 그곳 해쭈 팬카페 👉🏽  https://m.cafe.naver.com/australiahaeju\n"
     ]
    },
    {
     "name": "stderr",
     "output_type": "stream",
     "text": [
      "  4%|▍         | 22/489 [02:00<42:14,  5.43s/it]"
     ]
    },
    {
     "name": "stdout",
     "output_type": "stream",
     "text": [
      "21 https://youtu.be/ejj-BAA7lwo&pp [유료광고포함] 새벽 4시 기상해서 미국 하이틴으로 변신하기! 미드 유포리아 캐씨 모닝루틴 챌린지 💖 해쭈 [HAEJOO] UC6KwCU8Y8Uw4h_Q0ptLZkqw 2023. 2. 10. 1,113,939 75.1만 T 💖디오디너리X해쭈 이벤트💖\n",
      "\n",
      "📣앙큼불여우들 주-목!!!\n",
      "영상 시청 후 댓글과 함께 아래 링크에 \n",
      "들어가셔서 폼을 제출하시고 \n",
      "디오디너리 데일리 세트 받아 가세요!!!\n",
      "\n",
      "링크👉🏽https://forms.gle/RXgcNAFXfqrj2fcq6\n",
      "\n",
      "참여 기간 : 2월 10~20일\n",
      "당첨자 개별 연락 : 2월 24일\n",
      "\n",
      "[제품 구매처]\n",
      "\n",
      "💄시코르\n",
      "https://chicor.com/exhibition/3337?ut...\n",
      "\n",
      "🧴디오디너리 공식 브랜드 스토어\n",
      "https://brand.naver.com/theordinary/s...\n",
      "\n",
      "🛍️오프라인 매장\n",
      "\n",
      "디오디너리 연남 매장: 서울시 마포구 동교동 153-1 1층\n",
      "디오디너리 가로수길 매장: 서울시 강남구 신사동 533-14 1층\n",
      "\n",
      "-\n",
      "\n",
      "비지니스 문의는 이쪽으로 👉🏽 haejoo@sandboxnetwork.net\n",
      "감성가득 인스타그램 👉🏽  https://instagram.com/hae_jooooo_\n",
      "미지의 그곳 해쭈 팬카페 👉🏽  https://m.cafe.naver.com/australiahaeju\n"
     ]
    },
    {
     "name": "stderr",
     "output_type": "stream",
     "text": [
      "  5%|▍         | 23/489 [02:06<43:26,  5.59s/it]"
     ]
    },
    {
     "name": "stdout",
     "output_type": "stream",
     "text": [
      "22 https://youtu.be/528XMujOZGw&pp 오픈 전부터 우당탕탕💫 티격태격💥 서진이네 모음 #highlight #유료광고포함 #서진이네 EP.1 tvN UC78PMQprrZTbU0IlMDsYZPw 2023. 2. 25. 1,354,925 391만 T 티빙에서 스트리밍 : https://tving.onelink.me/xHqC/30a78d6f\n",
      "\n",
      "일곱 빛깔 호수를 품은 멕시코에서\n",
      "#서진이네 OPEN!\n",
      "\n",
      "식당 경영에 진심인 사장 #이서진\n",
      "이사로 승진한 #정유미\n",
      "주방의 실세로 거듭난 #박서준\n",
      "서진이네 분위기 메이커 #최우식 \n",
      "설거지요정 새 인턴 #김태형\n",
      "\n",
      "오늘도 어서오세요 :)\n",
      "서진이네 EP.1\n",
      "tvN 매주 금요일 오후 8시 50분!\n",
      "\n",
      "#티빙에서스트리밍\n"
     ]
    },
    {
     "name": "stderr",
     "output_type": "stream",
     "text": [
      "  5%|▍         | 24/489 [02:11<43:01,  5.55s/it]"
     ]
    },
    {
     "name": "stdout",
     "output_type": "stream",
     "text": [
      "23 https://youtu.be/4xB-7hmRNwY&pp 누가 한국인은 밥심이래? 최소 서진이네는 라면 파워임 #highlight #유료광고포함 #서진이네 EP.2 tvN UC78PMQprrZTbU0IlMDsYZPw 2023. 3. 4. 1,481,795 391만 T 티빙에서 스트리밍 : https://tving.onelink.me/xHqC/30a78d6f\n",
      "\n",
      "\"일곱 빛깔 호수를 품은 멕시코에서\n",
      "#서진이네 OPEN!\n",
      "\n",
      "식당 경영에 진심인 사장 #이서진\n",
      "이사로 승진한 #정유미\n",
      "주방의 실세로 거듭난 #박서준\n",
      "서진이네 분위기 메이커 #최우식 \n",
      "설거지요정 새 인턴 #김태형\n",
      "\n",
      "오늘도 어서오세요 :)\n",
      "서진이네 EP.2\n",
      "tvN 매주 금요일 오후 8시 50분! \"\n",
      "\n",
      "#티빙에서스트리밍\n"
     ]
    },
    {
     "name": "stderr",
     "output_type": "stream",
     "text": [
      "  5%|▌         | 25/489 [02:16<42:01,  5.43s/it]"
     ]
    },
    {
     "name": "stdout",
     "output_type": "stream",
     "text": [
      "24 https://youtu.be/ZT1BqR2sVXA&pp 우리 드라마 주연 어때요? 벌칙 같은 의상 공개 #유료광고포함 #뿅뿅지구오락실2 EP.1 | tvN 230512 방송 tvN UC78PMQprrZTbU0IlMDsYZPw 2023. 5. 16. 284,074 391만 T 티빙에서 스트리밍 : https://tving.onelink.me/xHqC/30a78d6f\n",
      "\n",
      "겨울왕국 핀란드에서 벌어지는 지구 용사즈의 대모험\n",
      "\n",
      "지락이들 텐션 끌어올리는 리더 #이은지\n",
      "논스톱, 노필터! 예능 탐험가 #미미\n",
      "영석이 형 담당 행동대장 #이영지\n",
      "똑 부러지는 게임 길라잡이 #안유진\n",
      "#뿅뿅지구오락실2 #eartharcade2 EP.1\n",
      "저녁 8:40 tvN\n",
      "\n",
      "#티빙에서스트리밍\n"
     ]
    },
    {
     "name": "stderr",
     "output_type": "stream",
     "text": [
      "  5%|▌         | 26/489 [02:21<41:24,  5.37s/it]"
     ]
    },
    {
     "name": "stdout",
     "output_type": "stream",
     "text": [
      "25 https://youtu.be/-r8FWHf27iU&pp 🐝 텅텅 비어가는 벌통...1년에 140억 마리 이상 사라지고 있습니다 \"진짜 이러다 우리 다 죽어 ㅠㅜ\" ｜크랩  (유료광고 포함) 크랩 KLAB UCoxT1kQSLq564FwpK473w-g 2023. 5. 20. 292,519 49.4만 T #크랩 #꿀벌 #그린피스 #kbs뉴스 \n",
      "\n",
      "🐝꿀벌을 지키기 위해 함께해 주세요.  👉https://act.gp/3oaB8uu\n",
      "\n",
      "요 몇 년 새 세상을 떠들썩하게 하고 있는 \n",
      "‘꿀벌 실종 사건’ \n",
      "\n",
      "지난 겨울에 국내에서 사라진 꿀벌만 \n",
      "최소 141억 마리라는데요.\n",
      "\n",
      "꿀벌이 사라지면 딸기도, 수박도 먹기 힘들어진다는 사실\n",
      "알고 계셨나요?\n",
      "\n",
      "우리나라에서 1년에 창출하는 경제적 가치만 \n",
      "6조원이 넘는다는 꿀벌을\n",
      "크랩이 만나봤습니다.\n"
     ]
    },
    {
     "name": "stderr",
     "output_type": "stream",
     "text": [
      "  6%|▌         | 27/489 [02:27<41:20,  5.37s/it]"
     ]
    },
    {
     "name": "stdout",
     "output_type": "stream",
     "text": [
      "26 https://youtu.be/4vmi49Ij_GY&pp 태국 다녀온 한국인 '이 아메바'에 첫 사망..유일한 예방법은｜크랩 (유료광고포함) 크랩 KLAB UCoxT1kQSLq564FwpK473w-g 2022. 12. 27. 82,469 49.4만 T #크랩 #아메바 #태국\n",
      "\n",
      "이른바 '뇌 먹는 아메바'로 알려진 파울러자유아메바에 감염된 50대 남성이 지난 21일 숨졌습니다. 이 남성은 태국에서 4달 체류한 뒤 국내로 들어왔는데, 귀국 당일부터 두통과 고열 등의 증상을 보여 다음날 응급실로 이송됐지만 열흘 만에 숨졌습니다. 병원체 검사 결과 파울러자유아메바에 감염된 것으로 확인됐는데, 한국인으로는 첫 사망사례입니다.\n",
      "이 아메바 정체가 뭔지, 얼마나 위험한 건지, 우리나라는 안전한지, 그리고 해외 여행 시 특히 뭘 조심해야 할지 크랩이 5분으로 정리했습니다.\n"
     ]
    },
    {
     "name": "stderr",
     "output_type": "stream",
     "text": [
      "  6%|▌         | 28/489 [02:32<40:33,  5.28s/it]"
     ]
    },
    {
     "name": "stdout",
     "output_type": "stream",
     "text": [
      "27 https://youtu.be/nvVhjoA1N_U&pp [EP1]안녕하세요. 여행 유튜버 입니다. 주호다 UCCFLyWRmaMeQ0f4ndIeChOw 2023. 6. 19. 468,315 21.9만 T *이 영상에는 로벡틴 유료광고가 포함되어있습니다\n",
      "여러분! 안녕하세요! 또 한주가 시작되는 월요일이네요…. 그래도 오늘 하루 잘 마무리하시고 영상 재밌게 봐주세요🫶 사실 괌 다녀온 지가 꽤 오래 지났는데 오늘 올리네요! 다시 보니까 추억도 돋고 아주 좋았어요😆😍\n",
      "\n",
      "제가 소개해 드린 로벡틴 마스크팩 정말 좋아요! 진짜 진짜 추천해 드리니까 꼭 한번 사용해보세요! 그리고 지금 할인 중이래요!!!\n",
      "\n",
      "💙🤍올리브영 모공케어 강추템💙🤍\n",
      "”로벡틴 모공 마스크팩”\n",
      "[로벡틴 닥터마스크 포어 1매입]\n",
      "정상가 3,000원 👉🏻 온/오프라인 할인가 1,140원 (6/19~25일, 단 7일)\n",
      "\n",
      "🛒 로벡틴 모공 마스팩 구경가기 : https://bit.ly/3LU5Wrs\n",
      "\n",
      "*이 영상의 저작권은 해당 채널에 있습니다. 해당 영상을 별도의 허가 없이 사용 및 2차 편집을 금지하며, 허가 문의는 다음 주소로 부탁드립니다.\n",
      "koheun@collabasia.co, hyungju@collabasia.co\n",
      "\n",
      "ⓒ 2023. 주호다 All rights reserved\n"
     ]
    },
    {
     "name": "stderr",
     "output_type": "stream",
     "text": [
      "  6%|▌         | 29/489 [02:37<40:24,  5.27s/it]"
     ]
    },
    {
     "name": "stdout",
     "output_type": "stream",
     "text": [
      "28 https://youtu.be/b3aNmuOPgG4&pp 서진이네 휴일 보내는 법 & MBTI 극 N들의 '만약에' 게임 #유료광고포함 #서진이네 EP.4 | tvN 230317 방송 tvN UC78PMQprrZTbU0IlMDsYZPw 2023. 3. 18. 462,760 391만 T 티빙에서 스트리밍 : https://tving.onelink.me/xHqC/30a78d6f\n",
      "\n",
      "일곱 빛깔 호수를 품은 멕시코에서\n",
      "#서진이네 OPEN!\n",
      "\n",
      "식당 경영에 진심인 사장 #이서진\n",
      "이사로 승진한 #정유미\n",
      "주방의 실세로 거듭난 #박서준\n",
      "서진이네 분위기 메이커 #최우식 \n",
      "설거지요정 새 인턴 #김태형\n",
      "\n",
      "오늘도 어서오세요 :)\n",
      "서진이네 EP.4\n",
      "tvN 매주 금요일 오후 8시 50분!\n",
      "\n",
      "#티빙에서스트리밍\n"
     ]
    },
    {
     "name": "stderr",
     "output_type": "stream",
     "text": [
      "  6%|▌         | 30/489 [02:42<40:01,  5.23s/it]"
     ]
    },
    {
     "name": "stdout",
     "output_type": "stream",
     "text": [
      "29 https://youtu.be/D8IHS63MdRA&pp 역대급 매출! 우리 사장님이 (좋게) 달라졌어요~♥ #유료광고포함 #서진이네 EP.6 | tvN 230331 방송 tvN UC78PMQprrZTbU0IlMDsYZPw 2023. 4. 1. 81,918 391만 T 티빙에서 스트리밍 : https://tving.onelink.me/xHqC/30a78d6f\n",
      "\n",
      "일곱 빛깔 호수를 품은 멕시코에서\n",
      "#서진이네 OPEN!\n",
      "\n",
      "식당 경영에 진심인 사장 #이서진\n",
      "이사로 승진한 #정유미\n",
      "주방의 실세로 거듭난 #박서준\n",
      "서진이네 분위기 메이커 #최우식 \n",
      "설거지요정 새 인턴 #김태형\n",
      "\n",
      "오늘도 어서오세요 :)\n",
      "서진이네 EP.6\n",
      "tvN 매주 금요일 오후 8시 50분!\n",
      "\n",
      "#티빙에서스트리밍\n"
     ]
    },
    {
     "name": "stderr",
     "output_type": "stream",
     "text": [
      "  6%|▋         | 31/489 [02:48<41:20,  5.42s/it]"
     ]
    },
    {
     "name": "stdout",
     "output_type": "stream",
     "text": [
      "30 https://youtu.be/1A2_gPJI0pU&pp 👩‍🍳이건 맛의 대! 잔! 치! 만석일 때 서진이네가 손님을 대하는 자세👨‍🍳 #highlight #유료광고포함 #서진이네 EP.6 tvN UC78PMQprrZTbU0IlMDsYZPw 2023. 4. 1. 726,167 391만 T 티빙에서 스트리밍 : https://tving.onelink.me/xHqC/30a78d6f\n",
      "\n",
      "일곱 빛깔 호수를 품은 멕시코에서\n",
      "#서진이네 OPEN!\n",
      "\n",
      "식당 경영에 진심인 사장 #이서진\n",
      "이사로 승진한 #정유미\n",
      "주방의 실세로 거듭난 #박서준\n",
      "서진이네 분위기 메이커 #최우식 \n",
      "설거지요정 새 인턴 #김태형\n",
      "\n",
      "오늘도 어서오세요 :)\n",
      "서진이네 EP.6\n",
      "tvN 매주 금요일 오후 8시 50분!\n",
      "\n",
      "#티빙에서스트리밍\n"
     ]
    },
    {
     "name": "stderr",
     "output_type": "stream",
     "text": [
      "  7%|▋         | 32/489 [02:53<40:34,  5.33s/it]"
     ]
    },
    {
     "name": "stdout",
     "output_type": "stream",
     "text": [
      "31 https://youtu.be/JKNIH9Zt73o&pp 외항사 승무원 브이로그📝 유럽감성 가득 멜번🏰  빅토리아 도서관🏛 비오는 멜번에서의 커피☕️ 내가 요즘 챙겨먹는 이 것 #승무원콜라겐 #승무원피부관리 #아일로콜라겐 Hello Ash UCyZLT-DqGxa4vjD86utRgEw 2023. 9. 15. 60 742 T 여러분 안녕하세요🫶🏼\n",
      "\n",
      "요즘 제가 꾸준히 챙겨먹고 있는 콜라겐 아일로 구매처입니다.\n",
      "-면세점: 롯데,신라 인터넷면세점, 인천공항점 신세계면세점\n",
      "-추석 선물: 현재 카카오톡 선물하기에서 추석 선물 오간자 에디션 선물 세트 판매중이라고 하네요! 감사한 주변분들께 고급스러운 아일로 콜라겐 선물해보세요~ ▶️ http://kko.to/EfWRkZ-oia\n",
      "\n",
      "유료광고 포함 \n",
      "8:27 아일로 콜라겐 찐리뷰 참고😉\n",
      "\n",
      "\n",
      "\n",
      "항상 감사드려요🙇🏻‍♀️\n",
      "\n",
      "\n",
      "#승무원브이로그 #멜번여행 #빅토리아도서관\n"
     ]
    },
    {
     "name": "stderr",
     "output_type": "stream",
     "text": [
      "  7%|▋         | 33/489 [02:59<42:42,  5.62s/it]"
     ]
    },
    {
     "name": "stdout",
     "output_type": "stream",
     "text": [
      "32 https://youtu.be/KGoQ2rocMWw&pp 먹으면서 여행하는 방콕 럭셔리 버스 레스토랑 - 태국 여행(2)🇹🇭 유일랜드 Uiland UCROZ65h0wA0LPNDMwpS5xPw 2023. 9. 14. 7,843 21.7만 T #방콕여행 #태국여행 #노스페이스 #노스페이스아웃도어 #THENORTHFACE\n",
      "\n",
      "📢 공지 채널 : https://ig.me/j/AbYLJGC7-P7W_cCv/\n",
      "📷 인스타그램 : www.instagram.com/uiland.kr\n",
      "✉️ 이메일 : uiland118@gmail.com\n",
      "\n",
      "* 본 영상은 노스페이스의 유료광고를 포함하고 있습니다.\n",
      "\n",
      "👇👇노스페이스 빅샷 트레블 이벤트👇👇\n",
      "https://www.thenorthfacekorea.co.kr/e...\n",
      "\n",
      "✨여행경로✨\n",
      "\n",
      "📍Bangkok, Thailand\n",
      "\n",
      "📍Bangkok Bustaurant\n",
      " -  981 ศูนย์การค้า ฮอลิเดย์อินน์ กรุงเทพ สีลม เลขที่ห้อง1-2 Si Lom, Bang Rak, Bangkok 10500\n",
      "\n",
      "----------------------------------------------------------------------------------\n",
      "\n",
      "🎥 촬영장비\n",
      "\n",
      "iPhone 14 Pro Max\n",
      "Gopro Hero Black 11\n",
      "\n",
      "💻 편집장비\n",
      "\n",
      "2021 맥북프로 16인치\n",
      "2021 맥북프로 14인치\n"
     ]
    },
    {
     "name": "stderr",
     "output_type": "stream",
     "text": [
      "  7%|▋         | 34/489 [03:05<41:46,  5.51s/it]"
     ]
    },
    {
     "name": "stdout",
     "output_type": "stream",
     "text": [
      "33 https://youtu.be/fHAyWdRR70U&pp 직원 복지 최고! ★숙소 공개★ 스포의 길로 안내하는 김태형ㅋㅋㅋ #유료광고포함 #서진이네 EP.1 | tvN 230224 방송 tvN UC78PMQprrZTbU0IlMDsYZPw 2023. 2. 25. 264,125 391만 T 티빙에서 스트리밍 : https://tving.onelink.me/xHqC/30a78d6f\n",
      "\n",
      "일곱 빛깔 호수를 품은 멕시코에서\n",
      "#서진이네 OPEN!\n",
      "\n",
      "식당 경영에 진심인 사장 #이서진\n",
      "이사로 승진한 #정유미\n",
      "주방의 실세로 거듭난 #박서준\n",
      "서진이네 분위기 메이커 #최우식 \n",
      "설거지요정 새 인턴 #김태형\n",
      "\n",
      "오늘도 어서오세요 :)\n",
      "서진이네 EP.1\n",
      "tvN 매주 금요일 오후 8시 50분!\n",
      "\n",
      "#티빙에서스트리밍\n"
     ]
    },
    {
     "name": "stderr",
     "output_type": "stream",
     "text": [
      "  7%|▋         | 35/489 [03:10<40:21,  5.33s/it]"
     ]
    },
    {
     "name": "stdout",
     "output_type": "stream",
     "text": [
      "34 https://youtu.be/j0GqpEE_JV8 타이베이 여행가서 꼭 먹어야하는 음식 BEST 12 (유료광고 포함) 푸드링FoodRing UCgpuy1KaKIJeE2ITasZC6eQ 2023. 6. 11. 1,049 1.82천 T #shorts\n"
     ]
    },
    {
     "name": "stderr",
     "output_type": "stream",
     "text": [
      "  7%|▋         | 36/489 [03:15<39:29,  5.23s/it]"
     ]
    },
    {
     "name": "stdout",
     "output_type": "stream",
     "text": [
      "35 https://youtu.be/73oAtMAARlQ&pp 지락이들 핀란드에서 떡볶이를 접하다 #유료광고포함 #뿅뿅지구오락실2 EP.4 | tvN 230602 방송 tvN UC78PMQprrZTbU0IlMDsYZPw 2023. 6. 3. 135,998 391만 T 티빙에서 스트리밍 : https://tving.onelink.me/xHqC/30a78d6f\n",
      "\n",
      "겨울왕국 핀란드에서 벌어지는 지구 용사즈의 대모험\n",
      "\n",
      "지락이들 텐션 끌어올리는 리더 #이은지\n",
      "논스톱, 노필터! 예능 탐험가 #미미\n",
      "영석이 형 담당 행동대장 #이영지\n",
      "똑 부러지는 게임 길라잡이 #안유진\n",
      "#뿅뿅지구오락실2 #eartharcade2 EP.4\n",
      "저녁 8:40 tvN\n",
      "\n",
      "#티빙에서스트리밍\n"
     ]
    },
    {
     "name": "stderr",
     "output_type": "stream",
     "text": [
      "  8%|▊         | 37/489 [03:20<39:42,  5.27s/it]"
     ]
    },
    {
     "name": "stdout",
     "output_type": "stream",
     "text": [
      "36 https://youtu.be/X0KEtnZ7yZk&pp [쿠키 털이] 편집자님이 앙큼하게 구운 쿠키 서기채널 UCuajy72PSiVFbLHUrZXW3OA 2023. 9. 14. 46,314 19.4만 T 이 영상은 [유료 광고] 를 포함하고 있지않습니다\n",
      "👉🏼 [Instagram] - h___ryan \n",
      "👉🏼 [Contact] - h___ryan@sandboxnetwork.net\n",
      "\n",
      "안뇨옹 찰떠기들🍡❤️ \n",
      "이번주는 서기송 빨리 들려주고 싶어서 월요일에 영상이 올라가서 목요일 기다리는 우리 찰떠기들 위해서 편집자님이 맛있게 구운 쿠키털이 해왔어어어!!!\n",
      "이번주에는 두번이나 만나는 거니까 짧더라도 재밌게 봐줘어?!\n",
      "구독 과 좋아요 댓글 알림설정은 ❤️ 이죠.\n",
      "\n",
      "#서기 #서기의되도않는 #현석공주\n"
     ]
    },
    {
     "name": "stderr",
     "output_type": "stream",
     "text": [
      "  8%|▊         | 38/489 [03:25<39:16,  5.22s/it]"
     ]
    },
    {
     "name": "stdout",
     "output_type": "stream",
     "text": [
      "37 https://youtu.be/D9VHFgd9dbw&pp 야놀자 광고찍은 썰 [유료 광고 포함] 슈카월드 UCsJ6RuBiTVWRX156FVbeaGg 2023. 6. 1. 291,682 279만 T 5/28(일) 조회 당시 가격이며, 가격 조회 일자에 따라 할인 금액은 변동될 수 있습니다.\n",
      "\n",
      "여름 휴가도 놀자. 계산적으로.\n",
      "https://yanolja.onelink.me/tmFm/pe5s2v9x\n",
      "\n",
      "어렵고 딱딱한 경제,시사,금융 이야기를\n",
      "쉽고 유쾌하게 풀어내는\n",
      "경제/시사/이슈/잡썰 토크방송입니다.\n",
      "\n",
      "#yanolja\n"
     ]
    },
    {
     "name": "stderr",
     "output_type": "stream",
     "text": [
      "  8%|▊         | 39/489 [03:30<39:37,  5.28s/it]"
     ]
    },
    {
     "name": "stdout",
     "output_type": "stream",
     "text": [
      "38 https://youtu.be/xOfh5L-mRSY&pp 언제 이만큼 컸어😭 챙김만 받던 1세대 랜선 조카들이 본격 남들 챙겨주는 영상.MP4💕 #유료광고포함 #이젠날따라와 EP.1 tvN STORY 티비엔 스토리 UCR9gReM5VhQ_8brqQrBaVCA 2022. 9. 24. 685,077 74.2만 T 티빙에서 스트리밍 : https://tving.onelink.me/xHqC/30a78d6f\n",
      "#이젠날따라와 #윤민수 #윤후 #이종혁 #이준수\n",
      "#이동국 #이재시 #추성훈 #추사랑\n",
      "이젠 날 따라와 EP.1\n",
      "\n",
      "이젠 내가 데려갈게!\n",
      "1세대 랜선 조카들의 은혜갚기 여행 리얼리티\n",
      "\n",
      "매주 [금] 저녁 9:00 tvN, tvN STORY 동시 방송\n",
      "\n",
      "#티빙에서스트리밍\n"
     ]
    },
    {
     "name": "stderr",
     "output_type": "stream",
     "text": [
      "  8%|▊         | 40/489 [03:35<38:46,  5.18s/it]"
     ]
    },
    {
     "name": "stdout",
     "output_type": "stream",
     "text": [
      "39 https://youtu.be/FWKA9BgfvNs&pp [sub] EP.1 | 4년 만에 더 다운그레이드(?) 되어 돌아왔습니다 l 🗽이서진의 뉴욕뉴욕2 채널 십오야 UCQ2O-iftmnlfrBuNsUUTofQ 2023. 9. 8. 2,862,476 571만 T 대단히 반갑습니다 상당히 고맙습니다 4년 전 대작 유튜브로 돌아왔습니다 이번엔 더 나불나불 대보려고요 그래서 우리가 이번에 어디를 갔냐면요 ㅊㅏ…\n",
      "\n",
      "#채널십오야 #이서진의뉴욕뉴욕2 #이서진 #유료광고포함\n"
     ]
    },
    {
     "name": "stderr",
     "output_type": "stream",
     "text": [
      "  8%|▊         | 41/489 [03:41<39:50,  5.34s/it]"
     ]
    },
    {
     "name": "stdout",
     "output_type": "stream",
     "text": [
      "40 https://youtu.be/-qSVIN9fvdo&pp ※야식 주의※ 검정 고무신 급 서진이네 라면 먹방 #유료광고포함 #서진이네 EP.2 | tvN 230303 방송 tvN UC78PMQprrZTbU0IlMDsYZPw 2023. 3. 4. 458,304 391만 T 티빙에서 스트리밍 : https://tving.onelink.me/xHqC/30a78d6f\n",
      "\n",
      "\"일곱 빛깔 호수를 품은 멕시코에서\n",
      "#서진이네 OPEN!\n",
      "\n",
      "식당 경영에 진심인 사장 #이서진\n",
      "이사로 승진한 #정유미\n",
      "주방의 실세로 거듭난 #박서준\n",
      "서진이네 분위기 메이커 #최우식 \n",
      "설거지요정 새 인턴 #김태형\n",
      "\n",
      "오늘도 어서오세요 :)\n",
      "서진이네 EP.2\n",
      "tvN 매주 금요일 오후 8시 50분! \"\n",
      "\n",
      "#티빙에서스트리밍\n"
     ]
    },
    {
     "name": "stderr",
     "output_type": "stream",
     "text": [
      "  9%|▊         | 42/489 [03:46<39:15,  5.27s/it]"
     ]
    },
    {
     "name": "stdout",
     "output_type": "stream",
     "text": [
      "41 https://youtu.be/4xB-7hmRNwY&pp 누가 한국인은 밥심이래? 최소 서진이네는 라면 파워임 #highlight #유료광고포함 #서진이네 EP.2 tvN UC78PMQprrZTbU0IlMDsYZPw 2023. 3. 4. 1,481,795 391만 T 티빙에서 스트리밍 : https://tving.onelink.me/xHqC/30a78d6f\n",
      "\n",
      "\"일곱 빛깔 호수를 품은 멕시코에서\n",
      "#서진이네 OPEN!\n",
      "\n",
      "식당 경영에 진심인 사장 #이서진\n",
      "이사로 승진한 #정유미\n",
      "주방의 실세로 거듭난 #박서준\n",
      "서진이네 분위기 메이커 #최우식 \n",
      "설거지요정 새 인턴 #김태형\n",
      "\n",
      "오늘도 어서오세요 :)\n",
      "서진이네 EP.2\n",
      "tvN 매주 금요일 오후 8시 50분! \"\n",
      "\n",
      "#티빙에서스트리밍\n"
     ]
    },
    {
     "name": "stderr",
     "output_type": "stream",
     "text": [
      "  9%|▉         | 43/489 [03:52<41:02,  5.52s/it]"
     ]
    },
    {
     "name": "stdout",
     "output_type": "stream",
     "text": [
      "42 https://youtu.be/iXllEofF2d4&pp 써브웨이 먹방 | 먹는데 재능 있는 지락이들 #유료광고포함 #뿅뿅지구오락실2 EP.6 | tvN 230616 방송 tvN UC78PMQprrZTbU0IlMDsYZPw 2023. 6. 17. 46,192 391만 T 티빙에서 스트리밍 : https://tving.onelink.me/xHqC/30a78d6f\n",
      "\n",
      "[뿅뿅 지구오락실2] ▶Stage #발리\n",
      "\n",
      "지락이들 텐션 끌어올리는 리더 #이은지\n",
      "논스톱, 노필터! 예능 탐험가 #미미\n",
      "영석이 형 담당 행동대장 #이영지\n",
      "똑 부러지는 게임 길라잡이 #안유진\n",
      "#뿅뿅지구오락실2 #eartharcade2 EP.6\n",
      "저녁 8:40 tvN\n",
      "\n",
      "#티빙에서스트리밍\n"
     ]
    },
    {
     "name": "stderr",
     "output_type": "stream",
     "text": [
      "  9%|▉         | 44/489 [03:57<39:14,  5.29s/it]"
     ]
    },
    {
     "name": "stdout",
     "output_type": "stream",
     "text": [
      "43 https://youtu.be/kRoNurKqLbc 먹방 유튜버는 생맥주 최대 얼마나 먹을까 돼끼 baby_pig_rabbit UCW-QBEmxsme2FAONSnTjp-g 2023. 9. 14. 58,436 49.7만 T 이 영상은 '오비맥주 한맥의 유료광고가 포함되어있습니다.' 문구 및 '경고: 지나친 음주는 뇌졸중, 기억력 손상이나 치매를 유발합니다. 임신 중 음주는 기형아 출생 위험을 높입니다. | 제조사/판매사: 오비맥주\n"
     ]
    },
    {
     "name": "stderr",
     "output_type": "stream",
     "text": [
      "  9%|▉         | 45/489 [04:02<38:18,  5.18s/it]"
     ]
    },
    {
     "name": "stdout",
     "output_type": "stream",
     "text": [
      "44 https://youtu.be/qdLM1DaFY5A&pp 먹방부터 바다 구경까지! 힐링,,❤ #유료광고포함 #댄스가수유랑단 EP.9 tvN UC78PMQprrZTbU0IlMDsYZPw 2023. 7. 26. 1,463 391만 T 티빙에서 스트리밍 : https://tving.onelink.me/xHqC/30a78d6f\n",
      "\n",
      "댄스가수 유랑단\n",
      "절찬리 유랑 중\n",
      "\n",
      "✅ [목] 저녁 8:50 | tvN\n",
      "\n",
      "#티빙에서스트리밍\n"
     ]
    },
    {
     "name": "stderr",
     "output_type": "stream",
     "text": [
      "  9%|▉         | 46/489 [04:07<38:00,  5.15s/it]"
     ]
    },
    {
     "name": "stdout",
     "output_type": "stream",
     "text": [
      "45 https://youtu.be/528XMujOZGw&pp 오픈 전부터 우당탕탕💫 티격태격💥 서진이네 모음 #highlight #유료광고포함 #서진이네 EP.1 tvN UC78PMQprrZTbU0IlMDsYZPw 2023. 2. 25. 1,354,925 391만 T 티빙에서 스트리밍 : https://tving.onelink.me/xHqC/30a78d6f\n",
      "\n",
      "일곱 빛깔 호수를 품은 멕시코에서\n",
      "#서진이네 OPEN!\n",
      "\n",
      "식당 경영에 진심인 사장 #이서진\n",
      "이사로 승진한 #정유미\n",
      "주방의 실세로 거듭난 #박서준\n",
      "서진이네 분위기 메이커 #최우식 \n",
      "설거지요정 새 인턴 #김태형\n",
      "\n",
      "오늘도 어서오세요 :)\n",
      "서진이네 EP.1\n",
      "tvN 매주 금요일 오후 8시 50분!\n",
      "\n",
      "#티빙에서스트리밍\n"
     ]
    },
    {
     "name": "stderr",
     "output_type": "stream",
     "text": [
      " 10%|▉         | 47/489 [04:13<39:03,  5.30s/it]"
     ]
    },
    {
     "name": "stdout",
     "output_type": "stream",
     "text": [
      "46 https://youtu.be/R6xfIDLVkww&pp 엠빠나다? 아니죠~ 본새 나는 한국의 만두 맛을 본 후기는? #유료광고포함 #서진이네 EP.2 | tvN 230303 방송 tvN UC78PMQprrZTbU0IlMDsYZPw 2023. 3. 4. 118,242 391만 T 티빙에서 스트리밍 : https://tving.onelink.me/xHqC/30a78d6f\n",
      "\n",
      "\"일곱 빛깔 호수를 품은 멕시코에서\n",
      "#서진이네 OPEN!\n",
      "\n",
      "식당 경영에 진심인 사장 #이서진\n",
      "이사로 승진한 #정유미\n",
      "주방의 실세로 거듭난 #박서준\n",
      "서진이네 분위기 메이커 #최우식 \n",
      "설거지요정 새 인턴 #김태형\n",
      "\n",
      "오늘도 어서오세요 :)\n",
      "서진이네 EP.2\n",
      "tvN 매주 금요일 오후 8시 50분! \"\n",
      "\n",
      "#티빙에서스트리밍\n"
     ]
    },
    {
     "name": "stderr",
     "output_type": "stream",
     "text": [
      " 10%|▉         | 48/489 [04:19<41:22,  5.63s/it]"
     ]
    },
    {
     "name": "stdout",
     "output_type": "stream",
     "text": [
      "47 https://youtu.be/M16rLLHQhRk&pp 노량진 수산시장 🦀 장어 샤브샤브 & 광어회 우럭회 킹크랩까지! 수산물 먹방 Korean Seafood Market KingCrab Eel Mukbang ASMR Ssoyoung 쏘영 Ssoyoung UC4PpFUrfT2Pou7OwpVF0MUQ 2023. 9. 15. 10,258 1020만 T - 광고 수익금의 일부는 사회적 취약계층을 위해 기부됩니다.\n",
      "\n",
      "💙 본 영상은 '수협중앙회'의 유료광고를 포함하고 있습니다.\n",
      "💙 수산대축제 정보 https://ssf2023.modoo.at\n",
      "#seafood #ssoyoung #mukbang #광고 #수협중앙회 #노량진수산시장\n",
      "#eatingsound #seafoodmarket #foodie\n",
      "#KoreanMukbang #eatingshow\n",
      "\n",
      "오늘도 쏘영이의 영상을 시청해주셔서 감사합니다 😆\n",
      "구독 좋아요 눌러주세요 💘\n",
      "Thank you for watching Ssoyoung's video again today😆\n",
      "Please click subscribe and like 💘\n",
      "\n",
      "👉🏻 The use of such images for profit may result in sanctions. Also, please leave a source when using it for non-profit purposes.\n",
      "👉🏻 해당 영상을 협의 없이 사용시 제재를 받을 수 있습니다.\n",
      "\n",
      "👉🏻 Thank you so much for posting so many comments. However, we will arbitrarily delete comments that may be controversial among subscribers and viewers.\n",
      "👉🏻 댓글 많이 달아주셔서 너무나 감사드립니다.\n",
      "다만, 구독자 및 시청자 분들끼리 논란의 여지가 될 수 있는 댓글은 임의로 삭제하겠습니다.\n",
      "\n",
      "💕 비즈니스문의 : business@alohamedia.co.kr\n"
     ]
    },
    {
     "name": "stderr",
     "output_type": "stream",
     "text": [
      " 10%|▉         | 48/489 [04:21<40:00,  5.44s/it]\n"
     ]
    },
    {
     "ename": "KeyboardInterrupt",
     "evalue": "",
     "output_type": "error",
     "traceback": [
      "\u001b[1;31m---------------------------------------------------------------------------\u001b[0m",
      "\u001b[1;31mKeyboardInterrupt\u001b[0m                         Traceback (most recent call last)",
      "\u001b[1;32mc:\\Users\\SANDBOX\\Desktop\\Sandbox\\crawling\\youtube_2023ad.ipynb Cell 5\u001b[0m line \u001b[0;36m1\n\u001b[0;32m     <a href='vscode-notebook-cell:/c%3A/Users/SANDBOX/Desktop/Sandbox/crawling/youtube_2023ad.ipynb#X35sZmlsZQ%3D%3D?line=11'>12</a>\u001b[0m description_list \u001b[39m=\u001b[39m []\n\u001b[0;32m     <a href='vscode-notebook-cell:/c%3A/Users/SANDBOX/Desktop/Sandbox/crawling/youtube_2023ad.ipynb#X35sZmlsZQ%3D%3D?line=13'>14</a>\u001b[0m \u001b[39mfor\u001b[39;00m i \u001b[39min\u001b[39;00m tqdm(\u001b[39mrange\u001b[39m(\u001b[39mlen\u001b[39m(video_list))):\n\u001b[1;32m---> <a href='vscode-notebook-cell:/c%3A/Users/SANDBOX/Desktop/Sandbox/crawling/youtube_2023ad.ipynb#X35sZmlsZQ%3D%3D?line=14'>15</a>\u001b[0m     driver\u001b[39m.\u001b[39;49mget(video_list[i])\n\u001b[0;32m     <a href='vscode-notebook-cell:/c%3A/Users/SANDBOX/Desktop/Sandbox/crawling/youtube_2023ad.ipynb#X35sZmlsZQ%3D%3D?line=15'>16</a>\u001b[0m     time\u001b[39m.\u001b[39msleep(\u001b[39m3\u001b[39m)\n\u001b[0;32m     <a href='vscode-notebook-cell:/c%3A/Users/SANDBOX/Desktop/Sandbox/crawling/youtube_2023ad.ipynb#X35sZmlsZQ%3D%3D?line=17'>18</a>\u001b[0m     page_source \u001b[39m=\u001b[39m driver\u001b[39m.\u001b[39mpage_source\n",
      "File \u001b[1;32m~\\AppData\\Local\\Packages\\PythonSoftwareFoundation.Python.3.11_qbz5n2kfra8p0\\LocalCache\\local-packages\\Python311\\site-packages\\selenium\\webdriver\\remote\\webdriver.py:353\u001b[0m, in \u001b[0;36mWebDriver.get\u001b[1;34m(self, url)\u001b[0m\n\u001b[0;32m    351\u001b[0m \u001b[39mdef\u001b[39;00m \u001b[39mget\u001b[39m(\u001b[39mself\u001b[39m, url: \u001b[39mstr\u001b[39m) \u001b[39m-\u001b[39m\u001b[39m>\u001b[39m \u001b[39mNone\u001b[39;00m:\n\u001b[0;32m    352\u001b[0m \u001b[39m    \u001b[39m\u001b[39m\"\"\"Loads a web page in the current browser session.\"\"\"\u001b[39;00m\n\u001b[1;32m--> 353\u001b[0m     \u001b[39mself\u001b[39;49m\u001b[39m.\u001b[39;49mexecute(Command\u001b[39m.\u001b[39;49mGET, {\u001b[39m\"\u001b[39;49m\u001b[39murl\u001b[39;49m\u001b[39m\"\u001b[39;49m: url})\n",
      "File \u001b[1;32m~\\AppData\\Local\\Packages\\PythonSoftwareFoundation.Python.3.11_qbz5n2kfra8p0\\LocalCache\\local-packages\\Python311\\site-packages\\selenium\\webdriver\\remote\\webdriver.py:342\u001b[0m, in \u001b[0;36mWebDriver.execute\u001b[1;34m(self, driver_command, params)\u001b[0m\n\u001b[0;32m    339\u001b[0m     \u001b[39melif\u001b[39;00m \u001b[39m\"\u001b[39m\u001b[39msessionId\u001b[39m\u001b[39m\"\u001b[39m \u001b[39mnot\u001b[39;00m \u001b[39min\u001b[39;00m params:\n\u001b[0;32m    340\u001b[0m         params[\u001b[39m\"\u001b[39m\u001b[39msessionId\u001b[39m\u001b[39m\"\u001b[39m] \u001b[39m=\u001b[39m \u001b[39mself\u001b[39m\u001b[39m.\u001b[39msession_id\n\u001b[1;32m--> 342\u001b[0m response \u001b[39m=\u001b[39m \u001b[39mself\u001b[39;49m\u001b[39m.\u001b[39;49mcommand_executor\u001b[39m.\u001b[39;49mexecute(driver_command, params)\n\u001b[0;32m    343\u001b[0m \u001b[39mif\u001b[39;00m response:\n\u001b[0;32m    344\u001b[0m     \u001b[39mself\u001b[39m\u001b[39m.\u001b[39merror_handler\u001b[39m.\u001b[39mcheck_response(response)\n",
      "File \u001b[1;32m~\\AppData\\Local\\Packages\\PythonSoftwareFoundation.Python.3.11_qbz5n2kfra8p0\\LocalCache\\local-packages\\Python311\\site-packages\\selenium\\webdriver\\remote\\remote_connection.py:294\u001b[0m, in \u001b[0;36mRemoteConnection.execute\u001b[1;34m(self, command, params)\u001b[0m\n\u001b[0;32m    292\u001b[0m data \u001b[39m=\u001b[39m utils\u001b[39m.\u001b[39mdump_json(params)\n\u001b[0;32m    293\u001b[0m url \u001b[39m=\u001b[39m \u001b[39mf\u001b[39m\u001b[39m\"\u001b[39m\u001b[39m{\u001b[39;00m\u001b[39mself\u001b[39m\u001b[39m.\u001b[39m_url\u001b[39m}\u001b[39;00m\u001b[39m{\u001b[39;00mpath\u001b[39m}\u001b[39;00m\u001b[39m\"\u001b[39m\n\u001b[1;32m--> 294\u001b[0m \u001b[39mreturn\u001b[39;00m \u001b[39mself\u001b[39;49m\u001b[39m.\u001b[39;49m_request(command_info[\u001b[39m0\u001b[39;49m], url, body\u001b[39m=\u001b[39;49mdata)\n",
      "File \u001b[1;32m~\\AppData\\Local\\Packages\\PythonSoftwareFoundation.Python.3.11_qbz5n2kfra8p0\\LocalCache\\local-packages\\Python311\\site-packages\\selenium\\webdriver\\remote\\remote_connection.py:315\u001b[0m, in \u001b[0;36mRemoteConnection._request\u001b[1;34m(self, method, url, body)\u001b[0m\n\u001b[0;32m    312\u001b[0m     body \u001b[39m=\u001b[39m \u001b[39mNone\u001b[39;00m\n\u001b[0;32m    314\u001b[0m \u001b[39mif\u001b[39;00m \u001b[39mself\u001b[39m\u001b[39m.\u001b[39mkeep_alive:\n\u001b[1;32m--> 315\u001b[0m     response \u001b[39m=\u001b[39m \u001b[39mself\u001b[39;49m\u001b[39m.\u001b[39;49m_conn\u001b[39m.\u001b[39;49mrequest(method, url, body\u001b[39m=\u001b[39;49mbody, headers\u001b[39m=\u001b[39;49mheaders)\n\u001b[0;32m    316\u001b[0m     statuscode \u001b[39m=\u001b[39m response\u001b[39m.\u001b[39mstatus\n\u001b[0;32m    317\u001b[0m \u001b[39melse\u001b[39;00m:\n",
      "File \u001b[1;32m~\\AppData\\Local\\Packages\\PythonSoftwareFoundation.Python.3.11_qbz5n2kfra8p0\\LocalCache\\local-packages\\Python311\\site-packages\\urllib3\\request.py:78\u001b[0m, in \u001b[0;36mRequestMethods.request\u001b[1;34m(self, method, url, fields, headers, **urlopen_kw)\u001b[0m\n\u001b[0;32m     74\u001b[0m     \u001b[39mreturn\u001b[39;00m \u001b[39mself\u001b[39m\u001b[39m.\u001b[39mrequest_encode_url(\n\u001b[0;32m     75\u001b[0m         method, url, fields\u001b[39m=\u001b[39mfields, headers\u001b[39m=\u001b[39mheaders, \u001b[39m*\u001b[39m\u001b[39m*\u001b[39murlopen_kw\n\u001b[0;32m     76\u001b[0m     )\n\u001b[0;32m     77\u001b[0m \u001b[39melse\u001b[39;00m:\n\u001b[1;32m---> 78\u001b[0m     \u001b[39mreturn\u001b[39;00m \u001b[39mself\u001b[39;49m\u001b[39m.\u001b[39;49mrequest_encode_body(\n\u001b[0;32m     79\u001b[0m         method, url, fields\u001b[39m=\u001b[39;49mfields, headers\u001b[39m=\u001b[39;49mheaders, \u001b[39m*\u001b[39;49m\u001b[39m*\u001b[39;49murlopen_kw\n\u001b[0;32m     80\u001b[0m     )\n",
      "File \u001b[1;32m~\\AppData\\Local\\Packages\\PythonSoftwareFoundation.Python.3.11_qbz5n2kfra8p0\\LocalCache\\local-packages\\Python311\\site-packages\\urllib3\\request.py:170\u001b[0m, in \u001b[0;36mRequestMethods.request_encode_body\u001b[1;34m(self, method, url, fields, headers, encode_multipart, multipart_boundary, **urlopen_kw)\u001b[0m\n\u001b[0;32m    167\u001b[0m extra_kw[\u001b[39m\"\u001b[39m\u001b[39mheaders\u001b[39m\u001b[39m\"\u001b[39m]\u001b[39m.\u001b[39mupdate(headers)\n\u001b[0;32m    168\u001b[0m extra_kw\u001b[39m.\u001b[39mupdate(urlopen_kw)\n\u001b[1;32m--> 170\u001b[0m \u001b[39mreturn\u001b[39;00m \u001b[39mself\u001b[39;49m\u001b[39m.\u001b[39;49murlopen(method, url, \u001b[39m*\u001b[39;49m\u001b[39m*\u001b[39;49mextra_kw)\n",
      "File \u001b[1;32m~\\AppData\\Local\\Packages\\PythonSoftwareFoundation.Python.3.11_qbz5n2kfra8p0\\LocalCache\\local-packages\\Python311\\site-packages\\urllib3\\poolmanager.py:376\u001b[0m, in \u001b[0;36mPoolManager.urlopen\u001b[1;34m(self, method, url, redirect, **kw)\u001b[0m\n\u001b[0;32m    374\u001b[0m     response \u001b[39m=\u001b[39m conn\u001b[39m.\u001b[39murlopen(method, url, \u001b[39m*\u001b[39m\u001b[39m*\u001b[39mkw)\n\u001b[0;32m    375\u001b[0m \u001b[39melse\u001b[39;00m:\n\u001b[1;32m--> 376\u001b[0m     response \u001b[39m=\u001b[39m conn\u001b[39m.\u001b[39;49murlopen(method, u\u001b[39m.\u001b[39;49mrequest_uri, \u001b[39m*\u001b[39;49m\u001b[39m*\u001b[39;49mkw)\n\u001b[0;32m    378\u001b[0m redirect_location \u001b[39m=\u001b[39m redirect \u001b[39mand\u001b[39;00m response\u001b[39m.\u001b[39mget_redirect_location()\n\u001b[0;32m    379\u001b[0m \u001b[39mif\u001b[39;00m \u001b[39mnot\u001b[39;00m redirect_location:\n",
      "File \u001b[1;32m~\\AppData\\Local\\Packages\\PythonSoftwareFoundation.Python.3.11_qbz5n2kfra8p0\\LocalCache\\local-packages\\Python311\\site-packages\\urllib3\\connectionpool.py:714\u001b[0m, in \u001b[0;36mHTTPConnectionPool.urlopen\u001b[1;34m(self, method, url, body, headers, retries, redirect, assert_same_host, timeout, pool_timeout, release_conn, chunked, body_pos, **response_kw)\u001b[0m\n\u001b[0;32m    711\u001b[0m     \u001b[39mself\u001b[39m\u001b[39m.\u001b[39m_prepare_proxy(conn)\n\u001b[0;32m    713\u001b[0m \u001b[39m# Make the request on the httplib connection object.\u001b[39;00m\n\u001b[1;32m--> 714\u001b[0m httplib_response \u001b[39m=\u001b[39m \u001b[39mself\u001b[39;49m\u001b[39m.\u001b[39;49m_make_request(\n\u001b[0;32m    715\u001b[0m     conn,\n\u001b[0;32m    716\u001b[0m     method,\n\u001b[0;32m    717\u001b[0m     url,\n\u001b[0;32m    718\u001b[0m     timeout\u001b[39m=\u001b[39;49mtimeout_obj,\n\u001b[0;32m    719\u001b[0m     body\u001b[39m=\u001b[39;49mbody,\n\u001b[0;32m    720\u001b[0m     headers\u001b[39m=\u001b[39;49mheaders,\n\u001b[0;32m    721\u001b[0m     chunked\u001b[39m=\u001b[39;49mchunked,\n\u001b[0;32m    722\u001b[0m )\n\u001b[0;32m    724\u001b[0m \u001b[39m# If we're going to release the connection in ``finally:``, then\u001b[39;00m\n\u001b[0;32m    725\u001b[0m \u001b[39m# the response doesn't need to know about the connection. Otherwise\u001b[39;00m\n\u001b[0;32m    726\u001b[0m \u001b[39m# it will also try to release it and we'll have a double-release\u001b[39;00m\n\u001b[0;32m    727\u001b[0m \u001b[39m# mess.\u001b[39;00m\n\u001b[0;32m    728\u001b[0m response_conn \u001b[39m=\u001b[39m conn \u001b[39mif\u001b[39;00m \u001b[39mnot\u001b[39;00m release_conn \u001b[39melse\u001b[39;00m \u001b[39mNone\u001b[39;00m\n",
      "File \u001b[1;32m~\\AppData\\Local\\Packages\\PythonSoftwareFoundation.Python.3.11_qbz5n2kfra8p0\\LocalCache\\local-packages\\Python311\\site-packages\\urllib3\\connectionpool.py:466\u001b[0m, in \u001b[0;36mHTTPConnectionPool._make_request\u001b[1;34m(self, conn, method, url, timeout, chunked, **httplib_request_kw)\u001b[0m\n\u001b[0;32m    461\u001b[0m             httplib_response \u001b[39m=\u001b[39m conn\u001b[39m.\u001b[39mgetresponse()\n\u001b[0;32m    462\u001b[0m         \u001b[39mexcept\u001b[39;00m \u001b[39mBaseException\u001b[39;00m \u001b[39mas\u001b[39;00m e:\n\u001b[0;32m    463\u001b[0m             \u001b[39m# Remove the TypeError from the exception chain in\u001b[39;00m\n\u001b[0;32m    464\u001b[0m             \u001b[39m# Python 3 (including for exceptions like SystemExit).\u001b[39;00m\n\u001b[0;32m    465\u001b[0m             \u001b[39m# Otherwise it looks like a bug in the code.\u001b[39;00m\n\u001b[1;32m--> 466\u001b[0m             six\u001b[39m.\u001b[39;49mraise_from(e, \u001b[39mNone\u001b[39;49;00m)\n\u001b[0;32m    467\u001b[0m \u001b[39mexcept\u001b[39;00m (SocketTimeout, BaseSSLError, SocketError) \u001b[39mas\u001b[39;00m e:\n\u001b[0;32m    468\u001b[0m     \u001b[39mself\u001b[39m\u001b[39m.\u001b[39m_raise_timeout(err\u001b[39m=\u001b[39me, url\u001b[39m=\u001b[39murl, timeout_value\u001b[39m=\u001b[39mread_timeout)\n",
      "File \u001b[1;32m<string>:3\u001b[0m, in \u001b[0;36mraise_from\u001b[1;34m(value, from_value)\u001b[0m\n",
      "File \u001b[1;32m~\\AppData\\Local\\Packages\\PythonSoftwareFoundation.Python.3.11_qbz5n2kfra8p0\\LocalCache\\local-packages\\Python311\\site-packages\\urllib3\\connectionpool.py:461\u001b[0m, in \u001b[0;36mHTTPConnectionPool._make_request\u001b[1;34m(self, conn, method, url, timeout, chunked, **httplib_request_kw)\u001b[0m\n\u001b[0;32m    458\u001b[0m \u001b[39mexcept\u001b[39;00m \u001b[39mTypeError\u001b[39;00m:\n\u001b[0;32m    459\u001b[0m     \u001b[39m# Python 3\u001b[39;00m\n\u001b[0;32m    460\u001b[0m     \u001b[39mtry\u001b[39;00m:\n\u001b[1;32m--> 461\u001b[0m         httplib_response \u001b[39m=\u001b[39m conn\u001b[39m.\u001b[39;49mgetresponse()\n\u001b[0;32m    462\u001b[0m     \u001b[39mexcept\u001b[39;00m \u001b[39mBaseException\u001b[39;00m \u001b[39mas\u001b[39;00m e:\n\u001b[0;32m    463\u001b[0m         \u001b[39m# Remove the TypeError from the exception chain in\u001b[39;00m\n\u001b[0;32m    464\u001b[0m         \u001b[39m# Python 3 (including for exceptions like SystemExit).\u001b[39;00m\n\u001b[0;32m    465\u001b[0m         \u001b[39m# Otherwise it looks like a bug in the code.\u001b[39;00m\n\u001b[0;32m    466\u001b[0m         six\u001b[39m.\u001b[39mraise_from(e, \u001b[39mNone\u001b[39;00m)\n",
      "File \u001b[1;32mC:\\Program Files\\WindowsApps\\PythonSoftwareFoundation.Python.3.11_3.11.1520.0_x64__qbz5n2kfra8p0\\Lib\\http\\client.py:1378\u001b[0m, in \u001b[0;36mHTTPConnection.getresponse\u001b[1;34m(self)\u001b[0m\n\u001b[0;32m   1376\u001b[0m \u001b[39mtry\u001b[39;00m:\n\u001b[0;32m   1377\u001b[0m     \u001b[39mtry\u001b[39;00m:\n\u001b[1;32m-> 1378\u001b[0m         response\u001b[39m.\u001b[39;49mbegin()\n\u001b[0;32m   1379\u001b[0m     \u001b[39mexcept\u001b[39;00m \u001b[39mConnectionError\u001b[39;00m:\n\u001b[0;32m   1380\u001b[0m         \u001b[39mself\u001b[39m\u001b[39m.\u001b[39mclose()\n",
      "File \u001b[1;32mC:\\Program Files\\WindowsApps\\PythonSoftwareFoundation.Python.3.11_3.11.1520.0_x64__qbz5n2kfra8p0\\Lib\\http\\client.py:318\u001b[0m, in \u001b[0;36mHTTPResponse.begin\u001b[1;34m(self)\u001b[0m\n\u001b[0;32m    316\u001b[0m \u001b[39m# read until we get a non-100 response\u001b[39;00m\n\u001b[0;32m    317\u001b[0m \u001b[39mwhile\u001b[39;00m \u001b[39mTrue\u001b[39;00m:\n\u001b[1;32m--> 318\u001b[0m     version, status, reason \u001b[39m=\u001b[39m \u001b[39mself\u001b[39;49m\u001b[39m.\u001b[39;49m_read_status()\n\u001b[0;32m    319\u001b[0m     \u001b[39mif\u001b[39;00m status \u001b[39m!=\u001b[39m CONTINUE:\n\u001b[0;32m    320\u001b[0m         \u001b[39mbreak\u001b[39;00m\n",
      "File \u001b[1;32mC:\\Program Files\\WindowsApps\\PythonSoftwareFoundation.Python.3.11_3.11.1520.0_x64__qbz5n2kfra8p0\\Lib\\http\\client.py:279\u001b[0m, in \u001b[0;36mHTTPResponse._read_status\u001b[1;34m(self)\u001b[0m\n\u001b[0;32m    278\u001b[0m \u001b[39mdef\u001b[39;00m \u001b[39m_read_status\u001b[39m(\u001b[39mself\u001b[39m):\n\u001b[1;32m--> 279\u001b[0m     line \u001b[39m=\u001b[39m \u001b[39mstr\u001b[39m(\u001b[39mself\u001b[39m\u001b[39m.\u001b[39mfp\u001b[39m.\u001b[39mreadline(_MAXLINE \u001b[39m+\u001b[39m \u001b[39m1\u001b[39m), \u001b[39m\"\u001b[39m\u001b[39miso-8859-1\u001b[39m\u001b[39m\"\u001b[39m)\n\u001b[0;32m    280\u001b[0m     \u001b[39mif\u001b[39;00m \u001b[39mlen\u001b[39m(line) \u001b[39m>\u001b[39m _MAXLINE:\n\u001b[0;32m    281\u001b[0m         \u001b[39mraise\u001b[39;00m LineTooLong(\u001b[39m\"\u001b[39m\u001b[39mstatus line\u001b[39m\u001b[39m\"\u001b[39m)\n",
      "File \u001b[1;32mC:\\Program Files\\WindowsApps\\PythonSoftwareFoundation.Python.3.11_3.11.1520.0_x64__qbz5n2kfra8p0\\Lib\\socket.py:706\u001b[0m, in \u001b[0;36mSocketIO.readinto\u001b[1;34m(self, b)\u001b[0m\n\u001b[0;32m    704\u001b[0m \u001b[39mwhile\u001b[39;00m \u001b[39mTrue\u001b[39;00m:\n\u001b[0;32m    705\u001b[0m     \u001b[39mtry\u001b[39;00m:\n\u001b[1;32m--> 706\u001b[0m         \u001b[39mreturn\u001b[39;00m \u001b[39mself\u001b[39;49m\u001b[39m.\u001b[39;49m_sock\u001b[39m.\u001b[39;49mrecv_into(b)\n\u001b[0;32m    707\u001b[0m     \u001b[39mexcept\u001b[39;00m timeout:\n\u001b[0;32m    708\u001b[0m         \u001b[39mself\u001b[39m\u001b[39m.\u001b[39m_timeout_occurred \u001b[39m=\u001b[39m \u001b[39mTrue\u001b[39;00m\n",
      "\u001b[1;31mKeyboardInterrupt\u001b[0m: "
     ]
    }
   ],
   "source": [
    "# 영상(비디오 url) 접속 후 광고 배너 & 더보기란 크롤링\n",
    "\n",
    "driver = webdriver.Chrome()\n",
    "\n",
    "title_list = []\n",
    "channel_list = []\n",
    "channel_id_list = []\n",
    "date_list = []\n",
    "view_list = []\n",
    "sub_list = []\n",
    "ad_banner_list = []\n",
    "description_list = []\n",
    "\n",
    "for i in tqdm(range(len(video_list))):\n",
    "    driver.get(video_list[i])\n",
    "    time.sleep(3)\n",
    "    \n",
    "    page_source = driver.page_source\n",
    "    soup = BeautifulSoup(page_source, 'html.parser')\n",
    "    \n",
    "    # 제목\n",
    "    title = soup.find_all('yt-formatted-string',attrs={'class' : 'ytd-watch-metadata'})[0].text\n",
    "    title_list.append(title)\n",
    "    \n",
    "    # 채널명\n",
    "    channel = soup.find_all('yt-formatted-string',{'id':'text'})[0].text\n",
    "    channel_list.append(channel)\n",
    "    \n",
    "    # 채널ID\n",
    "    channel_id = str(soup).split(',\"channelId\":\"')[1].split('\",\"')[0]\n",
    "    channel_id_list.append(channel_id)\n",
    "    \n",
    "    # 업로드 일자\n",
    "    date = soup.find('tp-yt-paper-tooltip', class_='style-scope ytd-watch-metadata').text.split('조회수')[1].strip().split('•')[1].strip()\n",
    "    date_list.append(date)\n",
    "    \n",
    "    # 조회수\n",
    "    view = soup.find('tp-yt-paper-tooltip', class_='style-scope ytd-watch-metadata').text.split('조회수')[1].strip().split('회')[0].strip()\n",
    "    view_list.append(view)\n",
    "    \n",
    "    # 구독자 수\n",
    "    sub = soup.find('yt-formatted-string', {'id' : 'owner-sub-count'}).text.split('구독자')[1].strip().split('명')[0].strip()\n",
    "    #sub = soup.find_all('div', class_='style-scope ytd-video-description-infocards-section-renderer')[0].text.split('구독자')[1].strip().split('명')[0].strip()\n",
    "    sub_list.append(sub)\n",
    "    \n",
    "    # 유료 광고 영상 배너 확인\n",
    "    ad_banner_exists = False\n",
    "    try:\n",
    "        ad_banner = soup.find_all('div', class_='ytp-paid-content-overlay')\n",
    "        ad_banner_exists = True\n",
    "    except:\n",
    "        pass\n",
    "\n",
    "    if ad_banner_exists:\n",
    "        ad_banner = \"T\"\n",
    "    else:\n",
    "        ad_banner = \"F\"\n",
    "    ad_banner_list.append(ad_banner)\n",
    "    \n",
    "    # 더보기란 상세 내용\n",
    "    try:\n",
    "        description = soup.find_all('span',{'class' : 'yt-core-attributed-string yt-core-attributed-string--white-space-pre-wrap'})[2].text\n",
    "        description_list.append(description)\n",
    "        \n",
    "    except:\n",
    "        print('더보기 없음')\n",
    "        description = '더보기 없음'\n",
    "        description_list.append(description)\n",
    "        \n",
    "    print(i, video_list[i], title, channel, channel_id, date, view, sub, ad_banner, description)\n",
    "\n",
    "driver.quit()"
   ]
  },
  {
   "cell_type": "code",
   "execution_count": 70,
   "metadata": {},
   "outputs": [
    {
     "data": {
      "text/plain": [
       "'254'"
      ]
     },
     "execution_count": 70,
     "metadata": {},
     "output_type": "execute_result"
    }
   ],
   "source": [
    "soup.find_all('yt-formatted-string', {'id' : 'owner-sub-count'}).text.split('구독자')[1].strip().split('명')[0].strip()"
   ]
  },
  {
   "cell_type": "code",
   "execution_count": 61,
   "metadata": {},
   "outputs": [],
   "source": [
    "# # 제대로 크롤링 되는지 확인하기 위한 코드\n",
    "# soup\n",
    "\n",
    "# # 업로드 일자 확인\n",
    "# soup.find('tp-yt-paper-tooltip', class_='style-scope ytd-watch-metadata').text.split('조회수')[1].strip().split('•')[1].strip()\n",
    "\n",
    "# # 조회수 확인\n",
    "# soup.find('tp-yt-paper-tooltip', class_='style-scope ytd-watch-metadata').text.split('조회수')[1].strip().split('회')[0].strip()\n",
    "\n",
    "# # 구독자 수 확인\n",
    "#soup.find_all('yt-formatted-string', {'id' : 'owner-sub-count'}).text.split('구독자')[1].strip().split('명')[0].strip()\n",
    "\n",
    "# # 채널명 확인\n",
    "# soup.find_all('yt-formatted-string',{'id':'text'})[0].text\n",
    "\n",
    "# # 제목 확인\n",
    "# soup.find_all('yt-formatted-string',attrs={'class' : 'ytd-watch-metadata'})[0].text\n",
    "\n",
    "# # 더보기란 상세내용 확인\n",
    "# soup.find_all('span',{'class' : 'yt-core-attributed-string yt-core-attributed-string--white-space-pre-wrap'})[2].text"
   ]
  },
  {
   "cell_type": "code",
   "execution_count": null,
   "metadata": {},
   "outputs": [],
   "source": [
    "# 조회수 계산\n",
    "for i in range(len(youtube_all_video_df)):\n",
    "    if '천' in str(youtube_all_video_df['view'][i]): # 1,000\n",
    "        k_num = int(float(youtube_all_video_df['view'][i].replace('천', ''))*1000)\n",
    "        youtube_all_video_df.loc[i, 'view'] = format(k_num)\n",
    "    elif '만' in str(youtube_all_video_df['view'][i]): # 10,000\n",
    "        m_num = int(float(youtube_all_video_df['view'][i].replace('만', ''))*10000)\n",
    "        youtube_all_video_df.loc[i, 'view'] = format(m_num)\n",
    "\n",
    "youtube_all_video_df_copy = youtube_all_video_df.copy()\n",
    "youtube_all_video_df_copy"
   ]
  },
  {
   "cell_type": "code",
   "execution_count": 73,
   "metadata": {},
   "outputs": [
    {
     "ename": "ValueError",
     "evalue": "All arrays must be of the same length",
     "output_type": "error",
     "traceback": [
      "\u001b[1;31m---------------------------------------------------------------------------\u001b[0m",
      "\u001b[1;31mValueError\u001b[0m                                Traceback (most recent call last)",
      "\u001b[1;32mc:\\Users\\SANDBOX\\Desktop\\Sandbox\\crawling\\youtube_2023ad.ipynb Cell 9\u001b[0m line \u001b[0;36m9\n\u001b[0;32m      <a href='vscode-notebook-cell:/c%3A/Users/SANDBOX/Desktop/Sandbox/crawling/youtube_2023ad.ipynb#X15sZmlsZQ%3D%3D?line=0'>1</a>\u001b[0m data_2 \u001b[39m=\u001b[39m {\u001b[39m'\u001b[39m\u001b[39m비디오 URL\u001b[39m\u001b[39m'\u001b[39m: video_list,\n\u001b[0;32m      <a href='vscode-notebook-cell:/c%3A/Users/SANDBOX/Desktop/Sandbox/crawling/youtube_2023ad.ipynb#X15sZmlsZQ%3D%3D?line=1'>2</a>\u001b[0m           \u001b[39m'\u001b[39m\u001b[39m제목\u001b[39m\u001b[39m'\u001b[39m: title_list,\n\u001b[0;32m      <a href='vscode-notebook-cell:/c%3A/Users/SANDBOX/Desktop/Sandbox/crawling/youtube_2023ad.ipynb#X15sZmlsZQ%3D%3D?line=2'>3</a>\u001b[0m           \u001b[39m'\u001b[39m\u001b[39m채널\u001b[39m\u001b[39m'\u001b[39m: channel_list,\n\u001b[1;32m   (...)\u001b[0m\n\u001b[0;32m      <a href='vscode-notebook-cell:/c%3A/Users/SANDBOX/Desktop/Sandbox/crawling/youtube_2023ad.ipynb#X15sZmlsZQ%3D%3D?line=5'>6</a>\u001b[0m           \u001b[39m'\u001b[39m\u001b[39m키워드\u001b[39m\u001b[39m'\u001b[39m: keyword_list\n\u001b[0;32m      <a href='vscode-notebook-cell:/c%3A/Users/SANDBOX/Desktop/Sandbox/crawling/youtube_2023ad.ipynb#X15sZmlsZQ%3D%3D?line=6'>7</a>\u001b[0m }\n\u001b[1;32m----> <a href='vscode-notebook-cell:/c%3A/Users/SANDBOX/Desktop/Sandbox/crawling/youtube_2023ad.ipynb#X15sZmlsZQ%3D%3D?line=8'>9</a>\u001b[0m crawling_2 \u001b[39m=\u001b[39m pd\u001b[39m.\u001b[39;49mDataFrame(data_2)\n\u001b[0;32m     <a href='vscode-notebook-cell:/c%3A/Users/SANDBOX/Desktop/Sandbox/crawling/youtube_2023ad.ipynb#X15sZmlsZQ%3D%3D?line=9'>10</a>\u001b[0m crawling_2\n",
      "File \u001b[1;32m~\\AppData\\Local\\Packages\\PythonSoftwareFoundation.Python.3.11_qbz5n2kfra8p0\\LocalCache\\local-packages\\Python311\\site-packages\\pandas\\core\\frame.py:736\u001b[0m, in \u001b[0;36mDataFrame.__init__\u001b[1;34m(self, data, index, columns, dtype, copy)\u001b[0m\n\u001b[0;32m    730\u001b[0m     mgr \u001b[39m=\u001b[39m \u001b[39mself\u001b[39m\u001b[39m.\u001b[39m_init_mgr(\n\u001b[0;32m    731\u001b[0m         data, axes\u001b[39m=\u001b[39m{\u001b[39m\"\u001b[39m\u001b[39mindex\u001b[39m\u001b[39m\"\u001b[39m: index, \u001b[39m\"\u001b[39m\u001b[39mcolumns\u001b[39m\u001b[39m\"\u001b[39m: columns}, dtype\u001b[39m=\u001b[39mdtype, copy\u001b[39m=\u001b[39mcopy\n\u001b[0;32m    732\u001b[0m     )\n\u001b[0;32m    734\u001b[0m \u001b[39melif\u001b[39;00m \u001b[39misinstance\u001b[39m(data, \u001b[39mdict\u001b[39m):\n\u001b[0;32m    735\u001b[0m     \u001b[39m# GH#38939 de facto copy defaults to False only in non-dict cases\u001b[39;00m\n\u001b[1;32m--> 736\u001b[0m     mgr \u001b[39m=\u001b[39m dict_to_mgr(data, index, columns, dtype\u001b[39m=\u001b[39;49mdtype, copy\u001b[39m=\u001b[39;49mcopy, typ\u001b[39m=\u001b[39;49mmanager)\n\u001b[0;32m    737\u001b[0m \u001b[39melif\u001b[39;00m \u001b[39misinstance\u001b[39m(data, ma\u001b[39m.\u001b[39mMaskedArray):\n\u001b[0;32m    738\u001b[0m     \u001b[39mfrom\u001b[39;00m \u001b[39mnumpy\u001b[39;00m\u001b[39m.\u001b[39;00m\u001b[39mma\u001b[39;00m \u001b[39mimport\u001b[39;00m mrecords\n",
      "File \u001b[1;32m~\\AppData\\Local\\Packages\\PythonSoftwareFoundation.Python.3.11_qbz5n2kfra8p0\\LocalCache\\local-packages\\Python311\\site-packages\\pandas\\core\\internals\\construction.py:503\u001b[0m, in \u001b[0;36mdict_to_mgr\u001b[1;34m(data, index, columns, dtype, typ, copy)\u001b[0m\n\u001b[0;32m    499\u001b[0m     \u001b[39melse\u001b[39;00m:\n\u001b[0;32m    500\u001b[0m         \u001b[39m# dtype check to exclude e.g. range objects, scalars\u001b[39;00m\n\u001b[0;32m    501\u001b[0m         arrays \u001b[39m=\u001b[39m [x\u001b[39m.\u001b[39mcopy() \u001b[39mif\u001b[39;00m \u001b[39mhasattr\u001b[39m(x, \u001b[39m\"\u001b[39m\u001b[39mdtype\u001b[39m\u001b[39m\"\u001b[39m) \u001b[39melse\u001b[39;00m x \u001b[39mfor\u001b[39;00m x \u001b[39min\u001b[39;00m arrays]\n\u001b[1;32m--> 503\u001b[0m \u001b[39mreturn\u001b[39;00m arrays_to_mgr(arrays, columns, index, dtype\u001b[39m=\u001b[39;49mdtype, typ\u001b[39m=\u001b[39;49mtyp, consolidate\u001b[39m=\u001b[39;49mcopy)\n",
      "File \u001b[1;32m~\\AppData\\Local\\Packages\\PythonSoftwareFoundation.Python.3.11_qbz5n2kfra8p0\\LocalCache\\local-packages\\Python311\\site-packages\\pandas\\core\\internals\\construction.py:114\u001b[0m, in \u001b[0;36marrays_to_mgr\u001b[1;34m(arrays, columns, index, dtype, verify_integrity, typ, consolidate)\u001b[0m\n\u001b[0;32m    111\u001b[0m \u001b[39mif\u001b[39;00m verify_integrity:\n\u001b[0;32m    112\u001b[0m     \u001b[39m# figure out the index, if necessary\u001b[39;00m\n\u001b[0;32m    113\u001b[0m     \u001b[39mif\u001b[39;00m index \u001b[39mis\u001b[39;00m \u001b[39mNone\u001b[39;00m:\n\u001b[1;32m--> 114\u001b[0m         index \u001b[39m=\u001b[39m _extract_index(arrays)\n\u001b[0;32m    115\u001b[0m     \u001b[39melse\u001b[39;00m:\n\u001b[0;32m    116\u001b[0m         index \u001b[39m=\u001b[39m ensure_index(index)\n",
      "File \u001b[1;32m~\\AppData\\Local\\Packages\\PythonSoftwareFoundation.Python.3.11_qbz5n2kfra8p0\\LocalCache\\local-packages\\Python311\\site-packages\\pandas\\core\\internals\\construction.py:677\u001b[0m, in \u001b[0;36m_extract_index\u001b[1;34m(data)\u001b[0m\n\u001b[0;32m    675\u001b[0m lengths \u001b[39m=\u001b[39m \u001b[39mlist\u001b[39m(\u001b[39mset\u001b[39m(raw_lengths))\n\u001b[0;32m    676\u001b[0m \u001b[39mif\u001b[39;00m \u001b[39mlen\u001b[39m(lengths) \u001b[39m>\u001b[39m \u001b[39m1\u001b[39m:\n\u001b[1;32m--> 677\u001b[0m     \u001b[39mraise\u001b[39;00m \u001b[39mValueError\u001b[39;00m(\u001b[39m\"\u001b[39m\u001b[39mAll arrays must be of the same length\u001b[39m\u001b[39m\"\u001b[39m)\n\u001b[0;32m    679\u001b[0m \u001b[39mif\u001b[39;00m have_dicts:\n\u001b[0;32m    680\u001b[0m     \u001b[39mraise\u001b[39;00m \u001b[39mValueError\u001b[39;00m(\n\u001b[0;32m    681\u001b[0m         \u001b[39m\"\u001b[39m\u001b[39mMixing dicts with non-Series may lead to ambiguous ordering.\u001b[39m\u001b[39m\"\u001b[39m\n\u001b[0;32m    682\u001b[0m     )\n",
      "\u001b[1;31mValueError\u001b[0m: All arrays must be of the same length"
     ]
    }
   ],
   "source": [
    "data_2 = {'비디오 URL': video_list,\n",
    "          '제목': title_list,\n",
    "          '채널': channel_list,\n",
    "          '유료광고 배너': ad_banner_list,\n",
    "          '더보기란': description_list,\n",
    "          '키워드': keyword_list\n",
    "}\n",
    "\n",
    "crawling_2 = pd.DataFrame(data_2)\n",
    "crawling_2"
   ]
  },
  {
   "cell_type": "code",
   "execution_count": null,
   "metadata": {},
   "outputs": [],
   "source": [
    "# 유료광고 배너 T & 더보기란"
   ]
  },
  {
   "cell_type": "code",
   "execution_count": null,
   "metadata": {},
   "outputs": [],
   "source": [
    "# 결과 구글 시트에 저장\n",
    "gc = pygsheets.authorize(service_account_file='creds.json')\n",
    "sheetname= '크롤링 시도'\n",
    "sh = gc.open(sheetname)\n",
    "\n",
    "# 오류 발생 시, worksheet의 행 수 늘려서 재실행\n",
    "wks = sh.worksheet_by_title('광고 시장')\n",
    "wks.set_dataframe(, 'A1', index=False)"
   ]
  }
 ],
 "metadata": {
  "kernelspec": {
   "display_name": "Python 3",
   "language": "python",
   "name": "python3"
  },
  "language_info": {
   "codemirror_mode": {
    "name": "ipython",
    "version": 3
   },
   "file_extension": ".py",
   "mimetype": "text/x-python",
   "name": "python",
   "nbconvert_exporter": "python",
   "pygments_lexer": "ipython3",
   "version": "3.11.5"
  },
  "orig_nbformat": 4
 },
 "nbformat": 4,
 "nbformat_minor": 2
}
