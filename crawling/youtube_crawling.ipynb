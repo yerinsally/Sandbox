{
  "cells": [
    {
      "cell_type": "code",
      "execution_count": 7,
      "metadata": {},
      "outputs": [
        {
          "data": {
            "text/plain": [
              "'c:\\\\Users\\\\SANDBOX\\\\Desktop\\\\Sandbox\\\\crawling'"
            ]
          },
          "execution_count": 7,
          "metadata": {},
          "output_type": "execute_result"
        }
      ],
      "source": [
        "from selenium import webdriver\n",
        "import time\n",
        "from bs4 import BeautifulSoup\n",
        "from selenium.webdriver import ActionChains\n",
        "from selenium.webdriver.common.keys import Keys\n",
        "import math\n",
        "import pandas as pd\n",
        "import numpy as np\n",
        "from tqdm import tqdm\n",
        "import os\n",
        "from selenium.webdriver.common.by import By\n",
        "import json\n",
        "import pygsheets\n",
        "from google.oauth2 import service_account\n",
        "import platform\n",
        "import datetime\n",
        "from dateutil.relativedelta import relativedelta\n",
        "import sys\n",
        "from selenium.webdriver.chrome.service import Service as ChromeService\n",
        "from webdriver_manager.chrome import ChromeDriverManager\n",
        "\n",
        "class MyChromeDriver(webdriver.Chrome):\n",
        "\n",
        "    def __init__(self, headless=False, maximize=True):\n",
        "\n",
        "        options = webdriver.ChromeOptions()\n",
        "        if headless:\n",
        "            options.add_argument('--headless')\n",
        "\n",
        "        webdriver.Chrome.__init__(self, service=ChromeService(ChromeDriverManager().install()), options=options)\n",
        "\n",
        "        if maximize:\n",
        "            self.maximize_window()\n",
        "\n",
        "driver = webdriver.Chrome(service=ChromeService(ChromeDriverManager().install()))\n",
        "\n",
        "if driver is None:\n",
        "        my_driver = MyChromeDriver()\n",
        "        time.sleep(10)\n",
        "else:\n",
        "    my_driver = driver\n",
        "\n",
        "os.getcwd()"
      ]
    },
    {
      "cell_type": "code",
      "execution_count": 8,
      "metadata": {
        "id": "YlyFJaCrA86O",
        "outputId": "49f505fa-18b4-4385-8252-4cbc032434fa"
      },
      "outputs": [
        {
          "data": {
            "text/plain": [
              "1944"
            ]
          },
          "execution_count": 8,
          "metadata": {},
          "output_type": "execute_result"
        }
      ],
      "source": [
        "# # 크롬 드라이버 옵션 설정 : 지정하면 크롬 아예 안보임\n",
        "# chrome_options = webdriver.ChromeOptions()\n",
        "# chrome_options.add_argument('--headless')\n",
        "# chrome_options.add_argument(\"--disable-gpu\")\n",
        "# chrome_options.add_argument('--no-sandbox')\n",
        "# chrome_options.add_argument('--disable-dev-shm-usage')\n",
        "\n",
        "#driver = webdriver.Chrome(options=chrome_options)\n",
        "\n",
        "# 구글 시트 가져오기\n",
        "gc = pygsheets.authorize(service_account_file='creds.json')\n",
        "sheetname= '크롤링 시도'\n",
        "sh = gc.open(sheetname)\n",
        "wks_tag = sh.worksheet_by_title('전체')\n",
        "ncv_df = wks_tag.get_as_df(has_header=True , index_column=None , start='A1', end='AZ100000' , numerize=True , empty_value=np.nan)\n",
        "ncv_df = ncv_df[ncv_df['단가 기준'] >= '2023-09']\n",
        "ncv_df = ncv_df[ncv_df['회사'] != 'Sandbox']\n",
        "ncv_df = ncv_df[ncv_df['평균 조회수(NCV)'].isnull()]\n",
        "len(ncv_df)"
      ]
    },
    {
      "cell_type": "code",
      "execution_count": 10,
      "metadata": {
        "id": "DPG-nyPPA86O",
        "outputId": "76a49231-fde2-489b-ce5e-a97b551ae925"
      },
      "outputs": [
        {
          "name": "stderr",
          "output_type": "stream",
          "text": [
            "  0%|          | 0/1936 [00:00<?, ?it/s]"
          ]
        },
        {
          "name": "stdout",
          "output_type": "stream",
          "text": [
            "0 https://www.youtube.com/channel/UCe8YEoKunUWyVQQIGeGa-Dg/videos\n"
          ]
        },
        {
          "name": "stderr",
          "output_type": "stream",
          "text": [
            "  0%|          | 1/1936 [00:06<3:45:35,  7.00s/it]"
          ]
        },
        {
          "name": "stdout",
          "output_type": "stream",
          "text": [
            "3일 전 4.8천\n",
            "11일 전 4.7천\n",
            "4주 전 5.4천\n",
            "1개월 전 8천\n",
            "1개월 전 6.5천\n",
            "1개월 전 5.3천\n",
            "2개월 전 8.2천\n",
            "2개월 전 8.9천\n",
            "2개월 전 1.3만\n",
            "2개월 전 8.3천\n",
            "3개월 전 9.1천\n",
            "3개월 전 9.4천\n",
            "3개월 전 2만\n",
            "3개월 전 1.7만\n",
            "3개월 전 1.8만\n",
            "3개월 전 9.7천\n",
            "1 https://www.youtube.com/channel/UCWCldx-uKM2wJWVuWk9SAHQ/videos\n"
          ]
        },
        {
          "name": "stderr",
          "output_type": "stream",
          "text": [
            "  0%|          | 2/1936 [00:14<3:49:33,  7.12s/it]"
          ]
        },
        {
          "name": "stdout",
          "output_type": "stream",
          "text": [
            "20시간 전 300\n",
            "3일 전 479\n",
            "6일 전 1천\n",
            "8일 전 438\n",
            "2주 전 463\n",
            "3주 전 349\n",
            "1개월 전 183\n",
            "1개월 전 320\n",
            "1개월 전 170\n",
            "1개월 전 236\n",
            "1개월 전 195\n",
            "1개월 전 332\n",
            "1개월 전 504\n",
            "1개월 전 444\n",
            "1개월 전 252\n",
            "1개월 전 332\n",
            "2개월 전 281\n",
            "2개월 전 428\n",
            "2개월 전 229\n",
            "2개월 전 272\n",
            "2개월 전 740\n",
            "2개월 전 2.4천\n",
            "2개월 전 438\n",
            "2개월 전 721\n",
            "3개월 전 584\n",
            "3개월 전 491\n",
            "3개월 전 715\n",
            "3개월 전 1.4천\n",
            "3개월 전 370\n",
            "2 https://www.youtube.com/channel/UCXCdM6HSQfBiVsOw0vq24kQ/videos\n"
          ]
        },
        {
          "name": "stderr",
          "output_type": "stream",
          "text": [
            "  0%|          | 3/1936 [00:19<3:19:07,  6.18s/it]"
          ]
        },
        {
          "name": "stdout",
          "output_type": "stream",
          "text": [
            "2주 전 2.5만\n",
            "2주 전 3.4천\n",
            "2주 전 6.6천\n",
            "3주 전 4.7천\n",
            "1개월 전 5.1천\n",
            "1개월 전 3.8천\n",
            "1개월 전 4.3천\n",
            "1개월 전 3.1천\n",
            "1개월 전 4.8천\n",
            "1개월 전 8.3천\n",
            "1개월 전 8.7천\n",
            "2개월 전 4.3천\n",
            "2개월 전 1.5만\n",
            "2개월 전 9.7천\n",
            "2개월 전 8.1천\n",
            "2개월 전 7.8천\n",
            "3개월 전 8.9천\n",
            "3개월 전 1.2만\n",
            "3개월 전 5.2천\n",
            "3개월 전 9.7천\n",
            "3개월 전 4.6천\n",
            "3개월 전 3.5만\n",
            "3개월 전 8.6천\n",
            "3개월 전 4천\n",
            "3개월 전 1.3만\n",
            "3개월 전 2.1만\n",
            "3개월 전 3.2천\n",
            "3 https://www.youtube.com/channel/UCIymgWFcVWjbjbh_4YEwSAQ/videos\n"
          ]
        },
        {
          "name": "stderr",
          "output_type": "stream",
          "text": [
            "  0%|          | 4/1936 [00:24<3:07:20,  5.82s/it]"
          ]
        },
        {
          "name": "stdout",
          "output_type": "stream",
          "text": [
            "2주 전 6.3천\n",
            "2주 전 7.1천\n",
            "4주 전 8.4천\n",
            "1개월 전 1.4만\n",
            "1개월 전 4.4천\n",
            "2개월 전 7.1천\n",
            "2개월 전 8.1천\n",
            "2개월 전 5.3천\n",
            "2개월 전 6.6천\n",
            "3개월 전 2.5만\n",
            "3개월 전 6.2천\n",
            "3개월 전 1.6만\n",
            "3개월 전 1.1만\n",
            "4 https://www.youtube.com/channel/UCdcRl-7KIUXRD8MkeaNifyw/videos\n"
          ]
        },
        {
          "name": "stderr",
          "output_type": "stream",
          "text": [
            "  0%|          | 5/1936 [00:29<3:00:02,  5.59s/it]"
          ]
        },
        {
          "name": "stdout",
          "output_type": "stream",
          "text": [
            "6일 전 7.6천\n",
            "2주 전 5.8천\n",
            "2주 전 1만\n",
            "3주 전 7.9천\n",
            "4주 전 7.5천\n",
            "1개월 전 1.5만\n",
            "1개월 전 1만\n",
            "1개월 전 1.7만\n",
            "1개월 전 1.3만\n",
            "1개월 전 1.5만\n",
            "2개월 전 1.3만\n",
            "2개월 전 8.5천\n",
            "2개월 전 1.3만\n",
            "2개월 전 2만\n",
            "2개월 전 1만\n",
            "3개월 전 1.8만\n",
            "3개월 전 1만\n",
            "3개월 전 1.7만\n",
            "5 https://www.youtube.com/channel/UC25-ln3V2q5uOm-l7UIw6vA/videos\n"
          ]
        },
        {
          "name": "stderr",
          "output_type": "stream",
          "text": [
            "  0%|          | 6/1936 [00:34<2:53:44,  5.40s/it]"
          ]
        },
        {
          "name": "stdout",
          "output_type": "stream",
          "text": [
            "1일 전 2.4천\n",
            "2일 전 3.6천\n",
            "3일 전 3.4천\n",
            "5일 전 3.9천\n",
            "10일 전 6.7천\n",
            "13일 전 5.4천\n",
            "2주 전 4.9천\n",
            "2주 전 1만\n",
            "2주 전 5.2천\n",
            "3주 전 4.9천\n",
            "3주 전 4.4천\n",
            "3주 전 5.1천\n",
            "4주 전 5.7천\n",
            "1개월 전 1.8만\n",
            "1개월 전 5.5천\n",
            "1개월 전 4.1천\n",
            "1개월 전 5.6천\n",
            "1개월 전 4천\n",
            "1개월 전 3.4천\n",
            "1개월 전 9.2천\n",
            "1개월 전 5.1천\n",
            "2개월 전 3.8천\n",
            "2개월 전 6.2천\n",
            "2개월 전 1.2만\n",
            "2개월 전 4.8천\n",
            "2개월 전 7.1천\n",
            "3개월 전 5.8천\n",
            "3개월 전 4.1천\n",
            "3개월 전 9.5천\n",
            "3개월 전 2.4만\n",
            "6 https://www.youtube.com/channel/UC0wo7SwsC5dE0nSgBs2M-3A/videos\n"
          ]
        },
        {
          "name": "stderr",
          "output_type": "stream",
          "text": [
            "  0%|          | 7/1936 [00:39<2:51:20,  5.33s/it]"
          ]
        },
        {
          "name": "stdout",
          "output_type": "stream",
          "text": [
            "1개월 전 1.4만\n",
            "3개월 전 22만\n",
            "7 https://www.youtube.com/channel/UC6BOscXzGVkWxTe5T2xeCtw/videos\n"
          ]
        },
        {
          "name": "stderr",
          "output_type": "stream",
          "text": [
            "  0%|          | 8/1936 [00:44<2:42:13,  5.05s/it]"
          ]
        },
        {
          "name": "stdout",
          "output_type": "stream",
          "text": [
            "2주 전 2만\n",
            "3주 전 1.4만\n",
            "4주 전 1.6만\n",
            "2개월 전 2.7만\n",
            "2개월 전 2.1만\n",
            "3개월 전 7만\n",
            "3개월 전 7.3만\n",
            "3개월 전 2.5만\n",
            "8 https://www.youtube.com/channel/UCj8eZWovlTImzGLlCUxFKDg/videos\n"
          ]
        },
        {
          "name": "stderr",
          "output_type": "stream",
          "text": [
            "  0%|          | 9/1936 [00:49<2:44:22,  5.12s/it]"
          ]
        },
        {
          "name": "stdout",
          "output_type": "stream",
          "text": [
            "8일 전 161\n",
            "9 https://www.youtube.com/channel/UChVChXAyUTZjki0NRPlhn-Q/videos\n"
          ]
        },
        {
          "name": "stderr",
          "output_type": "stream",
          "text": [
            "  1%|          | 10/1936 [00:54<2:42:56,  5.08s/it]"
          ]
        },
        {
          "name": "stdout",
          "output_type": "stream",
          "text": [
            "10 https://www.youtube.com/channel/UCyQGr2nhHrapsBZ5o6Xwcng/videos\n"
          ]
        },
        {
          "name": "stderr",
          "output_type": "stream",
          "text": [
            "  1%|          | 11/1936 [00:59<2:44:48,  5.14s/it]"
          ]
        },
        {
          "name": "stdout",
          "output_type": "stream",
          "text": [
            "1개월 전 2.9천\n",
            "1개월 전 4.8천\n",
            "11 https://www.youtube.com/channel/UCvwLzPuKdYVu8SLfrrD0e0w/videos\n"
          ]
        },
        {
          "name": "stderr",
          "output_type": "stream",
          "text": [
            "  1%|          | 12/1936 [01:05<2:46:06,  5.18s/it]"
          ]
        },
        {
          "name": "stdout",
          "output_type": "stream",
          "text": [
            "5일 전 8.1만\n",
            "2주 전 1만\n",
            "2주 전 5.2만\n",
            "1개월 전 1.2만\n",
            "1개월 전 6.6만\n",
            "1개월 전 1.8만\n",
            "3개월 전 1.2만\n",
            "3개월 전 4.9만\n",
            "12 https://www.youtube.com/channel/UCvwi9NIHauxkyLsvODFpAbA/videos\n"
          ]
        },
        {
          "name": "stderr",
          "output_type": "stream",
          "text": [
            "  1%|          | 13/1936 [01:09<2:40:12,  5.00s/it]"
          ]
        },
        {
          "name": "stdout",
          "output_type": "stream",
          "text": [
            "1일 전 266\n",
            "10일 전 229\n",
            "1개월 전 510\n",
            "1개월 전 447\n",
            "2개월 전 1.7천\n",
            "2개월 전 527\n",
            "2개월 전 235\n",
            "2개월 전 262\n",
            "3개월 전 151\n",
            "3개월 전 244\n",
            "3개월 전 715\n",
            "13 https://www.youtube.com/channel/UCHwI71qXzMHQ_m6tOFoU2AA/videos\n"
          ]
        },
        {
          "name": "stderr",
          "output_type": "stream",
          "text": [
            "  1%|          | 14/1936 [01:15<2:42:28,  5.07s/it]"
          ]
        },
        {
          "name": "stdout",
          "output_type": "stream",
          "text": [
            "14 https://www.youtube.com/channel/UCO-JCUvVb8bXg9NOhDrknTg/videos\n"
          ]
        },
        {
          "name": "stderr",
          "output_type": "stream",
          "text": [
            "  1%|          | 15/1936 [01:20<2:43:18,  5.10s/it]"
          ]
        },
        {
          "name": "stdout",
          "output_type": "stream",
          "text": [
            "3개월 전 1.1만\n",
            "15 https://www.youtube.com/channel/UCiKu6JfJFZkRJRAvVi_sdEA/videos\n"
          ]
        },
        {
          "name": "stderr",
          "output_type": "stream",
          "text": [
            "  1%|          | 16/1936 [01:25<2:45:06,  5.16s/it]"
          ]
        },
        {
          "name": "stdout",
          "output_type": "stream",
          "text": [
            "9일 전 2.8천\n",
            "10일 전 4.4천\n",
            "3주 전 1.5천\n",
            "4주 전 4.3천\n",
            "1개월 전 2.8천\n",
            "1개월 전 1.2만\n",
            "1개월 전 482\n",
            "1개월 전 3.3천\n",
            "1개월 전 7.1천\n",
            "2개월 전 383\n",
            "2개월 전 1천\n",
            "2개월 전 6천\n",
            "2개월 전 1.1천\n",
            "2개월 전 2.7천\n",
            "3개월 전 2.8천\n",
            "3개월 전 1.9천\n",
            "3개월 전 1.2천\n",
            "3개월 전 536\n",
            "3개월 전 2.8천\n",
            "3개월 전 5.5천\n",
            "16 https://www.youtube.com/channel/UCt1lsrMsAMhmAh2AIbXDc-A/videos\n"
          ]
        },
        {
          "name": "stderr",
          "output_type": "stream",
          "text": [
            "  1%|          | 17/1936 [01:30<2:46:05,  5.19s/it]"
          ]
        },
        {
          "name": "stdout",
          "output_type": "stream",
          "text": [
            "2주 전 8천\n",
            "3주 전 7.5천\n",
            "1개월 전 1만\n",
            "1개월 전 1.7만\n",
            "1개월 전 6.6천\n",
            "1개월 전 6.9천\n",
            "1개월 전 4.2천\n",
            "1개월 전 5.4천\n",
            "2개월 전 7.1천\n",
            "2개월 전 7.1천\n",
            "2개월 전 1.4만\n",
            "3개월 전 1.3만\n",
            "17 https://www.youtube.com/channel/UCQuit9kuTw6BjmgLyogL3mA/videos\n"
          ]
        },
        {
          "name": "stderr",
          "output_type": "stream",
          "text": [
            "  1%|          | 18/1936 [01:35<2:44:21,  5.14s/it]"
          ]
        },
        {
          "name": "stdout",
          "output_type": "stream",
          "text": [
            "20시간 전 733\n",
            "3일 전 3.5천\n",
            "8일 전 6.6천\n",
            "11일 전 1만\n",
            "2주 전 3.4천\n",
            "2주 전 2천\n",
            "3주 전 4.2천\n",
            "3주 전 3.3천\n",
            "3주 전 687\n",
            "1개월 전 6.7천\n",
            "1개월 전 2.6천\n",
            "1개월 전 2.9천\n",
            "1개월 전 618\n",
            "1개월 전 1.8천\n",
            "1개월 전 2천\n",
            "1개월 전 2.1천\n",
            "1개월 전 1천\n",
            "2개월 전 3.5천\n",
            "2개월 전 1.3천\n",
            "2개월 전 4.3천\n",
            "2개월 전 2.4천\n",
            "2개월 전 1.5천\n",
            "2개월 전 2.2천\n",
            "2개월 전 9.8천\n",
            "2개월 전 1.1천\n",
            "2개월 전 4.2천\n",
            "2개월 전 1.3천\n",
            "2개월 전 800\n",
            "2개월 전 880\n",
            "18 https://www.youtube.com/channel/UCQuY08EEKLFOp0D37Sfpd0A/videos\n"
          ]
        },
        {
          "name": "stderr",
          "output_type": "stream",
          "text": [
            "  1%|          | 19/1936 [01:41<2:46:01,  5.20s/it]"
          ]
        },
        {
          "name": "stdout",
          "output_type": "stream",
          "text": [
            "4일 전 2.3천\n",
            "6일 전 2.1천\n",
            "10일 전 3.8천\n",
            "12일 전 3.2천\n",
            "2주 전 5.5천\n",
            "3주 전 1천\n",
            "3주 전 3.6천\n",
            "4주 전 6.6천\n",
            "1개월 전 5.1천\n",
            "1개월 전 4.1천\n",
            "1개월 전 5.6천\n",
            "1개월 전 2.3천\n",
            "1개월 전 566\n",
            "1개월 전 3.9천\n",
            "1개월 전 2천\n",
            "1개월 전 2.6천\n",
            "1개월 전 8.4천\n",
            "2개월 전 5.3천\n",
            "2개월 전 3.7천\n",
            "2개월 전 6.2천\n",
            "2개월 전 7.5천\n",
            "2개월 전 4.6천\n",
            "2개월 전 6.4천\n",
            "2개월 전 1.4만\n",
            "2개월 전 6.4천\n",
            "2개월 전 1.2만\n",
            "2개월 전 6.2천\n",
            "2개월 전 3.2만\n",
            "3개월 전 1.8천\n",
            "3개월 전 1.6만\n",
            "19 https://www.youtube.com/channel/UCUHUHum4nIT20PbhanJAZvw/videos\n"
          ]
        },
        {
          "name": "stderr",
          "output_type": "stream",
          "text": [
            "  1%|          | 20/1936 [01:45<2:38:27,  4.96s/it]"
          ]
        },
        {
          "name": "stdout",
          "output_type": "stream",
          "text": [
            "3일 전 73\n",
            "7일 전 72\n",
            "2주 전 119\n",
            "3주 전 541\n",
            "1개월 전 830\n",
            "1개월 전 113\n",
            "1개월 전 246\n",
            "1개월 전 913\n",
            "1개월 전 132\n",
            "1개월 전 1.3천\n",
            "1개월 전 107\n",
            "2개월 전 127\n",
            "2개월 전 124\n",
            "2개월 전 101\n",
            "2개월 전 292\n",
            "2개월 전 439\n",
            "3개월 전 498\n",
            "3개월 전 1.1천\n",
            "3개월 전 740\n",
            "3개월 전 513\n",
            "20 https://www.youtube.com/channel/UCApEQvn22KOgaFeLrYEANvA/videos\n"
          ]
        },
        {
          "name": "stderr",
          "output_type": "stream",
          "text": [
            "  1%|          | 21/1936 [01:50<2:39:34,  5.00s/it]"
          ]
        },
        {
          "name": "stdout",
          "output_type": "stream",
          "text": [
            "1개월 전 632\n",
            "2개월 전 622\n",
            "3개월 전 687\n",
            "21 https://www.youtube.com/channel/UCjjrolx39gFEqqHWRYY-0Rw/videos\n"
          ]
        },
        {
          "name": "stderr",
          "output_type": "stream",
          "text": [
            "  1%|          | 22/1936 [01:55<2:40:24,  5.03s/it]"
          ]
        },
        {
          "name": "stdout",
          "output_type": "stream",
          "text": [
            "4일 전 3.9천\n",
            "12일 전 4천\n",
            "13일 전 4.6천\n",
            "1개월 전 6.3만\n",
            "1개월 전 9천\n",
            "2개월 전 1.1만\n",
            "2개월 전 3.1만\n",
            "3개월 전 2.4만\n",
            "3개월 전 6.9만\n",
            "22 https://www.youtube.com/channel/UCp2YXimJGuHP090VuVFXEhg/videos\n"
          ]
        },
        {
          "name": "stderr",
          "output_type": "stream",
          "text": [
            "  1%|          | 23/1936 [02:00<2:42:16,  5.09s/it]"
          ]
        },
        {
          "name": "stdout",
          "output_type": "stream",
          "text": [
            "3개월 전 3.3천\n",
            "23 https://www.youtube.com/channel/UCSzg5Eo44ze027oNrMxC_1w/videos\n"
          ]
        },
        {
          "name": "stderr",
          "output_type": "stream",
          "text": [
            "  1%|          | 24/1936 [02:06<2:46:06,  5.21s/it]"
          ]
        },
        {
          "name": "stdout",
          "output_type": "stream",
          "text": [
            "2일 전 2천\n",
            "6일 전 1.7천\n",
            "6일 전 660\n",
            "2주 전 2.8천\n",
            "2주 전 1.8만\n",
            "2주 전 3.7만\n",
            "2주 전 2.6만\n",
            "2주 전 9.6천\n",
            "3주 전 2천\n",
            "2개월 전 424\n",
            "2개월 전 320\n",
            "2개월 전 468\n",
            "2개월 전 1.3천\n",
            "3개월 전 1.9천\n",
            "3개월 전 1만\n",
            "3개월 전 1.7만\n",
            "3개월 전 1.2천\n",
            "3개월 전 1.8만\n",
            "3개월 전 3.1천\n",
            "3개월 전 2천\n",
            "3개월 전 5.4천\n",
            "24 https://www.youtube.com/channel/UCprGu593Mn3ZzIZwW45zLZA/videos\n"
          ]
        },
        {
          "name": "stderr",
          "output_type": "stream",
          "text": [
            "  1%|▏         | 25/1936 [02:11<2:44:22,  5.16s/it]"
          ]
        },
        {
          "name": "stdout",
          "output_type": "stream",
          "text": [
            "18시간 전 3.3천\n",
            "1일 전 1.8천\n",
            "2일 전 2.7천\n",
            "3일 전 518\n",
            "4일 전 2.6천\n",
            "5일 전 3.6천\n",
            "7일 전 1.3천\n",
            "7일 전 586\n",
            "9일 전 656\n",
            "10일 전 2.1천\n",
            "10일 전 990\n",
            "11일 전 717\n",
            "12일 전 3.1천\n",
            "13일 전 481\n",
            "2주 전 2.6천\n",
            "2주 전 851\n",
            "2주 전 4.7천\n",
            "2주 전 5.4천\n",
            "2주 전 261\n",
            "1개월 전 5.7천\n",
            "1개월 전 6천\n",
            "1개월 전 3.3천\n",
            "1개월 전 1.3천\n",
            "1개월 전 2.5천\n",
            "1개월 전 1만\n",
            "1개월 전 7.1만\n",
            "1개월 전 212\n",
            "1개월 전 5.3천\n",
            "1개월 전 9.8천\n",
            "25 https://www.youtube.com/channel/UCzIxbZOJu5UtOjLvqpDVfBg/videos\n"
          ]
        },
        {
          "name": "stderr",
          "output_type": "stream",
          "text": [
            "  1%|▏         | 26/1936 [02:16<2:43:23,  5.13s/it]"
          ]
        },
        {
          "name": "stdout",
          "output_type": "stream",
          "text": [
            "26 https://www.youtube.com/channel/UCmu_ekYHVR0vjmpyQZp8YwA/videos\n"
          ]
        },
        {
          "name": "stderr",
          "output_type": "stream",
          "text": [
            "  1%|▏         | 27/1936 [02:21<2:44:43,  5.18s/it]"
          ]
        },
        {
          "name": "stdout",
          "output_type": "stream",
          "text": [
            "27 https://www.youtube.com/channel/UC4T3Wn0j97LY8mvLV8v-esg/videos\n"
          ]
        },
        {
          "name": "stderr",
          "output_type": "stream",
          "text": [
            "  1%|▏         | 28/1936 [02:27<2:48:38,  5.30s/it]"
          ]
        },
        {
          "name": "stdout",
          "output_type": "stream",
          "text": [
            "2주 전 4.6천\n",
            "1개월 전 6.4천\n",
            "28 https://www.youtube.com/channel/UCPoWn58htiBko96Ploh_r9Q/videos\n"
          ]
        },
        {
          "name": "stderr",
          "output_type": "stream",
          "text": [
            "  1%|▏         | 29/1936 [02:32<2:47:36,  5.27s/it]"
          ]
        },
        {
          "name": "stdout",
          "output_type": "stream",
          "text": [
            "2일 전 2.5천\n",
            "4일 전 2.4천\n",
            "7일 전 2.1천\n",
            "10일 전 2.7천\n",
            "12일 전 1.9천\n",
            "2주 전 3.4천\n",
            "2주 전 2.1천\n",
            "2주 전 2.1천\n",
            "2주 전 1.6천\n",
            "3주 전 3.2천\n",
            "4주 전 2.7천\n",
            "4주 전 2.3천\n",
            "1개월 전 2.8천\n",
            "1개월 전 3.4천\n",
            "1개월 전 3천\n",
            "1개월 전 3.6천\n",
            "1개월 전 3.8천\n",
            "1개월 전 4.4천\n",
            "1개월 전 2.6천\n",
            "1개월 전 3.6천\n",
            "1개월 전 3.1천\n",
            "1개월 전 3.3천\n",
            "1개월 전 3.1천\n",
            "1개월 전 2.7천\n",
            "1개월 전 3.1천\n",
            "1개월 전 3.4천\n",
            "1개월 전 2.4천\n",
            "1개월 전 3.4천\n",
            "2개월 전 3.9천\n",
            "2개월 전 4천\n",
            "29 https://www.youtube.com/channel/UC5b5m_7xp4OY6JzXc2U00Uw/videos\n"
          ]
        },
        {
          "name": "stderr",
          "output_type": "stream",
          "text": [
            "  2%|▏         | 30/1936 [02:37<2:44:46,  5.19s/it]"
          ]
        },
        {
          "name": "stdout",
          "output_type": "stream",
          "text": [
            "1개월 전 3.3천\n",
            "1개월 전 1.2만\n",
            "1개월 전 3.4천\n",
            "1개월 전 2.8천\n",
            "1개월 전 7.2천\n",
            "1개월 전 3.2천\n",
            "1개월 전 3.1천\n",
            "2개월 전 2.5천\n",
            "2개월 전 2.5천\n",
            "2개월 전 5천\n",
            "2개월 전 6.6천\n",
            "2개월 전 1.8만\n",
            "2개월 전 1.4만\n",
            "2개월 전 1.2만\n",
            "2개월 전 6.4천\n",
            "2개월 전 8.6천\n",
            "2개월 전 1.8천\n",
            "2개월 전 7.9천\n",
            "2개월 전 9.1천\n",
            "2개월 전 4.2천\n",
            "2개월 전 5.3천\n",
            "2개월 전 2.9천\n",
            "2개월 전 1만\n",
            "2개월 전 3.9천\n",
            "2개월 전 3.7천\n",
            "2개월 전 6.5천\n",
            "2개월 전 4.9천\n",
            "2개월 전 3.1천\n",
            "2개월 전 8.5천\n",
            "2개월 전 8.2천\n",
            "30 https://www.youtube.com/channel/UCEGaHKUicHJCgq7j5z58dDw/videos\n"
          ]
        },
        {
          "name": "stderr",
          "output_type": "stream",
          "text": [
            "  2%|▏         | 31/1936 [02:42<2:44:24,  5.18s/it]"
          ]
        },
        {
          "name": "stdout",
          "output_type": "stream",
          "text": [
            "1개월 전 1.3천\n",
            "1개월 전 2.8천\n",
            "1개월 전 3.1천\n",
            "1개월 전 2.4천\n",
            "1개월 전 1.8천\n",
            "1개월 전 4천\n",
            "1개월 전 5.2천\n",
            "3개월 전 1.9천\n",
            "31 https://www.youtube.com/channel/UCvaYqIChEJ35fKyoAk0760A/videos\n"
          ]
        },
        {
          "name": "stderr",
          "output_type": "stream",
          "text": [
            "  2%|▏         | 32/1936 [02:47<2:43:41,  5.16s/it]"
          ]
        },
        {
          "name": "stdout",
          "output_type": "stream",
          "text": [
            "3주 전 1.2만\n",
            "1개월 전 1.1만\n",
            "1개월 전 4.1천\n",
            "1개월 전 1.5만\n",
            "1개월 전 8천\n",
            "2개월 전 2만\n",
            "2개월 전 4.9천\n",
            "2개월 전 1.5만\n",
            "2개월 전 2.2만\n",
            "2개월 전 5천\n",
            "2개월 전 6.3천\n",
            "3개월 전 1.8만\n",
            "3개월 전 1.3만\n",
            "3개월 전 8천\n",
            "3개월 전 1.4만\n",
            "3개월 전 1.9만\n",
            "3개월 전 1.1만\n",
            "3개월 전 8.4천\n",
            "3개월 전 5천\n",
            "32 https://www.youtube.com/channel/UCCJKsts0w-JSpJWqIqzkgeQ/videos\n"
          ]
        },
        {
          "name": "stderr",
          "output_type": "stream",
          "text": [
            "  2%|▏         | 33/1936 [02:53<2:46:06,  5.24s/it]"
          ]
        },
        {
          "name": "stdout",
          "output_type": "stream",
          "text": [
            "4일 전 367\n",
            "6일 전 3.6천\n",
            "7일 전 4.3천\n",
            "8일 전 544\n",
            "13일 전 3.1천\n",
            "13일 전 3.8천\n",
            "2주 전 527\n",
            "2주 전 1.3만\n",
            "2주 전 8.8천\n",
            "2주 전 3.5천\n",
            "2주 전 3.1천\n",
            "3주 전 4.9천\n",
            "4주 전 1.1천\n",
            "1개월 전 1.7천\n",
            "1개월 전 1만\n",
            "1개월 전 1.5만\n",
            "1개월 전 3.8천\n",
            "1개월 전 1.4천\n",
            "1개월 전 4.1천\n",
            "1개월 전 2.5천\n",
            "1개월 전 2.7천\n",
            "1개월 전 2.2천\n",
            "1개월 전 1.6만\n",
            "2개월 전 5.1천\n",
            "2개월 전 1.3만\n",
            "2개월 전 2.6만\n",
            "2개월 전 1.6만\n",
            "2개월 전 3.8천\n",
            "3개월 전 5.2천\n",
            "3개월 전 582\n",
            "33 https://www.youtube.com/channel/UCkRLHkauKujg_qrfgA_FUpg/videos\n"
          ]
        },
        {
          "name": "stderr",
          "output_type": "stream",
          "text": [
            "  2%|▏         | 34/1936 [02:58<2:45:41,  5.23s/it]"
          ]
        },
        {
          "name": "stdout",
          "output_type": "stream",
          "text": [
            "2일 전 1.5만\n",
            "9일 전 2.1만\n",
            "2주 전 2.5만\n",
            "3주 전 3.1만\n",
            "1개월 전 3만\n",
            "1개월 전 2.8만\n",
            "2개월 전 2.5만\n",
            "2개월 전 2.3만\n",
            "2개월 전 3.7만\n",
            "2개월 전 2만\n",
            "3개월 전 2.9만\n",
            "3개월 전 3.8만\n",
            "3개월 전 2.8만\n",
            "3개월 전 3.2만\n",
            "34 https://www.youtube.com/channel/UC2uG3GCFiVbjWm8e3-Drnxg/videos\n"
          ]
        },
        {
          "name": "stderr",
          "output_type": "stream",
          "text": [
            "  2%|▏         | 35/1936 [03:03<2:44:26,  5.19s/it]"
          ]
        },
        {
          "name": "stdout",
          "output_type": "stream",
          "text": [
            "19시간 전 318\n",
            "2일 전 703\n",
            "5일 전 1.1천\n",
            "3주 전 2.3천\n",
            "3주 전 2.2천\n",
            "4주 전 837\n",
            "1개월 전 1.3천\n",
            "1개월 전 801\n",
            "1개월 전 761\n",
            "1개월 전 638\n",
            "2개월 전 552\n",
            "2개월 전 742\n",
            "2개월 전 528\n",
            "2개월 전 1.4천\n",
            "2개월 전 1.3천\n",
            "2개월 전 3천\n",
            "3개월 전 2.6천\n",
            "3개월 전 2.8만\n",
            "3개월 전 2.3천\n",
            "3개월 전 1.3천\n",
            "35 https://www.youtube.com/channel/UC3FKRf9yBdtCvsrB8lcIAKg/videos\n"
          ]
        },
        {
          "name": "stderr",
          "output_type": "stream",
          "text": [
            "  2%|▏         | 36/1936 [03:09<2:49:05,  5.34s/it]"
          ]
        },
        {
          "name": "stdout",
          "output_type": "stream",
          "text": [
            "6일 전 6.6만\n",
            "13일 전 5.5만\n",
            "2주 전 4.9만\n",
            "2주 전 2.1만\n",
            "1개월 전 4.9만\n",
            "2개월 전 3만\n",
            "2개월 전 5.6만\n",
            "2개월 전 3.7만\n",
            "2개월 전 2.7만\n",
            "3개월 전 6만\n",
            "3개월 전 5.4만\n",
            "3개월 전 14만\n",
            "3개월 전 12만\n",
            "36 https://www.youtube.com/channel/UC-Rr7zYKnRqa_aEDn1KjVkw/videos\n"
          ]
        },
        {
          "name": "stderr",
          "output_type": "stream",
          "text": [
            "  2%|▏         | 37/1936 [03:13<2:39:43,  5.05s/it]"
          ]
        },
        {
          "name": "stdout",
          "output_type": "stream",
          "text": [
            "13일 전 7천\n",
            "3주 전 3.7천\n",
            "1개월 전 5.1천\n",
            "1개월 전 6.1천\n",
            "1개월 전 3.5천\n",
            "2개월 전 1.4만\n",
            "3개월 전 1.8만\n",
            "37 https://www.youtube.com/channel/UClKpcL0RdxBTDwnYDiWw1tQ/videos\n"
          ]
        },
        {
          "name": "stderr",
          "output_type": "stream",
          "text": [
            "  2%|▏         | 38/1936 [03:18<2:39:44,  5.05s/it]"
          ]
        },
        {
          "name": "stdout",
          "output_type": "stream",
          "text": [
            "9일 전 2.5천\n",
            "3개월 전 778\n",
            "38 https://www.youtube.com/channel/UC1y1rSXfT8kMSI_ar1awa_g/videos\n"
          ]
        },
        {
          "name": "stderr",
          "output_type": "stream",
          "text": [
            "  2%|▏         | 39/1936 [03:23<2:39:12,  5.04s/it]"
          ]
        },
        {
          "name": "stdout",
          "output_type": "stream",
          "text": [
            "19시간 전 808\n",
            "2주 전 3.1천\n",
            "1개월 전 1.7천\n",
            "39 https://www.youtube.com/channel/UCv5A1q1kUng_vMRM_sKm0qA/videos\n"
          ]
        },
        {
          "name": "stderr",
          "output_type": "stream",
          "text": [
            "  2%|▏         | 40/1936 [03:28<2:40:12,  5.07s/it]"
          ]
        },
        {
          "name": "stdout",
          "output_type": "stream",
          "text": [
            "10일 전 821\n",
            "3개월 전 2.3천\n",
            "40 https://www.youtube.com/channel/UCoNb94vTMbBWIEUGTcnbkUA/videos\n"
          ]
        },
        {
          "name": "stderr",
          "output_type": "stream",
          "text": [
            "  2%|▏         | 41/1936 [03:33<2:40:17,  5.08s/it]"
          ]
        },
        {
          "name": "stdout",
          "output_type": "stream",
          "text": [
            "4주 전 2.3만\n",
            "1개월 전 2만\n",
            "1개월 전 2.7만\n",
            "2개월 전 4.1만\n",
            "2개월 전 4만\n",
            "3개월 전 2.7만\n",
            "3개월 전 4.6만\n",
            "3개월 전 3.4만\n",
            "41 https://www.youtube.com/channel/UCePBXZ7hfw2BeYqx_JB4VUQ/videos\n"
          ]
        },
        {
          "name": "stderr",
          "output_type": "stream",
          "text": [
            "  2%|▏         | 42/1936 [03:38<2:34:19,  4.89s/it]"
          ]
        },
        {
          "name": "stdout",
          "output_type": "stream",
          "text": [
            "42 https://www.youtube.com/channel/UCDbUeK0YqR8GZrmvzMs94mA/videos\n"
          ]
        },
        {
          "name": "stderr",
          "output_type": "stream",
          "text": [
            "  2%|▏         | 43/1936 [03:43<2:38:55,  5.04s/it]"
          ]
        },
        {
          "name": "stdout",
          "output_type": "stream",
          "text": [
            "4일 전 21만\n",
            "3주 전 89만\n",
            "1개월 전 1.8만\n",
            "1개월 전 9.9만\n",
            "2개월 전 68만\n",
            "3개월 전 42만\n",
            "3개월 전 85만\n",
            "43 https://www.youtube.com/channel/UCD23NqM89ZcJk1EKDjfMeMg/videos\n"
          ]
        },
        {
          "name": "stderr",
          "output_type": "stream",
          "text": [
            "  2%|▏         | 44/1936 [03:48<2:34:11,  4.89s/it]"
          ]
        },
        {
          "name": "stdout",
          "output_type": "stream",
          "text": [
            "2일 전 8.7천\n",
            "1개월 전 2.2만\n",
            "1개월 전 2.7만\n",
            "1개월 전 2.9만\n",
            "2개월 전 1.8만\n",
            "2개월 전 1.2만\n",
            "2개월 전 1.1만\n",
            "3개월 전 1.8만\n",
            "3개월 전 2.2만\n",
            "3개월 전 4만\n",
            "44 https://www.youtube.com/channel/UCHHkP5D3JP0W4opHXMa7WyQ/videos\n"
          ]
        },
        {
          "name": "stderr",
          "output_type": "stream",
          "text": [
            "  2%|▏         | 45/1936 [03:53<2:38:07,  5.02s/it]"
          ]
        },
        {
          "name": "stdout",
          "output_type": "stream",
          "text": [
            "2일 전 1.6만\n",
            "5일 전 2만\n",
            "9일 전 2.6만\n",
            "2주 전 14만\n",
            "3주 전 6.7만\n",
            "4주 전 4.9만\n",
            "1개월 전 4.9만\n",
            "1개월 전 8.8만\n",
            "1개월 전 46만\n",
            "2개월 전 20만\n",
            "2개월 전 24만\n",
            "2개월 전 8.1만\n",
            "3개월 전 49만\n",
            "3개월 전 5.9만\n",
            "3개월 전 21만\n",
            "3개월 전 58만\n",
            "3개월 전 23만\n",
            "3개월 전 5.3만\n",
            "45 https://www.youtube.com/channel/UC7vp_WW0hDx-9_y5_oGwWJA/videos\n"
          ]
        },
        {
          "name": "stderr",
          "output_type": "stream",
          "text": [
            "  2%|▏         | 46/1936 [03:58<2:38:33,  5.03s/it]"
          ]
        },
        {
          "name": "stdout",
          "output_type": "stream",
          "text": [
            "18시간 전 7.5천\n",
            "4일 전 2.2천\n",
            "9일 전 9.2천\n",
            "13일 전 1.9천\n",
            "2주 전 1만\n",
            "3주 전 5천\n",
            "3주 전 1.1천\n",
            "3주 전 1.1천\n",
            "3주 전 1.9천\n",
            "4주 전 751\n",
            "4주 전 5.4천\n",
            "1개월 전 1.3천\n",
            "1개월 전 6.1천\n",
            "1개월 전 9.1천\n",
            "1개월 전 1.8천\n",
            "1개월 전 9.2천\n",
            "1개월 전 1천\n",
            "1개월 전 1.8천\n",
            "1개월 전 1.6만\n",
            "1개월 전 1만\n",
            "2개월 전 5.5천\n",
            "2개월 전 1.2만\n",
            "2개월 전 2.1천\n",
            "2개월 전 5.4천\n",
            "2개월 전 3.5천\n",
            "2개월 전 7.2천\n",
            "2개월 전 2.4천\n",
            "2개월 전 2.1만\n",
            "2개월 전 4.8만\n",
            "46 https://www.youtube.com/channel/UCj7uVJPy5m4SgvwL5p8fsfA/videos\n"
          ]
        },
        {
          "name": "stderr",
          "output_type": "stream",
          "text": [
            "  2%|▏         | 47/1936 [04:03<2:40:11,  5.09s/it]"
          ]
        },
        {
          "name": "stdout",
          "output_type": "stream",
          "text": [
            "2일 전 3.4만\n",
            "9일 전 7.9만\n",
            "2주 전 30만\n",
            "1개월 전 8.4만\n",
            "1개월 전 6.3만\n",
            "1개월 전 139만\n",
            "2개월 전 95만\n",
            "2개월 전 14만\n",
            "2개월 전 6.5만\n",
            "3개월 전 8.5만\n",
            "3개월 전 133만\n",
            "3개월 전 25만\n",
            "47 https://www.youtube.com/channel/UCD2KROktGHeRad9_Eolc3EQ/videos\n"
          ]
        },
        {
          "name": "stderr",
          "output_type": "stream",
          "text": [
            "  2%|▏         | 48/1936 [04:09<2:41:36,  5.14s/it]"
          ]
        },
        {
          "name": "stdout",
          "output_type": "stream",
          "text": [
            "3일 전 25만\n",
            "12일 전 14만\n",
            "2주 전 18만\n",
            "3주 전 24만\n",
            "1개월 전 41만\n",
            "1개월 전 21만\n",
            "1개월 전 32만\n",
            "1개월 전 55만\n",
            "1개월 전 43만\n",
            "2개월 전 36만\n",
            "2개월 전 18만\n",
            "2개월 전 51만\n",
            "3개월 전 34만\n",
            "3개월 전 38만\n",
            "3개월 전 64만\n",
            "3개월 전 32만\n",
            "48 https://www.youtube.com/channel/UCI0QBGfRfT9BqrmODZSqYQw/videos\n"
          ]
        },
        {
          "name": "stderr",
          "output_type": "stream",
          "text": [
            "  3%|▎         | 49/1936 [04:14<2:42:41,  5.17s/it]"
          ]
        },
        {
          "name": "stdout",
          "output_type": "stream",
          "text": [
            "3개월 전 706\n",
            "49 https://www.youtube.com/channel/UCMPedRfD9EnS1EzAQl0nf4Q/videos\n"
          ]
        },
        {
          "name": "stderr",
          "output_type": "stream",
          "text": [
            "  3%|▎         | 50/1936 [04:20<2:46:45,  5.31s/it]"
          ]
        },
        {
          "name": "stdout",
          "output_type": "stream",
          "text": [
            "1일 전 8.5천\n",
            "2일 전 1.6만\n",
            "3일 전 1만\n",
            "3일 전 9.3천\n",
            "4일 전 5.2천\n",
            "4일 전 1.4만\n",
            "6일 전 2.7만\n",
            "7일 전 5.9만\n",
            "8일 전 2.1만\n",
            "10일 전 1.6만\n",
            "11일 전 3.9만\n",
            "12일 전 3.3만\n",
            "12일 전 2.3만\n",
            "13일 전 1.9만\n",
            "13일 전 9.1천\n",
            "2주 전 2만\n",
            "2주 전 3만\n",
            "2주 전 1.9만\n",
            "2주 전 1.4만\n",
            "3주 전 2만\n",
            "3주 전 1.8만\n",
            "3주 전 2.1만\n",
            "3주 전 1.6만\n",
            "3주 전 3.5만\n",
            "3주 전 3.4만\n",
            "4주 전 4.3만\n",
            "4주 전 2.7만\n",
            "4주 전 5.3만\n",
            "1개월 전 8.1천\n",
            "1개월 전 2.2만\n",
            "50 https://www.youtube.com/channel/UCLWHpq3DcZDRU6Nxajn89HA/videos\n"
          ]
        },
        {
          "name": "stderr",
          "output_type": "stream",
          "text": [
            "  3%|▎         | 51/1936 [04:25<2:48:34,  5.37s/it]"
          ]
        },
        {
          "name": "stdout",
          "output_type": "stream",
          "text": [
            "1일 전 8.8천\n",
            "3일 전 1.1만\n",
            "2주 전 4만\n",
            "4주 전 8천\n",
            "1개월 전 4.8천\n",
            "1개월 전 6.6천\n",
            "1개월 전 1만\n",
            "1개월 전 1.9만\n",
            "1개월 전 6.3천\n",
            "2개월 전 1.9만\n",
            "2개월 전 1.3만\n",
            "2개월 전 5.7천\n",
            "2개월 전 4.3천\n",
            "2개월 전 9.3천\n",
            "2개월 전 1.2천\n",
            "3개월 전 5.3천\n",
            "3개월 전 6.9천\n",
            "3개월 전 1.1만\n",
            "3개월 전 6.1천\n",
            "3개월 전 2천\n",
            "3개월 전 3.8만\n",
            "3개월 전 9.3천\n",
            "3개월 전 1.6만\n",
            "51 https://www.youtube.com/channel/UCXE_Yk3oB9vn1Z0ZX9XEp2Q/videos\n"
          ]
        },
        {
          "name": "stderr",
          "output_type": "stream",
          "text": [
            "  3%|▎         | 52/1936 [04:30<2:48:28,  5.37s/it]"
          ]
        },
        {
          "name": "stdout",
          "output_type": "stream",
          "text": [
            "13일 전 4.3천\n",
            "1개월 전 7.2천\n",
            "1개월 전 6천\n",
            "3개월 전 7.1천\n",
            "3개월 전 1.3만\n",
            "3개월 전 5.2천\n",
            "52 https://www.youtube.com/channel/UCrD5-TvwsAme4H9mC2FpzLw/videos\n"
          ]
        },
        {
          "name": "stderr",
          "output_type": "stream",
          "text": [
            "  3%|▎         | 53/1936 [04:35<2:41:22,  5.14s/it]"
          ]
        },
        {
          "name": "stdout",
          "output_type": "stream",
          "text": [
            "53 https://www.youtube.com/channel/UCArfE1gUOZgyJusznHqXciA/videos\n"
          ]
        },
        {
          "name": "stderr",
          "output_type": "stream",
          "text": [
            "  3%|▎         | 54/1936 [04:40<2:41:19,  5.14s/it]"
          ]
        },
        {
          "name": "stdout",
          "output_type": "stream",
          "text": [
            "21시간 전 6.4천\n",
            "1개월 전 1.4만\n",
            "3개월 전 2.7천\n",
            "54 https://www.youtube.com/channel/UCzDkPraY61LFGybv_1tGUvQ/videos\n"
          ]
        },
        {
          "name": "stderr",
          "output_type": "stream",
          "text": [
            "  3%|▎         | 55/1936 [04:45<2:42:10,  5.17s/it]"
          ]
        },
        {
          "name": "stdout",
          "output_type": "stream",
          "text": [
            "10일 전 6.2천\n",
            "2주 전 1만\n",
            "3주 전 8.7천\n",
            "4주 전 5천\n",
            "1개월 전 4.4만\n",
            "1개월 전 3.9만\n",
            "1개월 전 8.4천\n",
            "2개월 전 1.4만\n",
            "2개월 전 6.2만\n",
            "2개월 전 1.3만\n",
            "2개월 전 2.1만\n",
            "3개월 전 1.7만\n",
            "3개월 전 1.3만\n",
            "3개월 전 8.9천\n",
            "3개월 전 1.2만\n",
            "3개월 전 9.8천\n",
            "55 https://www.youtube.com/channel/UCIzbqIyEUxtFLYh_sCDoXpw/videos\n"
          ]
        },
        {
          "name": "stderr",
          "output_type": "stream",
          "text": [
            "  3%|▎         | 56/1936 [04:50<2:39:44,  5.10s/it]"
          ]
        },
        {
          "name": "stdout",
          "output_type": "stream",
          "text": [
            "2주 전 3.9만\n",
            "2주 전 7.1만\n",
            "2주 전 4만\n",
            "2주 전 4.2만\n",
            "2주 전 8.5천\n",
            "2주 전 1.8만\n",
            "2주 전 3.9만\n",
            "2주 전 2.2만\n",
            "2주 전 3.2만\n",
            "2주 전 2.8만\n",
            "2주 전 3.5만\n",
            "2주 전 5.3만\n",
            "3주 전 5만\n",
            "3주 전 4.1만\n",
            "3주 전 2.6만\n",
            "3주 전 15만\n",
            "4주 전 8.5천\n",
            "1개월 전 9.2천\n",
            "1개월 전 1.6만\n",
            "2개월 전 13만\n",
            "2개월 전 14만\n",
            "2개월 전 8.6만\n",
            "2개월 전 4천\n",
            "2개월 전 14만\n",
            "2개월 전 1만\n",
            "2개월 전 3.8만\n",
            "2개월 전 9만\n",
            "3개월 전 3.2만\n",
            "3개월 전 3.3만\n",
            "3개월 전 1.5만\n",
            "56 https://www.youtube.com/channel/UCqJF60_Dzg5e1YDmtUIgeSA/videos\n"
          ]
        },
        {
          "name": "stderr",
          "output_type": "stream",
          "text": [
            "  3%|▎         | 57/1936 [04:55<2:39:08,  5.08s/it]"
          ]
        },
        {
          "name": "stdout",
          "output_type": "stream",
          "text": [
            "2일 전 8만\n",
            "2주 전 26만\n",
            "4주 전 10만\n",
            "1개월 전 24만\n",
            "2개월 전 14만\n",
            "2개월 전 23만\n",
            "3개월 전 12만\n",
            "3개월 전 16만\n",
            "57 https://www.youtube.com/channel/UCnaScS_UPdGgSk4N90sn7rg/videos\n"
          ]
        },
        {
          "name": "stderr",
          "output_type": "stream",
          "text": [
            "  3%|▎         | 58/1936 [05:01<2:41:59,  5.18s/it]"
          ]
        },
        {
          "name": "stdout",
          "output_type": "stream",
          "text": [
            "3개월 전 1.9천\n",
            "3개월 전 2.7천\n",
            "58 https://www.youtube.com/channel/UCJ-QONkD2j37J7o2tn0vxFw/videos\n"
          ]
        },
        {
          "name": "stderr",
          "output_type": "stream",
          "text": [
            "  3%|▎         | 59/1936 [05:06<2:41:56,  5.18s/it]"
          ]
        },
        {
          "name": "stdout",
          "output_type": "stream",
          "text": [
            "4일 전 1.7만\n",
            "11일 전 2.3만\n",
            "2주 전 2.1만\n",
            "3주 전 2.3만\n",
            "1개월 전 1.8만\n",
            "1개월 전 3.8만\n",
            "1개월 전 6.1만\n",
            "1개월 전 1.5만\n",
            "1개월 전 4.3만\n",
            "1개월 전 9.6만\n",
            "2개월 전 4만\n",
            "2개월 전 6.3만\n",
            "2개월 전 7천\n",
            "2개월 전 10만\n",
            "2개월 전 5.6만\n",
            "2개월 전 8.7만\n",
            "2개월 전 6.6천\n",
            "2개월 전 7.3천\n",
            "2개월 전 9.5만\n",
            "2개월 전 4만\n",
            "2개월 전 4.1천\n",
            "2개월 전 7.2천\n",
            "2개월 전 3.6천\n",
            "2개월 전 6.9천\n",
            "2개월 전 1.1만\n",
            "3개월 전 4.2천\n",
            "3개월 전 2.4만\n",
            "3개월 전 3.2만\n",
            "3개월 전 2.7천\n",
            "3개월 전 7만\n",
            "59 https://www.youtube.com/channel/UCN_dp1s662AQai4rNPcw0VA/videos\n"
          ]
        },
        {
          "name": "stderr",
          "output_type": "stream",
          "text": [
            "  3%|▎         | 60/1936 [05:11<2:42:31,  5.20s/it]"
          ]
        },
        {
          "name": "stdout",
          "output_type": "stream",
          "text": [
            "1개월 전 6.4천\n",
            "1개월 전 5.4천\n",
            "1개월 전 5.5천\n",
            "1개월 전 5.9천\n",
            "1개월 전 7.9천\n",
            "1개월 전 6.2천\n",
            "1개월 전 6.3천\n",
            "2개월 전 7.9천\n",
            "2개월 전 7.6천\n",
            "2개월 전 1.1만\n",
            "2개월 전 1.3만\n",
            "2개월 전 4.8천\n",
            "2개월 전 1.2만\n",
            "2개월 전 1만\n",
            "60 https://www.youtube.com/channel/UCbTnsVoJimYzyBu-atTvXJg/videos\n"
          ]
        },
        {
          "name": "stderr",
          "output_type": "stream",
          "text": [
            "  3%|▎         | 61/1936 [05:16<2:39:20,  5.10s/it]"
          ]
        },
        {
          "name": "stdout",
          "output_type": "stream",
          "text": [
            "2개월 전 2.6만\n",
            "2개월 전 1.7만\n",
            "2개월 전 2.2만\n",
            "2개월 전 3.6만\n",
            "3개월 전 2.2만\n",
            "3개월 전 2.4만\n",
            "3개월 전 1.3만\n",
            "3개월 전 2.1만\n",
            "3개월 전 1.9만\n",
            "61 https://www.youtube.com/channel/UC_yxsHiFh1_j174x4AxICSg/videos\n"
          ]
        },
        {
          "name": "stderr",
          "output_type": "stream",
          "text": [
            "  3%|▎         | 62/1936 [05:21<2:38:28,  5.07s/it]"
          ]
        },
        {
          "name": "stdout",
          "output_type": "stream",
          "text": [
            "3일 전 1.6만\n",
            "6일 전 1.5만\n",
            "11일 전 1.9만\n",
            "2주 전 1.9만\n",
            "2주 전 4.4만\n",
            "3주 전 1.6만\n",
            "3주 전 1.8만\n",
            "4주 전 2.8만\n",
            "1개월 전 2만\n",
            "1개월 전 2만\n",
            "1개월 전 3.7만\n",
            "1개월 전 1.7만\n",
            "1개월 전 2.1만\n",
            "1개월 전 2.1만\n",
            "1개월 전 2.4만\n",
            "1개월 전 1.7만\n",
            "1개월 전 1.5만\n",
            "1개월 전 2만\n",
            "2개월 전 1.9만\n",
            "2개월 전 1.6만\n",
            "2개월 전 2.1만\n",
            "2개월 전 1.7만\n",
            "2개월 전 2.3만\n",
            "2개월 전 2.6만\n",
            "2개월 전 1.8만\n",
            "2개월 전 1.5만\n",
            "2개월 전 1.5만\n",
            "3개월 전 2.3만\n",
            "3개월 전 1.9만\n",
            "3개월 전 1.7만\n",
            "62 https://www.youtube.com/channel/UCpf2KBclcdxmNhpGTlxJpsQ/videos\n"
          ]
        },
        {
          "name": "stderr",
          "output_type": "stream",
          "text": [
            "  3%|▎         | 63/1936 [05:26<2:38:16,  5.07s/it]"
          ]
        },
        {
          "name": "stdout",
          "output_type": "stream",
          "text": [
            "21시간 전 1.5천\n",
            "1일 전 1.9천\n",
            "3일 전 2.1천\n",
            "5일 전 2.8천\n",
            "5일 전 3.3천\n",
            "6일 전 1.7천\n",
            "7일 전 2.2천\n",
            "8일 전 2.2천\n",
            "9일 전 1.8천\n",
            "10일 전 2.8천\n",
            "11일 전 2.6천\n",
            "12일 전 3.3천\n",
            "13일 전 2.3천\n",
            "2주 전 4.1천\n",
            "2주 전 2.4천\n",
            "2주 전 2.8천\n",
            "2주 전 2.7천\n",
            "2주 전 3.9천\n",
            "2주 전 4.1천\n",
            "2주 전 2.9천\n",
            "3주 전 6.2천\n",
            "3주 전 5.6천\n",
            "3주 전 5.6천\n",
            "3주 전 2.4천\n",
            "3주 전 3.1천\n",
            "3주 전 1.5천\n",
            "3주 전 3.6천\n",
            "4주 전 3.5천\n",
            "4주 전 6.2천\n",
            "63 https://www.youtube.com/channel/UCp6EWHe0Yl7Ed9n5fJadUTw/videos\n"
          ]
        },
        {
          "name": "stderr",
          "output_type": "stream",
          "text": [
            "  3%|▎         | 64/1936 [05:31<2:36:12,  5.01s/it]"
          ]
        },
        {
          "name": "stdout",
          "output_type": "stream",
          "text": [
            "13일 전 8.1천\n",
            "3주 전 1.9천\n",
            "1개월 전 9.8천\n",
            "1개월 전 4.1천\n",
            "1개월 전 7.2천\n",
            "2개월 전 6.2천\n",
            "2개월 전 2.5천\n",
            "2개월 전 1만\n",
            "3개월 전 8.2천\n",
            "3개월 전 1.2만\n",
            "3개월 전 9.6천\n",
            "3개월 전 1.9만\n",
            "64 https://www.youtube.com/channel/UCrQYepKaCXUEV85iasSjBdA/videos\n"
          ]
        },
        {
          "name": "stderr",
          "output_type": "stream",
          "text": [
            "  3%|▎         | 65/1936 [05:36<2:36:52,  5.03s/it]"
          ]
        },
        {
          "name": "stdout",
          "output_type": "stream",
          "text": [
            "8시간 전 2.7천\n",
            "4일 전 1.4만\n",
            "5일 전 2.2만\n",
            "5일 전 5.9천\n",
            "8일 전 5.3천\n",
            "9일 전 1만\n",
            "2주 전 5.4천\n",
            "2주 전 3천\n",
            "2주 전 6.7천\n",
            "2주 전 6.3천\n",
            "3주 전 3.4천\n",
            "3주 전 9.8천\n",
            "3주 전 7.5천\n",
            "3주 전 9.3천\n",
            "4주 전 1.3만\n",
            "4주 전 1.1만\n",
            "1개월 전 6.2천\n",
            "1개월 전 1.8만\n",
            "1개월 전 8.6천\n",
            "1개월 전 1.9만\n",
            "1개월 전 2.9천\n",
            "1개월 전 1.5만\n",
            "1개월 전 6천\n",
            "1개월 전 3.4만\n",
            "1개월 전 1.1만\n",
            "1개월 전 1만\n",
            "1개월 전 1.5만\n",
            "1개월 전 7.3천\n",
            "1개월 전 3.3천\n",
            "65 https://www.youtube.com/channel/UC6-xD1NKnCu2ukDx4wZI73g/videos\n"
          ]
        },
        {
          "name": "stderr",
          "output_type": "stream",
          "text": [
            "  3%|▎         | 66/1936 [05:41<2:35:13,  4.98s/it]"
          ]
        },
        {
          "name": "stdout",
          "output_type": "stream",
          "text": [
            "5일 전 4.8천\n",
            "12일 전 5.8만\n",
            "2주 전 4.7만\n",
            "2주 전 3.1천\n",
            "4주 전 1.2만\n",
            "1개월 전 4.4만\n",
            "1개월 전 4.2만\n",
            "2개월 전 7.2천\n",
            "2개월 전 2.1만\n",
            "2개월 전 6.5만\n",
            "3개월 전 1만\n",
            "66 https://www.youtube.com/channel/UCJmnOEp1-OITEU0mk4icM5A/videos\n"
          ]
        },
        {
          "name": "stderr",
          "output_type": "stream",
          "text": [
            "  3%|▎         | 67/1936 [05:46<2:36:26,  5.02s/it]"
          ]
        },
        {
          "name": "stdout",
          "output_type": "stream",
          "text": [
            "4시간 전 4천\n",
            "1일 전 1.2만\n",
            "2일 전 1.3만\n",
            "4일 전 1.5만\n",
            "4일 전 1.4만\n",
            "6일 전 9.8천\n",
            "7일 전 1.6만\n",
            "8일 전 2만\n",
            "9일 전 1.9만\n",
            "10일 전 1.8만\n",
            "11일 전 1.9만\n",
            "13일 전 2.8만\n",
            "2주 전 1.6만\n",
            "2주 전 1.7만\n",
            "2주 전 1.9만\n",
            "2주 전 2.2만\n",
            "2주 전 1.6만\n",
            "2주 전 2.3만\n",
            "2주 전 1.6만\n",
            "3주 전 2.6만\n",
            "3주 전 2.4만\n",
            "3주 전 3.8만\n",
            "3주 전 2.3만\n",
            "3주 전 2만\n",
            "3주 전 3만\n",
            "4주 전 3.3만\n",
            "4주 전 4.8만\n",
            "4주 전 1.7만\n",
            "1개월 전 6.2천\n",
            "67 https://www.youtube.com/channel/UCHX_Bm--j_8cQaartbi5tEg/videos\n"
          ]
        },
        {
          "name": "stderr",
          "output_type": "stream",
          "text": [
            "  4%|▎         | 68/1936 [05:51<2:31:28,  4.87s/it]"
          ]
        },
        {
          "name": "stdout",
          "output_type": "stream",
          "text": [
            "68 https://www.youtube.com/channel/UCnCvPMsreWop27j4AOluemw/videos\n"
          ]
        },
        {
          "name": "stderr",
          "output_type": "stream",
          "text": [
            "  4%|▎         | 69/1936 [05:56<2:33:01,  4.92s/it]"
          ]
        },
        {
          "name": "stdout",
          "output_type": "stream",
          "text": [
            "3일 전 689\n",
            "8일 전 820\n",
            "11일 전 352\n",
            "2주 전 1.1천\n",
            "2주 전 1.2천\n",
            "1개월 전 1천\n",
            "1개월 전 2천\n",
            "1개월 전 1.5천\n",
            "1개월 전 1.3천\n",
            "1개월 전 2.6천\n",
            "1개월 전 1.2천\n",
            "2개월 전 3.9천\n",
            "2개월 전 2.4천\n",
            "2개월 전 1.3천\n",
            "2개월 전 815\n",
            "2개월 전 1.3천\n",
            "2개월 전 820\n",
            "2개월 전 1.6천\n",
            "3개월 전 804\n",
            "3개월 전 2.4천\n",
            "3개월 전 971\n",
            "3개월 전 2.5천\n",
            "3개월 전 1.1천\n",
            "3개월 전 1.7천\n",
            "3개월 전 4천\n",
            "3개월 전 1.5천\n",
            "3개월 전 1.6천\n",
            "69 https://www.youtube.com/channel/UCIl4aoZ_Y9pDiRF2qcDZkRg/videos\n"
          ]
        },
        {
          "name": "stderr",
          "output_type": "stream",
          "text": [
            "  4%|▎         | 70/1936 [06:00<2:29:32,  4.81s/it]"
          ]
        },
        {
          "name": "stdout",
          "output_type": "stream",
          "text": [
            "2개월 전 2.4만\n",
            "3개월 전 7.8천\n",
            "3개월 전 363\n",
            "3개월 전 6.6천\n",
            "70 https://www.youtube.com/channel/UCrJcTJra8lmdKYEVQ23Ke8w/videos\n"
          ]
        },
        {
          "name": "stderr",
          "output_type": "stream",
          "text": [
            "  4%|▎         | 71/1936 [06:05<2:26:11,  4.70s/it]"
          ]
        },
        {
          "name": "stdout",
          "output_type": "stream",
          "text": [
            "2일 전 2.5천\n",
            "4일 전 651\n",
            "71 https://www.youtube.com/channel/UCCJg1ibB1YKvDicLH1OtOng/videos\n"
          ]
        },
        {
          "name": "stderr",
          "output_type": "stream",
          "text": [
            "  4%|▎         | 72/1936 [06:10<2:30:40,  4.85s/it]"
          ]
        },
        {
          "name": "stdout",
          "output_type": "stream",
          "text": [
            "2일 전 3.1천\n",
            "5일 전 1.4천\n",
            "7일 전 1.6천\n",
            "9일 전 1.3천\n",
            "12일 전 1.8천\n",
            "2주 전 2.2천\n",
            "2주 전 1천\n",
            "2주 전 2.6천\n",
            "3주 전 2.2천\n",
            "3주 전 1.6천\n",
            "4주 전 1.7천\n",
            "1개월 전 1.6천\n",
            "1개월 전 4.7천\n",
            "1개월 전 2천\n",
            "1개월 전 2.2천\n",
            "1개월 전 2.2천\n",
            "1개월 전 2.7천\n",
            "1개월 전 1.9천\n",
            "1개월 전 2.9천\n",
            "1개월 전 2.4천\n",
            "1개월 전 2천\n",
            "1개월 전 2.3천\n",
            "1개월 전 2천\n",
            "2개월 전 2.7천\n",
            "2개월 전 2.7천\n",
            "2개월 전 2.6천\n",
            "2개월 전 3천\n",
            "2개월 전 5.2천\n",
            "2개월 전 1.6천\n",
            "2개월 전 3.1천\n",
            "72 https://www.youtube.com/channel/UCFsYG5MUHIp-mBRBP2WLRWQ/videos\n"
          ]
        },
        {
          "name": "stderr",
          "output_type": "stream",
          "text": [
            "  4%|▍         | 73/1936 [06:15<2:29:36,  4.82s/it]"
          ]
        },
        {
          "name": "stdout",
          "output_type": "stream",
          "text": [
            "12일 전 1.1천\n",
            "1개월 전 7천\n",
            "2개월 전 2.1천\n",
            "2개월 전 6천\n",
            "3개월 전 5천\n",
            "73 https://www.youtube.com/channel/UCW7FJt2s2oSSLgsTHMPzUTQ/videos\n"
          ]
        },
        {
          "name": "stderr",
          "output_type": "stream",
          "text": [
            "  4%|▍         | 74/1936 [06:20<2:30:45,  4.86s/it]"
          ]
        },
        {
          "name": "stdout",
          "output_type": "stream",
          "text": [
            "3일 전 3.3천\n",
            "5일 전 4.7천\n",
            "11일 전 7.2천\n",
            "2주 전 1.5만\n",
            "3주 전 9.5천\n",
            "4주 전 4.9천\n",
            "1개월 전 4.7천\n",
            "1개월 전 8.6천\n",
            "1개월 전 3.7천\n",
            "1개월 전 6.7천\n",
            "2개월 전 7.5천\n",
            "2개월 전 3.4천\n",
            "2개월 전 1.9천\n",
            "3개월 전 2.6천\n",
            "3개월 전 1.7만\n",
            "3개월 전 2.7천\n",
            "3개월 전 4.1천\n",
            "3개월 전 4천\n",
            "3개월 전 2.2천\n",
            "3개월 전 3.9만\n",
            "74 https://www.youtube.com/channel/UCjYARX1y7WV43Khw1uQ8dMQ/videos\n"
          ]
        },
        {
          "name": "stderr",
          "output_type": "stream",
          "text": [
            "  4%|▍         | 75/1936 [06:25<2:34:12,  4.97s/it]"
          ]
        },
        {
          "name": "stdout",
          "output_type": "stream",
          "text": [
            "1일 전 1.3만\n",
            "3일 전 1.1만\n",
            "5일 전 9.6천\n",
            "7일 전 9.7천\n",
            "8일 전 1만\n",
            "10일 전 8.5천\n",
            "11일 전 1만\n",
            "13일 전 1.2만\n",
            "2주 전 1.8만\n",
            "2주 전 1.5만\n",
            "2주 전 1.5만\n",
            "2주 전 1.3만\n",
            "3주 전 1만\n",
            "3주 전 1만\n",
            "3주 전 2.1만\n",
            "3주 전 5.7천\n",
            "3주 전 1.5만\n",
            "4주 전 1.3만\n",
            "4주 전 1.3만\n",
            "1개월 전 9.3천\n",
            "1개월 전 1만\n",
            "1개월 전 3.9만\n",
            "1개월 전 1.8만\n",
            "1개월 전 2만\n",
            "1개월 전 9.6천\n",
            "1개월 전 9.3천\n",
            "1개월 전 9.3천\n",
            "1개월 전 1.2만\n",
            "1개월 전 1.4만\n",
            "1개월 전 1.1만\n",
            "75 https://www.youtube.com/channel/UCIJswzd07JQofhj7MpRBjKQ/videos\n"
          ]
        },
        {
          "name": "stderr",
          "output_type": "stream",
          "text": [
            "  4%|▍         | 76/1936 [06:30<2:34:51,  5.00s/it]"
          ]
        },
        {
          "name": "stdout",
          "output_type": "stream",
          "text": [
            "10시간 전 3.2만\n",
            "3일 전 5.4만\n",
            "4일 전 13만\n",
            "5일 전 5.6만\n",
            "7일 전 6.9만\n",
            "11일 전 8.5만\n",
            "13일 전 17만\n",
            "2주 전 5.4만\n",
            "2주 전 11만\n",
            "2주 전 6.5만\n",
            "2주 전 8.3만\n",
            "2주 전 18만\n",
            "3주 전 8만\n",
            "3주 전 6.9만\n",
            "3주 전 10만\n",
            "3주 전 9만\n",
            "3주 전 16만\n",
            "3주 전 22만\n",
            "4주 전 7.3만\n",
            "1개월 전 11만\n",
            "1개월 전 9.4천\n",
            "1개월 전 5.7만\n",
            "1개월 전 5.4만\n",
            "1개월 전 4.4만\n",
            "1개월 전 7.5만\n",
            "1개월 전 4.3만\n",
            "1개월 전 5.4만\n",
            "1개월 전 13만\n",
            "1개월 전 10만\n",
            "76 https://www.youtube.com/channel/UCSTuWSKBNOqLHr7JsJ7smLw/videos\n"
          ]
        },
        {
          "name": "stderr",
          "output_type": "stream",
          "text": [
            "  4%|▍         | 77/1936 [06:35<2:34:22,  4.98s/it]"
          ]
        },
        {
          "name": "stdout",
          "output_type": "stream",
          "text": [
            "3일 전 1.9천\n",
            "5일 전 1.6천\n",
            "10일 전 3.5천\n",
            "13일 전 3.1천\n",
            "2주 전 3.2천\n",
            "3주 전 1.3천\n",
            "3주 전 1.9천\n",
            "3주 전 1.8천\n",
            "3주 전 2.3천\n",
            "3주 전 1.2천\n",
            "4주 전 1.8천\n",
            "1개월 전 3.6천\n",
            "1개월 전 2천\n",
            "1개월 전 1.4천\n",
            "1개월 전 3.7천\n",
            "1개월 전 1.5천\n",
            "1개월 전 1.6천\n",
            "1개월 전 1.8천\n",
            "1개월 전 728\n",
            "1개월 전 4.8천\n",
            "1개월 전 325\n",
            "1개월 전 118\n",
            "1개월 전 356\n",
            "1개월 전 2.4천\n",
            "1개월 전 1천\n",
            "1개월 전 495\n",
            "1개월 전 2천\n",
            "1개월 전 1.1천\n",
            "2개월 전 3.9천\n",
            "2개월 전 3.2천\n",
            "77 https://www.youtube.com/channel/UCPtL_aSF4NT_pjCHfsmGBDA/videos\n"
          ]
        },
        {
          "name": "stderr",
          "output_type": "stream",
          "text": [
            "  4%|▍         | 78/1936 [06:40<2:36:27,  5.05s/it]"
          ]
        },
        {
          "name": "stdout",
          "output_type": "stream",
          "text": [
            "21시간 전 2.9천\n",
            "1일 전 3.6천\n",
            "3일 전 4천\n",
            "4일 전 3.7천\n",
            "5일 전 4천\n",
            "7일 전 4.7천\n",
            "10일 전 3.6천\n",
            "11일 전 4.4천\n",
            "12일 전 3.2천\n",
            "2주 전 5천\n",
            "2주 전 3.3천\n",
            "2주 전 4.5천\n",
            "2주 전 3.6천\n",
            "2주 전 3.4천\n",
            "3주 전 4천\n",
            "3주 전 4.7천\n",
            "3주 전 4.2천\n",
            "3주 전 3천\n",
            "3주 전 3.9천\n",
            "4주 전 6.6천\n",
            "4주 전 3.9천\n",
            "1개월 전 6천\n",
            "1개월 전 5.2천\n",
            "1개월 전 3.9천\n",
            "1개월 전 4.5천\n",
            "1개월 전 4천\n",
            "1개월 전 4.3천\n",
            "1개월 전 3.7천\n",
            "1개월 전 6.2천\n",
            "78 https://www.youtube.com/channel/UCwM82cUqM87k4tnCTZxbTqA/videos\n"
          ]
        },
        {
          "name": "stderr",
          "output_type": "stream",
          "text": [
            "  4%|▍         | 79/1936 [06:45<2:38:59,  5.14s/it]"
          ]
        },
        {
          "name": "stdout",
          "output_type": "stream",
          "text": [
            "16시간 전 1.6만\n",
            "11일 전 4.1천\n",
            "2주 전 11만\n",
            "1개월 전 3.6만\n",
            "2개월 전 25만\n",
            "2개월 전 18만\n",
            "79 https://www.youtube.com/channel/UCqJL93O753uHpsVWN2m4cqw/videos\n"
          ]
        },
        {
          "name": "stderr",
          "output_type": "stream",
          "text": [
            "  4%|▍         | 80/1936 [06:50<2:38:31,  5.12s/it]"
          ]
        },
        {
          "name": "stdout",
          "output_type": "stream",
          "text": [
            "3일 전 9.5천\n",
            "9일 전 6.4천\n",
            "2주 전 4.4천\n",
            "4주 전 4.8천\n",
            "1개월 전 5.9천\n",
            "1개월 전 7.9천\n",
            "1개월 전 5.6천\n",
            "1개월 전 7.7천\n",
            "2개월 전 7.7천\n",
            "2개월 전 9.2천\n",
            "2개월 전 8.3천\n",
            "2개월 전 1만\n",
            "3개월 전 1만\n",
            "3개월 전 1만\n",
            "3개월 전 1만\n",
            "3개월 전 1.4만\n",
            "3개월 전 1만\n",
            "3개월 전 1.5만\n",
            "3개월 전 1.2만\n",
            "80 https://www.youtube.com/channel/UCAtGPbK4AWmeoaREsNLLZhg/videos\n"
          ]
        },
        {
          "name": "stderr",
          "output_type": "stream",
          "text": [
            "  4%|▍         | 81/1936 [06:56<2:38:36,  5.13s/it]"
          ]
        },
        {
          "name": "stdout",
          "output_type": "stream",
          "text": [
            "1일 전 9.8천\n",
            "3일 전 6.4천\n",
            "4일 전 2만\n",
            "5일 전 8천\n",
            "6일 전 1.2만\n",
            "7일 전 4.4천\n",
            "8일 전 1만\n",
            "10일 전 1만\n",
            "11일 전 1.1만\n",
            "11일 전 1.1만\n",
            "12일 전 7천\n",
            "2주 전 6.6천\n",
            "2주 전 1.4만\n",
            "2주 전 1.1만\n",
            "2주 전 7.7천\n",
            "2주 전 1.5만\n",
            "2주 전 1.2만\n",
            "3주 전 8.3천\n",
            "3주 전 1.5만\n",
            "3주 전 4.6만\n",
            "3주 전 8.2천\n",
            "3주 전 1.3만\n",
            "3주 전 1.7만\n",
            "4주 전 2.1만\n",
            "4주 전 1.2만\n",
            "1개월 전 3.1만\n",
            "1개월 전 2.4만\n",
            "1개월 전 1.8만\n",
            "1개월 전 1.9만\n",
            "1개월 전 2.5만\n",
            "81 https://www.youtube.com/channel/UCxVspLehsLr4bfqbJLFkS0w/videos\n"
          ]
        },
        {
          "name": "stderr",
          "output_type": "stream",
          "text": [
            "  4%|▍         | 82/1936 [07:00<2:34:59,  5.02s/it]"
          ]
        },
        {
          "name": "stdout",
          "output_type": "stream",
          "text": [
            "3일 전 4.8천\n",
            "8일 전 9.1천\n",
            "2주 전 1.3만\n",
            "2주 전 2.1만\n",
            "1개월 전 8.7천\n",
            "1개월 전 1.6만\n",
            "1개월 전 1.2만\n",
            "2개월 전 1.4만\n",
            "2개월 전 1.3만\n",
            "2개월 전 1.2만\n",
            "2개월 전 1만\n",
            "2개월 전 1.6만\n",
            "3개월 전 1.7만\n",
            "3개월 전 1.2만\n",
            "3개월 전 1.7만\n",
            "82 https://www.youtube.com/channel/UCe0loHR-Vltq0GPHgYyzmrQ/videos\n"
          ]
        },
        {
          "name": "stderr",
          "output_type": "stream",
          "text": [
            "  4%|▍         | 83/1936 [07:05<2:33:40,  4.98s/it]"
          ]
        },
        {
          "name": "stdout",
          "output_type": "stream",
          "text": [
            "23시간 전 1.1만\n",
            "1일 전 4.9천\n",
            "4일 전 9.9천\n",
            "5일 전 6.3천\n",
            "6일 전 8.5천\n",
            "8일 전 9.6천\n",
            "10일 전 2.7만\n",
            "11일 전 1.5만\n",
            "11일 전 4.8천\n",
            "12일 전 3.3만\n",
            "2주 전 7천\n",
            "2주 전 7.4천\n",
            "2주 전 1.6만\n",
            "2주 전 9.8천\n",
            "3주 전 3.4만\n",
            "3주 전 1.7만\n",
            "3주 전 2.8만\n",
            "3주 전 1.2만\n",
            "4주 전 1.2만\n",
            "4주 전 3.4만\n",
            "4주 전 1.8만\n",
            "1개월 전 9.4천\n",
            "1개월 전 2.6만\n",
            "1개월 전 1만\n",
            "1개월 전 8.3천\n",
            "1개월 전 1.1만\n",
            "1개월 전 1.1만\n",
            "1개월 전 4.4만\n",
            "1개월 전 1.1만\n",
            "83 https://www.youtube.com/channel/UCUae69frfqpKOB3BUMdX5Qw/videos\n"
          ]
        },
        {
          "name": "stderr",
          "output_type": "stream",
          "text": [
            "  4%|▍         | 84/1936 [07:10<2:35:17,  5.03s/it]"
          ]
        },
        {
          "name": "stdout",
          "output_type": "stream",
          "text": [
            "3일 전 1.4천\n",
            "5일 전 6천\n",
            "11일 전 1.1천\n",
            "3주 전 1.5천\n",
            "4주 전 1.7천\n",
            "1개월 전 1천\n",
            "1개월 전 1.2만\n",
            "1개월 전 1.3천\n",
            "1개월 전 1.5천\n",
            "1개월 전 983\n",
            "1개월 전 1.1천\n",
            "1개월 전 926\n",
            "1개월 전 1.1천\n",
            "1개월 전 2천\n",
            "1개월 전 1.3천\n",
            "1개월 전 874\n",
            "1개월 전 1.1천\n",
            "1개월 전 1천\n",
            "1개월 전 1.3천\n",
            "1개월 전 1.2천\n",
            "3개월 전 1천\n",
            "3개월 전 1만\n",
            "84 https://www.youtube.com/channel/UCHvz6pwNdtkhukP6oPOOnQg/videos\n"
          ]
        },
        {
          "name": "stderr",
          "output_type": "stream",
          "text": [
            "  4%|▍         | 85/1936 [07:15<2:35:54,  5.05s/it]"
          ]
        },
        {
          "name": "stdout",
          "output_type": "stream",
          "text": [
            "1개월 전 1.4만\n",
            "1개월 전 1.4만\n",
            "3개월 전 2.7만\n",
            "85 https://www.youtube.com/channel/UCqSolQIayXzzdFeShdKVD-A/videos\n"
          ]
        },
        {
          "name": "stderr",
          "output_type": "stream",
          "text": [
            "  4%|▍         | 86/1936 [07:21<2:38:08,  5.13s/it]"
          ]
        },
        {
          "name": "stdout",
          "output_type": "stream",
          "text": [
            "86 https://www.youtube.com/channel/UC8Ejow0hqQG06KGCHI1Lr2Q/videos\n"
          ]
        },
        {
          "name": "stderr",
          "output_type": "stream",
          "text": [
            "  4%|▍         | 87/1936 [07:26<2:38:15,  5.14s/it]"
          ]
        },
        {
          "name": "stdout",
          "output_type": "stream",
          "text": [
            "4일 전 1.9천\n",
            "2주 전 7천\n",
            "1개월 전 1.1만\n",
            "1개월 전 4.8만\n",
            "1개월 전 4천\n",
            "3개월 전 6.2천\n",
            "3개월 전 2만\n",
            "87 https://www.youtube.com/channel/UCCVKxwNx8P1z59S80jHIPdA/videos\n"
          ]
        },
        {
          "name": "stderr",
          "output_type": "stream",
          "text": [
            "  5%|▍         | 88/1936 [07:31<2:39:47,  5.19s/it]"
          ]
        },
        {
          "name": "stdout",
          "output_type": "stream",
          "text": [
            "2주 전 5.2천\n",
            "3주 전 2.6천\n",
            "2개월 전 7.9천\n",
            "3개월 전 1.1만\n",
            "3개월 전 9.3천\n",
            "3개월 전 3.1천\n",
            "3개월 전 1.6만\n",
            "88 https://www.youtube.com/channel/UCzgOtNrykSqmDbQO-U2_kJg/videos\n"
          ]
        },
        {
          "name": "stderr",
          "output_type": "stream",
          "text": [
            "  5%|▍         | 89/1936 [07:36<2:39:21,  5.18s/it]"
          ]
        },
        {
          "name": "stdout",
          "output_type": "stream",
          "text": [
            "89 https://www.youtube.com/channel/UChaQ-P6oUTGfzDpj59jusng/videos\n"
          ]
        },
        {
          "name": "stderr",
          "output_type": "stream",
          "text": [
            "  5%|▍         | 90/1936 [07:41<2:35:03,  5.04s/it]"
          ]
        },
        {
          "name": "stdout",
          "output_type": "stream",
          "text": [
            "90 https://www.youtube.com/channel/UCrcZJ8gCcdb5w4RvosPccyA/videos\n"
          ]
        },
        {
          "name": "stderr",
          "output_type": "stream",
          "text": [
            "  5%|▍         | 91/1936 [07:46<2:35:01,  5.04s/it]"
          ]
        },
        {
          "name": "stdout",
          "output_type": "stream",
          "text": [
            "2주 전 3.7천\n",
            "4주 전 3.6천\n",
            "1개월 전 2.6천\n",
            "1개월 전 3천\n",
            "1개월 전 3천\n",
            "1개월 전 8.8천\n",
            "1개월 전 2천\n",
            "1개월 전 2.8천\n",
            "1개월 전 3.1천\n",
            "91 https://www.youtube.com/channel/UCNBHHamSDRKhpLMlsVoqNlw/videos\n"
          ]
        },
        {
          "name": "stderr",
          "output_type": "stream",
          "text": [
            "  5%|▍         | 92/1936 [07:51<2:36:32,  5.09s/it]"
          ]
        },
        {
          "name": "stdout",
          "output_type": "stream",
          "text": [
            "2일 전 1.1만\n",
            "9일 전 1.7만\n",
            "2주 전 1.8만\n",
            "3주 전 1.6만\n",
            "4주 전 1.8만\n",
            "1개월 전 2.2만\n",
            "1개월 전 25만\n",
            "1개월 전 3.3만\n",
            "1개월 전 1.5만\n",
            "1개월 전 1.8만\n",
            "2개월 전 2.4만\n",
            "2개월 전 1.3만\n",
            "2개월 전 1.8만\n",
            "2개월 전 3.4만\n",
            "3개월 전 8.8만\n",
            "3개월 전 32만\n",
            "3개월 전 2.1만\n",
            "3개월 전 2.4만\n",
            "3개월 전 2.3만\n",
            "3개월 전 10만\n",
            "92 https://www.youtube.com/channel/UCFC3gwNjb6sZ1b3E-B5Dm5w/videos\n"
          ]
        },
        {
          "name": "stderr",
          "output_type": "stream",
          "text": [
            "  5%|▍         | 93/1936 [07:57<2:37:06,  5.12s/it]"
          ]
        },
        {
          "name": "stdout",
          "output_type": "stream",
          "text": [
            "3일 전 1.7만\n",
            "10일 전 20만\n",
            "4주 전 3.8만\n",
            "1개월 전 3.1만\n",
            "1개월 전 8.2만\n",
            "2개월 전 3.7만\n",
            "2개월 전 4.5만\n",
            "3개월 전 1.7만\n",
            "3개월 전 7.7만\n",
            "3개월 전 6.6만\n",
            "93 https://www.youtube.com/channel/UCyMlpFLkx6y5Fg5T19OHudA/videos\n"
          ]
        },
        {
          "name": "stderr",
          "output_type": "stream",
          "text": [
            "  5%|▍         | 94/1936 [08:02<2:36:53,  5.11s/it]"
          ]
        },
        {
          "name": "stdout",
          "output_type": "stream",
          "text": [
            "1시간 전 665\n",
            "2일 전 6.9천\n",
            "13일 전 6.2만\n",
            "2주 전 12만\n",
            "2주 전 1.6만\n",
            "3주 전 1.7만\n",
            "3주 전 7.5만\n",
            "4주 전 7.5만\n",
            "1개월 전 9.5만\n",
            "1개월 전 17만\n",
            "1개월 전 3.2만\n",
            "1개월 전 36만\n",
            "1개월 전 10만\n",
            "1개월 전 24만\n",
            "1개월 전 12만\n",
            "2개월 전 52만\n",
            "2개월 전 19만\n",
            "2개월 전 18만\n",
            "2개월 전 28만\n",
            "2개월 전 65만\n",
            "2개월 전 73만\n",
            "2개월 전 41만\n",
            "3개월 전 25만\n",
            "3개월 전 19만\n",
            "3개월 전 39만\n",
            "3개월 전 36만\n",
            "3개월 전 8.4만\n",
            "3개월 전 71만\n",
            "3개월 전 119만\n",
            "94 https://www.youtube.com/channel/UCKxknVfRWj3YKZuE_qiWZ4Q/videos\n"
          ]
        },
        {
          "name": "stderr",
          "output_type": "stream",
          "text": [
            "  5%|▍         | 95/1936 [08:07<2:38:10,  5.16s/it]"
          ]
        },
        {
          "name": "stdout",
          "output_type": "stream",
          "text": [
            "2일 전 4.4만\n",
            "9일 전 2.7만\n",
            "12일 전 4.9만\n",
            "3주 전 9.1만\n",
            "4주 전 16만\n",
            "1개월 전 6.6만\n",
            "1개월 전 17만\n",
            "1개월 전 8만\n",
            "1개월 전 9.2만\n",
            "1개월 전 13만\n",
            "2개월 전 20만\n",
            "2개월 전 33만\n",
            "2개월 전 18만\n",
            "3개월 전 14만\n",
            "3개월 전 15만\n",
            "3개월 전 7.1만\n",
            "3개월 전 19만\n",
            "3개월 전 13만\n",
            "95 https://www.youtube.com/channel/UCg86gCCgZGWkoHk8c015cQQ/videos\n"
          ]
        },
        {
          "name": "stderr",
          "output_type": "stream",
          "text": [
            "  5%|▍         | 96/1936 [08:12<2:41:20,  5.26s/it]"
          ]
        },
        {
          "name": "stdout",
          "output_type": "stream",
          "text": [
            "11일 전 27만\n",
            "3주 전 35만\n",
            "1개월 전 162만\n",
            "1개월 전 66만\n",
            "1개월 전 62만\n",
            "1개월 전 680만\n",
            "2개월 전 39만\n",
            "2개월 전 63만\n",
            "2개월 전 39만\n",
            "2개월 전 979만\n",
            "2개월 전 230만\n",
            "2개월 전 14만\n",
            "3개월 전 51만\n",
            "3개월 전 25만\n",
            "3개월 전 11만\n",
            "3개월 전 21만\n",
            "3개월 전 53만\n",
            "3개월 전 17만\n",
            "96 https://www.youtube.com/channel/UCOcJQcJ1gIxui04iqhq9FIQ/videos\n"
          ]
        },
        {
          "name": "stderr",
          "output_type": "stream",
          "text": [
            "  5%|▌         | 97/1936 [08:17<2:39:38,  5.21s/it]"
          ]
        },
        {
          "name": "stdout",
          "output_type": "stream",
          "text": [
            "8일 전 1.6만\n",
            "2주 전 2.6천\n",
            "2주 전 3.4천\n",
            "3주 전 1.9천\n",
            "3주 전 3.3천\n",
            "1개월 전 3천\n",
            "1개월 전 3.7천\n",
            "1개월 전 3.4천\n",
            "1개월 전 6천\n",
            "1개월 전 9.5천\n",
            "2개월 전 4.5천\n",
            "2개월 전 7.3천\n",
            "2개월 전 3.2천\n",
            "2개월 전 2.3만\n",
            "2개월 전 4.5천\n",
            "2개월 전 1.2만\n",
            "2개월 전 7.2천\n",
            "3개월 전 5.8천\n",
            "3개월 전 1.8만\n",
            "3개월 전 1.5만\n",
            "97 https://www.youtube.com/channel/UCdl5NyLF6sOPDXli4PYS-TQ/videos\n"
          ]
        },
        {
          "name": "stderr",
          "output_type": "stream",
          "text": [
            "  5%|▌         | 98/1936 [08:23<2:38:41,  5.18s/it]"
          ]
        },
        {
          "name": "stdout",
          "output_type": "stream",
          "text": [
            "98 https://www.youtube.com/channel/UCuYmVpPCi3CHUZJk6f4ZQHw/videos\n"
          ]
        },
        {
          "name": "stderr",
          "output_type": "stream",
          "text": [
            "  5%|▌         | 99/1936 [08:28<2:37:05,  5.13s/it]"
          ]
        },
        {
          "name": "stdout",
          "output_type": "stream",
          "text": [
            "1개월 전 1만\n",
            "2개월 전 4.8천\n",
            "3개월 전 5.1천\n",
            "3개월 전 5.1천\n",
            "3개월 전 6.8천\n",
            "3개월 전 1.1만\n",
            "99 https://www.youtube.com/channel/UCsthcqUQ5OakxPRZgG4VHQA/videos\n"
          ]
        },
        {
          "name": "stderr",
          "output_type": "stream",
          "text": [
            "  5%|▌         | 100/1936 [08:33<2:38:42,  5.19s/it]"
          ]
        },
        {
          "name": "stdout",
          "output_type": "stream",
          "text": [
            "1개월 전 7.8천\n",
            "2개월 전 2.4만\n",
            "3개월 전 11만\n",
            "3개월 전 3.9만\n",
            "100 https://www.youtube.com/channel/UCOQd_jmnBfM-lNrBcQG5yig/videos\n"
          ]
        },
        {
          "name": "stderr",
          "output_type": "stream",
          "text": [
            "  5%|▌         | 101/1936 [08:38<2:37:04,  5.14s/it]"
          ]
        },
        {
          "name": "stdout",
          "output_type": "stream",
          "text": [
            "3시간 전 2.3천\n",
            "4일 전 1.8만\n",
            "9일 전 3.8만\n",
            "12일 전 8.9만\n",
            "2주 전 4.4만\n",
            "3주 전 2.2만\n",
            "4주 전 3.3만\n",
            "1개월 전 4.4만\n",
            "1개월 전 3.7만\n",
            "1개월 전 5.9만\n",
            "1개월 전 4.6만\n",
            "1개월 전 5.5만\n",
            "1개월 전 3.2만\n",
            "1개월 전 5.4만\n",
            "2개월 전 8.8만\n",
            "2개월 전 4.7만\n",
            "2개월 전 5.1만\n",
            "2개월 전 4.2만\n",
            "2개월 전 6.7만\n",
            "2개월 전 4.4만\n",
            "3개월 전 7.4만\n",
            "3개월 전 9.2만\n",
            "3개월 전 6.2만\n",
            "3개월 전 12만\n",
            "3개월 전 8.7만\n",
            "3개월 전 7.9만\n",
            "3개월 전 16만\n",
            "101 https://www.youtube.com/channel/UC-FxGo3AYFpRxp6ZfSG68fA/videos\n"
          ]
        },
        {
          "name": "stderr",
          "output_type": "stream",
          "text": [
            "  5%|▌         | 102/1936 [08:43<2:35:12,  5.08s/it]"
          ]
        },
        {
          "name": "stdout",
          "output_type": "stream",
          "text": [
            "102 https://www.youtube.com/channel/UCC88xGKK70q-nllqL4j4FfQ/videos\n"
          ]
        },
        {
          "name": "stderr",
          "output_type": "stream",
          "text": [
            "  5%|▌         | 103/1936 [08:48<2:36:06,  5.11s/it]"
          ]
        },
        {
          "name": "stdout",
          "output_type": "stream",
          "text": [
            "103 https://www.youtube.com/channel/UCFrBMGXGF-xt1MhJpU1gGhg/videos\n"
          ]
        },
        {
          "name": "stderr",
          "output_type": "stream",
          "text": [
            "  5%|▌         | 104/1936 [08:53<2:34:38,  5.06s/it]"
          ]
        },
        {
          "name": "stdout",
          "output_type": "stream",
          "text": [
            "104 https://www.youtube.com/channel/UCY4uIMjyliGg0Y6uSSBAQYg/videos\n"
          ]
        },
        {
          "name": "stderr",
          "output_type": "stream",
          "text": [
            "  5%|▌         | 105/1936 [08:58<2:35:27,  5.09s/it]"
          ]
        },
        {
          "name": "stdout",
          "output_type": "stream",
          "text": [
            "2일 전 2.9만\n",
            "5일 전 3.2만\n",
            "10일 전 3.6만\n",
            "13일 전 17만\n",
            "2주 전 3.8만\n",
            "3주 전 3.5만\n",
            "3주 전 3.1만\n",
            "3주 전 3.5만\n",
            "4주 전 3.4만\n",
            "1개월 전 4.3만\n",
            "1개월 전 3.9만\n",
            "1개월 전 4.3만\n",
            "1개월 전 9.5만\n",
            "1개월 전 9.2만\n",
            "1개월 전 5.6만\n",
            "1개월 전 7.5만\n",
            "1개월 전 4.5만\n",
            "1개월 전 4.2만\n",
            "1개월 전 4.6만\n",
            "2개월 전 4.4만\n",
            "2개월 전 4.4만\n",
            "2개월 전 3.6만\n",
            "2개월 전 5.2만\n",
            "2개월 전 10만\n",
            "2개월 전 4.5만\n",
            "2개월 전 4.7만\n",
            "2개월 전 4.5만\n",
            "2개월 전 5.4만\n",
            "3개월 전 5.8만\n",
            "3개월 전 6.8만\n",
            "105 https://www.youtube.com/channel/UCAlywGEd1Pm2ecFJc5ra8cg/videos\n"
          ]
        },
        {
          "name": "stderr",
          "output_type": "stream",
          "text": [
            "  5%|▌         | 106/1936 [09:03<2:35:45,  5.11s/it]"
          ]
        },
        {
          "name": "stdout",
          "output_type": "stream",
          "text": [
            "1시간 전 1.7천\n",
            "1일 전 1.3만\n",
            "2일 전 9.4천\n",
            "3일 전 1.4만\n",
            "4일 전 1.6만\n",
            "5일 전 1.9만\n",
            "6일 전 2.5만\n",
            "7일 전 8.4천\n",
            "8일 전 1.6만\n",
            "9일 전 1.2만\n",
            "10일 전 1.9만\n",
            "11일 전 2.4만\n",
            "12일 전 2.5만\n",
            "13일 전 1.7만\n",
            "2주 전 1.4만\n",
            "2주 전 1.9만\n",
            "2주 전 1.8만\n",
            "2주 전 2.5만\n",
            "2주 전 2.8만\n",
            "2주 전 2.7만\n",
            "2주 전 2.3만\n",
            "3주 전 1만\n",
            "3주 전 2.8만\n",
            "3주 전 1.5만\n",
            "3주 전 2.9만\n",
            "3주 전 3만\n",
            "3주 전 4.7만\n",
            "3주 전 1.8만\n",
            "4주 전 1.3만\n",
            "106 https://www.youtube.com/channel/UCuqoUaw_Q8OtNcDgE9y_xUg/videos\n"
          ]
        },
        {
          "name": "stderr",
          "output_type": "stream",
          "text": [
            "  6%|▌         | 107/1936 [09:08<2:35:02,  5.09s/it]"
          ]
        },
        {
          "name": "stdout",
          "output_type": "stream",
          "text": [
            "107 https://www.youtube.com/channel/UCgKW2YY43ad93PrJOqblPEQ/videos\n"
          ]
        },
        {
          "name": "stderr",
          "output_type": "stream",
          "text": [
            "  6%|▌         | 108/1936 [09:13<2:34:31,  5.07s/it]"
          ]
        },
        {
          "name": "stdout",
          "output_type": "stream",
          "text": [
            "108 https://www.youtube.com/channel/UCfxG8s0Lug4kVpinygpJ_IQ/videos\n"
          ]
        },
        {
          "name": "stderr",
          "output_type": "stream",
          "text": [
            "  6%|▌         | 109/1936 [09:19<2:35:25,  5.10s/it]"
          ]
        },
        {
          "name": "stdout",
          "output_type": "stream",
          "text": [
            "109 https://www.youtube.com/channel/UCOhSkL3aPCYo4xFpTAqz0Lg/videos\n"
          ]
        },
        {
          "name": "stderr",
          "output_type": "stream",
          "text": [
            "  6%|▌         | 110/1936 [09:24<2:34:29,  5.08s/it]"
          ]
        },
        {
          "name": "stdout",
          "output_type": "stream",
          "text": [
            "110 https://www.youtube.com/channel/UC0pyh8wbUDTknZujRFANDtg/videos\n"
          ]
        },
        {
          "name": "stderr",
          "output_type": "stream",
          "text": [
            "  6%|▌         | 111/1936 [09:28<2:32:38,  5.02s/it]"
          ]
        },
        {
          "name": "stdout",
          "output_type": "stream",
          "text": [
            "111 https://www.youtube.com/channel/UCNkk7xT6da6Pzr-9jO5gzGA/videos\n"
          ]
        },
        {
          "name": "stderr",
          "output_type": "stream",
          "text": [
            "  6%|▌         | 112/1936 [09:34<2:32:54,  5.03s/it]"
          ]
        },
        {
          "name": "stdout",
          "output_type": "stream",
          "text": [
            "112 https://www.youtube.com/channel/UC8Rj2cgpvP579RUzrVAKMiA/videos\n"
          ]
        },
        {
          "name": "stderr",
          "output_type": "stream",
          "text": [
            "  6%|▌         | 113/1936 [09:38<2:28:27,  4.89s/it]"
          ]
        },
        {
          "name": "stdout",
          "output_type": "stream",
          "text": [
            "113 https://www.youtube.com/channel/UCpyGTGQHIu6rK4gcGckK1jg/videos\n"
          ]
        },
        {
          "name": "stderr",
          "output_type": "stream",
          "text": [
            "  6%|▌         | 114/1936 [09:43<2:33:08,  5.04s/it]"
          ]
        },
        {
          "name": "stdout",
          "output_type": "stream",
          "text": [
            "114 https://www.youtube.com/channel/UCaLak8wNkFUIiTBRkyem-Aw/videos\n"
          ]
        },
        {
          "name": "stderr",
          "output_type": "stream",
          "text": [
            "  6%|▌         | 115/1936 [09:49<2:33:01,  5.04s/it]"
          ]
        },
        {
          "name": "stdout",
          "output_type": "stream",
          "text": [
            "5일 전 363\n",
            "6일 전 4.3천\n",
            "11일 전 792\n",
            "2주 전 418\n",
            "3주 전 1.1천\n",
            "3주 전 9.7천\n",
            "4주 전 782\n",
            "4주 전 7.1천\n",
            "1개월 전 8.9천\n",
            "1개월 전 1.1만\n",
            "1개월 전 2만\n",
            "1개월 전 3.2만\n",
            "1개월 전 8.3천\n",
            "2개월 전 2.8만\n",
            "2개월 전 6.7천\n",
            "2개월 전 7.1천\n",
            "2개월 전 1만\n",
            "2개월 전 2천\n",
            "2개월 전 2.2만\n",
            "2개월 전 9.7천\n",
            "2개월 전 1.8천\n",
            "2개월 전 3.6천\n",
            "2개월 전 1.5천\n",
            "3개월 전 4천\n",
            "3개월 전 1.8만\n",
            "3개월 전 9.6천\n",
            "3개월 전 7.3천\n",
            "3개월 전 1.2만\n",
            "115 https://www.youtube.com/channel/UC50gyYjV6OSQhMiUcY_dL_A/videos\n"
          ]
        },
        {
          "name": "stderr",
          "output_type": "stream",
          "text": [
            "  6%|▌         | 116/1936 [09:53<2:30:21,  4.96s/it]"
          ]
        },
        {
          "name": "stdout",
          "output_type": "stream",
          "text": [
            "18시간 전 3.6천\n",
            "1일 전 8.8천\n",
            "1일 전 1.6만\n",
            "2일 전 9.6천\n",
            "2일 전 2만\n",
            "3일 전 1.2만\n",
            "3일 전 1.3만\n",
            "4일 전 1.8만\n",
            "5일 전 2.8만\n",
            "5일 전 4.4만\n",
            "6일 전 1.8만\n",
            "7일 전 1만\n",
            "8일 전 2만\n",
            "8일 전 3.5만\n",
            "9일 전 1.9만\n",
            "10일 전 5.5천\n",
            "11일 전 1.9만\n",
            "12일 전 1.5만\n",
            "13일 전 5.9천\n",
            "13일 전 3만\n",
            "2주 전 1.1만\n",
            "2주 전 2만\n",
            "2주 전 1.4만\n",
            "2주 전 1.1만\n",
            "2주 전 1만\n",
            "2주 전 2.8만\n",
            "2주 전 1.1만\n",
            "2주 전 1.4만\n",
            "2주 전 1.2만\n",
            "116 https://www.youtube.com/channel/UC9khwFwV5VEtSzmg9e3OxNg/videos\n"
          ]
        },
        {
          "name": "stderr",
          "output_type": "stream",
          "text": [
            "  6%|▌         | 117/1936 [09:58<2:30:35,  4.97s/it]"
          ]
        },
        {
          "name": "stdout",
          "output_type": "stream",
          "text": [
            "21시간 전 1천\n",
            "1일 전 1천\n",
            "8일 전 4천\n",
            "13일 전 1.1만\n",
            "2주 전 1천\n",
            "3주 전 1.1천\n",
            "3주 전 8.8만\n",
            "4주 전 938\n",
            "1개월 전 21만\n",
            "1개월 전 1.1천\n",
            "1개월 전 789\n",
            "1개월 전 1.2천\n",
            "1개월 전 1.4천\n",
            "1개월 전 6.2천\n",
            "2개월 전 945\n",
            "2개월 전 1.4천\n",
            "2개월 전 2.4천\n",
            "2개월 전 5.4천\n",
            "2개월 전 1.4천\n",
            "3개월 전 3.2천\n",
            "3개월 전 6.8천\n",
            "117 https://www.youtube.com/channel/UC0BNOx7jAIzgvn--HNv0_CA/videos\n"
          ]
        },
        {
          "name": "stderr",
          "output_type": "stream",
          "text": [
            "  6%|▌         | 118/1936 [10:03<2:31:56,  5.01s/it]"
          ]
        },
        {
          "name": "stdout",
          "output_type": "stream",
          "text": [
            "118 https://www.youtube.com/channel/UCG70O1umzfgPpDs8sBJtvVw/videos\n"
          ]
        },
        {
          "name": "stderr",
          "output_type": "stream",
          "text": [
            "  6%|▌         | 119/1936 [10:08<2:29:29,  4.94s/it]"
          ]
        },
        {
          "name": "stdout",
          "output_type": "stream",
          "text": [
            "22시간 전 1만\n",
            "1일 전 9.5천\n",
            "3일 전 7.4천\n",
            "4일 전 1만\n",
            "4일 전 1.9천\n",
            "5일 전 2.1만\n",
            "5일 전 3.2천\n",
            "5일 전 7.6천\n",
            "5일 전 3.5천\n",
            "6일 전 7천\n",
            "7일 전 1.4만\n",
            "9일 전 1.7만\n",
            "10일 전 1만\n",
            "10일 전 4.1천\n",
            "10일 전 9.7천\n",
            "11일 전 2.1만\n",
            "12일 전 1.8만\n",
            "12일 전 1.6만\n",
            "13일 전 1.2만\n",
            "13일 전 1.3만\n",
            "2주 전 8.2천\n",
            "2주 전 1.7만\n",
            "2주 전 1.2만\n",
            "2주 전 5.7천\n",
            "2주 전 3천\n",
            "2주 전 2만\n",
            "2주 전 1만\n",
            "2주 전 1.9만\n",
            "3주 전 9.2천\n",
            "119 https://www.youtube.com/channel/UCsqtrkQBJM7T5x7s-iSh8Qg/videos\n"
          ]
        },
        {
          "name": "stderr",
          "output_type": "stream",
          "text": [
            "  6%|▌         | 120/1936 [10:13<2:32:21,  5.03s/it]"
          ]
        },
        {
          "name": "stdout",
          "output_type": "stream",
          "text": [
            "21시간 전 3.7천\n",
            "2일 전 8.3천\n",
            "3일 전 2.9천\n",
            "7일 전 1.5천\n",
            "7일 전 2.4천\n",
            "11일 전 7.5천\n",
            "13일 전 3.6천\n",
            "2주 전 3.1천\n",
            "2주 전 5천\n",
            "2주 전 1.2천\n",
            "1개월 전 3.6천\n",
            "1개월 전 3.7천\n",
            "1개월 전 3.8천\n",
            "1개월 전 8.6천\n",
            "2개월 전 6.4천\n",
            "3개월 전 7.1천\n",
            "3개월 전 5.3천\n",
            "3개월 전 6.7천\n",
            "3개월 전 5천\n",
            "3개월 전 5.5천\n",
            "3개월 전 7.1천\n",
            "3개월 전 7.1천\n",
            "120 https://www.youtube.com/channel/UCGFW86d-8CvGZbLlyt8S_5g/videos\n"
          ]
        },
        {
          "name": "stderr",
          "output_type": "stream",
          "text": [
            "  6%|▋         | 121/1936 [10:18<2:28:12,  4.90s/it]"
          ]
        },
        {
          "name": "stdout",
          "output_type": "stream",
          "text": [
            "121 https://www.youtube.com/channel/UCPwL9vcS3jHDFBTH6522fPg/videos\n"
          ]
        },
        {
          "name": "stderr",
          "output_type": "stream",
          "text": [
            "  6%|▋         | 122/1936 [10:23<2:31:26,  5.01s/it]"
          ]
        },
        {
          "name": "stdout",
          "output_type": "stream",
          "text": [
            "10일 전 3.8만\n",
            "1개월 전 4.7천\n",
            "1개월 전 2천\n",
            "1개월 전 5.3천\n",
            "1개월 전 5.7천\n",
            "2개월 전 2.9천\n",
            "2개월 전 5.6천\n",
            "2개월 전 3.1천\n",
            "3개월 전 3.3천\n",
            "3개월 전 5.8천\n",
            "3개월 전 3.2천\n",
            "3개월 전 4.3천\n",
            "3개월 전 5.8천\n",
            "3개월 전 2.7천\n",
            "122 https://www.youtube.com/channel/UCNXBA7LHkgu0e8NxOgxN_vA/videos\n"
          ]
        },
        {
          "name": "stderr",
          "output_type": "stream",
          "text": [
            "  6%|▋         | 123/1936 [10:29<2:34:31,  5.11s/it]"
          ]
        },
        {
          "name": "stdout",
          "output_type": "stream",
          "text": [
            "21시간 전 2.4만\n",
            "2일 전 4.2만\n",
            "2일 전 5.8천\n",
            "4일 전 7.4천\n",
            "9일 전 1.9만\n",
            "2주 전 4.9만\n",
            "3주 전 1.2만\n",
            "4주 전 4.1만\n",
            "4주 전 5.9만\n",
            "1개월 전 4.1만\n",
            "1개월 전 1.4만\n",
            "1개월 전 4.8천\n",
            "1개월 전 4.5만\n",
            "1개월 전 2.1만\n",
            "1개월 전 2.4만\n",
            "1개월 전 1.2만\n",
            "1개월 전 1.6만\n",
            "1개월 전 1.1만\n",
            "1개월 전 7.1천\n",
            "1개월 전 1.5만\n",
            "2개월 전 5.3만\n",
            "2개월 전 1.6만\n",
            "2개월 전 2.1천\n",
            "2개월 전 1.8천\n",
            "2개월 전 2만\n",
            "2개월 전 1.3만\n",
            "2개월 전 2만\n",
            "2개월 전 1.6만\n",
            "2개월 전 3.3천\n",
            "123 https://www.youtube.com/channel/UCv_0yDD6IGah-Vv_qxWHR8w/videos\n"
          ]
        },
        {
          "name": "stderr",
          "output_type": "stream",
          "text": [
            "  6%|▋         | 124/1936 [10:34<2:34:27,  5.11s/it]"
          ]
        },
        {
          "name": "stdout",
          "output_type": "stream",
          "text": [
            "1일 전 2천\n",
            "10일 전 1.8천\n",
            "3주 전 2.5천\n",
            "4주 전 2.7천\n",
            "1개월 전 2.5천\n",
            "1개월 전 5.1천\n",
            "1개월 전 2.9천\n",
            "1개월 전 3.4천\n",
            "1개월 전 2.6천\n",
            "2개월 전 3.2천\n",
            "2개월 전 3.3천\n",
            "2개월 전 1.6천\n",
            "2개월 전 1.5천\n",
            "2개월 전 5천\n",
            "2개월 전 1.1천\n",
            "3개월 전 1.6만\n",
            "3개월 전 2.9천\n",
            "3개월 전 3.6천\n",
            "3개월 전 3.9천\n",
            "3개월 전 3.2천\n",
            "3개월 전 1.9천\n",
            "124 https://www.youtube.com/channel/UC4gk5voM9mIyuVUMEEnsWzQ/videos\n"
          ]
        },
        {
          "name": "stderr",
          "output_type": "stream",
          "text": [
            "  6%|▋         | 125/1936 [10:38<2:28:17,  4.91s/it]"
          ]
        },
        {
          "name": "stdout",
          "output_type": "stream",
          "text": [
            "6일 전 3.5천\n",
            "10일 전 3.7천\n",
            "2주 전 3천\n",
            "3주 전 1만\n",
            "4주 전 5.2천\n",
            "1개월 전 1.1만\n",
            "1개월 전 4.3천\n",
            "1개월 전 4.1천\n",
            "1개월 전 1.2천\n",
            "1개월 전 5.2천\n",
            "1개월 전 5.8천\n",
            "1개월 전 1천\n",
            "1개월 전 9.7천\n",
            "1개월 전 7.7천\n",
            "2개월 전 1.1만\n",
            "2개월 전 1.5만\n",
            "2개월 전 1.1만\n",
            "2개월 전 1.2만\n",
            "2개월 전 5천\n",
            "2개월 전 4.3만\n",
            "3개월 전 2.2만\n",
            "3개월 전 7.3천\n",
            "3개월 전 1만\n",
            "3개월 전 8.7천\n",
            "3개월 전 5.7천\n",
            "125 https://www.youtube.com/channel/UCOY3LbxXxCd8SykBvcVJlzg/videos\n"
          ]
        },
        {
          "name": "stderr",
          "output_type": "stream",
          "text": [
            "  7%|▋         | 126/1936 [10:43<2:30:27,  4.99s/it]"
          ]
        },
        {
          "name": "stdout",
          "output_type": "stream",
          "text": [
            "6일 전 7.4만\n",
            "2주 전 19만\n",
            "3주 전 6.2만\n",
            "3주 전 6.8만\n",
            "1개월 전 5.2만\n",
            "1개월 전 6.6만\n",
            "1개월 전 14만\n",
            "1개월 전 19만\n",
            "1개월 전 3.8만\n",
            "1개월 전 9.6만\n",
            "2개월 전 6.7만\n",
            "2개월 전 38만\n",
            "2개월 전 6.8만\n",
            "3개월 전 22만\n",
            "3개월 전 7.4만\n",
            "3개월 전 9.6만\n",
            "3개월 전 19만\n",
            "126 https://www.youtube.com/channel/UCgSZjBpB_UbVBXGoTV1hu9A/videos\n"
          ]
        },
        {
          "name": "stderr",
          "output_type": "stream",
          "text": [
            "  7%|▋         | 127/1936 [10:49<2:34:42,  5.13s/it]"
          ]
        },
        {
          "name": "stdout",
          "output_type": "stream",
          "text": [
            "17시간 전 1.2만\n",
            "9일 전 4.7천\n",
            "2주 전 1만\n",
            "3주 전 1.2천\n",
            "3주 전 1.1만\n",
            "4주 전 2.8천\n",
            "1개월 전 998\n",
            "1개월 전 1만\n",
            "1개월 전 4.4천\n",
            "1개월 전 4.4천\n",
            "1개월 전 3천\n",
            "1개월 전 2.3천\n",
            "1개월 전 462\n",
            "2개월 전 2.3천\n",
            "2개월 전 3.6천\n",
            "127 https://www.youtube.com/channel/UCQgu0whGhuJ2Hr8u6htgxxw/videos\n"
          ]
        },
        {
          "name": "stderr",
          "output_type": "stream",
          "text": [
            "  7%|▋         | 128/1936 [10:54<2:38:00,  5.24s/it]"
          ]
        },
        {
          "name": "stdout",
          "output_type": "stream",
          "text": [
            "1개월 전 8.4천\n",
            "2개월 전 5.7천\n",
            "2개월 전 3.7천\n",
            "3개월 전 5.1천\n",
            "3개월 전 6.9천\n",
            "128 https://www.youtube.com/channel/UCjaoaH1tIwV6uLZHEmlQNdw/videos\n"
          ]
        },
        {
          "name": "stderr",
          "output_type": "stream",
          "text": [
            "  7%|▋         | 129/1936 [11:00<2:39:26,  5.29s/it]"
          ]
        },
        {
          "name": "stdout",
          "output_type": "stream",
          "text": [
            "129 https://www.youtube.com/channel/UCJFkH0p-M4_WEaHvLqWnkIg/videos\n"
          ]
        },
        {
          "name": "stderr",
          "output_type": "stream",
          "text": [
            "  7%|▋         | 130/1936 [11:05<2:35:55,  5.18s/it]"
          ]
        },
        {
          "name": "stdout",
          "output_type": "stream",
          "text": [
            "1개월 전 4.8천\n",
            "1개월 전 3.6천\n",
            "1개월 전 6천\n",
            "2개월 전 3.8천\n",
            "2개월 전 5.5천\n",
            "2개월 전 1.7만\n",
            "2개월 전 3.3천\n",
            "3개월 전 1.5만\n",
            "3개월 전 6.1천\n",
            "3개월 전 5.1천\n",
            "3개월 전 6.9천\n",
            "3개월 전 7.7천\n",
            "130 https://www.youtube.com/channel/UCpPc7IAdaa4NFsq259mJn7w/videos\n"
          ]
        },
        {
          "name": "stderr",
          "output_type": "stream",
          "text": [
            "  7%|▋         | 131/1936 [11:09<2:31:14,  5.03s/it]"
          ]
        },
        {
          "name": "stdout",
          "output_type": "stream",
          "text": [
            "4일 전 2.6천\n",
            "4주 전 1.2만\n",
            "1개월 전 2.4만\n",
            "1개월 전 3.3만\n",
            "1개월 전 3.8만\n",
            "2개월 전 1.1만\n",
            "2개월 전 7천\n",
            "3개월 전 7.1천\n",
            "3개월 전 4.7천\n",
            "3개월 전 1.2만\n",
            "3개월 전 1만\n",
            "3개월 전 8.4천\n",
            "131 https://www.youtube.com/channel/UCJcx1kxji_tvzwrdm8OceUg/videos\n"
          ]
        },
        {
          "name": "stderr",
          "output_type": "stream",
          "text": [
            "  7%|▋         | 132/1936 [11:14<2:30:58,  5.02s/it]"
          ]
        },
        {
          "name": "stdout",
          "output_type": "stream",
          "text": [
            "20시간 전 1.3만\n",
            "2일 전 2만\n",
            "4일 전 1.2만\n",
            "5일 전 1.4만\n",
            "6일 전 2.3만\n",
            "7일 전 1.1만\n",
            "9일 전 1.2만\n",
            "10일 전 1.2만\n",
            "12일 전 7.9천\n",
            "13일 전 1만\n",
            "2주 전 1만\n",
            "2주 전 1.3만\n",
            "2주 전 1만\n",
            "2주 전 1.1만\n",
            "2주 전 9.1천\n",
            "2주 전 1.2만\n",
            "3주 전 6.5천\n",
            "3주 전 9.9천\n",
            "3주 전 1.1만\n",
            "4주 전 1.1만\n",
            "4주 전 9.8천\n",
            "1개월 전 1.5만\n",
            "1개월 전 1만\n",
            "1개월 전 9.4천\n",
            "1개월 전 1만\n",
            "1개월 전 1.1만\n",
            "1개월 전 1.1만\n",
            "1개월 전 1.3만\n",
            "1개월 전 1.3만\n",
            "132 https://www.youtube.com/channel/UCC1aXzKxN1P3WcpTh84-1OQ/videos\n"
          ]
        },
        {
          "name": "stderr",
          "output_type": "stream",
          "text": [
            "  7%|▋         | 133/1936 [11:20<2:35:23,  5.17s/it]"
          ]
        },
        {
          "name": "stdout",
          "output_type": "stream",
          "text": [
            "5일 전 3.4천\n",
            "3주 전 1.1만\n",
            "1개월 전 7.4천\n",
            "1개월 전 1.5만\n",
            "2개월 전 1만\n",
            "2개월 전 9.7천\n",
            "2개월 전 7.3천\n",
            "2개월 전 1만\n",
            "3개월 전 2.4만\n",
            "3개월 전 1.6만\n",
            "3개월 전 2만\n",
            "3개월 전 1.4만\n",
            "3개월 전 1.8만\n",
            "3개월 전 1만\n",
            "3개월 전 1.6만\n",
            "3개월 전 1.2만\n",
            "3개월 전 1.7만\n",
            "133 https://www.youtube.com/channel/UCB5OpolYou-EvtQbyLZBziw/videos\n"
          ]
        },
        {
          "name": "stderr",
          "output_type": "stream",
          "text": [
            "  7%|▋         | 134/1936 [11:25<2:35:18,  5.17s/it]"
          ]
        },
        {
          "name": "stdout",
          "output_type": "stream",
          "text": [
            "134 https://www.youtube.com/channel/UCeecGzePjdbiD563eJ3Pcyg/videos\n"
          ]
        },
        {
          "name": "stderr",
          "output_type": "stream",
          "text": [
            "  7%|▋         | 135/1936 [11:31<2:41:12,  5.37s/it]"
          ]
        },
        {
          "name": "stdout",
          "output_type": "stream",
          "text": [
            "135 https://www.youtube.com/channel/UCGI0Kca0Cd5osW0EQKzqpNA/videos\n"
          ]
        },
        {
          "name": "stderr",
          "output_type": "stream",
          "text": [
            "  7%|▋         | 136/1936 [11:36<2:39:18,  5.31s/it]"
          ]
        },
        {
          "name": "stdout",
          "output_type": "stream",
          "text": [
            "1개월 전 4.1천\n",
            "1개월 전 3.6천\n",
            "2개월 전 6.2천\n",
            "136 https://www.youtube.com/channel/UC0IsFqJzKJLRjHIznNNdhxQ/videos\n"
          ]
        },
        {
          "name": "stderr",
          "output_type": "stream",
          "text": [
            "  7%|▋         | 137/1936 [11:42<2:41:45,  5.39s/it]"
          ]
        },
        {
          "name": "stdout",
          "output_type": "stream",
          "text": [
            "1일 전 3.7천\n",
            "4일 전 7.7만\n",
            "5일 전 7.2천\n",
            "9일 전 4.7만\n",
            "13일 전 10만\n",
            "2주 전 4.2만\n",
            "2주 전 21만\n",
            "2주 전 3.9만\n",
            "3주 전 9.6만\n",
            "3주 전 3.9만\n",
            "3주 전 6.4만\n",
            "4주 전 7.3천\n",
            "1개월 전 6.6천\n",
            "1개월 전 2.3만\n",
            "1개월 전 20만\n",
            "1개월 전 8.1천\n",
            "1개월 전 5.7천\n",
            "1개월 전 24만\n",
            "1개월 전 3.9천\n",
            "1개월 전 11만\n",
            "1개월 전 3.5만\n",
            "1개월 전 1.8만\n",
            "1개월 전 7.6만\n",
            "2개월 전 3.6만\n",
            "2개월 전 9천\n",
            "2개월 전 1.3만\n",
            "2개월 전 7.4만\n",
            "2개월 전 1만\n",
            "2개월 전 1.4만\n",
            "2개월 전 1.2만\n",
            "137 https://www.youtube.com/channel/UCpI-AhCT02iQRGLC2ZcY0Jw/videos\n"
          ]
        },
        {
          "name": "stderr",
          "output_type": "stream",
          "text": [
            "  7%|▋         | 138/1936 [11:47<2:39:50,  5.33s/it]"
          ]
        },
        {
          "name": "stdout",
          "output_type": "stream",
          "text": [
            "20시간 전 5.9만\n",
            "23시간 전 9.8만\n",
            "1일 전 6.3만\n",
            "1일 전 10만\n",
            "2일 전 9.8만\n",
            "3일 전 7.3만\n",
            "3일 전 9만\n",
            "3일 전 5.3만\n",
            "4일 전 7.4만\n",
            "4일 전 10만\n",
            "4일 전 8.7만\n",
            "4일 전 10만\n",
            "5일 전 9.6만\n",
            "5일 전 15만\n",
            "6일 전 14만\n",
            "6일 전 11만\n",
            "7일 전 9만\n",
            "7일 전 8.1만\n",
            "8일 전 9.4만\n",
            "8일 전 12만\n",
            "9일 전 7.7만\n",
            "10일 전 7.6만\n",
            "10일 전 7만\n",
            "10일 전 8.9만\n",
            "11일 전 7.5만\n",
            "11일 전 8.4만\n",
            "11일 전 7.1만\n",
            "11일 전 11만\n",
            "138 https://www.youtube.com/channel/UCgxP4njuSmhOPWJNiaxTTiQ/videos\n"
          ]
        },
        {
          "name": "stderr",
          "output_type": "stream",
          "text": [
            "  7%|▋         | 139/1936 [11:52<2:39:28,  5.32s/it]"
          ]
        },
        {
          "name": "stdout",
          "output_type": "stream",
          "text": [
            "139 https://www.youtube.com/channel/UCTKIUiXpKODV_aeCnxOckTQ/videos\n"
          ]
        },
        {
          "name": "stderr",
          "output_type": "stream",
          "text": [
            "  7%|▋         | 140/1936 [11:57<2:31:33,  5.06s/it]"
          ]
        },
        {
          "name": "stdout",
          "output_type": "stream",
          "text": [
            "140 https://www.youtube.com/channel/UCSQHn6nf4Fqx3ww8n5Dn64A/videos\n"
          ]
        },
        {
          "name": "stderr",
          "output_type": "stream",
          "text": [
            "  7%|▋         | 141/1936 [12:02<2:34:28,  5.16s/it]"
          ]
        },
        {
          "name": "stdout",
          "output_type": "stream",
          "text": [
            "141 https://www.youtube.com/channel/UC_IfodIHPHEc33FN_1CA6iw/videos\n"
          ]
        },
        {
          "name": "stderr",
          "output_type": "stream",
          "text": [
            "  7%|▋         | 142/1936 [12:07<2:35:30,  5.20s/it]"
          ]
        },
        {
          "name": "stdout",
          "output_type": "stream",
          "text": [
            "5일 전 1천\n",
            "8일 전 852\n",
            "13일 전 2.2천\n",
            "2주 전 670\n",
            "3주 전 1천\n",
            "1개월 전 1.3천\n",
            "1개월 전 492\n",
            "1개월 전 596\n",
            "1개월 전 1천\n",
            "1개월 전 672\n",
            "1개월 전 526\n",
            "2개월 전 487\n",
            "2개월 전 587\n",
            "2개월 전 481\n",
            "2개월 전 712\n",
            "2개월 전 334\n",
            "2개월 전 300\n",
            "2개월 전 429\n",
            "2개월 전 323\n",
            "2개월 전 703\n",
            "2개월 전 339\n",
            "2개월 전 559\n",
            "2개월 전 1.2천\n",
            "2개월 전 709\n",
            "3개월 전 270\n",
            "3개월 전 268\n",
            "3개월 전 827\n",
            "3개월 전 887\n",
            "3개월 전 458\n",
            "3개월 전 353\n",
            "142 https://www.youtube.com/channel/UCKm-cusLT76t3t4s9OgCqcA/videos\n"
          ]
        },
        {
          "name": "stderr",
          "output_type": "stream",
          "text": [
            "  7%|▋         | 143/1936 [12:13<2:36:21,  5.23s/it]"
          ]
        },
        {
          "name": "stdout",
          "output_type": "stream",
          "text": [
            "5시간 전 2만\n",
            "2일 전 3.2만\n",
            "4일 전 1.4만\n",
            "6일 전 2.2만\n",
            "9일 전 1.4만\n",
            "11일 전 2.4만\n",
            "13일 전 12만\n",
            "2주 전 26만\n",
            "2주 전 1.9만\n",
            "2주 전 1.9만\n",
            "2주 전 3.2만\n",
            "3주 전 1.3만\n",
            "3주 전 7.1만\n",
            "4주 전 4.6만\n",
            "1개월 전 1.6만\n",
            "1개월 전 1.7만\n",
            "1개월 전 1.6만\n",
            "1개월 전 112만\n",
            "1개월 전 6.2만\n",
            "1개월 전 31만\n",
            "1개월 전 2.1만\n",
            "1개월 전 48만\n",
            "1개월 전 7.1만\n",
            "2개월 전 17만\n",
            "2개월 전 1.4만\n",
            "2개월 전 9.2만\n",
            "2개월 전 1.1만\n",
            "2개월 전 31만\n",
            "2개월 전 23만\n",
            "143 https://www.youtube.com/channel/UCirVEMBwalueA5R56GqxUUQ/videos\n"
          ]
        },
        {
          "name": "stderr",
          "output_type": "stream",
          "text": [
            "  7%|▋         | 144/1936 [12:17<2:28:48,  4.98s/it]"
          ]
        },
        {
          "name": "stdout",
          "output_type": "stream",
          "text": [
            "144 https://www.youtube.com/channel/UCZ-8O9WwagxNFj5Cc_TYfSw/videos\n"
          ]
        },
        {
          "name": "stderr",
          "output_type": "stream",
          "text": [
            "  7%|▋         | 145/1936 [12:22<2:30:40,  5.05s/it]"
          ]
        },
        {
          "name": "stdout",
          "output_type": "stream",
          "text": [
            "10일 전 7.7만\n",
            "2주 전 6만\n",
            "3주 전 23만\n",
            "1개월 전 14만\n",
            "1개월 전 4.1만\n",
            "1개월 전 8.1만\n",
            "1개월 전 3.5만\n",
            "1개월 전 4.8만\n",
            "1개월 전 3.9만\n",
            "2개월 전 5만\n",
            "2개월 전 9.9만\n",
            "2개월 전 3.4만\n",
            "2개월 전 6.8만\n",
            "3개월 전 4.1만\n",
            "3개월 전 4.8만\n",
            "3개월 전 2.4만\n",
            "3개월 전 8.4만\n",
            "3개월 전 18만\n",
            "3개월 전 5만\n",
            "3개월 전 3.5만\n",
            "145 https://www.youtube.com/channel/UCkBoDzncl64EZ-Ggh4g5pCw/videos\n"
          ]
        },
        {
          "name": "stderr",
          "output_type": "stream",
          "text": [
            "  8%|▊         | 146/1936 [12:27<2:32:05,  5.10s/it]"
          ]
        },
        {
          "name": "stdout",
          "output_type": "stream",
          "text": [
            "3일 전 6.4만\n",
            "6일 전 7.2만\n",
            "10일 전 6.4만\n",
            "13일 전 5.3만\n",
            "2주 전 8.5만\n",
            "3주 전 6.4만\n",
            "3주 전 12만\n",
            "1개월 전 19만\n",
            "1개월 전 19만\n",
            "1개월 전 12만\n",
            "1개월 전 10만\n",
            "1개월 전 16만\n",
            "1개월 전 32만\n",
            "1개월 전 12만\n",
            "2개월 전 11만\n",
            "2개월 전 27만\n",
            "2개월 전 17만\n",
            "2개월 전 10만\n",
            "2개월 전 19만\n",
            "2개월 전 8.9만\n",
            "3개월 전 29만\n",
            "3개월 전 18만\n",
            "3개월 전 14만\n",
            "3개월 전 17만\n",
            "3개월 전 10만\n",
            "3개월 전 16만\n",
            "3개월 전 18만\n",
            "3개월 전 13만\n",
            "3개월 전 14만\n",
            "146 https://www.youtube.com/channel/UCOd40HVkXR2thTeIVMQPURA/videos\n"
          ]
        },
        {
          "name": "stderr",
          "output_type": "stream",
          "text": [
            "  8%|▊         | 147/1936 [12:32<2:31:20,  5.08s/it]"
          ]
        },
        {
          "name": "stdout",
          "output_type": "stream",
          "text": [
            "147 https://www.youtube.com/channel/UCtXnNM-6Qn6parorXphRg4A/videos\n"
          ]
        },
        {
          "name": "stderr",
          "output_type": "stream",
          "text": [
            "  8%|▊         | 148/1936 [12:37<2:26:42,  4.92s/it]"
          ]
        },
        {
          "name": "stdout",
          "output_type": "stream",
          "text": [
            "148 https://www.youtube.com/channel/UCUwI8RM519VToU9QVhGvz2Q/videos\n"
          ]
        },
        {
          "name": "stderr",
          "output_type": "stream",
          "text": [
            "  8%|▊         | 149/1936 [12:42<2:28:41,  4.99s/it]"
          ]
        },
        {
          "name": "stdout",
          "output_type": "stream",
          "text": [
            "149 https://www.youtube.com/channel/UCGwaE5LnS9RTe9-WwrgnyuA/videos\n"
          ]
        },
        {
          "name": "stderr",
          "output_type": "stream",
          "text": [
            "  8%|▊         | 150/1936 [12:47<2:29:21,  5.02s/it]"
          ]
        },
        {
          "name": "stdout",
          "output_type": "stream",
          "text": [
            "1일 전 8.6천\n",
            "2주 전 8.3천\n",
            "3주 전 4.2천\n",
            "4주 전 1만\n",
            "1개월 전 6.4천\n",
            "2개월 전 7.6천\n",
            "2개월 전 8.2천\n",
            "2개월 전 1만\n",
            "3개월 전 9.3천\n",
            "3개월 전 1만\n",
            "3개월 전 8.6천\n",
            "3개월 전 2만\n",
            "150 https://www.youtube.com/channel/UCf0QkY58BKR0T8D-lZXj54A/videos\n"
          ]
        },
        {
          "name": "stderr",
          "output_type": "stream",
          "text": [
            "  8%|▊         | 151/1936 [12:52<2:28:13,  4.98s/it]"
          ]
        },
        {
          "name": "stdout",
          "output_type": "stream",
          "text": [
            "151 https://www.youtube.com/channel/UCfUJ2nluykequ0ZO37SzqdQ/videos\n"
          ]
        },
        {
          "name": "stderr",
          "output_type": "stream",
          "text": [
            "  8%|▊         | 152/1936 [12:57<2:29:18,  5.02s/it]"
          ]
        },
        {
          "name": "stdout",
          "output_type": "stream",
          "text": [
            "1일 전 1.2천\n",
            "3일 전 4.1천\n",
            "4일 전 6.4천\n",
            "2주 전 1.8천\n",
            "3주 전 9.2천\n",
            "3주 전 5.9만\n",
            "1개월 전 11만\n",
            "1개월 전 7.8천\n",
            "1개월 전 4.8천\n",
            "1개월 전 1.6천\n",
            "1개월 전 6.7천\n",
            "2개월 전 8.5천\n",
            "2개월 전 1.3만\n",
            "2개월 전 6.1천\n",
            "2개월 전 1.4만\n",
            "2개월 전 4천\n",
            "2개월 전 5.1만\n",
            "2개월 전 5.6천\n",
            "3개월 전 3.6만\n",
            "3개월 전 1.1만\n",
            "3개월 전 1만\n",
            "3개월 전 1.2만\n",
            "3개월 전 7.1천\n",
            "152 https://www.youtube.com/channel/UC9KV9bLraSUWkDgjryRd6Sw/videos\n"
          ]
        },
        {
          "name": "stderr",
          "output_type": "stream",
          "text": [
            "  8%|▊         | 153/1936 [13:02<2:29:04,  5.02s/it]"
          ]
        },
        {
          "name": "stdout",
          "output_type": "stream",
          "text": [
            "153 https://www.youtube.com/channel/UCnpvAdlg1Yv9CI5NlMw3BaA/videos\n"
          ]
        },
        {
          "name": "stderr",
          "output_type": "stream",
          "text": [
            "  8%|▊         | 154/1936 [13:07<2:31:22,  5.10s/it]"
          ]
        },
        {
          "name": "stdout",
          "output_type": "stream",
          "text": [
            "2일 전 2.2천\n",
            "4주 전 2.2천\n",
            "1개월 전 4.2천\n",
            "1개월 전 4천\n",
            "2개월 전 2.2천\n",
            "2개월 전 3.1천\n",
            "3개월 전 2.1천\n",
            "3개월 전 3.4천\n",
            "154 https://www.youtube.com/channel/UCinNd6Jh9elWXFBeEyQ96nQ/videos\n"
          ]
        },
        {
          "name": "stderr",
          "output_type": "stream",
          "text": [
            "  8%|▊         | 155/1936 [13:13<2:31:00,  5.09s/it]"
          ]
        },
        {
          "name": "stdout",
          "output_type": "stream",
          "text": [
            "1일 전 1.1천\n",
            "2주 전 920\n",
            "2주 전 1.4천\n",
            "3주 전 1.4천\n",
            "3주 전 1.9천\n",
            "3주 전 1.5천\n",
            "1개월 전 2.5천\n",
            "2개월 전 4.4천\n",
            "2개월 전 4.7천\n",
            "155 https://www.youtube.com/channel/UCrdWdj_pHhJ-YFq6KdlxKQw/videos\n"
          ]
        },
        {
          "name": "stderr",
          "output_type": "stream",
          "text": [
            "  8%|▊         | 156/1936 [13:18<2:34:22,  5.20s/it]"
          ]
        },
        {
          "name": "stdout",
          "output_type": "stream",
          "text": [
            "1일 전 5천\n",
            "9일 전 1.6만\n",
            "2주 전 1만\n",
            "3주 전 7.7천\n",
            "1개월 전 1.2만\n",
            "1개월 전 1.2만\n",
            "1개월 전 1.9만\n",
            "1개월 전 1.2만\n",
            "2개월 전 1.7만\n",
            "2개월 전 1.6만\n",
            "2개월 전 1.2만\n",
            "2개월 전 2.3만\n",
            "3개월 전 2.4만\n",
            "3개월 전 2.6만\n",
            "3개월 전 2.3만\n",
            "3개월 전 10만\n",
            "156 https://www.youtube.com/channel/UC6eYb6GX2QyBvWD8u-ofU4g/videos\n"
          ]
        },
        {
          "name": "stderr",
          "output_type": "stream",
          "text": [
            "  8%|▊         | 157/1936 [13:23<2:32:49,  5.15s/it]"
          ]
        },
        {
          "name": "stdout",
          "output_type": "stream",
          "text": [
            "8일 전 6.2천\n",
            "13일 전 1.8만\n",
            "4주 전 1.1만\n",
            "1개월 전 6.3천\n",
            "1개월 전 7.5천\n",
            "2개월 전 8.3천\n",
            "3개월 전 1.3만\n",
            "3개월 전 1.9만\n",
            "3개월 전 1.5만\n",
            "157 https://www.youtube.com/channel/UCEwMltkVHVUtQq1jXEF5Cig/videos\n"
          ]
        },
        {
          "name": "stderr",
          "output_type": "stream",
          "text": [
            "  8%|▊         | 158/1936 [13:28<2:34:04,  5.20s/it]"
          ]
        },
        {
          "name": "stdout",
          "output_type": "stream",
          "text": [
            "4일 전 405\n",
            "11일 전 389\n",
            "2주 전 1천\n",
            "3주 전 532\n",
            "1개월 전 605\n",
            "1개월 전 523\n",
            "1개월 전 867\n",
            "1개월 전 758\n",
            "2개월 전 852\n",
            "2개월 전 713\n",
            "2개월 전 1.3천\n",
            "2개월 전 1천\n",
            "3개월 전 783\n",
            "3개월 전 597\n",
            "3개월 전 678\n",
            "3개월 전 700\n",
            "158 https://www.youtube.com/channel/UCxMPF9-9T3aNoGVkRpCxx3w/videos\n"
          ]
        },
        {
          "name": "stderr",
          "output_type": "stream",
          "text": [
            "  8%|▊         | 159/1936 [13:34<2:34:01,  5.20s/it]"
          ]
        },
        {
          "name": "stdout",
          "output_type": "stream",
          "text": [
            "2일 전 7.9천\n",
            "11일 전 7.6천\n",
            "3주 전 1.1만\n",
            "1개월 전 8.7천\n",
            "1개월 전 8.7천\n",
            "1개월 전 5.9천\n",
            "1개월 전 8.2천\n",
            "2개월 전 9천\n",
            "2개월 전 8.9천\n",
            "2개월 전 1.1만\n",
            "2개월 전 8.3천\n",
            "3개월 전 9천\n",
            "3개월 전 1.1만\n",
            "159 https://www.youtube.com/channel/UCd-Rqu6esX687x8Pnuh9quQ/videos\n"
          ]
        },
        {
          "name": "stderr",
          "output_type": "stream",
          "text": [
            "  8%|▊         | 160/1936 [13:39<2:32:47,  5.16s/it]"
          ]
        },
        {
          "name": "stdout",
          "output_type": "stream",
          "text": [
            "1개월 전 3.1천\n",
            "1개월 전 2.1천\n",
            "2개월 전 2.3천\n",
            "3개월 전 4천\n",
            "160 https://www.youtube.com/channel/UCnvxZa3YwoiQJFPaluZ7DRQ/videos\n"
          ]
        },
        {
          "name": "stderr",
          "output_type": "stream",
          "text": [
            "  8%|▊         | 161/1936 [13:44<2:33:09,  5.18s/it]"
          ]
        },
        {
          "name": "stdout",
          "output_type": "stream",
          "text": [
            "3주 전 1만\n",
            "1개월 전 7.8천\n",
            "1개월 전 1.5만\n",
            "2개월 전 1.2만\n",
            "2개월 전 2.3만\n",
            "3개월 전 1.3만\n",
            "161 https://www.youtube.com/channel/UCbBhEPM6IsrAONowCfx3LIw/videos\n"
          ]
        },
        {
          "name": "stderr",
          "output_type": "stream",
          "text": [
            "  8%|▊         | 162/1936 [13:49<2:29:25,  5.05s/it]"
          ]
        },
        {
          "name": "stdout",
          "output_type": "stream",
          "text": [
            "8일 전 1.9천\n",
            "1개월 전 2.8천\n",
            "1개월 전 3.6천\n",
            "2개월 전 1.2만\n",
            "2개월 전 1만\n",
            "2개월 전 1만\n",
            "162 https://www.youtube.com/channel/UCGt60oMI3UcGZAOqzzoErFw/videos\n"
          ]
        },
        {
          "name": "stderr",
          "output_type": "stream",
          "text": [
            "  8%|▊         | 163/1936 [13:54<2:30:04,  5.08s/it]"
          ]
        },
        {
          "name": "stdout",
          "output_type": "stream",
          "text": [
            "4일 전 2.9천\n",
            "6일 전 1.4만\n",
            "11일 전 3.2천\n",
            "2주 전 4.1천\n",
            "3주 전 1만\n",
            "4주 전 8.8천\n",
            "1개월 전 2.7만\n",
            "1개월 전 2.6만\n",
            "1개월 전 3.4천\n",
            "1개월 전 1.9만\n",
            "2개월 전 1.4만\n",
            "2개월 전 3.1만\n",
            "2개월 전 4.6천\n",
            "2개월 전 8.6천\n",
            "3개월 전 2.2만\n",
            "3개월 전 6.2천\n",
            "3개월 전 4.7만\n",
            "163 https://www.youtube.com/channel/UCc8zY6tRCgHNpMdzpMZv5Vg/videos\n"
          ]
        },
        {
          "name": "stderr",
          "output_type": "stream",
          "text": [
            "  8%|▊         | 164/1936 [13:59<2:33:32,  5.20s/it]"
          ]
        },
        {
          "name": "stdout",
          "output_type": "stream",
          "text": [
            "3일 전 1.7만\n",
            "10일 전 2.2만\n",
            "2주 전 1.8만\n",
            "3주 전 1.1만\n",
            "3주 전 1.4만\n",
            "1개월 전 1.7만\n",
            "1개월 전 1.3만\n",
            "1개월 전 1.9만\n",
            "1개월 전 1.9만\n",
            "1개월 전 2.3만\n",
            "2개월 전 2.3만\n",
            "2개월 전 1.8만\n",
            "2개월 전 1.9만\n",
            "2개월 전 2.1만\n",
            "3개월 전 2.7만\n",
            "3개월 전 2.1만\n",
            "3개월 전 3.1만\n",
            "3개월 전 3.5만\n",
            "3개월 전 1.6만\n",
            "3개월 전 1.8만\n",
            "3개월 전 2.5만\n",
            "164 https://www.youtube.com/channel/UCfOsCOlRqvxanhiJgMjDexQ/videos\n"
          ]
        },
        {
          "name": "stderr",
          "output_type": "stream",
          "text": [
            "  9%|▊         | 165/1936 [14:04<2:32:43,  5.17s/it]"
          ]
        },
        {
          "name": "stdout",
          "output_type": "stream",
          "text": [
            "165 https://www.youtube.com/channel/UCMZNsnZXi7IZZbCaPjjFBHw/videos\n"
          ]
        },
        {
          "name": "stderr",
          "output_type": "stream",
          "text": [
            "  9%|▊         | 166/1936 [14:10<2:33:06,  5.19s/it]"
          ]
        },
        {
          "name": "stdout",
          "output_type": "stream",
          "text": [
            "9일 전 6.6천\n",
            "2주 전 8.5천\n",
            "4주 전 3.5천\n",
            "1개월 전 7.3천\n",
            "1개월 전 7.8천\n",
            "1개월 전 1.2만\n",
            "2개월 전 1.2만\n",
            "2개월 전 5.7천\n",
            "2개월 전 5.9천\n",
            "3개월 전 7.9천\n",
            "3개월 전 6.6천\n",
            "3개월 전 6.3천\n",
            "166 https://www.youtube.com/channel/UCwpVshFuSuKsQOdtAp5Lmew/videos\n"
          ]
        },
        {
          "name": "stderr",
          "output_type": "stream",
          "text": [
            "  9%|▊         | 167/1936 [14:15<2:32:22,  5.17s/it]"
          ]
        },
        {
          "name": "stdout",
          "output_type": "stream",
          "text": [
            "2주 전 1.8천\n",
            "1개월 전 7.8천\n",
            "1개월 전 3.3천\n",
            "1개월 전 2.6천\n",
            "2개월 전 2.4천\n",
            "2개월 전 5.5천\n",
            "3개월 전 5천\n",
            "3개월 전 9.1천\n",
            "3개월 전 6.1천\n",
            "167 https://www.youtube.com/channel/UCXfLsffywj6KfE1WEvARfKQ/videos\n"
          ]
        },
        {
          "name": "stderr",
          "output_type": "stream",
          "text": [
            "  9%|▊         | 168/1936 [14:20<2:33:21,  5.20s/it]"
          ]
        },
        {
          "name": "stdout",
          "output_type": "stream",
          "text": [
            "4일 전 4.3천\n",
            "2주 전 6.6천\n",
            "3주 전 4.9천\n",
            "1개월 전 1만\n",
            "2개월 전 1.1만\n",
            "3개월 전 1.1만\n",
            "3개월 전 1.6만\n",
            "168 https://www.youtube.com/channel/UCmErD4mBSQUUIxHFB8RTJLA/videos\n"
          ]
        },
        {
          "name": "stderr",
          "output_type": "stream",
          "text": [
            "  9%|▊         | 169/1936 [14:25<2:34:38,  5.25s/it]"
          ]
        },
        {
          "name": "stdout",
          "output_type": "stream",
          "text": [
            "13일 전 21만\n",
            "2주 전 1.6만\n",
            "3주 전 5.1만\n",
            "1개월 전 13만\n",
            "1개월 전 36만\n",
            "1개월 전 2.8만\n",
            "2개월 전 4.2만\n",
            "2개월 전 18만\n",
            "2개월 전 6만\n",
            "2개월 전 6.5천\n",
            "2개월 전 1.5만\n",
            "3개월 전 5.5만\n",
            "3개월 전 7.4천\n",
            "3개월 전 2.4만\n",
            "169 https://www.youtube.com/channel/UCqOV46Db6cwPQX7bfDDi1sQ/videos\n"
          ]
        },
        {
          "name": "stderr",
          "output_type": "stream",
          "text": [
            "  9%|▉         | 170/1936 [14:30<2:31:08,  5.13s/it]"
          ]
        },
        {
          "name": "stdout",
          "output_type": "stream",
          "text": [
            "7일 전 550\n",
            "2주 전 1.1천\n",
            "3주 전 1.1천\n",
            "1개월 전 1.1천\n",
            "1개월 전 887\n",
            "2개월 전 1.1천\n",
            "2개월 전 1.7천\n",
            "3개월 전 1.9천\n",
            "3개월 전 1.8만\n",
            "3개월 전 2.3천\n",
            "170 https://www.youtube.com/channel/UC6C-NOUgoLdL_6HXE5r3DaA/videos\n"
          ]
        },
        {
          "name": "stderr",
          "output_type": "stream",
          "text": [
            "  9%|▉         | 171/1936 [14:35<2:30:02,  5.10s/it]"
          ]
        },
        {
          "name": "stdout",
          "output_type": "stream",
          "text": [
            "2주 전 1.7천\n",
            "1개월 전 2만\n",
            "171 https://www.youtube.com/channel/UCq3RYCIkwYmIDbtI0ThEk6A/videos\n"
          ]
        },
        {
          "name": "stderr",
          "output_type": "stream",
          "text": [
            "  9%|▉         | 172/1936 [14:41<2:31:50,  5.16s/it]"
          ]
        },
        {
          "name": "stdout",
          "output_type": "stream",
          "text": [
            "3일 전 2.1만\n",
            "11일 전 2.7만\n",
            "12일 전 2.8만\n",
            "2주 전 5.3만\n",
            "2주 전 3.1만\n",
            "3주 전 2.7만\n",
            "3주 전 21만\n",
            "1개월 전 3.9만\n",
            "1개월 전 3.5만\n",
            "1개월 전 2만\n",
            "1개월 전 13만\n",
            "2개월 전 3.2만\n",
            "2개월 전 8.6만\n",
            "2개월 전 4.3만\n",
            "2개월 전 7.8만\n",
            "3개월 전 22만\n",
            "3개월 전 38만\n",
            "3개월 전 2.2만\n",
            "3개월 전 26만\n",
            "3개월 전 13만\n",
            "172 https://www.youtube.com/channel/UCrCTPvyj0_HbhgMjwmFmMHw/videos\n"
          ]
        },
        {
          "name": "stderr",
          "output_type": "stream",
          "text": [
            "  9%|▉         | 173/1936 [14:46<2:29:53,  5.10s/it]"
          ]
        },
        {
          "name": "stdout",
          "output_type": "stream",
          "text": [
            "5일 전 1.9만\n",
            "2주 전 1.5만\n",
            "3주 전 4.9만\n",
            "1개월 전 12만\n",
            "1개월 전 4.9만\n",
            "1개월 전 8.1만\n",
            "2개월 전 2.9만\n",
            "2개월 전 2.8만\n",
            "2개월 전 2.9만\n",
            "3개월 전 3.1만\n",
            "3개월 전 4만\n",
            "173 https://www.youtube.com/channel/UCWRm-X5LOy2t2jPHeyU-Rzg/videos\n"
          ]
        },
        {
          "name": "stderr",
          "output_type": "stream",
          "text": [
            "  9%|▉         | 174/1936 [14:51<2:30:36,  5.13s/it]"
          ]
        },
        {
          "name": "stdout",
          "output_type": "stream",
          "text": [
            "3주 전 977\n",
            "4주 전 863\n",
            "1개월 전 2.2천\n",
            "174 https://www.youtube.com/channel/UC7-HANqERHxkbZo1QMaPlQQ/videos\n"
          ]
        },
        {
          "name": "stderr",
          "output_type": "stream",
          "text": [
            "  9%|▉         | 175/1936 [14:56<2:30:56,  5.14s/it]"
          ]
        },
        {
          "name": "stdout",
          "output_type": "stream",
          "text": [
            "5일 전 142\n",
            "11일 전 148\n",
            "2주 전 348\n",
            "2주 전 494\n",
            "3주 전 132\n",
            "3주 전 129\n",
            "1개월 전 660\n",
            "1개월 전 1만\n",
            "1개월 전 685\n",
            "1개월 전 183\n",
            "1개월 전 378\n",
            "1개월 전 386\n",
            "1개월 전 179\n",
            "1개월 전 4.5천\n",
            "2개월 전 432\n",
            "2개월 전 921\n",
            "2개월 전 445\n",
            "2개월 전 7.8천\n",
            "2개월 전 303\n",
            "2개월 전 596\n",
            "2개월 전 974\n",
            "3개월 전 414\n",
            "3개월 전 424\n",
            "3개월 전 8천\n",
            "3개월 전 2.8천\n",
            "175 https://www.youtube.com/channel/UCFOixeB9gbedVi6uwnsfHMQ/videos\n"
          ]
        },
        {
          "name": "stderr",
          "output_type": "stream",
          "text": [
            "  9%|▉         | 176/1936 [15:00<2:25:02,  4.94s/it]"
          ]
        },
        {
          "name": "stdout",
          "output_type": "stream",
          "text": [
            "2일 전 19만\n",
            "1개월 전 24만\n",
            "1개월 전 16만\n",
            "176 https://www.youtube.com/channel/UCNh_yWrspnQbZDZijQFyjbw/videos\n"
          ]
        },
        {
          "name": "stderr",
          "output_type": "stream",
          "text": [
            "  9%|▉         | 177/1936 [15:06<2:29:00,  5.08s/it]"
          ]
        },
        {
          "name": "stdout",
          "output_type": "stream",
          "text": [
            "2일 전 6.1천\n",
            "7일 전 8.8천\n",
            "2주 전 5.9천\n",
            "3주 전 35만\n",
            "3주 전 7.3천\n",
            "1개월 전 54만\n",
            "1개월 전 1.6만\n",
            "1개월 전 1.6만\n",
            "1개월 전 4천\n",
            "1개월 전 1.3만\n",
            "1개월 전 3.1천\n",
            "1개월 전 5.5만\n",
            "2개월 전 6.3만\n",
            "2개월 전 4.9천\n",
            "2개월 전 5.1천\n",
            "2개월 전 4.8만\n",
            "2개월 전 3.8천\n",
            "2개월 전 2.1만\n",
            "2개월 전 4천\n",
            "2개월 전 9.2천\n",
            "3개월 전 5.5천\n",
            "3개월 전 8.2천\n",
            "3개월 전 5.4천\n",
            "3개월 전 1.2만\n",
            "3개월 전 5.8천\n",
            "3개월 전 1.1만\n",
            "3개월 전 1.6만\n",
            "3개월 전 6.2천\n",
            "3개월 전 13만\n",
            "3개월 전 1.7만\n",
            "177 https://www.youtube.com/channel/UCWr-dKifFPvgeDxClgik3EA/videos\n"
          ]
        },
        {
          "name": "stderr",
          "output_type": "stream",
          "text": [
            "  9%|▉         | 178/1936 [15:11<2:29:24,  5.10s/it]"
          ]
        },
        {
          "name": "stdout",
          "output_type": "stream",
          "text": [
            "3일 전 2만\n",
            "3일 전 3.2천\n",
            "8일 전 8.9천\n",
            "9일 전 1.2만\n",
            "10일 전 7.5천\n",
            "13일 전 7천\n",
            "2주 전 1.7만\n",
            "2주 전 8.2천\n",
            "3주 전 1.2만\n",
            "3주 전 3.9천\n",
            "3주 전 6.3천\n",
            "1개월 전 2.8만\n",
            "1개월 전 1.2만\n",
            "1개월 전 4천\n",
            "1개월 전 9.8천\n",
            "1개월 전 7.9천\n",
            "2개월 전 3.3만\n",
            "2개월 전 2.7만\n",
            "2개월 전 3.3만\n",
            "2개월 전 7.9천\n",
            "2개월 전 8.2천\n",
            "2개월 전 2.5만\n",
            "2개월 전 2.4만\n",
            "2개월 전 6.8천\n",
            "3개월 전 1.5만\n",
            "3개월 전 1.1만\n",
            "3개월 전 1만\n",
            "3개월 전 2.3만\n",
            "3개월 전 1.4만\n",
            "3개월 전 1.4만\n",
            "178 https://www.youtube.com/channel/UC93Zlfnj_ni8K6fL3mzbpqg/videos\n"
          ]
        },
        {
          "name": "stderr",
          "output_type": "stream",
          "text": [
            "  9%|▉         | 179/1936 [15:17<2:34:39,  5.28s/it]"
          ]
        },
        {
          "name": "stdout",
          "output_type": "stream",
          "text": [
            "179 https://www.youtube.com/channel/UC69EV5rAPaUTt03WURtsXoA/videos\n"
          ]
        },
        {
          "name": "stderr",
          "output_type": "stream",
          "text": [
            "  9%|▉         | 180/1936 [15:21<2:28:29,  5.07s/it]"
          ]
        },
        {
          "name": "stdout",
          "output_type": "stream",
          "text": [
            "180 https://www.youtube.com/channel/UC7ge2FF_Q38iRlmbT4iEaZw/videos\n"
          ]
        },
        {
          "name": "stderr",
          "output_type": "stream",
          "text": [
            "  9%|▉         | 181/1936 [15:27<2:30:55,  5.16s/it]"
          ]
        },
        {
          "name": "stdout",
          "output_type": "stream",
          "text": [
            "1일 전 867\n",
            "5일 전 1.1천\n",
            "12일 전 654\n",
            "2주 전 856\n",
            "3주 전 1.8천\n",
            "3주 전 686\n",
            "3주 전 1.2천\n",
            "1개월 전 2.2천\n",
            "1개월 전 615\n",
            "1개월 전 1.2천\n",
            "1개월 전 567\n",
            "1개월 전 2.1천\n",
            "1개월 전 1.1천\n",
            "2개월 전 1.1천\n",
            "2개월 전 1.3천\n",
            "2개월 전 732\n",
            "2개월 전 1천\n",
            "2개월 전 424\n",
            "2개월 전 904\n",
            "3개월 전 2.1천\n",
            "3개월 전 1.8천\n",
            "3개월 전 1.3천\n",
            "3개월 전 5.4천\n",
            "3개월 전 9.4천\n",
            "181 https://www.youtube.com/channel/UCT1MM1P7-CTZHO-LZLNbH5A/videos\n"
          ]
        },
        {
          "name": "stderr",
          "output_type": "stream",
          "text": [
            "  9%|▉         | 182/1936 [15:32<2:31:00,  5.17s/it]"
          ]
        },
        {
          "name": "stdout",
          "output_type": "stream",
          "text": [
            "9일 전 3.6천\n",
            "3주 전 6천\n",
            "4주 전 3.4천\n",
            "1개월 전 5천\n",
            "1개월 전 7.9천\n",
            "1개월 전 5.6천\n",
            "1개월 전 8.3천\n",
            "2개월 전 6.7천\n",
            "2개월 전 4.3천\n",
            "3개월 전 6.3천\n",
            "3개월 전 1.8천\n",
            "3개월 전 5.9천\n",
            "3개월 전 7천\n",
            "3개월 전 3.8천\n",
            "182 https://www.youtube.com/channel/UCMFiPnh5711ORguIM3X0IoQ/videos\n"
          ]
        },
        {
          "name": "stderr",
          "output_type": "stream",
          "text": [
            "  9%|▉         | 183/1936 [15:36<2:24:30,  4.95s/it]"
          ]
        },
        {
          "name": "stdout",
          "output_type": "stream",
          "text": [
            "183 https://www.youtube.com/channel/UC_0ETMOneNK4F0Dw9CIUGJA/videos\n"
          ]
        },
        {
          "name": "stderr",
          "output_type": "stream",
          "text": [
            " 10%|▉         | 184/1936 [15:41<2:26:56,  5.03s/it]"
          ]
        },
        {
          "name": "stdout",
          "output_type": "stream",
          "text": [
            "184 https://www.youtube.com/channel/UCTiFhESEPEbe5qoFeJ8rr1w/videos\n"
          ]
        },
        {
          "name": "stderr",
          "output_type": "stream",
          "text": [
            " 10%|▉         | 185/1936 [15:47<2:28:13,  5.08s/it]"
          ]
        },
        {
          "name": "stdout",
          "output_type": "stream",
          "text": [
            "6일 전 1.7천\n",
            "2주 전 3.6천\n",
            "185 https://www.youtube.com/channel/UCuG_aYt1Eamww_s34tVfGww/videos\n"
          ]
        },
        {
          "name": "stderr",
          "output_type": "stream",
          "text": [
            " 10%|▉         | 186/1936 [15:52<2:27:50,  5.07s/it]"
          ]
        },
        {
          "name": "stdout",
          "output_type": "stream",
          "text": [
            "186 https://www.youtube.com/channel/UC_HRnyL-pcrDd0xvlnJdkrQ/videos\n"
          ]
        },
        {
          "name": "stderr",
          "output_type": "stream",
          "text": [
            " 10%|▉         | 187/1936 [15:57<2:27:44,  5.07s/it]"
          ]
        },
        {
          "name": "stdout",
          "output_type": "stream",
          "text": [
            "187 https://www.youtube.com/channel/UCfXAmZGp2rYpTk0YIJOePMA/videos\n"
          ]
        },
        {
          "name": "stderr",
          "output_type": "stream",
          "text": [
            " 10%|▉         | 188/1936 [16:02<2:28:29,  5.10s/it]"
          ]
        },
        {
          "name": "stdout",
          "output_type": "stream",
          "text": [
            "188 https://www.youtube.com/channel/UCSNe4EhbJ-IU4XmjdeEAPtA/videos\n"
          ]
        },
        {
          "name": "stderr",
          "output_type": "stream",
          "text": [
            " 10%|▉         | 189/1936 [16:07<2:29:31,  5.14s/it]"
          ]
        },
        {
          "name": "stdout",
          "output_type": "stream",
          "text": [
            "189 https://www.youtube.com/channel/UCAeXE4oqpStJRFXb86aUB5Q/videos\n"
          ]
        },
        {
          "name": "stderr",
          "output_type": "stream",
          "text": [
            " 10%|▉         | 190/1936 [16:12<2:27:28,  5.07s/it]"
          ]
        },
        {
          "name": "stdout",
          "output_type": "stream",
          "text": [
            "190 https://www.youtube.com/channel/UCmAoQeG02zTzglSSRLk8oxA/videos\n"
          ]
        },
        {
          "name": "stderr",
          "output_type": "stream",
          "text": [
            " 10%|▉         | 191/1936 [16:17<2:28:27,  5.10s/it]"
          ]
        },
        {
          "name": "stdout",
          "output_type": "stream",
          "text": [
            "191 https://www.youtube.com/channel/UCcHVk5SFxfYhCbbX8pWWuVg/videos\n"
          ]
        },
        {
          "name": "stderr",
          "output_type": "stream",
          "text": [
            " 10%|▉         | 192/1936 [16:22<2:29:58,  5.16s/it]"
          ]
        },
        {
          "name": "stdout",
          "output_type": "stream",
          "text": [
            "192 https://www.youtube.com/channel/UC_O4_e0nbsMoU1rg7JU_nwQ/videos\n"
          ]
        },
        {
          "name": "stderr",
          "output_type": "stream",
          "text": [
            " 10%|▉         | 193/1936 [16:27<2:27:22,  5.07s/it]"
          ]
        },
        {
          "name": "stdout",
          "output_type": "stream",
          "text": [
            "193 https://www.youtube.com/channel/UCHK-FRuAjk8g798dD7L7xqA/videos\n"
          ]
        },
        {
          "name": "stderr",
          "output_type": "stream",
          "text": [
            " 10%|█         | 194/1936 [16:33<2:29:26,  5.15s/it]"
          ]
        },
        {
          "name": "stdout",
          "output_type": "stream",
          "text": [
            "194 https://www.youtube.com/channel/UC8kgAdc_ZfQAZwBkQ-Rummg/videos\n"
          ]
        },
        {
          "name": "stderr",
          "output_type": "stream",
          "text": [
            " 10%|█         | 195/1936 [16:38<2:30:38,  5.19s/it]"
          ]
        },
        {
          "name": "stdout",
          "output_type": "stream",
          "text": [
            "195 https://www.youtube.com/channel/UC7uEw7E1-NBpJwE5L2Amoyg/videos\n"
          ]
        },
        {
          "name": "stderr",
          "output_type": "stream",
          "text": [
            " 10%|█         | 196/1936 [16:43<2:29:55,  5.17s/it]"
          ]
        },
        {
          "name": "stdout",
          "output_type": "stream",
          "text": [
            "196 https://www.youtube.com/channel/UCHQcF_yN5QSDYAnXb5vaXcg/videos\n"
          ]
        },
        {
          "name": "stderr",
          "output_type": "stream",
          "text": [
            " 10%|█         | 197/1936 [16:48<2:30:12,  5.18s/it]"
          ]
        },
        {
          "name": "stdout",
          "output_type": "stream",
          "text": [
            "197 https://www.youtube.com/channel/UCwDFdWg0nGlEMr4iJnKWqYw/videos\n"
          ]
        },
        {
          "name": "stderr",
          "output_type": "stream",
          "text": [
            " 10%|█         | 198/1936 [16:53<2:29:15,  5.15s/it]"
          ]
        },
        {
          "name": "stdout",
          "output_type": "stream",
          "text": [
            "198 https://www.youtube.com/channel/UCfba9cyRs4aRiKaGi11d2Ig/videos\n"
          ]
        },
        {
          "name": "stderr",
          "output_type": "stream",
          "text": [
            " 10%|█         | 199/1936 [16:58<2:28:08,  5.12s/it]"
          ]
        },
        {
          "name": "stdout",
          "output_type": "stream",
          "text": [
            "199 https://www.youtube.com/channel/UCprxjd4bxAiNAxg947wvrmA/videos\n"
          ]
        },
        {
          "name": "stderr",
          "output_type": "stream",
          "text": [
            " 10%|█         | 200/1936 [17:04<2:28:43,  5.14s/it]"
          ]
        },
        {
          "name": "stdout",
          "output_type": "stream",
          "text": [
            "200 https://www.youtube.com/channel/UCH-Nxs1bVd4NT-k5W-XtTLw/videos\n"
          ]
        },
        {
          "name": "stderr",
          "output_type": "stream",
          "text": [
            " 10%|█         | 201/1936 [17:09<2:29:02,  5.15s/it]"
          ]
        },
        {
          "name": "stdout",
          "output_type": "stream",
          "text": [
            "201 https://www.youtube.com/channel/UC6xdZj8KvkNI6a13bEPwh0g/videos\n"
          ]
        },
        {
          "name": "stderr",
          "output_type": "stream",
          "text": [
            " 10%|█         | 202/1936 [17:14<2:29:38,  5.18s/it]"
          ]
        },
        {
          "name": "stdout",
          "output_type": "stream",
          "text": [
            "202 https://www.youtube.com/channel/UCT7AWhMjf_5RUEHsFC6Vyrg/videos\n"
          ]
        },
        {
          "name": "stderr",
          "output_type": "stream",
          "text": [
            " 10%|█         | 203/1936 [17:19<2:29:26,  5.17s/it]"
          ]
        },
        {
          "name": "stdout",
          "output_type": "stream",
          "text": [
            "203 https://www.youtube.com/channel/UCkXLhpUyROkoFx4YsIpJ0Ng/videos\n"
          ]
        },
        {
          "name": "stderr",
          "output_type": "stream",
          "text": [
            " 11%|█         | 204/1936 [17:24<2:30:19,  5.21s/it]"
          ]
        },
        {
          "name": "stdout",
          "output_type": "stream",
          "text": [
            "204 https://www.youtube.com/channel/UCN2hMlhjHvZk1d7Jg4rJxGw/videos\n"
          ]
        },
        {
          "name": "stderr",
          "output_type": "stream",
          "text": [
            " 11%|█         | 205/1936 [17:30<2:30:00,  5.20s/it]"
          ]
        },
        {
          "name": "stdout",
          "output_type": "stream",
          "text": [
            "205 https://www.youtube.com/channel/UC4SlbSjWjrCICz1V_t4GT7Q/videos\n"
          ]
        },
        {
          "name": "stderr",
          "output_type": "stream",
          "text": [
            " 11%|█         | 206/1936 [17:35<2:27:52,  5.13s/it]"
          ]
        },
        {
          "name": "stdout",
          "output_type": "stream",
          "text": [
            "206 https://www.youtube.com/channel/UCoovEJW0dyTWwHiblWDWvyQ/videos\n"
          ]
        },
        {
          "name": "stderr",
          "output_type": "stream",
          "text": [
            " 11%|█         | 207/1936 [17:40<2:27:55,  5.13s/it]"
          ]
        },
        {
          "name": "stdout",
          "output_type": "stream",
          "text": [
            "207 https://www.youtube.com/channel/UCfbn_7tdW97URJyy865cIdA/videos\n"
          ]
        },
        {
          "name": "stderr",
          "output_type": "stream",
          "text": [
            " 11%|█         | 208/1936 [17:45<2:28:11,  5.15s/it]"
          ]
        },
        {
          "name": "stdout",
          "output_type": "stream",
          "text": [
            "208 https://www.youtube.com/channel/UCFqUTFhUAQS1kJhKBR4T6Tg/videos\n"
          ]
        },
        {
          "name": "stderr",
          "output_type": "stream",
          "text": [
            " 11%|█         | 209/1936 [17:50<2:29:11,  5.18s/it]"
          ]
        },
        {
          "name": "stdout",
          "output_type": "stream",
          "text": [
            "209 https://www.youtube.com/channel/UCZ9UZgA_K-braoIdyU5swzw/videos\n"
          ]
        },
        {
          "name": "stderr",
          "output_type": "stream",
          "text": [
            " 11%|█         | 210/1936 [17:56<2:31:17,  5.26s/it]"
          ]
        },
        {
          "name": "stdout",
          "output_type": "stream",
          "text": [
            "210 https://www.youtube.com/channel/UC783XWULPW-nDGv_0EYlB6Q/videos\n"
          ]
        },
        {
          "name": "stderr",
          "output_type": "stream",
          "text": [
            " 11%|█         | 211/1936 [18:01<2:30:24,  5.23s/it]"
          ]
        },
        {
          "name": "stdout",
          "output_type": "stream",
          "text": [
            "211 https://www.youtube.com/channel/UCRmG4YBJMlBiH4rt8g2vNPw/videos\n"
          ]
        },
        {
          "name": "stderr",
          "output_type": "stream",
          "text": [
            " 11%|█         | 212/1936 [18:06<2:30:10,  5.23s/it]"
          ]
        },
        {
          "name": "stdout",
          "output_type": "stream",
          "text": [
            "212 https://www.youtube.com/channel/UClyfnTU00bVfdn_74Hrk_5w/videos\n"
          ]
        },
        {
          "name": "stderr",
          "output_type": "stream",
          "text": [
            " 11%|█         | 213/1936 [18:11<2:27:57,  5.15s/it]"
          ]
        },
        {
          "name": "stdout",
          "output_type": "stream",
          "text": [
            "213 https://www.youtube.com/channel/UC_JXWoZ2DQB98xFiKLPrVEQ/videos\n"
          ]
        },
        {
          "name": "stderr",
          "output_type": "stream",
          "text": [
            " 11%|█         | 214/1936 [18:16<2:25:24,  5.07s/it]"
          ]
        },
        {
          "name": "stdout",
          "output_type": "stream",
          "text": [
            "214 https://www.youtube.com/channel/UCiAzDHGJTIjlXZZKj9aErWw/videos\n"
          ]
        },
        {
          "name": "stderr",
          "output_type": "stream",
          "text": [
            " 11%|█         | 215/1936 [18:21<2:24:18,  5.03s/it]"
          ]
        },
        {
          "name": "stdout",
          "output_type": "stream",
          "text": [
            "215 https://www.youtube.com/channel/UCToGO7Uad2M9oFdIIqMcM2Q/videos\n"
          ]
        },
        {
          "name": "stderr",
          "output_type": "stream",
          "text": [
            " 11%|█         | 216/1936 [18:26<2:25:29,  5.08s/it]"
          ]
        },
        {
          "name": "stdout",
          "output_type": "stream",
          "text": [
            "216 https://www.youtube.com/channel/UCLQj9QBqMFWoFtKOjIto_uQ/videos\n"
          ]
        },
        {
          "name": "stderr",
          "output_type": "stream",
          "text": [
            " 11%|█         | 217/1936 [18:31<2:24:12,  5.03s/it]"
          ]
        },
        {
          "name": "stdout",
          "output_type": "stream",
          "text": [
            "217 https://www.youtube.com/channel/UChlyKAQyV1GQNPII87t8E6w/videos\n"
          ]
        },
        {
          "name": "stderr",
          "output_type": "stream",
          "text": [
            " 11%|█▏        | 218/1936 [18:36<2:27:17,  5.14s/it]"
          ]
        },
        {
          "name": "stdout",
          "output_type": "stream",
          "text": [
            "218 https://www.youtube.com/channel/UC_z95ltf9J06D8M7nt0Uvig/videos\n"
          ]
        },
        {
          "name": "stderr",
          "output_type": "stream",
          "text": [
            " 11%|█▏        | 219/1936 [18:42<2:27:49,  5.17s/it]"
          ]
        },
        {
          "name": "stdout",
          "output_type": "stream",
          "text": [
            "219 https://www.youtube.com/channel/UCfTbqC-Im3UE-jxTX0QNcCA/videos\n"
          ]
        },
        {
          "name": "stderr",
          "output_type": "stream",
          "text": [
            " 11%|█▏        | 220/1936 [18:47<2:27:47,  5.17s/it]"
          ]
        },
        {
          "name": "stdout",
          "output_type": "stream",
          "text": [
            "220 https://www.youtube.com/channel/UC3TRywvf4ZYLYpVvpm9fV5A/videos\n"
          ]
        },
        {
          "name": "stderr",
          "output_type": "stream",
          "text": [
            " 11%|█▏        | 221/1936 [18:52<2:28:19,  5.19s/it]"
          ]
        },
        {
          "name": "stdout",
          "output_type": "stream",
          "text": [
            "221 https://www.youtube.com/channel/UCFGQjcXHaEHtY9P4jNXvo_A/videos\n"
          ]
        },
        {
          "name": "stderr",
          "output_type": "stream",
          "text": [
            " 11%|█▏        | 222/1936 [18:57<2:29:12,  5.22s/it]"
          ]
        },
        {
          "name": "stdout",
          "output_type": "stream",
          "text": [
            "222 https://www.youtube.com/channel/UCGnm-dUuP-elXBwVixp01YA/videos\n"
          ]
        },
        {
          "name": "stderr",
          "output_type": "stream",
          "text": [
            " 12%|█▏        | 223/1936 [19:02<2:28:24,  5.20s/it]"
          ]
        },
        {
          "name": "stdout",
          "output_type": "stream",
          "text": [
            "223 https://www.youtube.com/channel/UCJSBa7exUxGA3ZNoWEEx4lw/videos\n"
          ]
        },
        {
          "name": "stderr",
          "output_type": "stream",
          "text": [
            " 12%|█▏        | 224/1936 [19:08<2:30:23,  5.27s/it]"
          ]
        },
        {
          "name": "stdout",
          "output_type": "stream",
          "text": [
            "224 https://www.youtube.com/channel/UCjHO2W3wp44Bh1xh2HD9uIQ/videos\n"
          ]
        },
        {
          "name": "stderr",
          "output_type": "stream",
          "text": [
            " 12%|█▏        | 225/1936 [19:13<2:26:54,  5.15s/it]"
          ]
        },
        {
          "name": "stdout",
          "output_type": "stream",
          "text": [
            "225 https://www.youtube.com/channel/UCMSzGdIncXSsVtRC4kmM_1w/videos\n"
          ]
        },
        {
          "name": "stderr",
          "output_type": "stream",
          "text": [
            " 12%|█▏        | 226/1936 [19:18<2:24:04,  5.05s/it]"
          ]
        },
        {
          "name": "stdout",
          "output_type": "stream",
          "text": [
            "226 https://www.youtube.com/channel/UCSgkM_1wT39Ma6WQunucs5w/videos\n"
          ]
        },
        {
          "name": "stderr",
          "output_type": "stream",
          "text": [
            " 12%|█▏        | 227/1936 [19:22<2:21:39,  4.97s/it]"
          ]
        },
        {
          "name": "stdout",
          "output_type": "stream",
          "text": [
            "227 https://www.youtube.com/channel/UCQjvIEhwboMIE1IPSVIQv1A/videos\n"
          ]
        },
        {
          "name": "stderr",
          "output_type": "stream",
          "text": [
            " 12%|█▏        | 228/1936 [19:27<2:22:28,  5.01s/it]"
          ]
        },
        {
          "name": "stdout",
          "output_type": "stream",
          "text": [
            "228 https://www.youtube.com/channel/UCj-MI9DaXgAz412O9ybQ9WA/videos\n"
          ]
        },
        {
          "name": "stderr",
          "output_type": "stream",
          "text": [
            " 12%|█▏        | 229/1936 [19:32<2:21:07,  4.96s/it]"
          ]
        },
        {
          "name": "stdout",
          "output_type": "stream",
          "text": [
            "229 https://www.youtube.com/channel/UCHQafpdX3dpKGMzVcNkjZ5w/videos\n"
          ]
        },
        {
          "name": "stderr",
          "output_type": "stream",
          "text": [
            " 12%|█▏        | 230/1936 [19:37<2:22:08,  5.00s/it]"
          ]
        },
        {
          "name": "stdout",
          "output_type": "stream",
          "text": [
            "230 https://www.youtube.com/channel/UCkJAFjYD2_upDDHUK8K8nCA/videos\n"
          ]
        },
        {
          "name": "stderr",
          "output_type": "stream",
          "text": [
            " 12%|█▏        | 231/1936 [19:42<2:22:15,  5.01s/it]"
          ]
        },
        {
          "name": "stdout",
          "output_type": "stream",
          "text": [
            "231 https://www.youtube.com/channel/UC27AsFI03XkFXz0vJ1tS0Pw/videos\n"
          ]
        },
        {
          "name": "stderr",
          "output_type": "stream",
          "text": [
            " 12%|█▏        | 232/1936 [19:47<2:22:23,  5.01s/it]"
          ]
        },
        {
          "name": "stdout",
          "output_type": "stream",
          "text": [
            "232 https://www.youtube.com/channel/UCAZwumBEXVyxz21Yt39LuXQ/videos\n"
          ]
        },
        {
          "name": "stderr",
          "output_type": "stream",
          "text": [
            " 12%|█▏        | 233/1936 [19:53<2:24:05,  5.08s/it]"
          ]
        },
        {
          "name": "stdout",
          "output_type": "stream",
          "text": [
            "233 https://www.youtube.com/channel/UCeBMiOzwyxXVIrk5nNJljiA/videos\n"
          ]
        },
        {
          "name": "stderr",
          "output_type": "stream",
          "text": [
            " 12%|█▏        | 234/1936 [19:58<2:25:31,  5.13s/it]"
          ]
        },
        {
          "name": "stdout",
          "output_type": "stream",
          "text": [
            "234 https://www.youtube.com/channel/UC3QqU6REYikKgrx6RjQC48A/videos\n"
          ]
        },
        {
          "name": "stderr",
          "output_type": "stream",
          "text": [
            " 12%|█▏        | 235/1936 [20:03<2:23:18,  5.05s/it]"
          ]
        },
        {
          "name": "stdout",
          "output_type": "stream",
          "text": [
            "235 https://www.youtube.com/channel/UCen3G3sSGXQmpxBLFlihuVg/videos\n"
          ]
        },
        {
          "name": "stderr",
          "output_type": "stream",
          "text": [
            " 12%|█▏        | 236/1936 [20:08<2:23:13,  5.06s/it]"
          ]
        },
        {
          "name": "stdout",
          "output_type": "stream",
          "text": [
            "236 https://www.youtube.com/channel/UCbK-Vl6jVx7mbAqYwaLXteQ/videos\n"
          ]
        },
        {
          "name": "stderr",
          "output_type": "stream",
          "text": [
            " 12%|█▏        | 237/1936 [20:13<2:23:57,  5.08s/it]"
          ]
        },
        {
          "name": "stdout",
          "output_type": "stream",
          "text": [
            "237 https://www.youtube.com/channel/UC_XkLhG1aXGeeCy91uXVEBQ/videos\n"
          ]
        },
        {
          "name": "stderr",
          "output_type": "stream",
          "text": [
            " 12%|█▏        | 238/1936 [20:18<2:23:41,  5.08s/it]"
          ]
        },
        {
          "name": "stdout",
          "output_type": "stream",
          "text": [
            "238 https://www.youtube.com/channel/UCcSQ_5lbCgf9ruiMG8iBoGg/videos\n"
          ]
        },
        {
          "name": "stderr",
          "output_type": "stream",
          "text": [
            " 12%|█▏        | 239/1936 [20:23<2:23:58,  5.09s/it]"
          ]
        },
        {
          "name": "stdout",
          "output_type": "stream",
          "text": [
            "239 https://www.youtube.com/channel/UCAsuTCieElZ-VeMd-NrAJIA/videos\n"
          ]
        },
        {
          "name": "stderr",
          "output_type": "stream",
          "text": [
            " 12%|█▏        | 240/1936 [20:28<2:23:44,  5.09s/it]"
          ]
        },
        {
          "name": "stdout",
          "output_type": "stream",
          "text": [
            "240 https://www.youtube.com/channel/UCrh1MHfMCSXwIfA_rh2VFug/videos\n"
          ]
        },
        {
          "name": "stderr",
          "output_type": "stream",
          "text": [
            " 12%|█▏        | 241/1936 [20:33<2:24:52,  5.13s/it]"
          ]
        },
        {
          "name": "stdout",
          "output_type": "stream",
          "text": [
            "241 https://www.youtube.com/channel/UC60126GZFq0ALxVjTcl0QrQ/videos\n"
          ]
        },
        {
          "name": "stderr",
          "output_type": "stream",
          "text": [
            " 12%|█▎        | 242/1936 [20:39<2:24:21,  5.11s/it]"
          ]
        },
        {
          "name": "stdout",
          "output_type": "stream",
          "text": [
            "242 https://www.youtube.com/channel/UCmJ4DkPFPzjR2TkJ7lXSQWw/videos\n"
          ]
        },
        {
          "name": "stderr",
          "output_type": "stream",
          "text": [
            " 13%|█▎        | 243/1936 [20:44<2:23:35,  5.09s/it]"
          ]
        },
        {
          "name": "stdout",
          "output_type": "stream",
          "text": [
            "243 https://www.youtube.com/channel/UCpXnb06Y0uc6ewEf3WL4wDQ/videos\n"
          ]
        },
        {
          "name": "stderr",
          "output_type": "stream",
          "text": [
            " 13%|█▎        | 244/1936 [20:49<2:22:52,  5.07s/it]"
          ]
        },
        {
          "name": "stdout",
          "output_type": "stream",
          "text": [
            "244 https://www.youtube.com/channel/UCutaHUD-Oos2EBNNEwd4QQg/videos\n"
          ]
        },
        {
          "name": "stderr",
          "output_type": "stream",
          "text": [
            " 13%|█▎        | 245/1936 [20:54<2:22:00,  5.04s/it]"
          ]
        },
        {
          "name": "stdout",
          "output_type": "stream",
          "text": [
            "245 https://www.youtube.com/channel/UCsbo5VemDR505Etd5ZKnWNA/videos\n"
          ]
        },
        {
          "name": "stderr",
          "output_type": "stream",
          "text": [
            " 13%|█▎        | 246/1936 [20:59<2:23:01,  5.08s/it]"
          ]
        },
        {
          "name": "stdout",
          "output_type": "stream",
          "text": [
            "246 https://www.youtube.com/channel/UCi6QE2TWQ1OWEX1o5TPSz1g/videos\n"
          ]
        },
        {
          "name": "stderr",
          "output_type": "stream",
          "text": [
            " 13%|█▎        | 247/1936 [21:04<2:23:30,  5.10s/it]"
          ]
        },
        {
          "name": "stdout",
          "output_type": "stream",
          "text": [
            "247 https://www.youtube.com/channel/UC4FV0MQbQs_X6YDD6wgu74A/videos\n"
          ]
        },
        {
          "name": "stderr",
          "output_type": "stream",
          "text": [
            " 13%|█▎        | 248/1936 [21:09<2:23:46,  5.11s/it]"
          ]
        },
        {
          "name": "stdout",
          "output_type": "stream",
          "text": [
            "248 https://www.youtube.com/channel/UCBc81_prdalGLfgwc2ll7zg/videos\n"
          ]
        },
        {
          "name": "stderr",
          "output_type": "stream",
          "text": [
            " 13%|█▎        | 249/1936 [21:14<2:23:57,  5.12s/it]"
          ]
        },
        {
          "name": "stdout",
          "output_type": "stream",
          "text": [
            "249 https://www.youtube.com/channel/UCgeHDGNAxySBHWaFw27JMjA/videos\n"
          ]
        },
        {
          "name": "stderr",
          "output_type": "stream",
          "text": [
            " 13%|█▎        | 250/1936 [21:19<2:23:26,  5.10s/it]"
          ]
        },
        {
          "name": "stdout",
          "output_type": "stream",
          "text": [
            "250 https://www.youtube.com/channel/UCuWCDbrr-GNT4p5JfNzec1g/videos\n"
          ]
        },
        {
          "name": "stderr",
          "output_type": "stream",
          "text": [
            " 13%|█▎        | 251/1936 [21:25<2:25:43,  5.19s/it]"
          ]
        },
        {
          "name": "stdout",
          "output_type": "stream",
          "text": [
            "251 https://www.youtube.com/channel/UCwDtfjGn6LLIvlF3nUVRqHQ/videos\n"
          ]
        },
        {
          "name": "stderr",
          "output_type": "stream",
          "text": [
            " 13%|█▎        | 252/1936 [21:30<2:25:25,  5.18s/it]"
          ]
        },
        {
          "name": "stdout",
          "output_type": "stream",
          "text": [
            "252 https://www.youtube.com/channel/UCIPJothQj9M3jkSX6YbNPpQ/videos\n"
          ]
        },
        {
          "name": "stderr",
          "output_type": "stream",
          "text": [
            " 13%|█▎        | 253/1936 [21:35<2:25:33,  5.19s/it]"
          ]
        },
        {
          "name": "stdout",
          "output_type": "stream",
          "text": [
            "253 https://www.youtube.com/channel/UCAfmwT-QJgol8OEoWI3nEeQ/videos\n"
          ]
        },
        {
          "name": "stderr",
          "output_type": "stream",
          "text": [
            " 13%|█▎        | 254/1936 [21:40<2:26:51,  5.24s/it]"
          ]
        },
        {
          "name": "stdout",
          "output_type": "stream",
          "text": [
            "254 https://www.youtube.com/channel/UCTTKUGY-k5_Rv2MWSHSUBAg/videos\n"
          ]
        },
        {
          "name": "stderr",
          "output_type": "stream",
          "text": [
            " 13%|█▎        | 255/1936 [21:46<2:26:09,  5.22s/it]"
          ]
        },
        {
          "name": "stdout",
          "output_type": "stream",
          "text": [
            "255 https://www.youtube.com/channel/UCgMk_WpXNn9xEnZ55zbsNcA/videos\n"
          ]
        },
        {
          "name": "stderr",
          "output_type": "stream",
          "text": [
            " 13%|█▎        | 256/1936 [21:51<2:25:22,  5.19s/it]"
          ]
        },
        {
          "name": "stdout",
          "output_type": "stream",
          "text": [
            "256 https://www.youtube.com/channel/UCjdln1NK3QLJTg9zjCbSm5A/videos\n"
          ]
        },
        {
          "name": "stderr",
          "output_type": "stream",
          "text": [
            " 13%|█▎        | 257/1936 [21:56<2:24:08,  5.15s/it]"
          ]
        },
        {
          "name": "stdout",
          "output_type": "stream",
          "text": [
            "257 https://www.youtube.com/channel/UCxDFqurIfjs62D-B4ExVwFw/videos\n"
          ]
        },
        {
          "name": "stderr",
          "output_type": "stream",
          "text": [
            " 13%|█▎        | 258/1936 [22:01<2:26:01,  5.22s/it]"
          ]
        },
        {
          "name": "stdout",
          "output_type": "stream",
          "text": [
            "258 https://www.youtube.com/channel/UCajj6hvJUgqDVnAVM9HgAuw/videos\n"
          ]
        },
        {
          "name": "stderr",
          "output_type": "stream",
          "text": [
            " 13%|█▎        | 259/1936 [22:06<2:26:54,  5.26s/it]"
          ]
        },
        {
          "name": "stdout",
          "output_type": "stream",
          "text": [
            "259 https://www.youtube.com/channel/UCMyB-XGM7dcovuPoKeunAMQ/videos\n"
          ]
        },
        {
          "name": "stderr",
          "output_type": "stream",
          "text": [
            " 13%|█▎        | 260/1936 [22:12<2:26:25,  5.24s/it]"
          ]
        },
        {
          "name": "stdout",
          "output_type": "stream",
          "text": [
            "260 https://www.youtube.com/channel/UCi5yzN6jpdz2akGTm-mJSKQ/videos\n"
          ]
        },
        {
          "name": "stderr",
          "output_type": "stream",
          "text": [
            " 13%|█▎        | 261/1936 [22:17<2:24:47,  5.19s/it]"
          ]
        },
        {
          "name": "stdout",
          "output_type": "stream",
          "text": [
            "261 https://www.youtube.com/channel/UCOzhy2XI4hJgyZtisS15YQw/videos\n"
          ]
        },
        {
          "name": "stderr",
          "output_type": "stream",
          "text": [
            " 14%|█▎        | 262/1936 [22:22<2:23:58,  5.16s/it]"
          ]
        },
        {
          "name": "stdout",
          "output_type": "stream",
          "text": [
            "262 https://www.youtube.com/channel/UCS34_x-_yBx7zXxb8B3LmNw/videos\n"
          ]
        },
        {
          "name": "stderr",
          "output_type": "stream",
          "text": [
            " 14%|█▎        | 263/1936 [22:27<2:22:11,  5.10s/it]"
          ]
        },
        {
          "name": "stdout",
          "output_type": "stream",
          "text": [
            "263 https://www.youtube.com/channel/UCjtCvquMHcR1UPxL4cvy0-g/videos\n"
          ]
        },
        {
          "name": "stderr",
          "output_type": "stream",
          "text": [
            " 14%|█▎        | 264/1936 [22:32<2:24:20,  5.18s/it]"
          ]
        },
        {
          "name": "stdout",
          "output_type": "stream",
          "text": [
            "264 https://www.youtube.com/channel/UCk-QtahVyHaxCsteeKB2Xzg/videos\n"
          ]
        },
        {
          "name": "stderr",
          "output_type": "stream",
          "text": [
            " 14%|█▎        | 265/1936 [22:38<2:27:44,  5.31s/it]"
          ]
        },
        {
          "name": "stdout",
          "output_type": "stream",
          "text": [
            "265 https://www.youtube.com/channel/UC3_QWAvQRhPW4CDoQU8acKw/videos\n"
          ]
        },
        {
          "name": "stderr",
          "output_type": "stream",
          "text": [
            " 14%|█▎        | 266/1936 [22:43<2:27:09,  5.29s/it]"
          ]
        },
        {
          "name": "stdout",
          "output_type": "stream",
          "text": [
            "266 https://www.youtube.com/channel/UCXQoI3upwKr47JAiVaYkvIw/videos\n"
          ]
        },
        {
          "name": "stderr",
          "output_type": "stream",
          "text": [
            " 14%|█▍        | 267/1936 [22:48<2:28:48,  5.35s/it]"
          ]
        },
        {
          "name": "stdout",
          "output_type": "stream",
          "text": [
            "267 https://www.youtube.com/channel/UCnCeDIkExSpULGqmpj5oafg/videos\n"
          ]
        },
        {
          "name": "stderr",
          "output_type": "stream",
          "text": [
            " 14%|█▍        | 268/1936 [22:54<2:28:16,  5.33s/it]"
          ]
        },
        {
          "name": "stdout",
          "output_type": "stream",
          "text": [
            "268 https://www.youtube.com/channel/UCHUkpUuH7O3U7eIx93tMUwA/videos\n"
          ]
        },
        {
          "name": "stderr",
          "output_type": "stream",
          "text": [
            " 14%|█▍        | 269/1936 [22:59<2:26:28,  5.27s/it]"
          ]
        },
        {
          "name": "stdout",
          "output_type": "stream",
          "text": [
            "269 https://www.youtube.com/channel/UCKJixsFhVrv2uMWU6kwzq0w/videos\n"
          ]
        },
        {
          "name": "stderr",
          "output_type": "stream",
          "text": [
            " 14%|█▍        | 270/1936 [23:04<2:25:28,  5.24s/it]"
          ]
        },
        {
          "name": "stdout",
          "output_type": "stream",
          "text": [
            "270 https://www.youtube.com/channel/UCTXGkthV3pgPZcQs0-kIazQ/videos\n"
          ]
        },
        {
          "name": "stderr",
          "output_type": "stream",
          "text": [
            " 14%|█▍        | 271/1936 [23:09<2:26:08,  5.27s/it]"
          ]
        },
        {
          "name": "stdout",
          "output_type": "stream",
          "text": [
            "271 https://www.youtube.com/channel/UCD902zDdQCJSRDh5CPvWbig/videos\n"
          ]
        },
        {
          "name": "stderr",
          "output_type": "stream",
          "text": [
            " 14%|█▍        | 272/1936 [23:15<2:25:50,  5.26s/it]"
          ]
        },
        {
          "name": "stdout",
          "output_type": "stream",
          "text": [
            "272 https://www.youtube.com/channel/UCmsXCfQoKp5DcW8J9dMWnNQ/videos\n"
          ]
        },
        {
          "name": "stderr",
          "output_type": "stream",
          "text": [
            " 14%|█▍        | 273/1936 [23:20<2:26:02,  5.27s/it]"
          ]
        },
        {
          "name": "stdout",
          "output_type": "stream",
          "text": [
            "273 https://www.youtube.com/channel/UCDEOj33PPDR-Hw9RxdKfjpw/videos\n"
          ]
        },
        {
          "name": "stderr",
          "output_type": "stream",
          "text": [
            " 14%|█▍        | 274/1936 [23:25<2:25:37,  5.26s/it]"
          ]
        },
        {
          "name": "stdout",
          "output_type": "stream",
          "text": [
            "274 https://www.youtube.com/channel/UCKmQlVBsuwvArxWS9AmlLBA/videos\n"
          ]
        },
        {
          "name": "stderr",
          "output_type": "stream",
          "text": [
            " 14%|█▍        | 275/1936 [23:30<2:25:07,  5.24s/it]"
          ]
        },
        {
          "name": "stdout",
          "output_type": "stream",
          "text": [
            "275 https://www.youtube.com/channel/UChr6yjXMBSqYS-2Df_503dw/videos\n"
          ]
        },
        {
          "name": "stderr",
          "output_type": "stream",
          "text": [
            " 14%|█▍        | 276/1936 [23:36<2:25:14,  5.25s/it]"
          ]
        },
        {
          "name": "stdout",
          "output_type": "stream",
          "text": [
            "276 https://www.youtube.com/channel/UCwNRM8nZ2TMJVnb1SZ5oDUw/videos\n"
          ]
        },
        {
          "name": "stderr",
          "output_type": "stream",
          "text": [
            " 14%|█▍        | 277/1936 [23:41<2:28:21,  5.37s/it]"
          ]
        },
        {
          "name": "stdout",
          "output_type": "stream",
          "text": [
            "277 https://www.youtube.com/channel/UCUYOh3-YyuLdQulTl4eyBDQ/videos\n"
          ]
        },
        {
          "name": "stderr",
          "output_type": "stream",
          "text": [
            " 14%|█▍        | 278/1936 [23:46<2:25:55,  5.28s/it]"
          ]
        },
        {
          "name": "stdout",
          "output_type": "stream",
          "text": [
            "278 https://www.youtube.com/channel/UC8Jbr0L5By5kGL4MVfm2itA/videos\n"
          ]
        },
        {
          "name": "stderr",
          "output_type": "stream",
          "text": [
            " 14%|█▍        | 279/1936 [23:51<2:24:37,  5.24s/it]"
          ]
        },
        {
          "name": "stdout",
          "output_type": "stream",
          "text": [
            "279 https://www.youtube.com/channel/UCJfDSu2aV8gehh7f3ndclew/videos\n"
          ]
        },
        {
          "name": "stderr",
          "output_type": "stream",
          "text": [
            " 14%|█▍        | 280/1936 [23:57<2:23:33,  5.20s/it]"
          ]
        },
        {
          "name": "stdout",
          "output_type": "stream",
          "text": [
            "280 https://www.youtube.com/channel/UC8SI-sdAmdaN1WsXpoW9_EQ/videos\n"
          ]
        },
        {
          "name": "stderr",
          "output_type": "stream",
          "text": [
            " 15%|█▍        | 281/1936 [24:02<2:24:16,  5.23s/it]"
          ]
        },
        {
          "name": "stdout",
          "output_type": "stream",
          "text": [
            "281 https://www.youtube.com/channel/UCCuC3tJoSXBsX75wcLehsog/videos\n"
          ]
        },
        {
          "name": "stderr",
          "output_type": "stream",
          "text": [
            " 15%|█▍        | 282/1936 [24:07<2:22:44,  5.18s/it]"
          ]
        },
        {
          "name": "stdout",
          "output_type": "stream",
          "text": [
            "282 https://www.youtube.com/channel/UCr3KO-SDGCCQFJJGi0aD4gA/videos\n"
          ]
        },
        {
          "name": "stderr",
          "output_type": "stream",
          "text": [
            " 15%|█▍        | 283/1936 [24:12<2:22:15,  5.16s/it]"
          ]
        },
        {
          "name": "stdout",
          "output_type": "stream",
          "text": [
            "283 https://www.youtube.com/channel/UCcL8PoeJCC6DwAcKyzw_eQg/videos\n"
          ]
        },
        {
          "name": "stderr",
          "output_type": "stream",
          "text": [
            " 15%|█▍        | 284/1936 [24:17<2:19:47,  5.08s/it]"
          ]
        },
        {
          "name": "stdout",
          "output_type": "stream",
          "text": [
            "284 https://www.youtube.com/channel/UC2IYsRiATGe71sLIOlSXGuw/videos\n"
          ]
        },
        {
          "name": "stderr",
          "output_type": "stream",
          "text": [
            " 15%|█▍        | 285/1936 [24:22<2:19:56,  5.09s/it]"
          ]
        },
        {
          "name": "stdout",
          "output_type": "stream",
          "text": [
            "285 https://www.youtube.com/channel/UCLfc87S_edQ59xTzJqqY13A/videos\n"
          ]
        },
        {
          "name": "stderr",
          "output_type": "stream",
          "text": [
            " 15%|█▍        | 286/1936 [24:27<2:21:05,  5.13s/it]"
          ]
        },
        {
          "name": "stdout",
          "output_type": "stream",
          "text": [
            "286 https://www.youtube.com/channel/UCLFAwDuwnek49eR5jIxek5w/videos\n"
          ]
        },
        {
          "name": "stderr",
          "output_type": "stream",
          "text": [
            " 15%|█▍        | 287/1936 [24:33<2:23:04,  5.21s/it]"
          ]
        },
        {
          "name": "stdout",
          "output_type": "stream",
          "text": [
            "287 https://www.youtube.com/channel/UCJfLWdULlr_IsHeYIuML6yA/videos\n"
          ]
        },
        {
          "name": "stderr",
          "output_type": "stream",
          "text": [
            " 15%|█▍        | 288/1936 [24:38<2:21:06,  5.14s/it]"
          ]
        },
        {
          "name": "stdout",
          "output_type": "stream",
          "text": [
            "288 https://www.youtube.com/channel/UC-PtahIn0M44G18L6yUKiEQ/videos\n"
          ]
        },
        {
          "name": "stderr",
          "output_type": "stream",
          "text": [
            " 15%|█▍        | 289/1936 [24:43<2:20:11,  5.11s/it]"
          ]
        },
        {
          "name": "stdout",
          "output_type": "stream",
          "text": [
            "289 https://www.youtube.com/channel/UCuDUt0EtAygfXH3-LKPWzMw/videos\n"
          ]
        },
        {
          "name": "stderr",
          "output_type": "stream",
          "text": [
            " 15%|█▍        | 290/1936 [24:48<2:19:35,  5.09s/it]"
          ]
        },
        {
          "name": "stdout",
          "output_type": "stream",
          "text": [
            "290 https://www.youtube.com/channel/UC9_PMlBcTmDpRzLSzeFGfRg/videos\n"
          ]
        },
        {
          "name": "stderr",
          "output_type": "stream",
          "text": [
            " 15%|█▌        | 291/1936 [24:53<2:19:31,  5.09s/it]"
          ]
        },
        {
          "name": "stdout",
          "output_type": "stream",
          "text": [
            "291 https://www.youtube.com/channel/UCkBLIp5uxBkwSsxpNTnoXxg/videos\n"
          ]
        },
        {
          "name": "stderr",
          "output_type": "stream",
          "text": [
            " 15%|█▌        | 292/1936 [24:58<2:19:45,  5.10s/it]"
          ]
        },
        {
          "name": "stdout",
          "output_type": "stream",
          "text": [
            "292 https://www.youtube.com/channel/UCRYWgA5091IbbO7mUs8zspg/videos\n"
          ]
        },
        {
          "name": "stderr",
          "output_type": "stream",
          "text": [
            " 15%|█▌        | 293/1936 [25:03<2:19:20,  5.09s/it]"
          ]
        },
        {
          "name": "stdout",
          "output_type": "stream",
          "text": [
            "293 https://www.youtube.com/channel/UCe3WAJnByFbaJ78TcFDe2cg/videos\n"
          ]
        },
        {
          "name": "stderr",
          "output_type": "stream",
          "text": [
            " 15%|█▌        | 294/1936 [25:08<2:19:49,  5.11s/it]"
          ]
        },
        {
          "name": "stdout",
          "output_type": "stream",
          "text": [
            "294 https://www.youtube.com/channel/UC3NYxVgztU3zXAfWsbxC-9g/videos\n"
          ]
        },
        {
          "name": "stderr",
          "output_type": "stream",
          "text": [
            " 15%|█▌        | 295/1936 [25:13<2:21:01,  5.16s/it]"
          ]
        },
        {
          "name": "stdout",
          "output_type": "stream",
          "text": [
            "295 https://www.youtube.com/channel/UC1neuSEEodXKk84-5BrfitQ/videos\n"
          ]
        },
        {
          "name": "stderr",
          "output_type": "stream",
          "text": [
            " 15%|█▌        | 296/1936 [25:19<2:21:07,  5.16s/it]"
          ]
        },
        {
          "name": "stdout",
          "output_type": "stream",
          "text": [
            "296 https://www.youtube.com/channel/UCWlL0DMfc2dlDhIx1kaGpKg/videos\n"
          ]
        },
        {
          "name": "stderr",
          "output_type": "stream",
          "text": [
            " 15%|█▌        | 297/1936 [25:24<2:20:34,  5.15s/it]"
          ]
        },
        {
          "name": "stdout",
          "output_type": "stream",
          "text": [
            "297 https://www.youtube.com/channel/UCQ1Rn1d6FfB3x2b0n0J6pMQ/videos\n"
          ]
        },
        {
          "name": "stderr",
          "output_type": "stream",
          "text": [
            " 15%|█▌        | 298/1936 [25:29<2:20:28,  5.15s/it]"
          ]
        },
        {
          "name": "stdout",
          "output_type": "stream",
          "text": [
            "298 https://www.youtube.com/channel/UCpzU0y9vjjHN4CzSS0jGumw/videos\n"
          ]
        },
        {
          "name": "stderr",
          "output_type": "stream",
          "text": [
            " 15%|█▌        | 299/1936 [25:34<2:20:02,  5.13s/it]"
          ]
        },
        {
          "name": "stdout",
          "output_type": "stream",
          "text": [
            "299 https://www.youtube.com/channel/UCldtxzrfuCnu8_CisxeYjrQ/videos\n"
          ]
        },
        {
          "name": "stderr",
          "output_type": "stream",
          "text": [
            " 15%|█▌        | 300/1936 [25:39<2:20:57,  5.17s/it]"
          ]
        },
        {
          "name": "stdout",
          "output_type": "stream",
          "text": [
            "300 https://www.youtube.com/channel/UC3H-HID5QRW8re-5WU4cy8g/videos\n"
          ]
        },
        {
          "name": "stderr",
          "output_type": "stream",
          "text": [
            " 16%|█▌        | 301/1936 [25:44<2:21:27,  5.19s/it]"
          ]
        },
        {
          "name": "stdout",
          "output_type": "stream",
          "text": [
            "301 https://www.youtube.com/channel/UCwYosniCbUHMyj6HWOlZd9w/videos\n"
          ]
        },
        {
          "name": "stderr",
          "output_type": "stream",
          "text": [
            " 16%|█▌        | 302/1936 [25:50<2:23:46,  5.28s/it]"
          ]
        },
        {
          "name": "stdout",
          "output_type": "stream",
          "text": [
            "302 https://www.youtube.com/channel/UCepel3No9wcFnPrM1iSIeWA/videos\n"
          ]
        },
        {
          "name": "stderr",
          "output_type": "stream",
          "text": [
            " 16%|█▌        | 303/1936 [25:55<2:24:09,  5.30s/it]"
          ]
        },
        {
          "name": "stdout",
          "output_type": "stream",
          "text": [
            "303 https://www.youtube.com/channel/UCqcULDo6bYQyBdivYGcnwLg/videos\n"
          ]
        },
        {
          "name": "stderr",
          "output_type": "stream",
          "text": [
            " 16%|█▌        | 304/1936 [26:01<2:27:07,  5.41s/it]"
          ]
        },
        {
          "name": "stdout",
          "output_type": "stream",
          "text": [
            "304 https://www.youtube.com/channel/UCV2A-3c6QjeeEsKUsmclOGg/videos\n"
          ]
        },
        {
          "name": "stderr",
          "output_type": "stream",
          "text": [
            " 16%|█▌        | 305/1936 [26:06<2:24:58,  5.33s/it]"
          ]
        },
        {
          "name": "stdout",
          "output_type": "stream",
          "text": [
            "305 https://www.youtube.com/channel/UCSWMuYooxYPorJSumJbLzCQ/videos\n"
          ]
        },
        {
          "name": "stderr",
          "output_type": "stream",
          "text": [
            " 16%|█▌        | 306/1936 [26:11<2:23:16,  5.27s/it]"
          ]
        },
        {
          "name": "stdout",
          "output_type": "stream",
          "text": [
            "306 https://www.youtube.com/channel/UC9uShjmFoGaJJmv-73e5kaQ/videos\n"
          ]
        },
        {
          "name": "stderr",
          "output_type": "stream",
          "text": [
            " 16%|█▌        | 307/1936 [26:16<2:21:46,  5.22s/it]"
          ]
        },
        {
          "name": "stdout",
          "output_type": "stream",
          "text": [
            "307 https://www.youtube.com/channel/UCKa9LDac-kT1CP7SAKboptA/videos\n"
          ]
        },
        {
          "name": "stderr",
          "output_type": "stream",
          "text": [
            " 16%|█▌        | 308/1936 [26:22<2:21:52,  5.23s/it]"
          ]
        },
        {
          "name": "stdout",
          "output_type": "stream",
          "text": [
            "308 https://www.youtube.com/channel/UCDaM3k8gk-dhusPn3OjNWig/videos\n"
          ]
        },
        {
          "name": "stderr",
          "output_type": "stream",
          "text": [
            " 16%|█▌        | 309/1936 [26:27<2:20:15,  5.17s/it]"
          ]
        },
        {
          "name": "stdout",
          "output_type": "stream",
          "text": [
            "309 https://www.youtube.com/channel/UCCtj1zblIe1hQcRfzlfdlmw/videos\n"
          ]
        },
        {
          "name": "stderr",
          "output_type": "stream",
          "text": [
            " 16%|█▌        | 310/1936 [26:32<2:21:26,  5.22s/it]"
          ]
        },
        {
          "name": "stdout",
          "output_type": "stream",
          "text": [
            "310 https://www.youtube.com/channel/UCcpAAfKWfnVXViVwfjc2q-A/videos\n"
          ]
        },
        {
          "name": "stderr",
          "output_type": "stream",
          "text": [
            " 16%|█▌        | 311/1936 [26:37<2:23:00,  5.28s/it]"
          ]
        },
        {
          "name": "stdout",
          "output_type": "stream",
          "text": [
            "311 https://www.youtube.com/channel/UCrUzsSsjHf1HH9XHiYAO2kw/videos\n"
          ]
        },
        {
          "name": "stderr",
          "output_type": "stream",
          "text": [
            " 16%|█▌        | 312/1936 [26:42<2:21:33,  5.23s/it]"
          ]
        },
        {
          "name": "stdout",
          "output_type": "stream",
          "text": [
            "312 https://www.youtube.com/channel/UCS1bJuQ8_1KXC86RhPvJexw/videos\n"
          ]
        },
        {
          "name": "stderr",
          "output_type": "stream",
          "text": [
            " 16%|█▌        | 313/1936 [26:48<2:21:46,  5.24s/it]"
          ]
        },
        {
          "name": "stdout",
          "output_type": "stream",
          "text": [
            "313 https://www.youtube.com/channel/UCt51IEo3ZxxOysVAG_ylR6w/videos\n"
          ]
        },
        {
          "name": "stderr",
          "output_type": "stream",
          "text": [
            " 16%|█▌        | 314/1936 [26:53<2:19:29,  5.16s/it]"
          ]
        },
        {
          "name": "stdout",
          "output_type": "stream",
          "text": [
            "314 https://www.youtube.com/channel/UC3dj5GTfwq6CFXyleL9BNhQ/videos\n"
          ]
        },
        {
          "name": "stderr",
          "output_type": "stream",
          "text": [
            " 16%|█▋        | 315/1936 [26:58<2:19:07,  5.15s/it]"
          ]
        },
        {
          "name": "stdout",
          "output_type": "stream",
          "text": [
            "315 https://www.youtube.com/channel/UCqMixH4Cc7CdySihHG4kkIA/videos\n"
          ]
        },
        {
          "name": "stderr",
          "output_type": "stream",
          "text": [
            " 16%|█▋        | 316/1936 [27:03<2:19:10,  5.15s/it]"
          ]
        },
        {
          "name": "stdout",
          "output_type": "stream",
          "text": [
            "316 https://www.youtube.com/channel/UCF9KbuS_N0K7l3Hp5uk5Jeg/videos\n"
          ]
        },
        {
          "name": "stderr",
          "output_type": "stream",
          "text": [
            " 16%|█▋        | 317/1936 [27:08<2:19:44,  5.18s/it]"
          ]
        },
        {
          "name": "stdout",
          "output_type": "stream",
          "text": [
            "317 https://www.youtube.com/channel/UCefkahbVepsvh2fv5xpYjLA/videos\n"
          ]
        },
        {
          "name": "stderr",
          "output_type": "stream",
          "text": [
            " 16%|█▋        | 318/1936 [27:13<2:19:19,  5.17s/it]"
          ]
        },
        {
          "name": "stdout",
          "output_type": "stream",
          "text": [
            "318 https://www.youtube.com/channel/UC-Ju7Rpx4V9XsrLh2DXh9tw/videos\n"
          ]
        },
        {
          "name": "stderr",
          "output_type": "stream",
          "text": [
            " 16%|█▋        | 319/1936 [27:19<2:19:23,  5.17s/it]"
          ]
        },
        {
          "name": "stdout",
          "output_type": "stream",
          "text": [
            "319 https://www.youtube.com/channel/UCpSFkW-1TFYy--Ag7__0w5A/videos\n"
          ]
        },
        {
          "name": "stderr",
          "output_type": "stream",
          "text": [
            " 17%|█▋        | 320/1936 [27:24<2:20:20,  5.21s/it]"
          ]
        },
        {
          "name": "stdout",
          "output_type": "stream",
          "text": [
            "320 https://www.youtube.com/channel/UCsPM3IeBczIKLj59xEUYxLA/videos\n"
          ]
        },
        {
          "name": "stderr",
          "output_type": "stream",
          "text": [
            " 17%|█▋        | 321/1936 [27:29<2:19:22,  5.18s/it]"
          ]
        },
        {
          "name": "stdout",
          "output_type": "stream",
          "text": [
            "321 https://www.youtube.com/channel/UCCuuRWM5JTvYBnbufwJ4E5Q/videos\n"
          ]
        },
        {
          "name": "stderr",
          "output_type": "stream",
          "text": [
            " 17%|█▋        | 322/1936 [27:34<2:20:29,  5.22s/it]"
          ]
        },
        {
          "name": "stdout",
          "output_type": "stream",
          "text": [
            "322 https://www.youtube.com/channel/UCF-rFAdN7dzd-SI2T3rkCaQ/videos\n"
          ]
        },
        {
          "name": "stderr",
          "output_type": "stream",
          "text": [
            " 17%|█▋        | 323/1936 [27:39<2:19:13,  5.18s/it]"
          ]
        },
        {
          "name": "stdout",
          "output_type": "stream",
          "text": [
            "323 https://www.youtube.com/channel/UCqONn4EbAYzIVEGAoQxmZUA/videos\n"
          ]
        },
        {
          "name": "stderr",
          "output_type": "stream",
          "text": [
            " 17%|█▋        | 324/1936 [27:45<2:20:57,  5.25s/it]"
          ]
        },
        {
          "name": "stdout",
          "output_type": "stream",
          "text": [
            "324 https://www.youtube.com/channel/UCknK4npY4KSZ7Y6TCgItJEQ/videos\n"
          ]
        },
        {
          "name": "stderr",
          "output_type": "stream",
          "text": [
            " 17%|█▋        | 325/1936 [27:50<2:22:09,  5.29s/it]"
          ]
        },
        {
          "name": "stdout",
          "output_type": "stream",
          "text": [
            "325 https://www.youtube.com/channel/UCyFueUubBUqG3WgSKait79w/videos\n"
          ]
        },
        {
          "name": "stderr",
          "output_type": "stream",
          "text": [
            " 17%|█▋        | 326/1936 [27:55<2:22:05,  5.30s/it]"
          ]
        },
        {
          "name": "stdout",
          "output_type": "stream",
          "text": [
            "326 https://www.youtube.com/channel/UCe0y2WjmgkUVw9w7wvuzX1w/videos\n"
          ]
        },
        {
          "name": "stderr",
          "output_type": "stream",
          "text": [
            " 17%|█▋        | 327/1936 [28:01<2:24:38,  5.39s/it]"
          ]
        },
        {
          "name": "stdout",
          "output_type": "stream",
          "text": [
            "327 https://www.youtube.com/channel/UChmyZaeLpXAEyUP4_I9GSaw/videos\n"
          ]
        },
        {
          "name": "stderr",
          "output_type": "stream",
          "text": [
            " 17%|█▋        | 328/1936 [28:07<2:25:54,  5.44s/it]"
          ]
        },
        {
          "name": "stdout",
          "output_type": "stream",
          "text": [
            "328 https://www.youtube.com/channel/UCTSaxXnhUcrhv984bVpDr6Q/videos\n"
          ]
        },
        {
          "name": "stderr",
          "output_type": "stream",
          "text": [
            " 17%|█▋        | 329/1936 [28:12<2:23:57,  5.37s/it]"
          ]
        },
        {
          "name": "stdout",
          "output_type": "stream",
          "text": [
            "329 https://www.youtube.com/channel/UCi3BnqSK4DPzRj8szUeLIQA/videos\n"
          ]
        },
        {
          "name": "stderr",
          "output_type": "stream",
          "text": [
            " 17%|█▋        | 330/1936 [28:17<2:23:07,  5.35s/it]"
          ]
        },
        {
          "name": "stdout",
          "output_type": "stream",
          "text": [
            "330 https://www.youtube.com/channel/UCZZEgBpbLP0ILVc4nGg39-w/videos\n"
          ]
        },
        {
          "name": "stderr",
          "output_type": "stream",
          "text": [
            " 17%|█▋        | 331/1936 [28:22<2:21:33,  5.29s/it]"
          ]
        },
        {
          "name": "stdout",
          "output_type": "stream",
          "text": [
            "331 https://www.youtube.com/channel/UC98Dw7oYrXnoXCfhxgffzRA/videos\n"
          ]
        },
        {
          "name": "stderr",
          "output_type": "stream",
          "text": [
            " 17%|█▋        | 332/1936 [28:28<2:21:00,  5.27s/it]"
          ]
        },
        {
          "name": "stdout",
          "output_type": "stream",
          "text": [
            "332 https://www.youtube.com/channel/UC6ihBsnabjPNHw6oPNpYNDw/videos\n"
          ]
        },
        {
          "name": "stderr",
          "output_type": "stream",
          "text": [
            " 17%|█▋        | 333/1936 [28:33<2:20:57,  5.28s/it]"
          ]
        },
        {
          "name": "stdout",
          "output_type": "stream",
          "text": [
            "333 https://www.youtube.com/channel/UCCXeZkv4-v2TlH_J49I_icw/videos\n"
          ]
        },
        {
          "name": "stderr",
          "output_type": "stream",
          "text": [
            " 17%|█▋        | 334/1936 [28:38<2:20:15,  5.25s/it]"
          ]
        },
        {
          "name": "stdout",
          "output_type": "stream",
          "text": [
            "334 https://www.youtube.com/channel/UC4VopMgRQlmcJqdhkOg9ItQ/videos\n"
          ]
        },
        {
          "name": "stderr",
          "output_type": "stream",
          "text": [
            " 17%|█▋        | 335/1936 [28:43<2:19:34,  5.23s/it]"
          ]
        },
        {
          "name": "stdout",
          "output_type": "stream",
          "text": [
            "335 https://www.youtube.com/channel/UCEqnhWFiZV-ziHD909994gQ/videos\n"
          ]
        },
        {
          "name": "stderr",
          "output_type": "stream",
          "text": [
            " 17%|█▋        | 336/1936 [28:48<2:18:49,  5.21s/it]"
          ]
        },
        {
          "name": "stdout",
          "output_type": "stream",
          "text": [
            "336 https://www.youtube.com/channel/UC8KlhpSxZxlBzjGTlWZSscQ/videos\n"
          ]
        },
        {
          "name": "stderr",
          "output_type": "stream",
          "text": [
            " 17%|█▋        | 337/1936 [28:53<2:16:23,  5.12s/it]"
          ]
        },
        {
          "name": "stdout",
          "output_type": "stream",
          "text": [
            "337 https://www.youtube.com/channel/UC_OJHFdKtPzaSOlXF7daEeA/videos\n"
          ]
        },
        {
          "name": "stderr",
          "output_type": "stream",
          "text": [
            " 17%|█▋        | 338/1936 [28:58<2:16:18,  5.12s/it]"
          ]
        },
        {
          "name": "stdout",
          "output_type": "stream",
          "text": [
            "338 https://www.youtube.com/channel/UCZQvXBMUT7ZMM5i9w9ZFp_Q/videos\n"
          ]
        },
        {
          "name": "stderr",
          "output_type": "stream",
          "text": [
            " 18%|█▊        | 339/1936 [29:04<2:17:21,  5.16s/it]"
          ]
        },
        {
          "name": "stdout",
          "output_type": "stream",
          "text": [
            "339 https://www.youtube.com/channel/UCYGF_xk5RDpltyZDSx040uw/videos\n"
          ]
        },
        {
          "name": "stderr",
          "output_type": "stream",
          "text": [
            " 18%|█▊        | 340/1936 [29:09<2:19:11,  5.23s/it]"
          ]
        },
        {
          "name": "stdout",
          "output_type": "stream",
          "text": [
            "340 https://www.youtube.com/channel/UCf8xJL-CznwfW7W2LO3y_EQ/videos\n"
          ]
        },
        {
          "name": "stderr",
          "output_type": "stream",
          "text": [
            " 18%|█▊        | 341/1936 [29:15<2:21:27,  5.32s/it]"
          ]
        },
        {
          "name": "stdout",
          "output_type": "stream",
          "text": [
            "341 https://www.youtube.com/channel/UClLl6MY6ad9f_bZDHxdzqww/videos\n"
          ]
        },
        {
          "name": "stderr",
          "output_type": "stream",
          "text": [
            " 18%|█▊        | 342/1936 [29:20<2:20:18,  5.28s/it]"
          ]
        },
        {
          "name": "stdout",
          "output_type": "stream",
          "text": [
            "342 https://www.youtube.com/channel/UCGrPkd9rA3yYuGZiT90RyLA/videos\n"
          ]
        },
        {
          "name": "stderr",
          "output_type": "stream",
          "text": [
            " 18%|█▊        | 343/1936 [29:25<2:18:33,  5.22s/it]"
          ]
        },
        {
          "name": "stdout",
          "output_type": "stream",
          "text": [
            "343 https://www.youtube.com/channel/UCthBM75Uyq9twIN2x0ucwZw/videos\n"
          ]
        },
        {
          "name": "stderr",
          "output_type": "stream",
          "text": [
            " 18%|█▊        | 344/1936 [29:30<2:18:05,  5.20s/it]"
          ]
        },
        {
          "name": "stdout",
          "output_type": "stream",
          "text": [
            "344 https://www.youtube.com/channel/UC4YNlH2JfAFbp1LJglG5sAw/videos\n"
          ]
        },
        {
          "name": "stderr",
          "output_type": "stream",
          "text": [
            " 18%|█▊        | 345/1936 [29:35<2:16:56,  5.16s/it]"
          ]
        },
        {
          "name": "stdout",
          "output_type": "stream",
          "text": [
            "345 https://www.youtube.com/channel/UCcx69mKCbra7XSztVy4FqYw/videos\n"
          ]
        },
        {
          "name": "stderr",
          "output_type": "stream",
          "text": [
            " 18%|█▊        | 346/1936 [29:40<2:17:21,  5.18s/it]"
          ]
        },
        {
          "name": "stdout",
          "output_type": "stream",
          "text": [
            "346 https://www.youtube.com/channel/UCkjkcl2nT24D80C3p_TvxkQ/videos\n"
          ]
        },
        {
          "name": "stderr",
          "output_type": "stream",
          "text": [
            " 18%|█▊        | 347/1936 [29:45<2:15:44,  5.13s/it]"
          ]
        },
        {
          "name": "stdout",
          "output_type": "stream",
          "text": [
            "347 https://www.youtube.com/channel/UC1V1dCWhoOXMl3mv6HU4z9w/videos\n"
          ]
        },
        {
          "name": "stderr",
          "output_type": "stream",
          "text": [
            " 18%|█▊        | 348/1936 [29:51<2:16:17,  5.15s/it]"
          ]
        },
        {
          "name": "stdout",
          "output_type": "stream",
          "text": [
            "348 https://www.youtube.com/channel/UCfUnRLITvC9bNpShAEIIhMA/videos\n"
          ]
        },
        {
          "name": "stderr",
          "output_type": "stream",
          "text": [
            " 18%|█▊        | 349/1936 [29:56<2:15:39,  5.13s/it]"
          ]
        },
        {
          "name": "stdout",
          "output_type": "stream",
          "text": [
            "349 https://www.youtube.com/channel/UCfO-Z1ZCFn9DF5217ZySjfw/videos\n"
          ]
        },
        {
          "name": "stderr",
          "output_type": "stream",
          "text": [
            " 18%|█▊        | 350/1936 [30:01<2:15:23,  5.12s/it]"
          ]
        },
        {
          "name": "stdout",
          "output_type": "stream",
          "text": [
            "350 https://www.youtube.com/channel/UCMY6poKyd6VBUtLywAcoy1g/videos\n"
          ]
        },
        {
          "name": "stderr",
          "output_type": "stream",
          "text": [
            " 18%|█▊        | 351/1936 [30:06<2:15:23,  5.13s/it]"
          ]
        },
        {
          "name": "stdout",
          "output_type": "stream",
          "text": [
            "351 https://www.youtube.com/channel/UC_eXONnL5HKKTpa6_t4BTOw/videos\n"
          ]
        },
        {
          "name": "stderr",
          "output_type": "stream",
          "text": [
            " 18%|█▊        | 352/1936 [30:11<2:16:14,  5.16s/it]"
          ]
        },
        {
          "name": "stdout",
          "output_type": "stream",
          "text": [
            "352 https://www.youtube.com/channel/UCmTu3nys7ORxWCyw0KcXraA/videos\n"
          ]
        },
        {
          "name": "stderr",
          "output_type": "stream",
          "text": [
            " 18%|█▊        | 353/1936 [30:16<2:16:56,  5.19s/it]"
          ]
        },
        {
          "name": "stdout",
          "output_type": "stream",
          "text": [
            "353 https://www.youtube.com/channel/UCl1XENGI2x5vRCnAESPPmcQ/videos\n"
          ]
        },
        {
          "name": "stderr",
          "output_type": "stream",
          "text": [
            " 18%|█▊        | 354/1936 [30:22<2:16:41,  5.18s/it]"
          ]
        },
        {
          "name": "stdout",
          "output_type": "stream",
          "text": [
            "354 https://www.youtube.com/channel/UCbYD-AW90YHBrVBQ7ZpBvHw/videos\n"
          ]
        },
        {
          "name": "stderr",
          "output_type": "stream",
          "text": [
            " 18%|█▊        | 355/1936 [30:27<2:17:52,  5.23s/it]"
          ]
        },
        {
          "name": "stdout",
          "output_type": "stream",
          "text": [
            "355 https://www.youtube.com/channel/UC1aaTtgKSF9QtkcwKhTmS6A/videos\n"
          ]
        },
        {
          "name": "stderr",
          "output_type": "stream",
          "text": [
            " 18%|█▊        | 356/1936 [30:32<2:18:21,  5.25s/it]"
          ]
        },
        {
          "name": "stdout",
          "output_type": "stream",
          "text": [
            "356 https://www.youtube.com/channel/UCTTjblmJnsEe8Rq71WzJ9Tw/videos\n"
          ]
        },
        {
          "name": "stderr",
          "output_type": "stream",
          "text": [
            " 18%|█▊        | 357/1936 [30:37<2:16:10,  5.17s/it]"
          ]
        },
        {
          "name": "stdout",
          "output_type": "stream",
          "text": [
            "357 https://www.youtube.com/channel/UCIkS9nRF6gxG0ARyp61XUBQ/videos\n"
          ]
        },
        {
          "name": "stderr",
          "output_type": "stream",
          "text": [
            " 18%|█▊        | 358/1936 [30:42<2:16:28,  5.19s/it]"
          ]
        },
        {
          "name": "stdout",
          "output_type": "stream",
          "text": [
            "358 https://www.youtube.com/channel/UCHzre37UF4o64HRhp-7CDzQ/videos\n"
          ]
        },
        {
          "name": "stderr",
          "output_type": "stream",
          "text": [
            " 19%|█▊        | 359/1936 [30:47<2:15:18,  5.15s/it]"
          ]
        },
        {
          "name": "stdout",
          "output_type": "stream",
          "text": [
            "359 https://www.youtube.com/channel/UCMxmMGKQSZibTCoa-Os4Iow/videos\n"
          ]
        },
        {
          "name": "stderr",
          "output_type": "stream",
          "text": [
            " 19%|█▊        | 360/1936 [30:53<2:15:12,  5.15s/it]"
          ]
        },
        {
          "name": "stdout",
          "output_type": "stream",
          "text": [
            "360 https://www.youtube.com/channel/UCQPPzb7y4aJz6VV1F3v066g/videos\n"
          ]
        },
        {
          "name": "stderr",
          "output_type": "stream",
          "text": [
            " 19%|█▊        | 361/1936 [30:58<2:16:18,  5.19s/it]"
          ]
        },
        {
          "name": "stdout",
          "output_type": "stream",
          "text": [
            "361 https://www.youtube.com/channel/UCxlWck-ta5rTNAmXVJLO6Ng/videos\n"
          ]
        },
        {
          "name": "stderr",
          "output_type": "stream",
          "text": [
            " 19%|█▊        | 362/1936 [31:03<2:16:36,  5.21s/it]"
          ]
        },
        {
          "name": "stdout",
          "output_type": "stream",
          "text": [
            "362 https://www.youtube.com/channel/UCNYV6yOqwfY863iKiGVjGGQ/videos\n"
          ]
        },
        {
          "name": "stderr",
          "output_type": "stream",
          "text": [
            " 19%|█▉        | 363/1936 [31:08<2:15:42,  5.18s/it]"
          ]
        },
        {
          "name": "stdout",
          "output_type": "stream",
          "text": [
            "363 https://www.youtube.com/channel/UC0ww73trpwK75W0qj3Kf__A/videos\n"
          ]
        },
        {
          "name": "stderr",
          "output_type": "stream",
          "text": [
            " 19%|█▉        | 364/1936 [31:13<2:14:00,  5.11s/it]"
          ]
        },
        {
          "name": "stdout",
          "output_type": "stream",
          "text": [
            "364 https://www.youtube.com/channel/UCoEWEPaxEjJhTanpyLxVIHQ/videos\n"
          ]
        },
        {
          "name": "stderr",
          "output_type": "stream",
          "text": [
            " 19%|█▉        | 365/1936 [31:18<2:14:07,  5.12s/it]"
          ]
        },
        {
          "name": "stdout",
          "output_type": "stream",
          "text": [
            "365 https://www.youtube.com/channel/UC9Qsk7A_dVWZc6l1FRS8amQ/videos\n"
          ]
        },
        {
          "name": "stderr",
          "output_type": "stream",
          "text": [
            " 19%|█▉        | 366/1936 [31:23<2:13:30,  5.10s/it]"
          ]
        },
        {
          "name": "stdout",
          "output_type": "stream",
          "text": [
            "366 https://www.youtube.com/channel/UCfWsDemkTDdwMWWDSxHEEXw/videos\n"
          ]
        },
        {
          "name": "stderr",
          "output_type": "stream",
          "text": [
            " 19%|█▉        | 367/1936 [31:29<2:14:24,  5.14s/it]"
          ]
        },
        {
          "name": "stdout",
          "output_type": "stream",
          "text": [
            "367 https://www.youtube.com/channel/UC9aktiWNGpSJKLshflga5yw/videos\n"
          ]
        },
        {
          "name": "stderr",
          "output_type": "stream",
          "text": [
            " 19%|█▉        | 368/1936 [31:34<2:13:39,  5.11s/it]"
          ]
        },
        {
          "name": "stdout",
          "output_type": "stream",
          "text": [
            "368 https://www.youtube.com/channel/UCG2mOeSKm75ByPMdchkyqHw/videos\n"
          ]
        },
        {
          "name": "stderr",
          "output_type": "stream",
          "text": [
            " 19%|█▉        | 369/1936 [31:39<2:13:41,  5.12s/it]"
          ]
        },
        {
          "name": "stdout",
          "output_type": "stream",
          "text": [
            "369 https://www.youtube.com/channel/UCvovV60OYDLInG51-LYS84g/videos\n"
          ]
        },
        {
          "name": "stderr",
          "output_type": "stream",
          "text": [
            " 19%|█▉        | 370/1936 [31:44<2:13:32,  5.12s/it]"
          ]
        },
        {
          "name": "stdout",
          "output_type": "stream",
          "text": [
            "370 https://www.youtube.com/channel/UCdRDEMsLzDgoXY0AdQ1yN8g/videos\n"
          ]
        },
        {
          "name": "stderr",
          "output_type": "stream",
          "text": [
            " 19%|█▉        | 371/1936 [31:49<2:13:35,  5.12s/it]"
          ]
        },
        {
          "name": "stdout",
          "output_type": "stream",
          "text": [
            "371 https://www.youtube.com/channel/UCXFVBR9a-VjKIvPabRURpnw/videos\n"
          ]
        },
        {
          "name": "stderr",
          "output_type": "stream",
          "text": [
            " 19%|█▉        | 372/1936 [31:54<2:14:29,  5.16s/it]"
          ]
        },
        {
          "name": "stdout",
          "output_type": "stream",
          "text": [
            "372 https://www.youtube.com/channel/UCPEIG1tL9asHjHx5VXy2hwQ/videos\n"
          ]
        },
        {
          "name": "stderr",
          "output_type": "stream",
          "text": [
            " 19%|█▉        | 373/1936 [32:00<2:15:59,  5.22s/it]"
          ]
        },
        {
          "name": "stdout",
          "output_type": "stream",
          "text": [
            "373 https://www.youtube.com/channel/UCrLxiPkgUEEnItqryMFVG2g/videos\n"
          ]
        },
        {
          "name": "stderr",
          "output_type": "stream",
          "text": [
            " 19%|█▉        | 374/1936 [32:05<2:14:30,  5.17s/it]"
          ]
        },
        {
          "name": "stdout",
          "output_type": "stream",
          "text": [
            "374 https://www.youtube.com/channel/UCNWXNY7W1Dih__FM6OfH7ag/videos\n"
          ]
        },
        {
          "name": "stderr",
          "output_type": "stream",
          "text": [
            " 19%|█▉        | 375/1936 [32:10<2:12:59,  5.11s/it]"
          ]
        },
        {
          "name": "stdout",
          "output_type": "stream",
          "text": [
            "375 https://www.youtube.com/channel/UCUbNhCJCQH-94fKhqKyTN-g/videos\n"
          ]
        },
        {
          "name": "stderr",
          "output_type": "stream",
          "text": [
            " 19%|█▉        | 376/1936 [32:15<2:13:51,  5.15s/it]"
          ]
        },
        {
          "name": "stdout",
          "output_type": "stream",
          "text": [
            "376 https://www.youtube.com/channel/UCymWBXiV4f_N-_xPgwmpEQA/videos\n"
          ]
        },
        {
          "name": "stderr",
          "output_type": "stream",
          "text": [
            " 19%|█▉        | 377/1936 [32:20<2:11:24,  5.06s/it]"
          ]
        },
        {
          "name": "stdout",
          "output_type": "stream",
          "text": [
            "377 https://www.youtube.com/channel/UC4Oqg2xJLbOkGnTpn68pErA/videos\n"
          ]
        },
        {
          "name": "stderr",
          "output_type": "stream",
          "text": [
            " 20%|█▉        | 378/1936 [32:26<2:19:04,  5.36s/it]"
          ]
        },
        {
          "name": "stdout",
          "output_type": "stream",
          "text": [
            "378 https://www.youtube.com/channel/UCqzwimL_GVGjtJaDk7Vbfwg/videos\n"
          ]
        },
        {
          "name": "stderr",
          "output_type": "stream",
          "text": [
            " 20%|█▉        | 379/1936 [32:31<2:21:30,  5.45s/it]"
          ]
        },
        {
          "name": "stdout",
          "output_type": "stream",
          "text": [
            "379 https://www.youtube.com/channel/UCDbOXmGL7EkmOcnUb5Kki4A/videos\n"
          ]
        },
        {
          "name": "stderr",
          "output_type": "stream",
          "text": [
            " 20%|█▉        | 380/1936 [32:37<2:18:13,  5.33s/it]"
          ]
        },
        {
          "name": "stdout",
          "output_type": "stream",
          "text": [
            "380 https://www.youtube.com/channel/UCZh9vYZiCHUIttMd1KIqi2w/videos\n"
          ]
        },
        {
          "name": "stderr",
          "output_type": "stream",
          "text": [
            " 20%|█▉        | 381/1936 [32:42<2:19:05,  5.37s/it]"
          ]
        },
        {
          "name": "stdout",
          "output_type": "stream",
          "text": [
            "381 https://www.youtube.com/channel/UCF6XT8vGekOuAAPXVVq2eAw/videos\n"
          ]
        },
        {
          "name": "stderr",
          "output_type": "stream",
          "text": [
            " 20%|█▉        | 382/1936 [32:47<2:17:34,  5.31s/it]"
          ]
        },
        {
          "name": "stdout",
          "output_type": "stream",
          "text": [
            "382 https://www.youtube.com/channel/UCyEIUlSKbzCt3ElAsPFb7EQ/videos\n"
          ]
        },
        {
          "name": "stderr",
          "output_type": "stream",
          "text": [
            " 20%|█▉        | 383/1936 [32:52<2:17:17,  5.30s/it]"
          ]
        },
        {
          "name": "stdout",
          "output_type": "stream",
          "text": [
            "383 https://www.youtube.com/channel/UCufP12mAwmTzLD6oJANgxRw/videos\n"
          ]
        },
        {
          "name": "stderr",
          "output_type": "stream",
          "text": [
            " 20%|█▉        | 384/1936 [32:57<2:14:07,  5.19s/it]"
          ]
        },
        {
          "name": "stdout",
          "output_type": "stream",
          "text": [
            "384 https://www.youtube.com/channel/UCKHHX1o32Av-IYU4Qx7Q8OQ/videos\n"
          ]
        },
        {
          "name": "stderr",
          "output_type": "stream",
          "text": [
            " 20%|█▉        | 385/1936 [33:03<2:20:12,  5.42s/it]"
          ]
        },
        {
          "name": "stdout",
          "output_type": "stream",
          "text": [
            "385 https://www.youtube.com/channel/UC_t2hd58aqqf7ECCplJXS9w/videos\n"
          ]
        },
        {
          "name": "stderr",
          "output_type": "stream",
          "text": [
            " 20%|█▉        | 386/1936 [33:08<2:17:29,  5.32s/it]"
          ]
        },
        {
          "name": "stdout",
          "output_type": "stream",
          "text": [
            "386 https://www.youtube.com/channel/UCzMAqDi4M4CrwMSi_EnnV4g/videos\n"
          ]
        },
        {
          "name": "stderr",
          "output_type": "stream",
          "text": [
            " 20%|█▉        | 387/1936 [33:13<2:14:47,  5.22s/it]"
          ]
        },
        {
          "name": "stdout",
          "output_type": "stream",
          "text": [
            "387 https://www.youtube.com/channel/UC4i0dvptG3PokPjMx6r1zNQ/videos\n"
          ]
        },
        {
          "name": "stderr",
          "output_type": "stream",
          "text": [
            " 20%|██        | 388/1936 [33:18<2:12:39,  5.14s/it]"
          ]
        },
        {
          "name": "stdout",
          "output_type": "stream",
          "text": [
            "388 https://www.youtube.com/channel/UCLFaCqu7-o7NGqn_-uyKPBQ/videos\n"
          ]
        },
        {
          "name": "stderr",
          "output_type": "stream",
          "text": [
            " 20%|██        | 389/1936 [33:24<2:12:51,  5.15s/it]"
          ]
        },
        {
          "name": "stdout",
          "output_type": "stream",
          "text": [
            "389 https://www.youtube.com/channel/UC8pxlRLYmYPMctqHyM_-3Ow/videos\n"
          ]
        },
        {
          "name": "stderr",
          "output_type": "stream",
          "text": [
            " 20%|██        | 390/1936 [33:29<2:11:28,  5.10s/it]"
          ]
        },
        {
          "name": "stdout",
          "output_type": "stream",
          "text": [
            "390 https://www.youtube.com/channel/UCHlQPZM_5xu_3BCa_3cVHVw/videos\n"
          ]
        },
        {
          "name": "stderr",
          "output_type": "stream",
          "text": [
            " 20%|██        | 391/1936 [33:34<2:11:39,  5.11s/it]"
          ]
        },
        {
          "name": "stdout",
          "output_type": "stream",
          "text": [
            "391 https://www.youtube.com/channel/UCP1rKrteinsrN5yxtF435EA/videos\n"
          ]
        },
        {
          "name": "stderr",
          "output_type": "stream",
          "text": [
            " 20%|██        | 392/1936 [33:39<2:11:42,  5.12s/it]"
          ]
        },
        {
          "name": "stdout",
          "output_type": "stream",
          "text": [
            "392 https://www.youtube.com/channel/UCfrX6IN9jXjO87OF5LlZQUw/videos\n"
          ]
        },
        {
          "name": "stderr",
          "output_type": "stream",
          "text": [
            " 20%|██        | 393/1936 [33:44<2:12:47,  5.16s/it]"
          ]
        },
        {
          "name": "stdout",
          "output_type": "stream",
          "text": [
            "393 https://www.youtube.com/channel/UCfNUrgI9-Q5ySUJo2VUoX1Q/videos\n"
          ]
        },
        {
          "name": "stderr",
          "output_type": "stream",
          "text": [
            " 20%|██        | 394/1936 [33:49<2:12:21,  5.15s/it]"
          ]
        },
        {
          "name": "stdout",
          "output_type": "stream",
          "text": [
            "394 https://www.youtube.com/channel/UCeagfNQQZIQwA03Gvg4NPIA/videos\n"
          ]
        },
        {
          "name": "stderr",
          "output_type": "stream",
          "text": [
            " 20%|██        | 395/1936 [33:54<2:10:19,  5.07s/it]"
          ]
        },
        {
          "name": "stdout",
          "output_type": "stream",
          "text": [
            "395 https://www.youtube.com/channel/UCls1Y2LgkPk6t5TMFIKaoBQ/videos\n"
          ]
        },
        {
          "name": "stderr",
          "output_type": "stream",
          "text": [
            " 20%|██        | 396/1936 [33:59<2:09:31,  5.05s/it]"
          ]
        },
        {
          "name": "stdout",
          "output_type": "stream",
          "text": [
            "396 https://www.youtube.com/channel/UCQcxskNI68kTk_LKi3IGVCw/videos\n"
          ]
        },
        {
          "name": "stderr",
          "output_type": "stream",
          "text": [
            " 21%|██        | 397/1936 [34:04<2:12:16,  5.16s/it]"
          ]
        },
        {
          "name": "stdout",
          "output_type": "stream",
          "text": [
            "397 https://www.youtube.com/channel/UCYSFs_X0PYHlAnd-ywzMEZw/videos\n"
          ]
        },
        {
          "name": "stderr",
          "output_type": "stream",
          "text": [
            " 21%|██        | 398/1936 [34:10<2:13:30,  5.21s/it]"
          ]
        },
        {
          "name": "stdout",
          "output_type": "stream",
          "text": [
            "398 https://www.youtube.com/channel/UCL9oC0YZRwuyudZqUrgKw9w/videos\n"
          ]
        },
        {
          "name": "stderr",
          "output_type": "stream",
          "text": [
            " 21%|██        | 399/1936 [34:15<2:12:58,  5.19s/it]"
          ]
        },
        {
          "name": "stdout",
          "output_type": "stream",
          "text": [
            "399 https://www.youtube.com/channel/UCyInYXFnJQYbXmeAg5VqBxw/videos\n"
          ]
        },
        {
          "name": "stderr",
          "output_type": "stream",
          "text": [
            " 21%|██        | 400/1936 [34:20<2:14:18,  5.25s/it]"
          ]
        },
        {
          "name": "stdout",
          "output_type": "stream",
          "text": [
            "400 https://www.youtube.com/channel/UC2elIs5axg1VPuLCBv5AY6g/videos\n"
          ]
        },
        {
          "name": "stderr",
          "output_type": "stream",
          "text": [
            " 21%|██        | 401/1936 [34:25<2:12:39,  5.19s/it]"
          ]
        },
        {
          "name": "stdout",
          "output_type": "stream",
          "text": [
            "401 https://www.youtube.com/channel/UCJj2vuQIpFnk5pbTAtCi3yw/videos\n"
          ]
        },
        {
          "name": "stderr",
          "output_type": "stream",
          "text": [
            " 21%|██        | 402/1936 [34:30<2:11:06,  5.13s/it]"
          ]
        },
        {
          "name": "stdout",
          "output_type": "stream",
          "text": [
            "402 https://www.youtube.com/channel/UCta1OiMP2lG2gQvYHWfX-ww/videos\n"
          ]
        },
        {
          "name": "stderr",
          "output_type": "stream",
          "text": [
            " 21%|██        | 403/1936 [34:35<2:10:45,  5.12s/it]"
          ]
        },
        {
          "name": "stdout",
          "output_type": "stream",
          "text": [
            "403 https://www.youtube.com/channel/UCSWG-hKh0u9tFCoZMRfCfuA/videos\n"
          ]
        },
        {
          "name": "stderr",
          "output_type": "stream",
          "text": [
            " 21%|██        | 404/1936 [34:41<2:10:17,  5.10s/it]"
          ]
        },
        {
          "name": "stdout",
          "output_type": "stream",
          "text": [
            "404 https://www.youtube.com/channel/UCSCogaMMoxrDe43Cx_kB9cQ/videos\n"
          ]
        },
        {
          "name": "stderr",
          "output_type": "stream",
          "text": [
            " 21%|██        | 405/1936 [34:45<2:08:40,  5.04s/it]"
          ]
        },
        {
          "name": "stdout",
          "output_type": "stream",
          "text": [
            "405 https://www.youtube.com/channel/UCBm-EZFzeUx1GgJwHQHM_Iw/videos\n"
          ]
        },
        {
          "name": "stderr",
          "output_type": "stream",
          "text": [
            " 21%|██        | 406/1936 [34:51<2:09:17,  5.07s/it]"
          ]
        },
        {
          "name": "stdout",
          "output_type": "stream",
          "text": [
            "406 https://www.youtube.com/channel/UCqf_ytulb1FlLkV00KnKQPA/videos\n"
          ]
        },
        {
          "name": "stderr",
          "output_type": "stream",
          "text": [
            " 21%|██        | 407/1936 [34:56<2:09:13,  5.07s/it]"
          ]
        },
        {
          "name": "stdout",
          "output_type": "stream",
          "text": [
            "407 https://www.youtube.com/channel/UC2h_AGBYR3PUfeUuR-aw0Jw/videos\n"
          ]
        },
        {
          "name": "stderr",
          "output_type": "stream",
          "text": [
            " 21%|██        | 408/1936 [35:01<2:08:15,  5.04s/it]"
          ]
        },
        {
          "name": "stdout",
          "output_type": "stream",
          "text": [
            "408 https://www.youtube.com/channel/UCi60foKkkMcxUCJz6SJc-xg/videos\n"
          ]
        },
        {
          "name": "stderr",
          "output_type": "stream",
          "text": [
            " 21%|██        | 409/1936 [35:06<2:07:10,  5.00s/it]"
          ]
        },
        {
          "name": "stdout",
          "output_type": "stream",
          "text": [
            "409 https://www.youtube.com/channel/UCa-kEBq1e6-d9yo4JObrIIQ/videos\n"
          ]
        },
        {
          "name": "stderr",
          "output_type": "stream",
          "text": [
            " 21%|██        | 410/1936 [35:11<2:07:05,  5.00s/it]"
          ]
        },
        {
          "name": "stdout",
          "output_type": "stream",
          "text": [
            "410 https://www.youtube.com/channel/UCTdMHmzV9J5gihbNrnuqEvA/videos\n"
          ]
        },
        {
          "name": "stderr",
          "output_type": "stream",
          "text": [
            " 21%|██        | 411/1936 [35:15<2:06:38,  4.98s/it]"
          ]
        },
        {
          "name": "stdout",
          "output_type": "stream",
          "text": [
            "411 https://www.youtube.com/channel/UCmyT6Z0wxGmJeq-zTWo93yQ/videos\n"
          ]
        },
        {
          "name": "stderr",
          "output_type": "stream",
          "text": [
            " 21%|██▏       | 412/1936 [35:20<2:06:58,  5.00s/it]"
          ]
        },
        {
          "name": "stdout",
          "output_type": "stream",
          "text": [
            "412 https://www.youtube.com/channel/UCPSwJlFYIxSLptGeAtazjoQ/videos\n"
          ]
        },
        {
          "name": "stderr",
          "output_type": "stream",
          "text": [
            " 21%|██▏       | 413/1936 [35:26<2:07:44,  5.03s/it]"
          ]
        },
        {
          "name": "stdout",
          "output_type": "stream",
          "text": [
            "413 https://www.youtube.com/channel/UCCNq5BXVKebzYskxrt2HL7g/videos\n"
          ]
        },
        {
          "name": "stderr",
          "output_type": "stream",
          "text": [
            " 21%|██▏       | 414/1936 [35:31<2:07:31,  5.03s/it]"
          ]
        },
        {
          "name": "stdout",
          "output_type": "stream",
          "text": [
            "414 https://www.youtube.com/channel/UCBlrDQmlXSUbt2dmwvuC54A/videos\n"
          ]
        },
        {
          "name": "stderr",
          "output_type": "stream",
          "text": [
            " 21%|██▏       | 415/1936 [35:36<2:09:44,  5.12s/it]"
          ]
        },
        {
          "name": "stdout",
          "output_type": "stream",
          "text": [
            "415 https://www.youtube.com/channel/UCVut4hqvrjQC4qDE3oc5qig/videos\n"
          ]
        },
        {
          "name": "stderr",
          "output_type": "stream",
          "text": [
            " 21%|██▏       | 416/1936 [35:41<2:08:32,  5.07s/it]"
          ]
        },
        {
          "name": "stdout",
          "output_type": "stream",
          "text": [
            "416 https://www.youtube.com/channel/UCfXu21Xg3XzZ0iMVYPjaJuw/videos\n"
          ]
        },
        {
          "name": "stderr",
          "output_type": "stream",
          "text": [
            " 22%|██▏       | 417/1936 [35:46<2:07:35,  5.04s/it]"
          ]
        },
        {
          "name": "stdout",
          "output_type": "stream",
          "text": [
            "417 https://www.youtube.com/channel/UCG0skGGG4PEzfB4szKadCyA/videos\n"
          ]
        },
        {
          "name": "stderr",
          "output_type": "stream",
          "text": [
            " 22%|██▏       | 418/1936 [35:51<2:09:34,  5.12s/it]"
          ]
        },
        {
          "name": "stdout",
          "output_type": "stream",
          "text": [
            "418 https://www.youtube.com/channel/UCGyIKWpa4cbKJQIc2hNmVJA/videos\n"
          ]
        },
        {
          "name": "stderr",
          "output_type": "stream",
          "text": [
            " 22%|██▏       | 419/1936 [35:57<2:11:29,  5.20s/it]"
          ]
        },
        {
          "name": "stdout",
          "output_type": "stream",
          "text": [
            "419 https://www.youtube.com/channel/UCoahSCEMc0T0gjv5ILC_unw/videos\n"
          ]
        },
        {
          "name": "stderr",
          "output_type": "stream",
          "text": [
            " 22%|██▏       | 420/1936 [36:02<2:11:08,  5.19s/it]"
          ]
        },
        {
          "name": "stdout",
          "output_type": "stream",
          "text": [
            "420 https://www.youtube.com/channel/UCPMw_1TUgWi7HyQXEqlO8PQ/videos\n"
          ]
        },
        {
          "name": "stderr",
          "output_type": "stream",
          "text": [
            " 22%|██▏       | 421/1936 [36:07<2:11:21,  5.20s/it]"
          ]
        },
        {
          "name": "stdout",
          "output_type": "stream",
          "text": [
            "421 https://www.youtube.com/channel/UCXYohG8R1D5pQnu9i3lR2qg/videos\n"
          ]
        },
        {
          "name": "stderr",
          "output_type": "stream",
          "text": [
            " 22%|██▏       | 422/1936 [36:12<2:12:39,  5.26s/it]"
          ]
        },
        {
          "name": "stdout",
          "output_type": "stream",
          "text": [
            "422 https://www.youtube.com/channel/UC8cBqbVAQVltRE039s_H6nA/videos\n"
          ]
        },
        {
          "name": "stderr",
          "output_type": "stream",
          "text": [
            " 22%|██▏       | 423/1936 [36:17<2:11:15,  5.21s/it]"
          ]
        },
        {
          "name": "stdout",
          "output_type": "stream",
          "text": [
            "423 https://www.youtube.com/channel/UCecrP0p0FGOZlkfkVQkJzTw/videos\n"
          ]
        },
        {
          "name": "stderr",
          "output_type": "stream",
          "text": [
            " 22%|██▏       | 424/1936 [36:23<2:11:13,  5.21s/it]"
          ]
        },
        {
          "name": "stdout",
          "output_type": "stream",
          "text": [
            "424 https://www.youtube.com/channel/UCC61RqPUn-h8xB2QF1GNwvQ/videos\n"
          ]
        },
        {
          "name": "stderr",
          "output_type": "stream",
          "text": [
            " 22%|██▏       | 425/1936 [36:28<2:11:44,  5.23s/it]"
          ]
        },
        {
          "name": "stdout",
          "output_type": "stream",
          "text": [
            "425 https://www.youtube.com/channel/UC6XyPlX1h93Tfis_A1vWmFg/videos\n"
          ]
        },
        {
          "name": "stderr",
          "output_type": "stream",
          "text": [
            " 22%|██▏       | 426/1936 [36:34<2:15:11,  5.37s/it]"
          ]
        },
        {
          "name": "stdout",
          "output_type": "stream",
          "text": [
            "2주 전 2만\n",
            "4주 전 2만\n",
            "1개월 전 1.9만\n",
            "1개월 전 2.4만\n",
            "2개월 전 3.9만\n",
            "3개월 전 2.8만\n",
            "3개월 전 4.8만\n",
            "3개월 전 4.1만\n",
            "426 https://www.youtube.com/channel/UCRtuFvmxboi1KkrcN76w4Qw/videos\n"
          ]
        },
        {
          "name": "stderr",
          "output_type": "stream",
          "text": [
            " 22%|██▏       | 427/1936 [36:39<2:18:05,  5.49s/it]"
          ]
        },
        {
          "name": "stdout",
          "output_type": "stream",
          "text": [
            "427 https://www.youtube.com/channel/UCn-TT3wnd1aDgDKnD_VBb_A/videos\n"
          ]
        },
        {
          "name": "stderr",
          "output_type": "stream",
          "text": [
            " 22%|██▏       | 428/1936 [36:45<2:18:28,  5.51s/it]"
          ]
        },
        {
          "name": "stdout",
          "output_type": "stream",
          "text": [
            "2일 전 140\n",
            "9일 전 862\n",
            "4주 전 272\n",
            "1개월 전 276\n",
            "1개월 전 548\n",
            "2개월 전 750\n",
            "3개월 전 566\n",
            "428 https://www.youtube.com/channel/UCTWFsX4LqiPXmv6tsz9VszQ/videos\n"
          ]
        },
        {
          "name": "stderr",
          "output_type": "stream",
          "text": [
            " 22%|██▏       | 429/1936 [36:51<2:19:55,  5.57s/it]"
          ]
        },
        {
          "name": "stdout",
          "output_type": "stream",
          "text": [
            "3개월 전 6.2천\n",
            "429 https://www.youtube.com/channel/UCozuuEEitjQXtCzubNO0BGA/videos\n"
          ]
        },
        {
          "name": "stderr",
          "output_type": "stream",
          "text": [
            " 22%|██▏       | 430/1936 [36:56<2:21:12,  5.63s/it]"
          ]
        },
        {
          "name": "stdout",
          "output_type": "stream",
          "text": [
            "5일 전 2.6만\n",
            "7일 전 1만\n",
            "10일 전 3.7만\n",
            "13일 전 5.4만\n",
            "2주 전 3.8만\n",
            "3주 전 5.2만\n",
            "1개월 전 2.1천\n",
            "1개월 전 4.5천\n",
            "1개월 전 6.3만\n",
            "1개월 전 2.5만\n",
            "2개월 전 7.3천\n",
            "2개월 전 3천\n",
            "2개월 전 1.1만\n",
            "2개월 전 1.8만\n",
            "2개월 전 4.5만\n",
            "3개월 전 2.8만\n",
            "3개월 전 1.6만\n",
            "3개월 전 3.1만\n",
            "3개월 전 1.3만\n",
            "430 https://www.youtube.com/channel/UC5YzyNnENnHds4aVR1aIRqw/videos\n"
          ]
        },
        {
          "name": "stderr",
          "output_type": "stream",
          "text": [
            " 22%|██▏       | 431/1936 [37:02<2:21:56,  5.66s/it]"
          ]
        },
        {
          "name": "stdout",
          "output_type": "stream",
          "text": [
            "2일 전 3.1천\n",
            "4일 전 2만\n",
            "6일 전 8.4천\n",
            "13일 전 1만\n",
            "2주 전 1.2만\n",
            "2주 전 1.1만\n",
            "3주 전 1.8만\n",
            "3주 전 2.9만\n",
            "1개월 전 1.9만\n",
            "1개월 전 1.4만\n",
            "1개월 전 2.8만\n",
            "1개월 전 14만\n",
            "1개월 전 1.4만\n",
            "1개월 전 1.6만\n",
            "1개월 전 1.3만\n",
            "1개월 전 3.1만\n",
            "2개월 전 2.6만\n",
            "2개월 전 2.1만\n",
            "2개월 전 5.9만\n",
            "2개월 전 4.5만\n",
            "2개월 전 2만\n",
            "2개월 전 2.4만\n",
            "2개월 전 1.9만\n",
            "3개월 전 5.5만\n",
            "3개월 전 5.3만\n",
            "3개월 전 3.9만\n",
            "3개월 전 6.6만\n",
            "3개월 전 9.9만\n",
            "3개월 전 9.7만\n",
            "3개월 전 8만\n",
            "431 https://www.youtube.com/channel/UCHysRIIDpEywTmWl44ZV5Dw/videos\n"
          ]
        },
        {
          "name": "stderr",
          "output_type": "stream",
          "text": [
            " 22%|██▏       | 432/1936 [37:08<2:21:18,  5.64s/it]"
          ]
        },
        {
          "name": "stdout",
          "output_type": "stream",
          "text": [
            "2일 전 2.7만\n",
            "4일 전 3.1만\n",
            "6일 전 3.5만\n",
            "8일 전 4.1만\n",
            "10일 전 3.8만\n",
            "12일 전 2.4만\n",
            "2주 전 3.3만\n",
            "2주 전 2.7만\n",
            "2주 전 4.8만\n",
            "3주 전 4만\n",
            "3주 전 2.2만\n",
            "3주 전 3.4만\n",
            "4주 전 6.2만\n",
            "4주 전 4.9만\n",
            "1개월 전 3.1만\n",
            "1개월 전 2.9만\n",
            "1개월 전 2.9만\n",
            "1개월 전 3만\n",
            "1개월 전 3.4만\n",
            "1개월 전 4.9만\n",
            "1개월 전 3.5만\n",
            "1개월 전 3.5만\n",
            "1개월 전 3.4만\n",
            "1개월 전 2.8만\n",
            "1개월 전 3만\n",
            "1개월 전 4만\n",
            "1개월 전 4.1만\n",
            "1개월 전 4.6만\n",
            "2개월 전 2.8만\n",
            "2개월 전 4.7만\n",
            "432 https://www.youtube.com/channel/UCr6kh7Iujsdqdqo_rp_sKrA/videos\n"
          ]
        },
        {
          "name": "stderr",
          "output_type": "stream",
          "text": [
            " 22%|██▏       | 433/1936 [37:13<2:21:12,  5.64s/it]"
          ]
        },
        {
          "name": "stdout",
          "output_type": "stream",
          "text": [
            "16시간 전 1.2만\n",
            "4일 전 1.5만\n",
            "5일 전 1.3만\n",
            "7일 전 2.3만\n",
            "12일 전 1.6만\n",
            "13일 전 1.9만\n",
            "2주 전 2.6만\n",
            "2주 전 1.6만\n",
            "2주 전 2.9만\n",
            "3주 전 5.6천\n",
            "3주 전 1.7만\n",
            "4주 전 2.5만\n",
            "1개월 전 1.5만\n",
            "1개월 전 1.4만\n",
            "1개월 전 3.8만\n",
            "1개월 전 1.7만\n",
            "1개월 전 1.1만\n",
            "1개월 전 2.2만\n",
            "1개월 전 2.5만\n",
            "1개월 전 2.3만\n",
            "1개월 전 2만\n",
            "1개월 전 2만\n",
            "1개월 전 2.2만\n",
            "2개월 전 2만\n",
            "2개월 전 2.7만\n",
            "2개월 전 1.8만\n",
            "2개월 전 1.8만\n",
            "2개월 전 1.6만\n",
            "2개월 전 2.9만\n",
            "433 https://www.youtube.com/channel/UClJ9CeMHx3ypdPckkYTobEA/videos\n"
          ]
        },
        {
          "name": "stderr",
          "output_type": "stream",
          "text": [
            " 22%|██▏       | 434/1936 [37:19<2:20:46,  5.62s/it]"
          ]
        },
        {
          "name": "stdout",
          "output_type": "stream",
          "text": [
            "4일 전 7.8천\n",
            "1개월 전 9.6천\n",
            "2개월 전 1.9만\n",
            "2개월 전 8.1천\n",
            "3개월 전 1.5만\n",
            "3개월 전 1.1만\n",
            "434 https://www.youtube.com/channel/UC2KFBTZ9d-mOa0zCytAZRMw/videos\n"
          ]
        },
        {
          "name": "stderr",
          "output_type": "stream",
          "text": [
            " 22%|██▏       | 435/1936 [37:24<2:19:12,  5.56s/it]"
          ]
        },
        {
          "name": "stdout",
          "output_type": "stream",
          "text": [
            "5일 전 5만\n",
            "2주 전 2.8만\n",
            "3주 전 23만\n",
            "1개월 전 58만\n",
            "2개월 전 9.6만\n",
            "3개월 전 42만\n",
            "3개월 전 13만\n",
            "435 https://www.youtube.com/channel/UC6vAqaWrNipKV3qVfpttoXw/videos\n"
          ]
        },
        {
          "name": "stderr",
          "output_type": "stream",
          "text": [
            " 23%|██▎       | 436/1936 [37:30<2:18:34,  5.54s/it]"
          ]
        },
        {
          "name": "stdout",
          "output_type": "stream",
          "text": [
            "4일 전 852\n",
            "8일 전 1.1천\n",
            "2주 전 1.4천\n",
            "3주 전 963\n",
            "4주 전 2.4천\n",
            "1개월 전 2.3천\n",
            "1개월 전 1천\n",
            "1개월 전 1.5천\n",
            "1개월 전 2.5천\n",
            "2개월 전 2.1천\n",
            "2개월 전 7.8천\n",
            "2개월 전 3.4천\n",
            "2개월 전 4.7천\n",
            "3개월 전 1.6천\n",
            "3개월 전 1.2천\n",
            "3개월 전 1.9천\n",
            "3개월 전 1.6천\n",
            "436 https://www.youtube.com/channel/UCeKBFsBhdGPDGlJvetF6pBA/videos\n"
          ]
        },
        {
          "name": "stderr",
          "output_type": "stream",
          "text": [
            " 23%|██▎       | 437/1936 [37:35<2:18:10,  5.53s/it]"
          ]
        },
        {
          "name": "stdout",
          "output_type": "stream",
          "text": [
            "6일 전 1.8만\n",
            "3주 전 1.1만\n",
            "1개월 전 2.9만\n",
            "1개월 전 2.8만\n",
            "1개월 전 2.4만\n",
            "1개월 전 2.1만\n",
            "2개월 전 1.9만\n",
            "2개월 전 2.5만\n",
            "3개월 전 2.7만\n",
            "3개월 전 2.5만\n",
            "3개월 전 2.7만\n",
            "3개월 전 2.3만\n",
            "3개월 전 2.7만\n",
            "437 https://www.youtube.com/channel/UCdF0eCyf5np3lPO4y1fJVdw/videos\n"
          ]
        },
        {
          "name": "stderr",
          "output_type": "stream",
          "text": [
            " 23%|██▎       | 438/1936 [37:41<2:16:53,  5.48s/it]"
          ]
        },
        {
          "name": "stdout",
          "output_type": "stream",
          "text": [
            "1일 전 1.8만\n",
            "4일 전 2.2만\n",
            "6일 전 4만\n",
            "8일 전 4.4만\n",
            "11일 전 3.4만\n",
            "13일 전 4.1만\n",
            "2주 전 3.7만\n",
            "2주 전 4.2만\n",
            "2주 전 26만\n",
            "3주 전 4.6만\n",
            "3주 전 2.6만\n",
            "3주 전 3.4만\n",
            "4주 전 3만\n",
            "1개월 전 2.4만\n",
            "1개월 전 3.4만\n",
            "1개월 전 2만\n",
            "1개월 전 3.3만\n",
            "1개월 전 3.8만\n",
            "1개월 전 4.8만\n",
            "1개월 전 3.8만\n",
            "1개월 전 6.5만\n",
            "1개월 전 3.4만\n",
            "1개월 전 2.8만\n",
            "1개월 전 2.6만\n",
            "1개월 전 2.7만\n",
            "1개월 전 4만\n",
            "1개월 전 3.1만\n",
            "1개월 전 2.4만\n",
            "2개월 전 2.7만\n",
            "2개월 전 6.9만\n",
            "438 https://www.youtube.com/channel/UCd9NqAiVQS2Gx__T68i_tFw/videos\n"
          ]
        },
        {
          "name": "stderr",
          "output_type": "stream",
          "text": [
            " 23%|██▎       | 439/1936 [37:46<2:17:06,  5.50s/it]"
          ]
        },
        {
          "name": "stdout",
          "output_type": "stream",
          "text": [
            "2일 전 2.5만\n",
            "4일 전 2.5만\n",
            "4일 전 3.8천\n",
            "5일 전 2.2만\n",
            "6일 전 4만\n",
            "7일 전 6.9천\n",
            "11일 전 9.5천\n",
            "13일 전 5.4천\n",
            "2주 전 7.9천\n",
            "2주 전 6천\n",
            "2주 전 1.4천\n",
            "2주 전 1.3만\n",
            "2주 전 8.5천\n",
            "3주 전 1.2만\n",
            "3주 전 1만\n",
            "3주 전 4.3천\n",
            "3주 전 6.5천\n",
            "3주 전 4.6천\n",
            "1개월 전 1.6만\n",
            "1개월 전 1.1만\n",
            "1개월 전 8.8천\n",
            "1개월 전 4.7천\n",
            "1개월 전 3천\n",
            "1개월 전 4.8천\n",
            "1개월 전 7.1천\n",
            "1개월 전 4.8천\n",
            "1개월 전 7.8천\n",
            "1개월 전 5천\n",
            "1개월 전 2.3천\n",
            "1개월 전 7.3천\n",
            "439 https://www.youtube.com/channel/UC4hIUghptr0qOEtm0JxyI9w/videos\n"
          ]
        },
        {
          "name": "stderr",
          "output_type": "stream",
          "text": [
            " 23%|██▎       | 440/1936 [37:51<2:09:57,  5.21s/it]"
          ]
        },
        {
          "name": "stdout",
          "output_type": "stream",
          "text": [
            "440 https://www.youtube.com/channel/UCysSC6UjONpWKMbBupJZjpg/videos\n"
          ]
        },
        {
          "name": "stderr",
          "output_type": "stream",
          "text": [
            " 23%|██▎       | 441/1936 [37:56<2:12:01,  5.30s/it]"
          ]
        },
        {
          "name": "stdout",
          "output_type": "stream",
          "text": [
            "1일 전 2.2만\n",
            "4일 전 2.7만\n",
            "8일 전 2.5만\n",
            "12일 전 2.8만\n",
            "2주 전 4.2만\n",
            "2주 전 3.4만\n",
            "3주 전 14만\n",
            "3주 전 2.7만\n",
            "1개월 전 4.6만\n",
            "1개월 전 2.9만\n",
            "1개월 전 3.4만\n",
            "1개월 전 2.5만\n",
            "1개월 전 4.4만\n",
            "1개월 전 17만\n",
            "1개월 전 3.5만\n",
            "1개월 전 11만\n",
            "1개월 전 5.2만\n",
            "2개월 전 3.7만\n",
            "2개월 전 6.1만\n",
            "2개월 전 6.2만\n",
            "2개월 전 2.8만\n",
            "2개월 전 10만\n",
            "2개월 전 5.4만\n",
            "2개월 전 4만\n",
            "2개월 전 2.6만\n",
            "3개월 전 3.4만\n",
            "3개월 전 6.3만\n",
            "3개월 전 6.7만\n",
            "3개월 전 4.1만\n",
            "3개월 전 10만\n",
            "441 https://www.youtube.com/channel/UCg3fbghVDyzdmkJBR54VMjg/videos\n"
          ]
        },
        {
          "name": "stderr",
          "output_type": "stream",
          "text": [
            " 23%|██▎       | 442/1936 [38:02<2:12:50,  5.34s/it]"
          ]
        },
        {
          "name": "stdout",
          "output_type": "stream",
          "text": [
            "2일 전 2.2만\n",
            "10일 전 3.1만\n",
            "13일 전 2.8만\n",
            "2주 전 3.1만\n",
            "4주 전 3만\n",
            "1개월 전 3.1만\n",
            "1개월 전 3.7만\n",
            "1개월 전 3.2만\n",
            "1개월 전 2.9만\n",
            "1개월 전 3만\n",
            "2개월 전 3.2만\n",
            "2개월 전 5.9만\n",
            "2개월 전 3.6만\n",
            "2개월 전 3.8만\n",
            "3개월 전 4.2만\n",
            "3개월 전 6.3만\n",
            "3개월 전 2.7만\n",
            "3개월 전 3.6만\n",
            "3개월 전 3만\n",
            "442 https://www.youtube.com/channel/UCIDurmDCsKzsh4BDk5wYS_A/videos\n"
          ]
        },
        {
          "name": "stderr",
          "output_type": "stream",
          "text": [
            " 23%|██▎       | 443/1936 [38:08<2:15:43,  5.45s/it]"
          ]
        },
        {
          "name": "stdout",
          "output_type": "stream",
          "text": [
            "4주 전 1.9천\n",
            "1개월 전 3.8천\n",
            "2개월 전 7.1천\n",
            "443 https://www.youtube.com/channel/UCkvz_CZlthtVo7E2sGa43cg/videos\n"
          ]
        },
        {
          "name": "stderr",
          "output_type": "stream",
          "text": [
            " 23%|██▎       | 444/1936 [38:13<2:18:08,  5.56s/it]"
          ]
        },
        {
          "name": "stdout",
          "output_type": "stream",
          "text": [
            "4일 전 8.4만\n",
            "10일 전 7만\n",
            "13일 전 7.3만\n",
            "13일 전 10만\n",
            "2주 전 4.7만\n",
            "3주 전 4.9만\n",
            "3주 전 14만\n",
            "1개월 전 31만\n",
            "1개월 전 30만\n",
            "1개월 전 56만\n",
            "1개월 전 14만\n",
            "1개월 전 23만\n",
            "1개월 전 5.7만\n",
            "1개월 전 6.9만\n",
            "1개월 전 11만\n",
            "2개월 전 11만\n",
            "2개월 전 8.9만\n",
            "2개월 전 16만\n",
            "2개월 전 15만\n",
            "2개월 전 16만\n",
            "2개월 전 27만\n",
            "2개월 전 17만\n",
            "2개월 전 10만\n",
            "2개월 전 11만\n",
            "3개월 전 11만\n",
            "3개월 전 7.3만\n",
            "3개월 전 5.2만\n",
            "3개월 전 6.9만\n",
            "3개월 전 7.3만\n",
            "3개월 전 8.9만\n",
            "444 https://www.youtube.com/channel/UCuXbEZBpB681TrXAeusmHrQ/videos\n"
          ]
        },
        {
          "name": "stderr",
          "output_type": "stream",
          "text": [
            " 23%|██▎       | 445/1936 [38:19<2:19:02,  5.60s/it]"
          ]
        },
        {
          "name": "stdout",
          "output_type": "stream",
          "text": [
            "4주 전 18만\n",
            "1개월 전 5.8만\n",
            "1개월 전 9.2천\n",
            "1개월 전 2.1만\n",
            "1개월 전 6.3만\n",
            "2개월 전 1.5만\n",
            "3개월 전 8.6만\n",
            "3개월 전 4.9만\n",
            "445 https://www.youtube.com/channel/UCenG5DES1t6SYGrgzGNzWzQ/videos\n"
          ]
        },
        {
          "name": "stderr",
          "output_type": "stream",
          "text": [
            " 23%|██▎       | 446/1936 [38:26<2:26:00,  5.88s/it]"
          ]
        },
        {
          "name": "stdout",
          "output_type": "stream",
          "text": [
            "1일 전 7천\n",
            "4일 전 1.1만\n",
            "6일 전 8.7천\n",
            "2주 전 1만\n",
            "3주 전 6천\n",
            "3주 전 1.6만\n",
            "4주 전 1.4만\n",
            "1개월 전 1.6만\n",
            "1개월 전 9천\n",
            "1개월 전 1만\n",
            "1개월 전 1.2만\n",
            "1개월 전 1.5만\n",
            "1개월 전 1.4만\n",
            "1개월 전 9.4천\n",
            "1개월 전 1만\n",
            "2개월 전 1.3만\n",
            "2개월 전 1.3만\n",
            "2개월 전 1.8만\n",
            "2개월 전 1.6만\n",
            "2개월 전 1.8만\n",
            "2개월 전 1.8만\n",
            "3개월 전 30만\n",
            "3개월 전 1.7만\n",
            "3개월 전 1.3만\n",
            "3개월 전 16만\n",
            "3개월 전 1만\n",
            "3개월 전 2.3만\n",
            "3개월 전 1.8만\n",
            "446 https://www.youtube.com/channel/UC6OEwzhsS9Kv6ycYKTBrh6w/videos\n"
          ]
        },
        {
          "name": "stderr",
          "output_type": "stream",
          "text": [
            " 23%|██▎       | 447/1936 [38:31<2:24:59,  5.84s/it]"
          ]
        },
        {
          "name": "stdout",
          "output_type": "stream",
          "text": [
            "18시간 전 1.1만\n",
            "4일 전 1.2만\n",
            "12일 전 7.7천\n",
            "2주 전 5.6만\n",
            "3주 전 2.1만\n",
            "1개월 전 2.3만\n",
            "1개월 전 1.7만\n",
            "2개월 전 2만\n",
            "2개월 전 2.6만\n",
            "3개월 전 2.5만\n",
            "447 https://www.youtube.com/channel/UCm_D8d0etZSBaQ1LnoI9HuQ/videos\n"
          ]
        },
        {
          "name": "stderr",
          "output_type": "stream",
          "text": [
            " 23%|██▎       | 448/1936 [38:37<2:24:58,  5.85s/it]"
          ]
        },
        {
          "name": "stdout",
          "output_type": "stream",
          "text": [
            "448 https://www.youtube.com/channel/UC2lQ811Jqf1Iop9MWQ_yrNA/videos\n"
          ]
        },
        {
          "name": "stderr",
          "output_type": "stream",
          "text": [
            " 23%|██▎       | 449/1936 [38:43<2:23:56,  5.81s/it]"
          ]
        },
        {
          "name": "stdout",
          "output_type": "stream",
          "text": [
            "4일 전 6.9만\n",
            "12일 전 4만\n",
            "2주 전 5.1만\n",
            "3주 전 6.1만\n",
            "1개월 전 6.4만\n",
            "1개월 전 7.9만\n",
            "1개월 전 5.4만\n",
            "1개월 전 8.7만\n",
            "1개월 전 10만\n",
            "2개월 전 5.7만\n",
            "2개월 전 7.7만\n",
            "2개월 전 12만\n",
            "3개월 전 13만\n",
            "449 https://www.youtube.com/channel/UCSD0MKMFT0bZP4jj6c5ihMw/videos\n"
          ]
        },
        {
          "name": "stderr",
          "output_type": "stream",
          "text": [
            " 23%|██▎       | 450/1936 [38:49<2:23:00,  5.77s/it]"
          ]
        },
        {
          "name": "stdout",
          "output_type": "stream",
          "text": [
            "20시간 전 3만\n",
            "11일 전 12만\n",
            "3주 전 15만\n",
            "1개월 전 18만\n",
            "1개월 전 11만\n",
            "1개월 전 21만\n",
            "1개월 전 12만\n",
            "2개월 전 23만\n",
            "2개월 전 28만\n",
            "2개월 전 19만\n",
            "3개월 전 23만\n",
            "3개월 전 25만\n",
            "3개월 전 9.3만\n",
            "450 https://www.youtube.com/channel/UCu7siclC5EAyXjNya3y4chQ/videos\n"
          ]
        },
        {
          "name": "stderr",
          "output_type": "stream",
          "text": [
            " 23%|██▎       | 451/1936 [38:54<2:23:57,  5.82s/it]"
          ]
        },
        {
          "name": "stdout",
          "output_type": "stream",
          "text": [
            "451 https://www.youtube.com/channel/UCgr_2yzDXL34EwXMEHEYVSg/videos\n"
          ]
        },
        {
          "name": "stderr",
          "output_type": "stream",
          "text": [
            " 23%|██▎       | 452/1936 [39:00<2:25:16,  5.87s/it]"
          ]
        },
        {
          "name": "stdout",
          "output_type": "stream",
          "text": [
            "6일 전 8.3만\n",
            "13일 전 5.2만\n",
            "2주 전 7.3만\n",
            "1개월 전 21만\n",
            "1개월 전 7.3만\n",
            "1개월 전 19만\n",
            "1개월 전 10만\n",
            "1개월 전 10만\n",
            "2개월 전 15만\n",
            "2개월 전 15만\n",
            "2개월 전 11만\n",
            "2개월 전 8.3만\n",
            "3개월 전 15만\n",
            "3개월 전 8.9만\n",
            "3개월 전 16만\n",
            "3개월 전 41만\n",
            "452 https://www.youtube.com/channel/UCnv3jKQ1xEc15SRWhyIIgjg/videos\n"
          ]
        },
        {
          "name": "stderr",
          "output_type": "stream",
          "text": [
            " 23%|██▎       | 453/1936 [39:06<2:26:03,  5.91s/it]"
          ]
        },
        {
          "name": "stdout",
          "output_type": "stream",
          "text": [
            "1일 전 1.2만\n",
            "8일 전 1.3만\n",
            "2주 전 2.6만\n",
            "3주 전 3.9만\n",
            "1개월 전 1.9만\n",
            "1개월 전 2.3만\n",
            "1개월 전 2.6만\n",
            "1개월 전 1.5만\n",
            "2개월 전 1.3만\n",
            "2개월 전 5.7만\n",
            "3개월 전 7.5만\n",
            "3개월 전 6.6만\n",
            "3개월 전 3.2만\n",
            "3개월 전 2.1만\n",
            "453 https://www.youtube.com/channel/UCovVRKbRSpl6VaUbOYuvLAw/videos\n"
          ]
        },
        {
          "name": "stderr",
          "output_type": "stream",
          "text": [
            " 23%|██▎       | 454/1936 [39:13<2:31:38,  6.14s/it]"
          ]
        },
        {
          "name": "stdout",
          "output_type": "stream",
          "text": [
            "20시간 전 12만\n",
            "2일 전 18만\n",
            "4일 전 10만\n",
            "7일 전 17만\n",
            "9일 전 19만\n",
            "11일 전 19만\n",
            "2주 전 11만\n",
            "2주 전 28만\n",
            "2주 전 8.3만\n",
            "3주 전 24만\n",
            "3주 전 23만\n",
            "3주 전 14만\n",
            "4주 전 13만\n",
            "4주 전 29만\n",
            "1개월 전 12만\n",
            "1개월 전 46만\n",
            "1개월 전 16만\n",
            "1개월 전 15만\n",
            "1개월 전 28만\n",
            "1개월 전 27만\n",
            "1개월 전 27만\n",
            "1개월 전 28만\n",
            "1개월 전 17만\n",
            "1개월 전 20만\n",
            "1개월 전 19만\n",
            "1개월 전 15만\n",
            "1개월 전 15만\n",
            "2개월 전 15만\n",
            "2개월 전 21만\n",
            "454 https://www.youtube.com/channel/UCYpoXjYbdw8zWAHWVm01tzw/videos\n"
          ]
        },
        {
          "name": "stderr",
          "output_type": "stream",
          "text": [
            " 24%|██▎       | 455/1936 [39:19<2:29:44,  6.07s/it]"
          ]
        },
        {
          "name": "stdout",
          "output_type": "stream",
          "text": [
            "455 https://www.youtube.com/channel/UCVXx89z5j3gkQMGScNqmWjw/videos\n"
          ]
        },
        {
          "name": "stderr",
          "output_type": "stream",
          "text": [
            " 24%|██▎       | 456/1936 [39:25<2:30:44,  6.11s/it]"
          ]
        },
        {
          "name": "stdout",
          "output_type": "stream",
          "text": [
            "6시간 전 1.3만\n",
            "1일 전 5.8만\n",
            "2일 전 8.8만\n",
            "3일 전 16만\n",
            "4일 전 1.3만\n",
            "6일 전 41만\n",
            "7일 전 32만\n",
            "8일 전 13만\n",
            "9일 전 34만\n",
            "10일 전 6.1만\n",
            "11일 전 11만\n",
            "13일 전 39만\n",
            "2주 전 6.3만\n",
            "2주 전 3.7만\n",
            "2주 전 50만\n",
            "2주 전 15만\n",
            "3주 전 95만\n",
            "3주 전 21만\n",
            "3주 전 19만\n",
            "3주 전 20만\n",
            "3주 전 24만\n",
            "3주 전 38만\n",
            "4주 전 47만\n",
            "4주 전 45만\n",
            "1개월 전 11만\n",
            "1개월 전 15만\n",
            "1개월 전 31만\n",
            "1개월 전 50만\n",
            "1개월 전 81만\n",
            "456 https://www.youtube.com/channel/UCXYf2FVyWJHeBbie508Q4gQ/videos\n"
          ]
        },
        {
          "name": "stderr",
          "output_type": "stream",
          "text": [
            " 24%|██▎       | 457/1936 [39:32<2:32:19,  6.18s/it]"
          ]
        },
        {
          "name": "stdout",
          "output_type": "stream",
          "text": [
            "10일 전 4.5천\n",
            "1개월 전 1만\n",
            "2개월 전 7.9천\n",
            "457 https://www.youtube.com/channel/UCkL84edpNrmASTmaTPuCMAw/videos\n"
          ]
        },
        {
          "name": "stderr",
          "output_type": "stream",
          "text": [
            " 24%|██▎       | 458/1936 [39:38<2:31:03,  6.13s/it]"
          ]
        },
        {
          "name": "stdout",
          "output_type": "stream",
          "text": [
            "1일 전 13만\n",
            "3일 전 19만\n",
            "6일 전 25만\n",
            "8일 전 16만\n",
            "10일 전 18만\n",
            "12일 전 15만\n",
            "2주 전 14만\n",
            "2주 전 17만\n",
            "2주 전 15만\n",
            "2주 전 19만\n",
            "3주 전 20만\n",
            "3주 전 27만\n",
            "3주 전 16만\n",
            "4주 전 35만\n",
            "4주 전 18만\n",
            "1개월 전 16만\n",
            "1개월 전 18만\n",
            "1개월 전 27만\n",
            "1개월 전 19만\n",
            "1개월 전 12만\n",
            "1개월 전 14만\n",
            "1개월 전 18만\n",
            "1개월 전 21만\n",
            "1개월 전 19만\n",
            "1개월 전 23만\n",
            "1개월 전 28만\n",
            "1개월 전 54만\n",
            "1개월 전 23만\n",
            "1개월 전 13만\n",
            "2개월 전 16만\n",
            "458 https://www.youtube.com/channel/UCGOYrCwp_ks0b4f6XQwaS4Q/videos\n"
          ]
        },
        {
          "name": "stderr",
          "output_type": "stream",
          "text": [
            " 24%|██▎       | 459/1936 [39:44<2:36:27,  6.36s/it]"
          ]
        },
        {
          "name": "stdout",
          "output_type": "stream",
          "text": [
            "21시간 전 2.9만\n",
            "2일 전 4.9만\n",
            "5일 전 4.8만\n",
            "7일 전 5.6만\n",
            "9일 전 6.9만\n",
            "12일 전 3.7만\n",
            "2주 전 3.9만\n",
            "2주 전 10만\n",
            "2주 전 11만\n",
            "3주 전 5.4만\n",
            "3주 전 12만\n",
            "4주 전 6.4만\n",
            "4주 전 5.3만\n",
            "1개월 전 8.3만\n",
            "1개월 전 7.3만\n",
            "1개월 전 7.1만\n",
            "1개월 전 6.1만\n",
            "1개월 전 19만\n",
            "1개월 전 6.6만\n",
            "1개월 전 11만\n",
            "1개월 전 7.2만\n",
            "1개월 전 12만\n",
            "1개월 전 10만\n",
            "1개월 전 9.1만\n",
            "1개월 전 14만\n",
            "1개월 전 12만\n",
            "2개월 전 8만\n",
            "2개월 전 5.4만\n",
            "2개월 전 6.8만\n",
            "459 https://www.youtube.com/channel/UC5ESn2bCOrBg9b-GZwmWUWg/videos\n"
          ]
        },
        {
          "name": "stderr",
          "output_type": "stream",
          "text": [
            " 24%|██▍       | 460/1936 [39:50<2:31:33,  6.16s/it]"
          ]
        },
        {
          "name": "stdout",
          "output_type": "stream",
          "text": [
            "3일 전 4.8만\n",
            "3주 전 8만\n",
            "1개월 전 7.7만\n",
            "2개월 전 5.5만\n",
            "2개월 전 3.9만\n",
            "3개월 전 5.8만\n",
            "3개월 전 4.3만\n",
            "460 https://www.youtube.com/channel/UCQjwzV65dUP7Ac7nuGbtpuQ/videos\n"
          ]
        },
        {
          "name": "stderr",
          "output_type": "stream",
          "text": [
            " 24%|██▍       | 461/1936 [39:56<2:30:56,  6.14s/it]"
          ]
        },
        {
          "name": "stdout",
          "output_type": "stream",
          "text": [
            "4일 전 1만\n",
            "2주 전 1.6만\n",
            "2주 전 3.4천\n",
            "3주 전 7.6천\n",
            "1개월 전 1.1만\n",
            "1개월 전 1.6만\n",
            "1개월 전 1.5만\n",
            "2개월 전 1.6만\n",
            "2개월 전 1.3만\n",
            "2개월 전 3만\n",
            "3개월 전 6천\n",
            "3개월 전 1.5만\n",
            "3개월 전 9.3천\n",
            "461 https://www.youtube.com/channel/UCQb2SRRFEODl1bygGiMJGlg/videos\n"
          ]
        },
        {
          "name": "stderr",
          "output_type": "stream",
          "text": [
            " 24%|██▍       | 462/1936 [40:02<2:29:10,  6.07s/it]"
          ]
        },
        {
          "name": "stdout",
          "output_type": "stream",
          "text": [
            "2일 전 3.7천\n",
            "8일 전 1.4만\n",
            "1개월 전 4.3천\n",
            "2개월 전 2.9만\n",
            "2개월 전 1만\n",
            "3개월 전 1.9만\n",
            "3개월 전 1.5만\n",
            "462 https://www.youtube.com/channel/UCnGn6VU9mGPSKoymBBMeZUw/videos\n"
          ]
        },
        {
          "name": "stderr",
          "output_type": "stream",
          "text": [
            " 24%|██▍       | 463/1936 [40:08<2:26:57,  5.99s/it]"
          ]
        },
        {
          "name": "stdout",
          "output_type": "stream",
          "text": [
            "463 https://www.youtube.com/channel/UCoxHrwz4rahzGEZlwOKwvIQ/videos\n"
          ]
        },
        {
          "name": "stderr",
          "output_type": "stream",
          "text": [
            " 24%|██▍       | 464/1936 [40:14<2:28:10,  6.04s/it]"
          ]
        },
        {
          "name": "stdout",
          "output_type": "stream",
          "text": [
            "2일 전 983\n",
            "11일 전 1.4천\n",
            "2주 전 2.3천\n",
            "1개월 전 1.6천\n",
            "1개월 전 1.3천\n",
            "1개월 전 1.4천\n",
            "2개월 전 1.4천\n",
            "464 https://www.youtube.com/channel/UCFwSnMktwdsPipce5xEmguA/videos\n"
          ]
        },
        {
          "name": "stderr",
          "output_type": "stream",
          "text": [
            " 24%|██▍       | 465/1936 [40:20<2:28:51,  6.07s/it]"
          ]
        },
        {
          "name": "stdout",
          "output_type": "stream",
          "text": [
            "6일 전 8.2천\n",
            "12일 전 1.1만\n",
            "3주 전 1.3만\n",
            "4주 전 7.5천\n",
            "1개월 전 1.7만\n",
            "1개월 전 1.9만\n",
            "1개월 전 2.2만\n",
            "2개월 전 3.3만\n",
            "2개월 전 14만\n",
            "2개월 전 1.3만\n",
            "2개월 전 2.2만\n",
            "2개월 전 1.1만\n",
            "3개월 전 3만\n",
            "3개월 전 4.1만\n",
            "3개월 전 3.8만\n",
            "465 https://www.youtube.com/channel/UCp_eoM3BXcnCGOLzGHrCWFw/videos\n"
          ]
        },
        {
          "name": "stderr",
          "output_type": "stream",
          "text": [
            " 24%|██▍       | 466/1936 [40:26<2:28:55,  6.08s/it]"
          ]
        },
        {
          "name": "stdout",
          "output_type": "stream",
          "text": [
            "11일 전 1.7만\n",
            "11일 전 1.9천\n",
            "2주 전 19만\n",
            "4주 전 6.2천\n",
            "1개월 전 5.4천\n",
            "1개월 전 2.9천\n",
            "2개월 전 1.6만\n",
            "2개월 전 908\n",
            "3개월 전 3.6천\n",
            "3개월 전 1.3천\n",
            "466 https://www.youtube.com/channel/UCWcL3s-lBPmr6Izy79-WpQg/videos\n"
          ]
        },
        {
          "name": "stderr",
          "output_type": "stream",
          "text": [
            " 24%|██▍       | 467/1936 [40:32<2:27:57,  6.04s/it]"
          ]
        },
        {
          "name": "stdout",
          "output_type": "stream",
          "text": [
            "11일 전 9.2천\n",
            "1개월 전 1.4만\n",
            "1개월 전 1.3만\n",
            "1개월 전 1.4만\n",
            "3개월 전 1.6만\n",
            "3개월 전 16만\n",
            "3개월 전 1.7만\n",
            "467 https://www.youtube.com/channel/UCJAWmvfY_RLTRUjxCYW-8yQ/videos\n"
          ]
        },
        {
          "name": "stderr",
          "output_type": "stream",
          "text": [
            " 24%|██▍       | 468/1936 [40:39<2:28:44,  6.08s/it]"
          ]
        },
        {
          "name": "stdout",
          "output_type": "stream",
          "text": [
            "2일 전 3.9만\n",
            "9일 전 5.6만\n",
            "2주 전 5.3만\n",
            "3주 전 5만\n",
            "1개월 전 7.3만\n",
            "1개월 전 6.3만\n",
            "1개월 전 4.4만\n",
            "2개월 전 8.7만\n",
            "2개월 전 6.8만\n",
            "2개월 전 8만\n",
            "2개월 전 9.2만\n",
            "2개월 전 7.1만\n",
            "3개월 전 10만\n",
            "3개월 전 7.6만\n",
            "3개월 전 9만\n",
            "3개월 전 10만\n",
            "468 https://www.youtube.com/channel/UCq3Tc3K8g-8IsA5Fgf7wOBA/videos\n"
          ]
        },
        {
          "name": "stderr",
          "output_type": "stream",
          "text": [
            " 24%|██▍       | 469/1936 [40:45<2:30:57,  6.17s/it]"
          ]
        },
        {
          "name": "stdout",
          "output_type": "stream",
          "text": [
            "9일 전 9.3만\n",
            "3주 전 7.6만\n",
            "1개월 전 7.7만\n",
            "1개월 전 9.1만\n",
            "1개월 전 8.2만\n",
            "1개월 전 8.7만\n",
            "1개월 전 9.9만\n",
            "2개월 전 9.5만\n",
            "2개월 전 7.1만\n",
            "2개월 전 9.2만\n",
            "3개월 전 9.5만\n",
            "3개월 전 13만\n",
            "469 https://www.youtube.com/channel/UCv_a4jveyNAPwhPbdNgxpKQ/videos\n"
          ]
        },
        {
          "name": "stderr",
          "output_type": "stream",
          "text": [
            " 24%|██▍       | 470/1936 [40:51<2:31:59,  6.22s/it]"
          ]
        },
        {
          "name": "stdout",
          "output_type": "stream",
          "text": [
            "470 https://www.youtube.com/channel/UCf22pC258NfPbIJmwkFLqWA/videos\n"
          ]
        },
        {
          "name": "stderr",
          "output_type": "stream",
          "text": [
            " 24%|██▍       | 471/1936 [40:57<2:28:20,  6.08s/it]"
          ]
        },
        {
          "name": "stdout",
          "output_type": "stream",
          "text": [
            "4일 전 17만\n",
            "11일 전 30만\n",
            "2주 전 21만\n",
            "3주 전 19만\n",
            "4주 전 28만\n",
            "1개월 전 29만\n",
            "1개월 전 27만\n",
            "1개월 전 30만\n",
            "1개월 전 19만\n",
            "1개월 전 26만\n",
            "2개월 전 15만\n",
            "2개월 전 30만\n",
            "2개월 전 23만\n",
            "2개월 전 30만\n",
            "3개월 전 29만\n",
            "3개월 전 37만\n",
            "3개월 전 55만\n",
            "471 https://www.youtube.com/channel/UCZq5L4eCBo-XUQL_5PwVGtg/videos\n"
          ]
        },
        {
          "name": "stderr",
          "output_type": "stream",
          "text": [
            " 24%|██▍       | 472/1936 [41:03<2:27:01,  6.03s/it]"
          ]
        },
        {
          "name": "stdout",
          "output_type": "stream",
          "text": [
            "11일 전 1.4천\n",
            "13일 전 1.5천\n",
            "13일 전 1.3천\n",
            "2주 전 1.2천\n",
            "1개월 전 6.3천\n",
            "1개월 전 3.3천\n",
            "1개월 전 9천\n",
            "2개월 전 6.1천\n",
            "3개월 전 3.8만\n",
            "3개월 전 2.4천\n",
            "472 https://www.youtube.com/channel/UCtwxuughKbSAV0e4bnz4ORg/videos\n"
          ]
        },
        {
          "name": "stderr",
          "output_type": "stream",
          "text": [
            " 24%|██▍       | 473/1936 [41:08<2:21:24,  5.80s/it]"
          ]
        },
        {
          "name": "stdout",
          "output_type": "stream",
          "text": [
            "9일 전 4.9만\n",
            "12일 전 5.7만\n",
            "2주 전 5.1만\n",
            "2주 전 12만\n",
            "3주 전 17만\n",
            "3주 전 5.6만\n",
            "1개월 전 11만\n",
            "1개월 전 30만\n",
            "1개월 전 32만\n",
            "1개월 전 10만\n",
            "1개월 전 29만\n",
            "1개월 전 11만\n",
            "1개월 전 20만\n",
            "1개월 전 31만\n",
            "1개월 전 27만\n",
            "1개월 전 12만\n",
            "1개월 전 27만\n",
            "2개월 전 19만\n",
            "2개월 전 36만\n",
            "2개월 전 42만\n",
            "473 https://www.youtube.com/channel/UCzMW83VpZUg5MUc12iFyDiw/videos\n"
          ]
        },
        {
          "name": "stderr",
          "output_type": "stream",
          "text": [
            " 24%|██▍       | 474/1936 [41:14<2:19:22,  5.72s/it]"
          ]
        },
        {
          "name": "stdout",
          "output_type": "stream",
          "text": [
            "3일 전 2천\n",
            "1개월 전 3.8천\n",
            "1개월 전 5.5천\n",
            "2개월 전 9.8천\n",
            "2개월 전 3.5천\n",
            "3개월 전 7.6천\n",
            "474 https://www.youtube.com/channel/UCnrn87iTZP1KyR1dSO9NSug/videos\n"
          ]
        },
        {
          "name": "stderr",
          "output_type": "stream",
          "text": [
            " 25%|██▍       | 475/1936 [41:19<2:19:37,  5.73s/it]"
          ]
        },
        {
          "name": "stdout",
          "output_type": "stream",
          "text": [
            "475 https://www.youtube.com/channel/UCqgxGebwwkoldbl3h7UoUiQ/videos\n"
          ]
        },
        {
          "name": "stderr",
          "output_type": "stream",
          "text": [
            " 25%|██▍       | 476/1936 [41:25<2:18:28,  5.69s/it]"
          ]
        },
        {
          "name": "stdout",
          "output_type": "stream",
          "text": [
            "1개월 전 7.5천\n",
            "3개월 전 1만\n",
            "3개월 전 6.8천\n",
            "3개월 전 1.5만\n",
            "476 https://www.youtube.com/channel/UCzPLwuw2vJgxtEQk2nM4TVg/videos\n"
          ]
        },
        {
          "name": "stderr",
          "output_type": "stream",
          "text": [
            " 25%|██▍       | 477/1936 [41:31<2:20:11,  5.77s/it]"
          ]
        },
        {
          "name": "stdout",
          "output_type": "stream",
          "text": [
            "477 https://www.youtube.com/channel/UCzjEp3u8RMkOJwpc3RzxmWg/videos\n"
          ]
        },
        {
          "name": "stderr",
          "output_type": "stream",
          "text": [
            " 25%|██▍       | 478/1936 [41:37<2:21:42,  5.83s/it]"
          ]
        },
        {
          "name": "stdout",
          "output_type": "stream",
          "text": [
            "3시간 전 3.1천\n",
            "2일 전 3만\n",
            "3일 전 2만\n",
            "4일 전 2.4만\n",
            "5일 전 2.9만\n",
            "6일 전 1.4만\n",
            "9일 전 1.8만\n",
            "10일 전 2.1만\n",
            "11일 전 2.3만\n",
            "12일 전 1.8만\n",
            "13일 전 2.9만\n",
            "2주 전 1.1만\n",
            "2주 전 7.8천\n",
            "3주 전 3.1만\n",
            "1개월 전 5.4만\n",
            "1개월 전 4.1만\n",
            "1개월 전 2.3만\n",
            "1개월 전 2.2만\n",
            "1개월 전 2.6만\n",
            "1개월 전 1.3만\n",
            "1개월 전 4.3만\n",
            "1개월 전 1.8만\n",
            "1개월 전 5.1만\n",
            "1개월 전 2.1만\n",
            "1개월 전 2.8만\n",
            "1개월 전 2만\n",
            "1개월 전 2.4만\n",
            "1개월 전 5.4만\n",
            "1개월 전 2만\n",
            "478 https://www.youtube.com/channel/UCPC9dCmEaHE0eAfVliF-9Fg/videos\n"
          ]
        },
        {
          "name": "stderr",
          "output_type": "stream",
          "text": [
            " 25%|██▍       | 479/1936 [41:43<2:20:25,  5.78s/it]"
          ]
        },
        {
          "name": "stdout",
          "output_type": "stream",
          "text": [
            "13일 전 1.4천\n",
            "1개월 전 1.6천\n",
            "1개월 전 1만\n",
            "2개월 전 3.7천\n",
            "3개월 전 6.5천\n",
            "479 https://www.youtube.com/channel/UCZN8KXIefDEhkuK8KRgAqhA/videos\n"
          ]
        },
        {
          "name": "stderr",
          "output_type": "stream",
          "text": [
            " 25%|██▍       | 480/1936 [41:48<2:20:03,  5.77s/it]"
          ]
        },
        {
          "name": "stdout",
          "output_type": "stream",
          "text": [
            "2일 전 1.1만\n",
            "5일 전 1만\n",
            "9일 전 2.2만\n",
            "13일 전 1.6만\n",
            "2주 전 1.4만\n",
            "2주 전 2.2만\n",
            "3주 전 1.2만\n",
            "4주 전 1.8만\n",
            "1개월 전 1.9만\n",
            "1개월 전 2.6만\n",
            "1개월 전 1.2만\n",
            "1개월 전 2만\n",
            "1개월 전 1.3만\n",
            "1개월 전 2.3만\n",
            "1개월 전 1.8만\n",
            "1개월 전 2.3만\n",
            "1개월 전 1.3만\n",
            "2개월 전 2.1만\n",
            "2개월 전 1.8만\n",
            "2개월 전 2.2만\n",
            "2개월 전 2만\n",
            "2개월 전 2.1만\n",
            "2개월 전 7.6만\n",
            "2개월 전 2.6만\n",
            "2개월 전 5.2만\n",
            "3개월 전 2.7만\n",
            "3개월 전 2.6만\n",
            "3개월 전 4.9만\n",
            "3개월 전 4만\n",
            "3개월 전 1.4만\n",
            "480 https://www.youtube.com/channel/UColC6Y1j99rqJE7TyE6TBrA/videos\n"
          ]
        },
        {
          "name": "stderr",
          "output_type": "stream",
          "text": [
            " 25%|██▍       | 481/1936 [41:54<2:16:49,  5.64s/it]"
          ]
        },
        {
          "name": "stdout",
          "output_type": "stream",
          "text": [
            "3주 전 1.9만\n",
            "1개월 전 1.2만\n",
            "1개월 전 3만\n",
            "2개월 전 1.2만\n",
            "2개월 전 3.5만\n",
            "3개월 전 1.2만\n",
            "3개월 전 3.8만\n",
            "481 https://www.youtube.com/channel/UCaLbwffvwfKaM4sJX60ajjg/videos\n"
          ]
        },
        {
          "name": "stderr",
          "output_type": "stream",
          "text": [
            " 25%|██▍       | 482/1936 [42:00<2:19:56,  5.77s/it]"
          ]
        },
        {
          "name": "stdout",
          "output_type": "stream",
          "text": [
            "4일 전 5.2만\n",
            "6일 전 6만\n",
            "11일 전 8.4만\n",
            "13일 전 5.9만\n",
            "2주 전 9.6만\n",
            "2주 전 4.7만\n",
            "3주 전 10만\n",
            "3주 전 18만\n",
            "1개월 전 22만\n",
            "1개월 전 7.5만\n",
            "1개월 전 11만\n",
            "1개월 전 5.2만\n",
            "1개월 전 10만\n",
            "1개월 전 6.4만\n",
            "1개월 전 14만\n",
            "1개월 전 7만\n",
            "1개월 전 11만\n",
            "2개월 전 9만\n",
            "2개월 전 8.7만\n",
            "2개월 전 26만\n",
            "2개월 전 25만\n",
            "2개월 전 45만\n",
            "2개월 전 19만\n",
            "2개월 전 8.5만\n",
            "2개월 전 9.6만\n",
            "3개월 전 4.8만\n",
            "3개월 전 8.9만\n",
            "3개월 전 6만\n",
            "3개월 전 49만\n",
            "3개월 전 6.9만\n",
            "482 https://www.youtube.com/channel/UCJ9Mk-2MwdoS_zMKgkdVUNw/videos\n"
          ]
        },
        {
          "name": "stderr",
          "output_type": "stream",
          "text": [
            " 25%|██▍       | 483/1936 [42:06<2:22:25,  5.88s/it]"
          ]
        },
        {
          "name": "stdout",
          "output_type": "stream",
          "text": [
            "20시간 전 1.5만\n",
            "1일 전 2.6만\n",
            "2일 전 3만\n",
            "3일 전 8.4만\n",
            "4일 전 4.8만\n",
            "6일 전 4.7만\n",
            "7일 전 7.6만\n",
            "8일 전 10만\n",
            "9일 전 11만\n",
            "10일 전 16만\n",
            "11일 전 11만\n",
            "13일 전 8만\n",
            "2주 전 10만\n",
            "2주 전 7.6만\n",
            "2주 전 11만\n",
            "2주 전 8.6만\n",
            "2주 전 8만\n",
            "2주 전 5만\n",
            "3주 전 14만\n",
            "3주 전 11만\n",
            "3주 전 20만\n",
            "3주 전 4.1만\n",
            "3주 전 13만\n",
            "4주 전 8.4만\n",
            "4주 전 13만\n",
            "1개월 전 8.3만\n",
            "1개월 전 12만\n",
            "1개월 전 11만\n",
            "1개월 전 6.8만\n",
            "483 https://www.youtube.com/channel/UC1b5zAyQWKa9KkIzC4wol0Q/videos\n"
          ]
        },
        {
          "name": "stderr",
          "output_type": "stream",
          "text": [
            " 25%|██▌       | 484/1936 [42:13<2:28:34,  6.14s/it]"
          ]
        },
        {
          "name": "stdout",
          "output_type": "stream",
          "text": [
            "484 https://www.youtube.com/channel/UC5ScPjbt-a97AJO7SBj6nAg/videos\n"
          ]
        },
        {
          "name": "stderr",
          "output_type": "stream",
          "text": [
            " 25%|██▌       | 485/1936 [42:19<2:29:28,  6.18s/it]"
          ]
        },
        {
          "name": "stdout",
          "output_type": "stream",
          "text": [
            "22시간 전 10만\n",
            "1일 전 9.3만\n",
            "2일 전 14만\n",
            "4일 전 13만\n",
            "5일 전 11만\n",
            "6일 전 15만\n",
            "7일 전 9.4만\n",
            "8일 전 17만\n",
            "10일 전 17만\n",
            "11일 전 17만\n",
            "12일 전 20만\n",
            "2주 전 31만\n",
            "2주 전 15만\n",
            "2주 전 15만\n",
            "2주 전 35만\n",
            "2주 전 21만\n",
            "2주 전 15만\n",
            "3주 전 12만\n",
            "3주 전 16만\n",
            "3주 전 15만\n",
            "3주 전 22만\n",
            "3주 전 19만\n",
            "3주 전 10만\n",
            "4주 전 20만\n",
            "4주 전 21만\n",
            "1개월 전 18만\n",
            "1개월 전 20만\n",
            "1개월 전 25만\n",
            "1개월 전 18만\n",
            "485 https://www.youtube.com/channel/UCAvZyw9xFL1ZaOt5fcvTQVw/videos\n"
          ]
        },
        {
          "name": "stderr",
          "output_type": "stream",
          "text": [
            " 25%|██▌       | 486/1936 [42:25<2:26:57,  6.08s/it]"
          ]
        },
        {
          "name": "stdout",
          "output_type": "stream",
          "text": [
            "4일 전 1.2만\n",
            "1개월 전 5.5만\n",
            "1개월 전 5만\n",
            "2개월 전 10만\n",
            "3개월 전 9.8만\n",
            "486 https://www.youtube.com/channel/UCm6Y-gVqhlhX4FzrJCtsSzg/videos\n"
          ]
        },
        {
          "name": "stderr",
          "output_type": "stream",
          "text": [
            " 25%|██▌       | 487/1936 [42:31<2:25:08,  6.01s/it]"
          ]
        },
        {
          "name": "stdout",
          "output_type": "stream",
          "text": [
            "1일 전 21만\n",
            "7일 전 23만\n",
            "4주 전 31만\n",
            "1개월 전 24만\n",
            "1개월 전 38만\n",
            "1개월 전 16만\n",
            "1개월 전 25만\n",
            "1개월 전 12만\n",
            "2개월 전 71만\n",
            "2개월 전 27만\n",
            "3개월 전 49만\n",
            "487 https://www.youtube.com/channel/UCQppCyDNqbA7kVNWt5_vs6g/videos\n"
          ]
        },
        {
          "name": "stderr",
          "output_type": "stream",
          "text": [
            " 25%|██▌       | 488/1936 [42:36<2:20:33,  5.82s/it]"
          ]
        },
        {
          "name": "stdout",
          "output_type": "stream",
          "text": [
            "488 https://www.youtube.com/channel/UCHE5Unmst5UVKUOg7N2aCkw/videos\n"
          ]
        },
        {
          "name": "stderr",
          "output_type": "stream",
          "text": [
            " 25%|██▌       | 489/1936 [42:42<2:19:06,  5.77s/it]"
          ]
        },
        {
          "name": "stdout",
          "output_type": "stream",
          "text": [
            "3일 전 3.6만\n",
            "9일 전 5.1만\n",
            "2주 전 4만\n",
            "1개월 전 3.4만\n",
            "1개월 전 4.2만\n",
            "1개월 전 5.4만\n",
            "1개월 전 6.2만\n",
            "2개월 전 5.6만\n",
            "2개월 전 5.8만\n",
            "3개월 전 3.4만\n",
            "3개월 전 4.2만\n",
            "3개월 전 3.7만\n",
            "489 https://www.youtube.com/channel/UC-AuoahqpeL4yoK4kvu___g/videos\n"
          ]
        },
        {
          "name": "stderr",
          "output_type": "stream",
          "text": [
            " 25%|██▌       | 490/1936 [42:47<2:18:51,  5.76s/it]"
          ]
        },
        {
          "name": "stdout",
          "output_type": "stream",
          "text": [
            "1개월 전 15만\n",
            "490 https://www.youtube.com/channel/UC75nP7IZ7xavGlAmVo9uAnw/videos\n"
          ]
        },
        {
          "name": "stderr",
          "output_type": "stream",
          "text": [
            " 25%|██▌       | 491/1936 [42:54<2:23:17,  5.95s/it]"
          ]
        },
        {
          "name": "stdout",
          "output_type": "stream",
          "text": [
            "3일 전 2만\n",
            "2주 전 2.6만\n",
            "2주 전 3만\n",
            "4주 전 3.1만\n",
            "1개월 전 3.2만\n",
            "1개월 전 3.3만\n",
            "2개월 전 3.8만\n",
            "2개월 전 3.6만\n",
            "2개월 전 4.1만\n",
            "3개월 전 3.3만\n",
            "3개월 전 3만\n",
            "3개월 전 3.4만\n",
            "491 https://www.youtube.com/channel/UC1yFIXF66_VVDEdGHZAjAVg/videos\n"
          ]
        },
        {
          "name": "stderr",
          "output_type": "stream",
          "text": [
            " 25%|██▌       | 492/1936 [43:00<2:22:27,  5.92s/it]"
          ]
        },
        {
          "name": "stdout",
          "output_type": "stream",
          "text": [
            "16시간 전 4.8천\n",
            "3주 전 1.5만\n",
            "2개월 전 3만\n",
            "2개월 전 2.8만\n",
            "2개월 전 1.8만\n",
            "492 https://www.youtube.com/channel/UCOYC5dyftpdpnb5x2PL-9_A/videos\n"
          ]
        },
        {
          "name": "stderr",
          "output_type": "stream",
          "text": [
            " 25%|██▌       | 493/1936 [43:06<2:23:40,  5.97s/it]"
          ]
        },
        {
          "name": "stdout",
          "output_type": "stream",
          "text": [
            "4일 전 2.4만\n",
            "4일 전 2.4만\n",
            "7일 전 1.1만\n",
            "11일 전 8천\n",
            "11일 전 1.4천\n",
            "2주 전 4.1천\n",
            "2주 전 3.3천\n",
            "3주 전 5.6천\n",
            "3주 전 6.9천\n",
            "1개월 전 4.1천\n",
            "1개월 전 5.1천\n",
            "1개월 전 8.5만\n",
            "1개월 전 1만\n",
            "1개월 전 6.1천\n",
            "1개월 전 1.3만\n",
            "1개월 전 1.9만\n",
            "1개월 전 4.7천\n",
            "1개월 전 1.6만\n",
            "1개월 전 2.2만\n",
            "2개월 전 2.6만\n",
            "2개월 전 1.1만\n",
            "2개월 전 4.9만\n",
            "2개월 전 5.1천\n",
            "2개월 전 1만\n",
            "2개월 전 10만\n",
            "2개월 전 6.5만\n",
            "2개월 전 8천\n",
            "2개월 전 1.3만\n",
            "3개월 전 4만\n",
            "3개월 전 8.6천\n",
            "493 https://www.youtube.com/channel/UCxcIxUb1R8Wa9qze9yfrwZA/videos\n"
          ]
        },
        {
          "name": "stderr",
          "output_type": "stream",
          "text": [
            " 26%|██▌       | 494/1936 [43:12<2:24:30,  6.01s/it]"
          ]
        },
        {
          "name": "stdout",
          "output_type": "stream",
          "text": [
            "494 https://www.youtube.com/channel/UC9n0SM6k4zC3C7A1AdXCCbw/videos\n"
          ]
        },
        {
          "name": "stderr",
          "output_type": "stream",
          "text": [
            " 26%|██▌       | 495/1936 [43:18<2:23:25,  5.97s/it]"
          ]
        },
        {
          "name": "stdout",
          "output_type": "stream",
          "text": [
            "3개월 전 2.1만\n",
            "495 https://www.youtube.com/channel/UClDDqUHkTuGrACrC7Vg1qDw/videos\n"
          ]
        },
        {
          "name": "stderr",
          "output_type": "stream",
          "text": [
            " 26%|██▌       | 496/1936 [43:24<2:22:05,  5.92s/it]"
          ]
        },
        {
          "name": "stdout",
          "output_type": "stream",
          "text": [
            "6일 전 3.1만\n",
            "13일 전 4.8만\n",
            "2주 전 5.2만\n",
            "3주 전 3.5만\n",
            "1개월 전 7.3만\n",
            "1개월 전 4.6만\n",
            "1개월 전 11만\n",
            "1개월 전 3.8만\n",
            "2개월 전 7.4만\n",
            "2개월 전 8.9만\n",
            "2개월 전 7.5만\n",
            "2개월 전 5.7만\n",
            "3개월 전 6.2만\n",
            "3개월 전 9.8만\n",
            "3개월 전 10만\n",
            "3개월 전 7.4만\n",
            "496 https://www.youtube.com/channel/UCgvP5ez4_OVaARMT6kqFq7Q/videos\n"
          ]
        },
        {
          "name": "stderr",
          "output_type": "stream",
          "text": [
            " 26%|██▌       | 497/1936 [43:29<2:22:01,  5.92s/it]"
          ]
        },
        {
          "name": "stdout",
          "output_type": "stream",
          "text": [
            "2개월 전 5.2만\n",
            "497 https://www.youtube.com/channel/UCRrHTsICO1C6-bVC0TLP20w/videos\n"
          ]
        },
        {
          "name": "stderr",
          "output_type": "stream",
          "text": [
            " 26%|██▌       | 498/1936 [43:35<2:19:33,  5.82s/it]"
          ]
        },
        {
          "name": "stdout",
          "output_type": "stream",
          "text": [
            "498 https://www.youtube.com/channel/UC8FwEy3F0BHzyxYVNlrvzew/videos\n"
          ]
        },
        {
          "name": "stderr",
          "output_type": "stream",
          "text": [
            " 26%|██▌       | 499/1936 [43:41<2:20:20,  5.86s/it]"
          ]
        },
        {
          "name": "stdout",
          "output_type": "stream",
          "text": [
            "499 https://www.youtube.com/channel/UCv8lBJuzo6iCtYgZC8csBOg/videos\n"
          ]
        },
        {
          "name": "stderr",
          "output_type": "stream",
          "text": [
            " 26%|██▌       | 500/1936 [43:47<2:21:28,  5.91s/it]"
          ]
        },
        {
          "name": "stdout",
          "output_type": "stream",
          "text": [
            "6일 전 31만\n",
            "1개월 전 8.5만\n",
            "1개월 전 20만\n",
            "1개월 전 4.3만\n",
            "2개월 전 5만\n",
            "2개월 전 6.3만\n",
            "2개월 전 5.8만\n",
            "3개월 전 6.1만\n",
            "3개월 전 13만\n",
            "3개월 전 7.1만\n",
            "3개월 전 25만\n",
            "3개월 전 13만\n",
            "3개월 전 16만\n",
            "500 https://www.youtube.com/channel/UCcwEXGl8tRJTJ78WBPa7dUA/videos\n"
          ]
        },
        {
          "name": "stderr",
          "output_type": "stream",
          "text": [
            " 26%|██▌       | 501/1936 [43:53<2:22:15,  5.95s/it]"
          ]
        },
        {
          "name": "stdout",
          "output_type": "stream",
          "text": [
            "501 https://www.youtube.com/channel/UCidO_j4TWaTvUiid2WffuqA/videos\n"
          ]
        },
        {
          "name": "stderr",
          "output_type": "stream",
          "text": [
            " 26%|██▌       | 502/1936 [43:59<2:19:16,  5.83s/it]"
          ]
        },
        {
          "name": "stdout",
          "output_type": "stream",
          "text": [
            "3일 전 1만\n",
            "9일 전 1.5만\n",
            "2주 전 1.6만\n",
            "2주 전 2.4만\n",
            "3주 전 2.1만\n",
            "1개월 전 3만\n",
            "1개월 전 21만\n",
            "1개월 전 4.8만\n",
            "1개월 전 13만\n",
            "1개월 전 31만\n",
            "2개월 전 8.9만\n",
            "2개월 전 3.4만\n",
            "2개월 전 1.2만\n",
            "2개월 전 10만\n",
            "2개월 전 1.2만\n",
            "3개월 전 2.1만\n",
            "3개월 전 3.5만\n",
            "3개월 전 2.9만\n",
            "3개월 전 2.9만\n",
            "3개월 전 3.9만\n",
            "3개월 전 2만\n",
            "502 https://www.youtube.com/channel/UCvZGsyFBRwO3p1YfqqMN4zg/videos\n"
          ]
        },
        {
          "name": "stderr",
          "output_type": "stream",
          "text": [
            " 26%|██▌       | 503/1936 [44:04<2:18:51,  5.81s/it]"
          ]
        },
        {
          "name": "stdout",
          "output_type": "stream",
          "text": [
            "2개월 전 1.2만\n",
            "3개월 전 1만\n",
            "3개월 전 1만\n",
            "503 https://www.youtube.com/channel/UCL4MGiO-o59sVs0K-HFT2VQ/videos\n"
          ]
        },
        {
          "name": "stderr",
          "output_type": "stream",
          "text": [
            " 26%|██▌       | 504/1936 [44:10<2:15:38,  5.68s/it]"
          ]
        },
        {
          "name": "stdout",
          "output_type": "stream",
          "text": [
            "6일 전 6.6천\n",
            "8일 전 8.8천\n",
            "504 https://www.youtube.com/channel/UCRY0vKmqFmQ4XCJomWMBf-w/videos\n"
          ]
        },
        {
          "name": "stderr",
          "output_type": "stream",
          "text": [
            " 26%|██▌       | 505/1936 [44:14<2:07:00,  5.33s/it]"
          ]
        },
        {
          "name": "stdout",
          "output_type": "stream",
          "text": [
            "20시간 전 4.8만\n",
            "7일 전 8.4만\n",
            "11일 전 7만\n",
            "2주 전 7.5만\n",
            "2주 전 5만\n",
            "2주 전 9.6만\n",
            "2주 전 1.8만\n",
            "2주 전 6.3만\n",
            "2주 전 2.8만\n",
            "3주 전 5.8만\n",
            "3주 전 10만\n",
            "3주 전 4만\n",
            "3주 전 4.9만\n",
            "4주 전 6.5만\n",
            "4주 전 6.5만\n",
            "4주 전 12만\n",
            "1개월 전 4.9만\n",
            "1개월 전 9.1만\n",
            "1개월 전 4.7천\n",
            "1개월 전 2.2만\n",
            "1개월 전 9.3만\n",
            "1개월 전 4.9만\n",
            "1개월 전 2.1만\n",
            "1개월 전 9.2만\n",
            "1개월 전 5.3만\n",
            "1개월 전 1.3만\n",
            "1개월 전 8.5만\n",
            "1개월 전 7.6만\n",
            "1개월 전 6.9만\n",
            "505 https://www.youtube.com/channel/UCr3IdHBd5bi9iuic06aUu6g/videos\n"
          ]
        },
        {
          "name": "stderr",
          "output_type": "stream",
          "text": [
            " 26%|██▌       | 506/1936 [44:20<2:07:09,  5.34s/it]"
          ]
        },
        {
          "name": "stdout",
          "output_type": "stream",
          "text": [
            "2주 전 7.5천\n",
            "2개월 전 1.2만\n",
            "506 https://www.youtube.com/channel/UCyw-SlgJoR9KDaE6TWeYI-A/videos\n"
          ]
        },
        {
          "name": "stderr",
          "output_type": "stream",
          "text": [
            " 26%|██▌       | 507/1936 [44:25<2:07:49,  5.37s/it]"
          ]
        },
        {
          "name": "stdout",
          "output_type": "stream",
          "text": [
            "1일 전 2.5천\n",
            "13일 전 8.5천\n",
            "3주 전 5.1천\n",
            "1개월 전 7.6천\n",
            "1개월 전 5.6천\n",
            "1개월 전 7.3천\n",
            "3개월 전 8.1천\n",
            "3개월 전 2.8만\n",
            "3개월 전 2.6만\n",
            "3개월 전 1.6만\n",
            "3개월 전 6.1만\n",
            "3개월 전 1.4만\n",
            "507 https://www.youtube.com/channel/UCjLam2TWjQ2BG0y0H4Q9RbQ/videos\n"
          ]
        },
        {
          "name": "stderr",
          "output_type": "stream",
          "text": [
            " 26%|██▌       | 508/1936 [44:30<2:05:21,  5.27s/it]"
          ]
        },
        {
          "name": "stdout",
          "output_type": "stream",
          "text": [
            "2주 전 4.8천\n",
            "508 https://www.youtube.com/channel/UCAzdzLfHZdN-KnchZB5luqg/videos\n"
          ]
        },
        {
          "name": "stderr",
          "output_type": "stream",
          "text": [
            " 26%|██▋       | 509/1936 [44:35<2:03:36,  5.20s/it]"
          ]
        },
        {
          "name": "stdout",
          "output_type": "stream",
          "text": [
            "3일 전 3.4만\n",
            "8일 전 9.8천\n",
            "10일 전 6만\n",
            "2주 전 9.1천\n",
            "2주 전 6.9천\n",
            "3주 전 2만\n",
            "4주 전 7.4천\n",
            "1개월 전 7.3천\n",
            "1개월 전 1.3만\n",
            "1개월 전 1.1만\n",
            "1개월 전 1만\n",
            "1개월 전 8.5천\n",
            "1개월 전 9.3천\n",
            "1개월 전 1.2만\n",
            "2개월 전 1.2만\n",
            "2개월 전 7.9천\n",
            "2개월 전 7.2천\n",
            "2개월 전 7.8천\n",
            "2개월 전 9.4천\n",
            "2개월 전 1만\n",
            "2개월 전 1.1만\n",
            "2개월 전 7.4천\n",
            "2개월 전 5.9천\n",
            "3개월 전 2만\n",
            "3개월 전 1.1만\n",
            "3개월 전 1.9만\n",
            "3개월 전 4.8만\n",
            "3개월 전 1.6만\n",
            "3개월 전 9.8천\n",
            "3개월 전 1.9만\n",
            "509 https://www.youtube.com/channel/UCI6Ro_MOr36re4Bhb7nCY7g/videos\n"
          ]
        },
        {
          "name": "stderr",
          "output_type": "stream",
          "text": [
            " 26%|██▋       | 510/1936 [44:40<2:02:24,  5.15s/it]"
          ]
        },
        {
          "name": "stdout",
          "output_type": "stream",
          "text": [
            "2개월 전 1.8만\n",
            "510 https://www.youtube.com/channel/UCk7zPbUEzyUmVfz_gJEHymg/videos\n"
          ]
        },
        {
          "name": "stderr",
          "output_type": "stream",
          "text": [
            " 26%|██▋       | 511/1936 [44:46<2:03:36,  5.20s/it]"
          ]
        },
        {
          "name": "stdout",
          "output_type": "stream",
          "text": [
            "17시간 전 4.4천\n",
            "2일 전 9.1천\n",
            "6일 전 2.6만\n",
            "9일 전 2.2만\n",
            "13일 전 1.1만\n",
            "2주 전 12만\n",
            "2주 전 7.5천\n",
            "3주 전 1.4만\n",
            "3주 전 1.2만\n",
            "3주 전 1만\n",
            "4주 전 3.5만\n",
            "1개월 전 2.5만\n",
            "1개월 전 4만\n",
            "1개월 전 1.1만\n",
            "1개월 전 2.3만\n",
            "1개월 전 9.2천\n",
            "1개월 전 6만\n",
            "1개월 전 8.2천\n",
            "1개월 전 3.8만\n",
            "1개월 전 2.4만\n",
            "1개월 전 3.9만\n",
            "1개월 전 1.9만\n",
            "1개월 전 8.6천\n",
            "2개월 전 4.5만\n",
            "2개월 전 7.3천\n",
            "2개월 전 5.5천\n",
            "2개월 전 1.3만\n",
            "2개월 전 10만\n",
            "2개월 전 1.1만\n",
            "511 https://www.youtube.com/channel/UC1LWbxc3tNlZvtN7Rz5ag0Q/videos\n"
          ]
        },
        {
          "name": "stderr",
          "output_type": "stream",
          "text": [
            " 26%|██▋       | 512/1936 [44:51<2:02:52,  5.18s/it]"
          ]
        },
        {
          "name": "stdout",
          "output_type": "stream",
          "text": [
            "6일 전 1.7만\n",
            "13일 전 1.7만\n",
            "2주 전 3.4만\n",
            "3주 전 4.8만\n",
            "1개월 전 5.5만\n",
            "1개월 전 3만\n",
            "1개월 전 1.8만\n",
            "1개월 전 1.8만\n",
            "2개월 전 3.6만\n",
            "2개월 전 2.2만\n",
            "2개월 전 2.7만\n",
            "2개월 전 3.5만\n",
            "2개월 전 2만\n",
            "3개월 전 4.6만\n",
            "3개월 전 2.7만\n",
            "3개월 전 3.8만\n",
            "512 https://www.youtube.com/channel/UCxbxK61xeFoymuxmi4ik73g/videos\n"
          ]
        },
        {
          "name": "stderr",
          "output_type": "stream",
          "text": [
            " 26%|██▋       | 513/1936 [44:56<2:03:06,  5.19s/it]"
          ]
        },
        {
          "name": "stdout",
          "output_type": "stream",
          "text": [
            "4일 전 8.2만\n",
            "4일 전 7.8만\n",
            "11일 전 17만\n",
            "2주 전 14만\n",
            "3주 전 11만\n",
            "1개월 전 11만\n",
            "1개월 전 21만\n",
            "1개월 전 44만\n",
            "1개월 전 7.1만\n",
            "1개월 전 23만\n",
            "2개월 전 20만\n",
            "2개월 전 12만\n",
            "2개월 전 14만\n",
            "2개월 전 11만\n",
            "3개월 전 12만\n",
            "3개월 전 8.1만\n",
            "3개월 전 5.6만\n",
            "3개월 전 14만\n",
            "513 https://www.youtube.com/channel/UCKr3S2aX4SyNkQTY-8UM86A/videos\n"
          ]
        },
        {
          "name": "stderr",
          "output_type": "stream",
          "text": [
            " 27%|██▋       | 514/1936 [45:01<2:04:19,  5.25s/it]"
          ]
        },
        {
          "name": "stdout",
          "output_type": "stream",
          "text": [
            "4시간 전 475\n",
            "3일 전 1.5천\n",
            "5일 전 2천\n",
            "8일 전 1.7천\n",
            "10일 전 4.6천\n",
            "11일 전 2.1천\n",
            "2주 전 2천\n",
            "2주 전 7천\n",
            "3주 전 1.5천\n",
            "3주 전 2.9천\n",
            "4주 전 2.3천\n",
            "1개월 전 1.7천\n",
            "1개월 전 2.4천\n",
            "1개월 전 3.7천\n",
            "1개월 전 2.7천\n",
            "1개월 전 3.2천\n",
            "1개월 전 2.5천\n",
            "1개월 전 2.9천\n",
            "1개월 전 4천\n",
            "1개월 전 2천\n",
            "1개월 전 1.9천\n",
            "1개월 전 3.3천\n",
            "1개월 전 4천\n",
            "2개월 전 2.4천\n",
            "2개월 전 3.3천\n",
            "2개월 전 2.4천\n",
            "2개월 전 2.3천\n",
            "2개월 전 3.8천\n",
            "2개월 전 3천\n",
            "514 https://www.youtube.com/channel/UCCHTWyjDJQ6KpO8yfeYnk8g/videos\n"
          ]
        },
        {
          "name": "stderr",
          "output_type": "stream",
          "text": [
            " 27%|██▋       | 515/1936 [45:06<2:03:58,  5.23s/it]"
          ]
        },
        {
          "name": "stdout",
          "output_type": "stream",
          "text": [
            "10일 전 1만\n",
            "515 https://www.youtube.com/channel/UClrQVhd09qgWfPRsaOLDU2A/videos\n"
          ]
        },
        {
          "name": "stderr",
          "output_type": "stream",
          "text": [
            " 27%|██▋       | 516/1936 [45:11<2:00:57,  5.11s/it]"
          ]
        },
        {
          "name": "stdout",
          "output_type": "stream",
          "text": [
            "2일 전 8.9만\n",
            "12일 전 8.9만\n",
            "2주 전 7.7만\n",
            "2주 전 18만\n",
            "2주 전 13만\n",
            "2주 전 13만\n",
            "2주 전 17만\n",
            "3주 전 27만\n",
            "3주 전 12만\n",
            "4주 전 8.3만\n",
            "1개월 전 16만\n",
            "1개월 전 15만\n",
            "1개월 전 10만\n",
            "1개월 전 8.3만\n",
            "1개월 전 8.8만\n",
            "1개월 전 7.3만\n",
            "1개월 전 14만\n",
            "1개월 전 10만\n",
            "1개월 전 22만\n",
            "1개월 전 22만\n",
            "1개월 전 19만\n",
            "1개월 전 6.1만\n",
            "1개월 전 11만\n",
            "1개월 전 17만\n",
            "1개월 전 16만\n",
            "2개월 전 10만\n",
            "2개월 전 27만\n",
            "2개월 전 9.3만\n",
            "2개월 전 23만\n",
            "2개월 전 8.7만\n",
            "516 https://www.youtube.com/channel/UCNKam43W5s-LfRMKcd9Jg5Q/videos\n"
          ]
        },
        {
          "name": "stderr",
          "output_type": "stream",
          "text": [
            " 27%|██▋       | 517/1936 [45:16<2:00:21,  5.09s/it]"
          ]
        },
        {
          "name": "stdout",
          "output_type": "stream",
          "text": [
            "11일 전 1.1만\n",
            "2주 전 2.3만\n",
            "2주 전 1.2만\n",
            "3주 전 1.8만\n",
            "3주 전 8.6천\n",
            "3주 전 1.3만\n",
            "1개월 전 7.6천\n",
            "1개월 전 1.3만\n",
            "1개월 전 2.2만\n",
            "1개월 전 1.1만\n",
            "1개월 전 2.3만\n",
            "1개월 전 11만\n",
            "2개월 전 2.7만\n",
            "2개월 전 4.1만\n",
            "2개월 전 3.1만\n",
            "2개월 전 3.3만\n",
            "2개월 전 2.8만\n",
            "2개월 전 7.3만\n",
            "2개월 전 3.5만\n",
            "2개월 전 7.8천\n",
            "3개월 전 6.7만\n",
            "3개월 전 4.2만\n",
            "3개월 전 3.6만\n",
            "3개월 전 1.4만\n",
            "517 https://www.youtube.com/channel/UCK-kl-x_vHyhGyNWOBY7SQA/videos\n"
          ]
        },
        {
          "name": "stderr",
          "output_type": "stream",
          "text": [
            " 27%|██▋       | 518/1936 [45:21<1:59:23,  5.05s/it]"
          ]
        },
        {
          "name": "stdout",
          "output_type": "stream",
          "text": [
            "518 https://www.youtube.com/channel/UCuyEVq7EXIC_zwJCQ7P2J2Q/videos\n"
          ]
        },
        {
          "name": "stderr",
          "output_type": "stream",
          "text": [
            " 27%|██▋       | 519/1936 [45:26<2:00:35,  5.11s/it]"
          ]
        },
        {
          "name": "stdout",
          "output_type": "stream",
          "text": [
            "3일 전 366\n",
            "2개월 전 3.4천\n",
            "519 https://www.youtube.com/channel/UCQqEWSmdf0970sOmG4GIHbw/videos\n"
          ]
        },
        {
          "name": "stderr",
          "output_type": "stream",
          "text": [
            " 27%|██▋       | 520/1936 [45:32<2:00:32,  5.11s/it]"
          ]
        },
        {
          "name": "stdout",
          "output_type": "stream",
          "text": [
            "9일 전 9.5천\n",
            "2주 전 5.2천\n",
            "2주 전 1.7만\n",
            "1개월 전 6.4천\n",
            "1개월 전 1.9만\n",
            "1개월 전 1.2만\n",
            "2개월 전 8.7천\n",
            "3개월 전 1만\n",
            "3개월 전 5.7천\n",
            "520 https://www.youtube.com/channel/UCqtZMd9LHO-8kZGcvA0EKnA/videos\n"
          ]
        },
        {
          "name": "stderr",
          "output_type": "stream",
          "text": [
            " 27%|██▋       | 521/1936 [45:37<2:01:01,  5.13s/it]"
          ]
        },
        {
          "name": "stdout",
          "output_type": "stream",
          "text": [
            "7일 전 612\n",
            "3주 전 2.5천\n",
            "1개월 전 3천\n",
            "1개월 전 1.5천\n",
            "1개월 전 1.4천\n",
            "1개월 전 2.1천\n",
            "2개월 전 1.4천\n",
            "2개월 전 1.7천\n",
            "2개월 전 1.7천\n",
            "2개월 전 2.6천\n",
            "3개월 전 1.7천\n",
            "3개월 전 2.2천\n",
            "3개월 전 3.3천\n",
            "3개월 전 1.9천\n",
            "521 https://www.youtube.com/channel/UCEiw16BaxuWjIP4SWUuO35A/videos\n"
          ]
        },
        {
          "name": "stderr",
          "output_type": "stream",
          "text": [
            " 27%|██▋       | 522/1936 [45:42<1:59:46,  5.08s/it]"
          ]
        },
        {
          "name": "stdout",
          "output_type": "stream",
          "text": [
            "3일 전 1.3만\n",
            "10일 전 1.3만\n",
            "2주 전 1.5만\n",
            "3주 전 1만\n",
            "3주 전 1.2만\n",
            "1개월 전 1.2만\n",
            "1개월 전 1.1만\n",
            "2개월 전 1.5만\n",
            "2개월 전 1.5만\n",
            "2개월 전 2만\n",
            "2개월 전 1.5만\n",
            "2개월 전 1.2만\n",
            "2개월 전 1.8만\n",
            "3개월 전 2만\n",
            "3개월 전 2.5만\n",
            "3개월 전 1.7만\n",
            "522 https://www.youtube.com/channel/UCcNYkzLMSkSiYaiAYjUNzRg/videos\n"
          ]
        },
        {
          "name": "stderr",
          "output_type": "stream",
          "text": [
            " 27%|██▋       | 523/1936 [45:47<1:59:37,  5.08s/it]"
          ]
        },
        {
          "name": "stdout",
          "output_type": "stream",
          "text": [
            "4일 전 2.1만\n",
            "11일 전 1.2만\n",
            "2주 전 7.6천\n",
            "3주 전 1.4만\n",
            "1개월 전 1.6만\n",
            "1개월 전 1.4만\n",
            "1개월 전 1.8만\n",
            "2개월 전 1.6만\n",
            "2개월 전 51만\n",
            "2개월 전 48만\n",
            "2개월 전 1.8만\n",
            "3개월 전 1.2만\n",
            "3개월 전 5.4만\n",
            "3개월 전 3.7만\n",
            "3개월 전 3.7만\n",
            "523 https://www.youtube.com/channel/UC7jfcWMKdtypYEPPtpRboow/videos\n"
          ]
        },
        {
          "name": "stderr",
          "output_type": "stream",
          "text": [
            " 27%|██▋       | 524/1936 [45:52<2:00:30,  5.12s/it]"
          ]
        },
        {
          "name": "stdout",
          "output_type": "stream",
          "text": [
            "6일 전 628\n",
            "2개월 전 900\n",
            "524 https://www.youtube.com/channel/UCGPj9py4stpRO6Vv8WW5i3w/videos\n"
          ]
        },
        {
          "name": "stderr",
          "output_type": "stream",
          "text": [
            " 27%|██▋       | 525/1936 [45:57<2:00:45,  5.13s/it]"
          ]
        },
        {
          "name": "stdout",
          "output_type": "stream",
          "text": [
            "2일 전 2.4만\n",
            "5일 전 1.6만\n",
            "9일 전 2.9만\n",
            "2주 전 3만\n",
            "3주 전 3.1만\n",
            "3주 전 1.2만\n",
            "4주 전 2.1만\n",
            "1개월 전 8.6만\n",
            "1개월 전 2.6만\n",
            "1개월 전 2.6만\n",
            "1개월 전 3만\n",
            "1개월 전 3.3만\n",
            "1개월 전 1.2만\n",
            "2개월 전 2.9만\n",
            "2개월 전 2.9만\n",
            "2개월 전 3만\n",
            "2개월 전 3.2만\n",
            "3개월 전 3.4만\n",
            "3개월 전 4만\n",
            "3개월 전 2.1만\n",
            "3개월 전 3.5만\n",
            "3개월 전 3.2만\n",
            "3개월 전 3.5만\n",
            "525 https://www.youtube.com/channel/UCVpzTN6xadOaJYvyik0CZyQ/videos\n"
          ]
        },
        {
          "name": "stderr",
          "output_type": "stream",
          "text": [
            " 27%|██▋       | 526/1936 [46:02<2:00:03,  5.11s/it]"
          ]
        },
        {
          "name": "stdout",
          "output_type": "stream",
          "text": [
            "2개월 전 1.5만\n",
            "2개월 전 1.4만\n",
            "3개월 전 1.9만\n",
            "3개월 전 7.2천\n",
            "3개월 전 8.1천\n",
            "3개월 전 1.4만\n",
            "3개월 전 1.4만\n",
            "526 https://www.youtube.com/channel/UC4VoaWbC9pYxGCawDknpSXQ/videos\n"
          ]
        },
        {
          "name": "stderr",
          "output_type": "stream",
          "text": [
            " 27%|██▋       | 527/1936 [46:08<2:01:25,  5.17s/it]"
          ]
        },
        {
          "name": "stdout",
          "output_type": "stream",
          "text": [
            "19시간 전 2.7만\n",
            "7일 전 10만\n",
            "2주 전 7.1만\n",
            "3주 전 19만\n",
            "4주 전 6.8만\n",
            "1개월 전 9.5만\n",
            "1개월 전 13만\n",
            "1개월 전 25만\n",
            "2개월 전 12만\n",
            "2개월 전 15만\n",
            "2개월 전 20만\n",
            "3개월 전 9.2만\n",
            "3개월 전 33만\n",
            "3개월 전 8.8만\n",
            "527 https://www.youtube.com/channel/UCylzl5EMsHKCMeUe2TLKLKA/videos\n"
          ]
        },
        {
          "name": "stderr",
          "output_type": "stream",
          "text": [
            " 27%|██▋       | 528/1936 [46:13<2:00:49,  5.15s/it]"
          ]
        },
        {
          "name": "stdout",
          "output_type": "stream",
          "text": [
            "21시간 전 4천\n",
            "2일 전 8.6천\n",
            "3일 전 1.6만\n",
            "6일 전 1.9만\n",
            "9일 전 1.9만\n",
            "10일 전 5.1만\n",
            "13일 전 1.4만\n",
            "2주 전 1.6만\n",
            "2주 전 3.1만\n",
            "2주 전 3.4만\n",
            "2주 전 1.6만\n",
            "2주 전 1.3만\n",
            "3주 전 3만\n",
            "3주 전 2.2만\n",
            "3주 전 2.7만\n",
            "3주 전 1.1만\n",
            "1개월 전 2.1만\n",
            "1개월 전 7.8천\n",
            "1개월 전 1.6만\n",
            "1개월 전 2.3만\n",
            "1개월 전 9.8천\n",
            "1개월 전 1.3만\n",
            "1개월 전 1.9만\n",
            "1개월 전 1.2만\n",
            "1개월 전 1.9만\n",
            "1개월 전 2.4만\n",
            "1개월 전 2만\n",
            "1개월 전 5.8천\n",
            "1개월 전 1.6만\n",
            "528 https://www.youtube.com/channel/UCJdZej-O_M69bB4M6aiiLcw/videos\n"
          ]
        },
        {
          "name": "stderr",
          "output_type": "stream",
          "text": [
            " 27%|██▋       | 529/1936 [46:18<1:59:54,  5.11s/it]"
          ]
        },
        {
          "name": "stdout",
          "output_type": "stream",
          "text": [
            "1일 전 1.2만\n",
            "2일 전 1.8만\n",
            "5일 전 1.5만\n",
            "6일 전 1.6만\n",
            "9일 전 2.7만\n",
            "10일 전 1.5만\n",
            "12일 전 1.1만\n",
            "13일 전 1.2만\n",
            "2주 전 1.6만\n",
            "2주 전 2.1만\n",
            "2주 전 5.2만\n",
            "2주 전 2.4만\n",
            "3주 전 1.5만\n",
            "3주 전 8.8만\n",
            "3주 전 3.6만\n",
            "4주 전 2.1만\n",
            "1개월 전 2.4만\n",
            "1개월 전 1.6만\n",
            "1개월 전 1.3만\n",
            "1개월 전 1.8만\n",
            "1개월 전 2.3만\n",
            "1개월 전 1.8만\n",
            "1개월 전 1.1만\n",
            "1개월 전 8.8만\n",
            "2개월 전 1.4만\n",
            "2개월 전 2.2만\n",
            "2개월 전 5.7천\n",
            "2개월 전 1.2만\n",
            "2개월 전 1.9만\n",
            "2개월 전 1.7만\n",
            "529 https://www.youtube.com/channel/UC9eYSoNDZfCigOD61Wpkp8g/videos\n"
          ]
        },
        {
          "name": "stderr",
          "output_type": "stream",
          "text": [
            " 27%|██▋       | 530/1936 [46:23<2:01:00,  5.16s/it]"
          ]
        },
        {
          "name": "stdout",
          "output_type": "stream",
          "text": [
            "3개월 전 1만\n",
            "530 https://www.youtube.com/channel/UCh8C8QtVTA9tixs0_GTE3fA/videos\n"
          ]
        },
        {
          "name": "stderr",
          "output_type": "stream",
          "text": [
            " 27%|██▋       | 531/1936 [46:28<2:00:33,  5.15s/it]"
          ]
        },
        {
          "name": "stdout",
          "output_type": "stream",
          "text": [
            "6일 전 1.1만\n",
            "13일 전 7.9천\n",
            "2주 전 1.2만\n",
            "1개월 전 1.1만\n",
            "1개월 전 6.9천\n",
            "1개월 전 1.3만\n",
            "1개월 전 1.1만\n",
            "2개월 전 1만\n",
            "2개월 전 1.5만\n",
            "2개월 전 1.2만\n",
            "3개월 전 1.2만\n",
            "3개월 전 1.8만\n",
            "3개월 전 1.1만\n",
            "3개월 전 1만\n",
            "3개월 전 9.4천\n",
            "531 https://www.youtube.com/channel/UCqHk1D4hcVbUyrmYmMC-Pfw/videos\n"
          ]
        },
        {
          "name": "stderr",
          "output_type": "stream",
          "text": [
            " 27%|██▋       | 532/1936 [46:33<1:59:41,  5.12s/it]"
          ]
        },
        {
          "name": "stdout",
          "output_type": "stream",
          "text": [
            "5일 전 347\n",
            "2주 전 1천\n",
            "3주 전 631\n",
            "1개월 전 508\n",
            "1개월 전 660\n",
            "2개월 전 1.1천\n",
            "2개월 전 895\n",
            "3개월 전 845\n",
            "3개월 전 1.1천\n",
            "3개월 전 1천\n",
            "3개월 전 868\n",
            "532 https://www.youtube.com/channel/UCUXwW0gHHOt9q87Tsm20Uxw/videos\n"
          ]
        },
        {
          "name": "stderr",
          "output_type": "stream",
          "text": [
            " 28%|██▊       | 533/1936 [46:38<1:58:46,  5.08s/it]"
          ]
        },
        {
          "name": "stdout",
          "output_type": "stream",
          "text": [
            "2일 전 1.1만\n",
            "9일 전 7.8천\n",
            "2주 전 1.7만\n",
            "3주 전 1.5만\n",
            "1개월 전 1.5만\n",
            "1개월 전 2.1만\n",
            "1개월 전 1.9만\n",
            "1개월 전 19만\n",
            "2개월 전 1.1만\n",
            "2개월 전 2.7만\n",
            "2개월 전 2.3만\n",
            "2개월 전 2.1만\n",
            "2개월 전 1.7만\n",
            "3개월 전 3.6만\n",
            "3개월 전 2.4만\n",
            "3개월 전 1.7만\n",
            "3개월 전 2.7만\n",
            "533 https://www.youtube.com/channel/UCS4HFOjSrJXuBqYgDUBaIEw/videos\n"
          ]
        },
        {
          "name": "stderr",
          "output_type": "stream",
          "text": [
            " 28%|██▊       | 534/1936 [46:43<2:00:23,  5.15s/it]"
          ]
        },
        {
          "name": "stdout",
          "output_type": "stream",
          "text": [
            "21시간 전 878\n",
            "1일 전 2.6천\n",
            "10일 전 1.8천\n",
            "2주 전 2.3천\n",
            "2주 전 2.1천\n",
            "1개월 전 4.4천\n",
            "1개월 전 7천\n",
            "1개월 전 9.3천\n",
            "2개월 전 2.5천\n",
            "2개월 전 5.8천\n",
            "2개월 전 2.3천\n",
            "3개월 전 1.8만\n",
            "3개월 전 8.5천\n",
            "3개월 전 1.8천\n",
            "3개월 전 6.4천\n",
            "534 https://www.youtube.com/channel/UChhLOP054BsYwkzY8PT8u5/videos\n"
          ]
        },
        {
          "name": "stderr",
          "output_type": "stream",
          "text": [
            " 28%|██▊       | 535/1936 [46:48<1:56:11,  4.98s/it]"
          ]
        },
        {
          "name": "stdout",
          "output_type": "stream",
          "text": [
            "1시간 전 5.5만\n",
            "21시간 전 194만\n",
            "8시간 전 86만\n",
            "조회수 6347만회 70만\n",
            "조회수 135만회 176만\n",
            "조회수 20만회 200만\n",
            "조회수 196만회 122만\n",
            "조회수 90만회 128만\n",
            "조회수 118만회 133만\n",
            "1년 전 647만\n",
            "11일 전 187만\n",
            "15시간 전 220만\n",
            "10시간 전 93만\n",
            "15시간 전 151만\n",
            "16시간 전 75만\n",
            "4일 전 267만\n",
            "1일 전 107만\n",
            "3일 전 42만\n",
            "535 https://www.youtube.com/channel/UCDs_Vxa5FgYjHehihXtdA7w/videos\n"
          ]
        },
        {
          "name": "stderr",
          "output_type": "stream",
          "text": [
            " 28%|██▊       | 536/1936 [46:53<1:52:56,  4.84s/it]"
          ]
        },
        {
          "name": "stdout",
          "output_type": "stream",
          "text": [
            "3주 전 9.2천\n",
            "1개월 전 1.3만\n",
            "1개월 전 1.6만\n",
            "1개월 전 1.3만\n",
            "2개월 전 1.3만\n",
            "2개월 전 1.3만\n",
            "2개월 전 1.5만\n",
            "2개월 전 1.2만\n",
            "3개월 전 1.4만\n",
            "3개월 전 1.3만\n",
            "3개월 전 1.4만\n",
            "3개월 전 1.4만\n",
            "536 https://www.youtube.com/channel/UCMswODzU1ZjjrLyUk7NfwPA/videos\n"
          ]
        },
        {
          "name": "stderr",
          "output_type": "stream",
          "text": [
            " 28%|██▊       | 537/1936 [46:58<1:57:05,  5.02s/it]"
          ]
        },
        {
          "name": "stdout",
          "output_type": "stream",
          "text": [
            "2일 전 4.1만\n",
            "5일 전 3.4만\n",
            "8일 전 3.4만\n",
            "11일 전 3.1만\n",
            "2주 전 7.5만\n",
            "2주 전 3.8만\n",
            "3주 전 4.1만\n",
            "3주 전 5.3만\n",
            "4주 전 5.8만\n",
            "1개월 전 5.7만\n",
            "1개월 전 4.3만\n",
            "1개월 전 9.3만\n",
            "1개월 전 27만\n",
            "1개월 전 9.9만\n",
            "1개월 전 3.2만\n",
            "1개월 전 5.2만\n",
            "1개월 전 6.5만\n",
            "1개월 전 4.5만\n",
            "2개월 전 5.2만\n",
            "2개월 전 4.5만\n",
            "2개월 전 3.7만\n",
            "2개월 전 7.8만\n",
            "2개월 전 5.1만\n",
            "2개월 전 3.2만\n",
            "2개월 전 5.7만\n",
            "2개월 전 5.8만\n",
            "2개월 전 4.2만\n",
            "2개월 전 3.5만\n",
            "2개월 전 9.9만\n",
            "2개월 전 9.8만\n",
            "537 https://www.youtube.com/channel/UCpn9dP1b5BhBsU9SduEz1hA/videos\n"
          ]
        },
        {
          "name": "stderr",
          "output_type": "stream",
          "text": [
            " 28%|██▊       | 538/1936 [47:03<1:58:44,  5.10s/it]"
          ]
        },
        {
          "name": "stdout",
          "output_type": "stream",
          "text": [
            "21시간 전 9천\n",
            "4일 전 3만\n",
            "5일 전 1.1만\n",
            "8일 전 1.8만\n",
            "11일 전 1.8만\n",
            "12일 전 1.3만\n",
            "2주 전 1.3만\n",
            "2주 전 1.3만\n",
            "3주 전 1.3만\n",
            "3주 전 3.2만\n",
            "4주 전 1.6만\n",
            "1개월 전 1.7만\n",
            "1개월 전 1.8만\n",
            "1개월 전 1.3만\n",
            "1개월 전 4.9만\n",
            "1개월 전 3.5만\n",
            "1개월 전 2.5만\n",
            "1개월 전 1.6만\n",
            "1개월 전 1.3만\n",
            "1개월 전 2.7만\n",
            "1개월 전 1.5만\n",
            "1개월 전 1.8만\n",
            "1개월 전 2만\n",
            "1개월 전 2.1만\n",
            "2개월 전 1.5만\n",
            "2개월 전 1.2만\n",
            "2개월 전 1.8만\n",
            "2개월 전 1.9만\n",
            "2개월 전 4.2만\n",
            "538 https://www.youtube.com/channel/UCHe08MV-b1IWnsqRijJj5JQ/videos\n"
          ]
        },
        {
          "name": "stderr",
          "output_type": "stream",
          "text": [
            " 28%|██▊       | 539/1936 [47:08<1:59:04,  5.11s/it]"
          ]
        },
        {
          "name": "stdout",
          "output_type": "stream",
          "text": [
            "20시간 전 1.2천\n",
            "2일 전 2.5천\n",
            "3일 전 964\n",
            "3일 전 558\n",
            "4일 전 3천\n",
            "5일 전 1.2천\n",
            "6일 전 771\n",
            "7일 전 2.1천\n",
            "9일 전 1천\n",
            "9일 전 534\n",
            "10일 전 2천\n",
            "11일 전 1.6천\n",
            "13일 전 1천\n",
            "13일 전 3.3천\n",
            "2주 전 3.5천\n",
            "2주 전 1.9천\n",
            "2주 전 8.9천\n",
            "2주 전 1.2천\n",
            "2주 전 2.1천\n",
            "3주 전 1.2천\n",
            "3주 전 3.3천\n",
            "3주 전 4.4천\n",
            "3주 전 862\n",
            "3주 전 548\n",
            "3주 전 666\n",
            "3주 전 1.8천\n",
            "3주 전 3.8천\n",
            "3주 전 2.1천\n",
            "3주 전 4.8천\n",
            "539 https://www.youtube.com/channel/UCABvetlXpdOwFz10fCpJkwQ/videos\n"
          ]
        },
        {
          "name": "stderr",
          "output_type": "stream",
          "text": [
            " 28%|██▊       | 540/1936 [47:14<2:00:59,  5.20s/it]"
          ]
        },
        {
          "name": "stdout",
          "output_type": "stream",
          "text": [
            "1일 전 7.1만\n",
            "10일 전 2.1만\n",
            "12일 전 7.5만\n",
            "3주 전 10만\n",
            "3주 전 7.1만\n",
            "3주 전 6.4만\n",
            "1개월 전 3.7만\n",
            "1개월 전 42만\n",
            "1개월 전 15만\n",
            "1개월 전 2.2만\n",
            "1개월 전 7.7만\n",
            "1개월 전 17만\n",
            "2개월 전 48만\n",
            "2개월 전 2.4만\n",
            "2개월 전 6만\n",
            "2개월 전 1.3만\n",
            "2개월 전 6.7만\n",
            "2개월 전 4.1만\n",
            "2개월 전 6.3만\n",
            "2개월 전 23만\n",
            "2개월 전 4.2만\n",
            "2개월 전 5만\n",
            "3개월 전 4.3만\n",
            "3개월 전 4.2만\n",
            "3개월 전 10만\n",
            "3개월 전 32만\n",
            "3개월 전 3만\n",
            "3개월 전 13만\n",
            "3개월 전 11만\n",
            "3개월 전 48만\n",
            "540 https://www.youtube.com/channel/UCDX7VErirWPVNyu-HkFCbyQ/videos\n"
          ]
        },
        {
          "name": "stderr",
          "output_type": "stream",
          "text": [
            " 28%|██▊       | 541/1936 [47:19<2:00:32,  5.18s/it]"
          ]
        },
        {
          "name": "stdout",
          "output_type": "stream",
          "text": [
            "4일 전 7.5천\n",
            "2개월 전 6.5만\n",
            "2개월 전 2.9만\n",
            "3개월 전 2.2만\n",
            "541 https://www.youtube.com/channel/UCDsDdULLy8bbeFfAPC2mp5w/videos\n"
          ]
        },
        {
          "name": "stderr",
          "output_type": "stream",
          "text": [
            " 28%|██▊       | 542/1936 [47:25<2:03:36,  5.32s/it]"
          ]
        },
        {
          "name": "stdout",
          "output_type": "stream",
          "text": [
            "4일 전 1.2만\n",
            "5일 전 2.3만\n",
            "6일 전 1.4만\n",
            "12일 전 1.8만\n",
            "12일 전 2.3만\n",
            "2주 전 2.6만\n",
            "2주 전 8.2천\n",
            "3주 전 2.4만\n",
            "3주 전 1.7만\n",
            "3주 전 8천\n",
            "1개월 전 3.9만\n",
            "1개월 전 2.2만\n",
            "1개월 전 9.9천\n",
            "1개월 전 4.7만\n",
            "1개월 전 3.1만\n",
            "1개월 전 3.1만\n",
            "1개월 전 1.9만\n",
            "1개월 전 2.3만\n",
            "1개월 전 1.8만\n",
            "1개월 전 1만\n",
            "1개월 전 2만\n",
            "1개월 전 2.6만\n",
            "1개월 전 3.1만\n",
            "2개월 전 2.3만\n",
            "2개월 전 1.5만\n",
            "2개월 전 4만\n",
            "2개월 전 2.7만\n",
            "2개월 전 1.3만\n",
            "3개월 전 3.4만\n",
            "3개월 전 2만\n",
            "542 https://www.youtube.com/channel/UC4rh5RVSMT00G29ySkkt1hg/videos\n"
          ]
        },
        {
          "name": "stderr",
          "output_type": "stream",
          "text": [
            " 28%|██▊       | 543/1936 [47:30<2:04:29,  5.36s/it]"
          ]
        },
        {
          "name": "stdout",
          "output_type": "stream",
          "text": [
            "16시간 전 6.6천\n",
            "4일 전 2만\n",
            "7일 전 2.9만\n",
            "11일 전 3.4만\n",
            "13일 전 7만\n",
            "2주 전 12만\n",
            "3주 전 20만\n",
            "3주 전 40만\n",
            "4주 전 6만\n",
            "1개월 전 8.9만\n",
            "1개월 전 8.9만\n",
            "1개월 전 9.1만\n",
            "1개월 전 1.1만\n",
            "1개월 전 7.7만\n",
            "1개월 전 2.4만\n",
            "1개월 전 2.9만\n",
            "1개월 전 7.5만\n",
            "1개월 전 13만\n",
            "2개월 전 18만\n",
            "2개월 전 20만\n",
            "2개월 전 5.6만\n",
            "2개월 전 22만\n",
            "2개월 전 9.2만\n",
            "2개월 전 29만\n",
            "2개월 전 14만\n",
            "2개월 전 31만\n",
            "3개월 전 4.3만\n",
            "3개월 전 26만\n",
            "3개월 전 7.6만\n",
            "543 https://www.youtube.com/channel/UCkSFGLd3l3tJRC6aWQHqYuA/videos\n"
          ]
        },
        {
          "name": "stderr",
          "output_type": "stream",
          "text": [
            " 28%|██▊       | 544/1936 [47:35<2:02:42,  5.29s/it]"
          ]
        },
        {
          "name": "stdout",
          "output_type": "stream",
          "text": [
            "2주 전 5.4만\n",
            "3주 전 15만\n",
            "1개월 전 25만\n",
            "1개월 전 28만\n",
            "2개월 전 10만\n",
            "2개월 전 8.7만\n",
            "3개월 전 15만\n",
            "3개월 전 7.4만\n",
            "544 https://www.youtube.com/channel/UC2n21z89m7TRTbwzwW7JOEA/videos\n"
          ]
        },
        {
          "name": "stderr",
          "output_type": "stream",
          "text": [
            " 28%|██▊       | 545/1936 [47:40<2:02:06,  5.27s/it]"
          ]
        },
        {
          "name": "stdout",
          "output_type": "stream",
          "text": [
            "1일 전 446\n",
            "6일 전 971\n",
            "11일 전 753\n",
            "2주 전 859\n",
            "3주 전 747\n",
            "1개월 전 977\n",
            "1개월 전 1.1천\n",
            "1개월 전 1.8천\n",
            "1개월 전 1.8천\n",
            "2개월 전 1.2천\n",
            "2개월 전 1천\n",
            "2개월 전 1.9천\n",
            "2개월 전 887\n",
            "3개월 전 2천\n",
            "3개월 전 5.9천\n",
            "3개월 전 1.9천\n",
            "545 https://www.youtube.com/channel/UCfV7Lk2gu1tlEiS7KnkiL_w/videos\n"
          ]
        },
        {
          "name": "stderr",
          "output_type": "stream",
          "text": [
            " 28%|██▊       | 546/1936 [47:45<2:00:49,  5.22s/it]"
          ]
        },
        {
          "name": "stdout",
          "output_type": "stream",
          "text": [
            "4일 전 1천\n",
            "5일 전 318\n",
            "13일 전 251\n",
            "2주 전 702\n",
            "1개월 전 1.5천\n",
            "1개월 전 661\n",
            "1개월 전 756\n",
            "1개월 전 1.9천\n",
            "1개월 전 308\n",
            "1개월 전 526\n",
            "1개월 전 1.7천\n",
            "1개월 전 1.8천\n",
            "2개월 전 1.6천\n",
            "2개월 전 1.2천\n",
            "2개월 전 2.2천\n",
            "2개월 전 1.4천\n",
            "2개월 전 1.8천\n",
            "2개월 전 4.5천\n",
            "2개월 전 4.1천\n",
            "2개월 전 2.3천\n",
            "2개월 전 3.4천\n",
            "546 https://www.youtube.com/channel/UChdoL5evvYdYWXCWS_5dFhw/videos\n"
          ]
        },
        {
          "name": "stderr",
          "output_type": "stream",
          "text": [
            " 28%|██▊       | 547/1936 [47:51<2:00:29,  5.20s/it]"
          ]
        },
        {
          "name": "stdout",
          "output_type": "stream",
          "text": [
            "22시간 전 8.1천\n",
            "5일 전 1.5만\n",
            "11일 전 2.2만\n",
            "2주 전 1만\n",
            "3주 전 1.9만\n",
            "1개월 전 1.1만\n",
            "1개월 전 1.2만\n",
            "1개월 전 1.8만\n",
            "1개월 전 8.6천\n",
            "1개월 전 6천\n",
            "1개월 전 1.1만\n",
            "1개월 전 1만\n",
            "2개월 전 1.1만\n",
            "2개월 전 1.4만\n",
            "2개월 전 1.1만\n",
            "2개월 전 1.5만\n",
            "2개월 전 1.4만\n",
            "2개월 전 1.3만\n",
            "2개월 전 1.3만\n",
            "3개월 전 8.5천\n",
            "3개월 전 1.2만\n",
            "3개월 전 1.4만\n",
            "3개월 전 1.7만\n",
            "3개월 전 1.3만\n",
            "3개월 전 1.6만\n",
            "3개월 전 2.2만\n",
            "547 https://www.youtube.com/channel/UCKxLXXUTY6bt9Dxuu-pJ4Yw/videos\n"
          ]
        },
        {
          "name": "stderr",
          "output_type": "stream",
          "text": [
            " 28%|██▊       | 548/1936 [47:55<1:57:35,  5.08s/it]"
          ]
        },
        {
          "name": "stdout",
          "output_type": "stream",
          "text": [
            "1일 전 20만\n",
            "4일 전 19만\n",
            "6일 전 20만\n",
            "8일 전 9.6만\n",
            "13일 전 11만\n",
            "2주 전 19만\n",
            "2주 전 37만\n",
            "2주 전 18만\n",
            "3주 전 11만\n",
            "3주 전 23만\n",
            "4주 전 24만\n",
            "1개월 전 20만\n",
            "1개월 전 30만\n",
            "1개월 전 10만\n",
            "1개월 전 14만\n",
            "1개월 전 13만\n",
            "1개월 전 14만\n",
            "1개월 전 27만\n",
            "1개월 전 43만\n",
            "1개월 전 48만\n",
            "1개월 전 22만\n",
            "1개월 전 12만\n",
            "1개월 전 19만\n",
            "2개월 전 28만\n",
            "2개월 전 27만\n",
            "2개월 전 19만\n",
            "2개월 전 35만\n",
            "2개월 전 59만\n",
            "2개월 전 22만\n",
            "2개월 전 33만\n",
            "548 https://www.youtube.com/channel/UCnM1q7wj-6UiewPkajot4nw/videos\n"
          ]
        },
        {
          "name": "stderr",
          "output_type": "stream",
          "text": [
            " 28%|██▊       | 549/1936 [48:00<1:55:49,  5.01s/it]"
          ]
        },
        {
          "name": "stdout",
          "output_type": "stream",
          "text": [
            "1일 전 3.6만\n",
            "1개월 전 5.6만\n",
            "1개월 전 6.8만\n",
            "1개월 전 5.1만\n",
            "2개월 전 1.5만\n",
            "2개월 전 2.3만\n",
            "3개월 전 1.8만\n",
            "3개월 전 5.7만\n",
            "3개월 전 3.8만\n",
            "3개월 전 2.1만\n",
            "549 https://www.youtube.com/channel/UCWL_9MaaMy8ObTDPmVHemjA/videos\n"
          ]
        },
        {
          "name": "stderr",
          "output_type": "stream",
          "text": [
            " 28%|██▊       | 550/1936 [48:06<1:58:32,  5.13s/it]"
          ]
        },
        {
          "name": "stdout",
          "output_type": "stream",
          "text": [
            "2일 전 1.8만\n",
            "8일 전 2.5만\n",
            "2주 전 4만\n",
            "4주 전 3.1만\n",
            "1개월 전 4.1만\n",
            "1개월 전 5.1만\n",
            "1개월 전 5.6만\n",
            "2개월 전 8만\n",
            "2개월 전 4.9만\n",
            "2개월 전 14만\n",
            "2개월 전 11만\n",
            "3개월 전 12만\n",
            "3개월 전 4.3만\n",
            "3개월 전 8.5만\n",
            "3개월 전 9.8만\n",
            "550 https://www.youtube.com/channel/UCfMhxm8wqoTxM0Jc4EJUG3w/videos\n"
          ]
        },
        {
          "name": "stderr",
          "output_type": "stream",
          "text": [
            " 28%|██▊       | 551/1936 [48:11<1:59:03,  5.16s/it]"
          ]
        },
        {
          "name": "stdout",
          "output_type": "stream",
          "text": [
            "3개월 전 9.1천\n",
            "551 https://www.youtube.com/channel/UCNaFCDXiYcAf8bmXbdkY9mw/videos\n"
          ]
        },
        {
          "name": "stderr",
          "output_type": "stream",
          "text": [
            " 29%|██▊       | 552/1936 [48:16<1:58:49,  5.15s/it]"
          ]
        },
        {
          "name": "stdout",
          "output_type": "stream",
          "text": [
            "552 https://www.youtube.com/channel/UCNPiNBzfniEdxaSA50Lw1uA/videos\n"
          ]
        },
        {
          "name": "stderr",
          "output_type": "stream",
          "text": [
            " 29%|██▊       | 553/1936 [48:21<1:57:59,  5.12s/it]"
          ]
        },
        {
          "name": "stdout",
          "output_type": "stream",
          "text": [
            "7일 전 2.5만\n",
            "3주 전 17만\n",
            "1개월 전 2.1만\n",
            "1개월 전 4.7만\n",
            "1개월 전 8.7만\n",
            "2개월 전 4.1만\n",
            "2개월 전 4.5만\n",
            "2개월 전 6.5만\n",
            "3개월 전 8.6만\n",
            "3개월 전 12만\n",
            "3개월 전 3.6만\n",
            "553 https://www.youtube.com/channel/UCGjUdE6Am0thjpnZ5M1qaDA/videos\n"
          ]
        },
        {
          "name": "stderr",
          "output_type": "stream",
          "text": [
            " 29%|██▊       | 554/1936 [48:27<1:59:41,  5.20s/it]"
          ]
        },
        {
          "name": "stdout",
          "output_type": "stream",
          "text": [
            "19시간 전 1.4천\n",
            "4일 전 9.6천\n",
            "4일 전 7.7천\n",
            "13일 전 1.9만\n",
            "3주 전 1.8만\n",
            "3주 전 1.2만\n",
            "1개월 전 6.1만\n",
            "1개월 전 3.6만\n",
            "1개월 전 2.8만\n",
            "1개월 전 2.7만\n",
            "1개월 전 1.7만\n",
            "2개월 전 6.2만\n",
            "2개월 전 6.9만\n",
            "2개월 전 4.5만\n",
            "2개월 전 27만\n",
            "2개월 전 1.4만\n",
            "2개월 전 4.3만\n",
            "2개월 전 2.8만\n",
            "3개월 전 2.7만\n",
            "3개월 전 3.2만\n",
            "3개월 전 6.9만\n",
            "3개월 전 5.9만\n",
            "554 https://www.youtube.com/channel/UCYH0isveXrujjCH4Z2F4p4g/videos\n"
          ]
        },
        {
          "name": "stderr",
          "output_type": "stream",
          "text": [
            " 29%|██▊       | 555/1936 [48:32<2:00:11,  5.22s/it]"
          ]
        },
        {
          "name": "stdout",
          "output_type": "stream",
          "text": [
            "2일 전 4.5만\n",
            "8일 전 6.5천\n",
            "9일 전 1.7만\n",
            "2주 전 9.5만\n",
            "3주 전 4.2만\n",
            "1개월 전 13만\n",
            "1개월 전 3.3만\n",
            "1개월 전 15만\n",
            "1개월 전 41만\n",
            "1개월 전 6.6만\n",
            "1개월 전 152만\n",
            "1개월 전 131만\n",
            "1개월 전 10만\n",
            "2개월 전 23만\n",
            "2개월 전 3.7만\n",
            "2개월 전 51만\n",
            "2개월 전 20만\n",
            "2개월 전 11만\n",
            "2개월 전 4.8만\n",
            "2개월 전 58만\n",
            "2개월 전 2.3만\n",
            "2개월 전 34만\n",
            "3개월 전 2.2만\n",
            "3개월 전 2.4만\n",
            "3개월 전 5.1만\n",
            "3개월 전 21만\n",
            "3개월 전 5.7만\n",
            "3개월 전 79만\n",
            "3개월 전 7.8만\n",
            "3개월 전 8.2만\n",
            "555 https://www.youtube.com/channel/UC1ig0B3mPPXViUMTN5Hm-Ig/videos\n"
          ]
        },
        {
          "name": "stderr",
          "output_type": "stream",
          "text": [
            " 29%|██▊       | 556/1936 [48:37<2:00:49,  5.25s/it]"
          ]
        },
        {
          "name": "stdout",
          "output_type": "stream",
          "text": [
            "21시간 전 4.7천\n",
            "3일 전 7.4천\n",
            "10일 전 1.6만\n",
            "2주 전 2.7만\n",
            "2주 전 2.7만\n",
            "3주 전 1.1만\n",
            "1개월 전 1.4만\n",
            "556 https://www.youtube.com/channel/UCDd2WQ-qpZU-Mt9mphLQvvg/videos\n"
          ]
        },
        {
          "name": "stderr",
          "output_type": "stream",
          "text": [
            " 29%|██▉       | 557/1936 [48:42<2:00:25,  5.24s/it]"
          ]
        },
        {
          "name": "stdout",
          "output_type": "stream",
          "text": [
            "557 https://www.youtube.com/channel/UC_wmozZ-vqn15BOmdNL9eFg/videos\n"
          ]
        },
        {
          "name": "stderr",
          "output_type": "stream",
          "text": [
            " 29%|██▉       | 558/1936 [48:47<1:58:51,  5.18s/it]"
          ]
        },
        {
          "name": "stdout",
          "output_type": "stream",
          "text": [
            "5일 전 5.9만\n",
            "12일 전 12만\n",
            "2주 전 5.7만\n",
            "3주 전 7만\n",
            "1개월 전 9.1만\n",
            "1개월 전 8.5만\n",
            "1개월 전 16만\n",
            "1개월 전 8.4만\n",
            "1개월 전 10만\n",
            "2개월 전 22만\n",
            "2개월 전 7.8만\n",
            "2개월 전 8.4만\n",
            "2개월 전 23만\n",
            "3개월 전 8.8만\n",
            "3개월 전 12만\n",
            "3개월 전 11만\n",
            "3개월 전 11만\n",
            "558 https://www.youtube.com/channel/UCo64won7sLDKy7uJrSsDi1g/videos\n"
          ]
        },
        {
          "name": "stderr",
          "output_type": "stream",
          "text": [
            " 29%|██▉       | 559/1936 [48:53<1:58:51,  5.18s/it]"
          ]
        },
        {
          "name": "stdout",
          "output_type": "stream",
          "text": [
            "559 https://www.youtube.com/channel/UCiTGSmGgJtKTcjEvDk_zRhw/videos\n"
          ]
        },
        {
          "name": "stderr",
          "output_type": "stream",
          "text": [
            " 29%|██▉       | 560/1936 [48:58<1:58:46,  5.18s/it]"
          ]
        },
        {
          "name": "stdout",
          "output_type": "stream",
          "text": [
            "4일 전 35만\n",
            "11일 전 43만\n",
            "2주 전 14만\n",
            "3주 전 21만\n",
            "1개월 전 27만\n",
            "1개월 전 20만\n",
            "1개월 전 36만\n",
            "1개월 전 17만\n",
            "1개월 전 43만\n",
            "2개월 전 51만\n",
            "2개월 전 28만\n",
            "2개월 전 36만\n",
            "2개월 전 39만\n",
            "3개월 전 49만\n",
            "3개월 전 23만\n",
            "3개월 전 199만\n",
            "3개월 전 43만\n",
            "560 https://www.youtube.com/channel/UCce3PH3buyT9uGnhsf5Em2w/videos\n"
          ]
        },
        {
          "name": "stderr",
          "output_type": "stream",
          "text": [
            " 29%|██▉       | 561/1936 [49:03<1:58:10,  5.16s/it]"
          ]
        },
        {
          "name": "stdout",
          "output_type": "stream",
          "text": [
            "5일 전 3.3천\n",
            "10일 전 1.7천\n",
            "13일 전 606\n",
            "2주 전 9.7천\n",
            "3개월 전 1.1만\n",
            "3개월 전 2만\n",
            "3개월 전 3.8천\n",
            "561 https://www.youtube.com/channel/UCxDq8ax_W3iGryBKPEl4yrA/videos\n"
          ]
        },
        {
          "name": "stderr",
          "output_type": "stream",
          "text": [
            " 29%|██▉       | 562/1936 [49:08<1:59:13,  5.21s/it]"
          ]
        },
        {
          "name": "stdout",
          "output_type": "stream",
          "text": [
            "2주 전 3.6만\n",
            "4주 전 4.1만\n",
            "1개월 전 2.7만\n",
            "1개월 전 3.5만\n",
            "2개월 전 3만\n",
            "2개월 전 6.3만\n",
            "2개월 전 4.6만\n",
            "2개월 전 5.5만\n",
            "3개월 전 5.9만\n",
            "3개월 전 4.4만\n",
            "3개월 전 6.2만\n",
            "3개월 전 8.8만\n",
            "3개월 전 12만\n",
            "3개월 전 9.2만\n",
            "3개월 전 3.4만\n",
            "562 https://www.youtube.com/channel/UCbkrEw1LDPvrT3QZRrkVjng/videos\n"
          ]
        },
        {
          "name": "stderr",
          "output_type": "stream",
          "text": [
            " 29%|██▉       | 563/1936 [49:13<1:57:59,  5.16s/it]"
          ]
        },
        {
          "name": "stdout",
          "output_type": "stream",
          "text": [
            "4일 전 1.2만\n",
            "11일 전 1.5만\n",
            "2주 전 2.2만\n",
            "3주 전 6만\n",
            "1개월 전 2.5만\n",
            "1개월 전 4.6만\n",
            "1개월 전 2.9만\n",
            "1개월 전 4.9만\n",
            "1개월 전 3.7만\n",
            "2개월 전 10만\n",
            "2개월 전 14만\n",
            "2개월 전 3.7만\n",
            "2개월 전 7만\n",
            "3개월 전 3.8만\n",
            "3개월 전 9.3만\n",
            "3개월 전 4.6만\n",
            "3개월 전 2.8만\n",
            "563 https://www.youtube.com/channel/UCdnt5FaC4-84KC7mvl_0muA/videos\n"
          ]
        },
        {
          "name": "stderr",
          "output_type": "stream",
          "text": [
            " 29%|██▉       | 564/1936 [49:18<1:57:01,  5.12s/it]"
          ]
        },
        {
          "name": "stdout",
          "output_type": "stream",
          "text": [
            "5일 전 3.8천\n",
            "8일 전 1.1만\n",
            "3주 전 5.5만\n",
            "1개월 전 6만\n",
            "2개월 전 1.2만\n",
            "2개월 전 9.8천\n",
            "2개월 전 1.3만\n",
            "2개월 전 1.6만\n",
            "2개월 전 1.8만\n",
            "3개월 전 1.8만\n",
            "3개월 전 1.2만\n",
            "3개월 전 4.5만\n",
            "3개월 전 1만\n",
            "3개월 전 2.5만\n",
            "564 https://www.youtube.com/channel/UCnzIjdaHN3nHWZhYsFqBb3Q/videos\n"
          ]
        },
        {
          "name": "stderr",
          "output_type": "stream",
          "text": [
            " 29%|██▉       | 565/1936 [49:23<1:57:20,  5.14s/it]"
          ]
        },
        {
          "name": "stdout",
          "output_type": "stream",
          "text": [
            "565 https://www.youtube.com/channel/UC1PNhKsPBvvHKfKLBetZpOw/videos\n"
          ]
        },
        {
          "name": "stderr",
          "output_type": "stream",
          "text": [
            " 29%|██▉       | 566/1936 [49:28<1:56:27,  5.10s/it]"
          ]
        },
        {
          "name": "stdout",
          "output_type": "stream",
          "text": [
            "2주 전 10만\n",
            "4주 전 9만\n",
            "1개월 전 7.8만\n",
            "1개월 전 4.7만\n",
            "1개월 전 4.9만\n",
            "2개월 전 8.7만\n",
            "2개월 전 8.3만\n",
            "2개월 전 11만\n",
            "2개월 전 5.8만\n",
            "2개월 전 3.7만\n",
            "2개월 전 4.7만\n",
            "3개월 전 2.1만\n",
            "3개월 전 5.6만\n",
            "3개월 전 26만\n",
            "3개월 전 5.2만\n",
            "566 https://www.youtube.com/channel/UChv_AhkfYyQ2IXYQbKsUWsw/videos\n"
          ]
        },
        {
          "name": "stderr",
          "output_type": "stream",
          "text": [
            " 29%|██▉       | 567/1936 [49:33<1:55:55,  5.08s/it]"
          ]
        },
        {
          "name": "stdout",
          "output_type": "stream",
          "text": [
            "3주 전 9.2천\n",
            "1개월 전 1.8만\n",
            "1개월 전 1.9만\n",
            "1개월 전 4천\n",
            "1개월 전 5.7천\n",
            "1개월 전 5.9천\n",
            "2개월 전 3만\n",
            "2개월 전 3.2만\n",
            "2개월 전 3만\n",
            "2개월 전 2.2만\n",
            "2개월 전 8만\n",
            "3개월 전 17만\n",
            "3개월 전 11만\n",
            "3개월 전 18만\n",
            "3개월 전 1.8만\n",
            "3개월 전 5만\n",
            "3개월 전 4.9만\n",
            "3개월 전 6.9만\n",
            "3개월 전 10만\n",
            "567 https://www.youtube.com/channel/UCb-AbqZutk9nTlJLZRcBinw/videos\n"
          ]
        },
        {
          "name": "stderr",
          "output_type": "stream",
          "text": [
            " 29%|██▉       | 568/1936 [49:39<1:56:32,  5.11s/it]"
          ]
        },
        {
          "name": "stdout",
          "output_type": "stream",
          "text": [
            "2시간 전 4천\n",
            "2일 전 2.6만\n",
            "5일 전 1.4만\n",
            "6일 전 11만\n",
            "8일 전 2.1만\n",
            "9일 전 1.9만\n",
            "12일 전 1.2만\n",
            "13일 전 1.3만\n",
            "2주 전 2.3만\n",
            "2주 전 2.8만\n",
            "2주 전 2.1만\n",
            "2주 전 1.9만\n",
            "3주 전 8.9만\n",
            "3주 전 2만\n",
            "3주 전 1.2만\n",
            "3주 전 1.8만\n",
            "4주 전 2.2만\n",
            "4주 전 4.4만\n",
            "1개월 전 4.4만\n",
            "1개월 전 12만\n",
            "1개월 전 2.6만\n",
            "1개월 전 2.6만\n",
            "1개월 전 14만\n",
            "1개월 전 31만\n",
            "1개월 전 2.6만\n",
            "1개월 전 11만\n",
            "1개월 전 4.1만\n",
            "1개월 전 2.5만\n",
            "1개월 전 1.8만\n",
            "568 https://www.youtube.com/channel/UCpAJ17cZfVrI10Eq4zaBLzg/videos\n"
          ]
        },
        {
          "name": "stderr",
          "output_type": "stream",
          "text": [
            " 29%|██▉       | 569/1936 [49:44<1:56:38,  5.12s/it]"
          ]
        },
        {
          "name": "stdout",
          "output_type": "stream",
          "text": [
            "2주 전 1.6만\n",
            "1개월 전 1.9만\n",
            "2개월 전 12만\n",
            "3개월 전 2.1만\n",
            "569 https://www.youtube.com/channel/UC-6DLwseTZG-l4JprVV2MIQ/videos\n"
          ]
        },
        {
          "name": "stderr",
          "output_type": "stream",
          "text": [
            " 29%|██▉       | 570/1936 [49:49<1:56:34,  5.12s/it]"
          ]
        },
        {
          "name": "stdout",
          "output_type": "stream",
          "text": [
            "2일 전 1천\n",
            "9일 전 1.7천\n",
            "2주 전 1.9천\n",
            "3주 전 2.3천\n",
            "4주 전 2.7천\n",
            "1개월 전 8.9천\n",
            "1개월 전 1천\n",
            "1개월 전 1.5천\n",
            "1개월 전 1.3천\n",
            "2개월 전 4.2만\n",
            "2개월 전 3.8천\n",
            "2개월 전 2천\n",
            "2개월 전 1.6만\n",
            "2개월 전 1.7천\n",
            "3개월 전 4.1만\n",
            "3개월 전 8.1천\n",
            "3개월 전 1.3만\n",
            "3개월 전 1.2만\n",
            "570 https://www.youtube.com/channel/UCW5FEe1eiOAKzcnhmeI0Mzw/videos\n"
          ]
        },
        {
          "name": "stderr",
          "output_type": "stream",
          "text": [
            " 29%|██▉       | 571/1936 [50:48<2:01:28,  5.34s/it]"
          ]
        },
        {
          "name": "stdout",
          "output_type": "stream",
          "text": [
            "3주 전 2.7천\n",
            "1개월 전 1.9천\n",
            "571 https://www.youtube.com/channel/UCZTPmBCj8BLhn0DpzGaz4gA/videos\n"
          ]
        },
        {
          "name": "stderr",
          "output_type": "stream",
          "text": [
            "\n"
          ]
        },
        {
          "ename": "WebDriverException",
          "evalue": "Message: disconnected: not connected to DevTools\n  (failed to check if window was closed: disconnected: not connected to DevTools)\n  (Session info: chrome=116.0.5845.188)\nStacktrace:\n\tGetHandleVerifier [0x00007FF6080252A2+57122]\n\t(No symbol) [0x00007FF607F9EA92]\n\t(No symbol) [0x00007FF607E6E3AB]\n\t(No symbol) [0x00007FF607E5BA47]\n\t(No symbol) [0x00007FF607E5B6C0]\n\t(No symbol) [0x00007FF607E6FA71]\n\t(No symbol) [0x00007FF607EDE27F]\n\t(No symbol) [0x00007FF607EC6DB3]\n\t(No symbol) [0x00007FF607E9D2B1]\n\t(No symbol) [0x00007FF607E9E494]\n\tGetHandleVerifier [0x00007FF6082CEF82+2849794]\n\tGetHandleVerifier [0x00007FF608321D24+3189156]\n\tGetHandleVerifier [0x00007FF60831ACAF+3160367]\n\tGetHandleVerifier [0x00007FF6080B6D06+653702]\n\t(No symbol) [0x00007FF607FAA208]\n\t(No symbol) [0x00007FF607FA62C4]\n\t(No symbol) [0x00007FF607FA63F6]\n\t(No symbol) [0x00007FF607F967A3]\n\tBaseThreadInitThunk [0x00007FFF13F226AD+29]\n\tRtlUserThreadStart [0x00007FFF15C6AA68+40]\n",
          "output_type": "error",
          "traceback": [
            "\u001b[1;31m---------------------------------------------------------------------------\u001b[0m",
            "\u001b[1;31mWebDriverException\u001b[0m                        Traceback (most recent call last)",
            "\u001b[1;32mc:\\Users\\SANDBOX\\Desktop\\Sandbox\\crawling\\youtube_crawling.ipynb Cell 3\u001b[0m line \u001b[0;36m1\n\u001b[0;32m      <a href='vscode-notebook-cell:/c%3A/Users/SANDBOX/Desktop/Sandbox/crawling/youtube_crawling.ipynb#W2sZmlsZQ%3D%3D?line=7'>8</a>\u001b[0m url \u001b[39m=\u001b[39m \u001b[39m'\u001b[39m\u001b[39mhttps://www.youtube.com/channel/\u001b[39m\u001b[39m'\u001b[39m \u001b[39m+\u001b[39m channel_id_list[i] \u001b[39m+\u001b[39m \u001b[39m'\u001b[39m\u001b[39m/videos\u001b[39m\u001b[39m'\u001b[39m\n\u001b[0;32m      <a href='vscode-notebook-cell:/c%3A/Users/SANDBOX/Desktop/Sandbox/crawling/youtube_crawling.ipynb#W2sZmlsZQ%3D%3D?line=8'>9</a>\u001b[0m \u001b[39mprint\u001b[39m(i, url)\n\u001b[1;32m---> <a href='vscode-notebook-cell:/c%3A/Users/SANDBOX/Desktop/Sandbox/crawling/youtube_crawling.ipynb#W2sZmlsZQ%3D%3D?line=10'>11</a>\u001b[0m driver\u001b[39m.\u001b[39;49mget(url)\n\u001b[0;32m     <a href='vscode-notebook-cell:/c%3A/Users/SANDBOX/Desktop/Sandbox/crawling/youtube_crawling.ipynb#W2sZmlsZQ%3D%3D?line=11'>12</a>\u001b[0m time\u001b[39m.\u001b[39msleep(\u001b[39m3\u001b[39m)\n\u001b[0;32m     <a href='vscode-notebook-cell:/c%3A/Users/SANDBOX/Desktop/Sandbox/crawling/youtube_crawling.ipynb#W2sZmlsZQ%3D%3D?line=13'>14</a>\u001b[0m pageString \u001b[39m=\u001b[39m driver\u001b[39m.\u001b[39mpage_source\n",
            "File \u001b[1;32m~\\AppData\\Local\\Packages\\PythonSoftwareFoundation.Python.3.11_qbz5n2kfra8p0\\LocalCache\\local-packages\\Python311\\site-packages\\selenium\\webdriver\\remote\\webdriver.py:353\u001b[0m, in \u001b[0;36mWebDriver.get\u001b[1;34m(self, url)\u001b[0m\n\u001b[0;32m    351\u001b[0m \u001b[39mdef\u001b[39;00m \u001b[39mget\u001b[39m(\u001b[39mself\u001b[39m, url: \u001b[39mstr\u001b[39m) \u001b[39m-\u001b[39m\u001b[39m>\u001b[39m \u001b[39mNone\u001b[39;00m:\n\u001b[0;32m    352\u001b[0m \u001b[39m    \u001b[39m\u001b[39m\"\"\"Loads a web page in the current browser session.\"\"\"\u001b[39;00m\n\u001b[1;32m--> 353\u001b[0m     \u001b[39mself\u001b[39;49m\u001b[39m.\u001b[39;49mexecute(Command\u001b[39m.\u001b[39;49mGET, {\u001b[39m\"\u001b[39;49m\u001b[39murl\u001b[39;49m\u001b[39m\"\u001b[39;49m: url})\n",
            "File \u001b[1;32m~\\AppData\\Local\\Packages\\PythonSoftwareFoundation.Python.3.11_qbz5n2kfra8p0\\LocalCache\\local-packages\\Python311\\site-packages\\selenium\\webdriver\\remote\\webdriver.py:344\u001b[0m, in \u001b[0;36mWebDriver.execute\u001b[1;34m(self, driver_command, params)\u001b[0m\n\u001b[0;32m    342\u001b[0m response \u001b[39m=\u001b[39m \u001b[39mself\u001b[39m\u001b[39m.\u001b[39mcommand_executor\u001b[39m.\u001b[39mexecute(driver_command, params)\n\u001b[0;32m    343\u001b[0m \u001b[39mif\u001b[39;00m response:\n\u001b[1;32m--> 344\u001b[0m     \u001b[39mself\u001b[39;49m\u001b[39m.\u001b[39;49merror_handler\u001b[39m.\u001b[39;49mcheck_response(response)\n\u001b[0;32m    345\u001b[0m     response[\u001b[39m\"\u001b[39m\u001b[39mvalue\u001b[39m\u001b[39m\"\u001b[39m] \u001b[39m=\u001b[39m \u001b[39mself\u001b[39m\u001b[39m.\u001b[39m_unwrap_value(response\u001b[39m.\u001b[39mget(\u001b[39m\"\u001b[39m\u001b[39mvalue\u001b[39m\u001b[39m\"\u001b[39m, \u001b[39mNone\u001b[39;00m))\n\u001b[0;32m    346\u001b[0m     \u001b[39mreturn\u001b[39;00m response\n",
            "File \u001b[1;32m~\\AppData\\Local\\Packages\\PythonSoftwareFoundation.Python.3.11_qbz5n2kfra8p0\\LocalCache\\local-packages\\Python311\\site-packages\\selenium\\webdriver\\remote\\errorhandler.py:229\u001b[0m, in \u001b[0;36mErrorHandler.check_response\u001b[1;34m(self, response)\u001b[0m\n\u001b[0;32m    227\u001b[0m         alert_text \u001b[39m=\u001b[39m value[\u001b[39m\"\u001b[39m\u001b[39malert\u001b[39m\u001b[39m\"\u001b[39m]\u001b[39m.\u001b[39mget(\u001b[39m\"\u001b[39m\u001b[39mtext\u001b[39m\u001b[39m\"\u001b[39m)\n\u001b[0;32m    228\u001b[0m     \u001b[39mraise\u001b[39;00m exception_class(message, screen, stacktrace, alert_text)  \u001b[39m# type: ignore[call-arg]  # mypy is not smart enough here\u001b[39;00m\n\u001b[1;32m--> 229\u001b[0m \u001b[39mraise\u001b[39;00m exception_class(message, screen, stacktrace)\n",
            "\u001b[1;31mWebDriverException\u001b[0m: Message: disconnected: not connected to DevTools\n  (failed to check if window was closed: disconnected: not connected to DevTools)\n  (Session info: chrome=116.0.5845.188)\nStacktrace:\n\tGetHandleVerifier [0x00007FF6080252A2+57122]\n\t(No symbol) [0x00007FF607F9EA92]\n\t(No symbol) [0x00007FF607E6E3AB]\n\t(No symbol) [0x00007FF607E5BA47]\n\t(No symbol) [0x00007FF607E5B6C0]\n\t(No symbol) [0x00007FF607E6FA71]\n\t(No symbol) [0x00007FF607EDE27F]\n\t(No symbol) [0x00007FF607EC6DB3]\n\t(No symbol) [0x00007FF607E9D2B1]\n\t(No symbol) [0x00007FF607E9E494]\n\tGetHandleVerifier [0x00007FF6082CEF82+2849794]\n\tGetHandleVerifier [0x00007FF608321D24+3189156]\n\tGetHandleVerifier [0x00007FF60831ACAF+3160367]\n\tGetHandleVerifier [0x00007FF6080B6D06+653702]\n\t(No symbol) [0x00007FF607FAA208]\n\t(No symbol) [0x00007FF607FA62C4]\n\t(No symbol) [0x00007FF607FA63F6]\n\t(No symbol) [0x00007FF607F967A3]\n\tBaseThreadInitThunk [0x00007FFF13F226AD+29]\n\tRtlUserThreadStart [0x00007FFF15C6AA68+40]\n"
          ]
        }
      ],
      "source": [
        "# 크롤링\n",
        "channel_id_list = ncv_df['채널 ID'].unique().tolist()\n",
        "youtube_video_url_dic = {}\n",
        "\n",
        "driver = webdriver.Chrome() # 크롬 옵션 지정 시 options=chrome_options 추가\n",
        "\n",
        "for i in tqdm(range(len(channel_id_list))):\n",
        "    url = 'https://www.youtube.com/channel/' + channel_id_list[i] + '/videos'\n",
        "    print(i, url)\n",
        "\n",
        "    driver.get(url)\n",
        "    time.sleep(3)\n",
        "\n",
        "    pageString = driver.page_source\n",
        "    soup = BeautifulSoup(pageString, features='html.parser')\n",
        "\n",
        "    date_count = 0\n",
        "    video_date_list = []\n",
        "    video_view_list = []\n",
        "    date_list = ['분 전', '시간 전', '1일 전', '2일 전', '3일 전', '4일 전', '5일 전', '6일 전', '7일 전', '8일 전', '9일 전',\n",
        "                 '10일 전', '11일 전', '12일 전', '13일 전', '2주 전', '3주 전', '4주 전', '1개월 전', '2개월 전', '3개월 전']\n",
        "\n",
        "    # 날짜, 제목\n",
        "    date_soup = soup.find_all('span', attrs={'class' : 'inline-metadata-item style-scope ytd-video-meta-block'})[1::2]\n",
        "    title_soup = soup.find_all('yt-formatted-string', attrs={'class' : 'style-scope ytd-rich-grid-media'})\n",
        "    view_soup = soup.find_all('span', attrs={'class' : 'inline-metadata-item style-scope ytd-video-meta-block'})[0::2]\n",
        "\n",
        "    # 날짜 기준에 맞는 영상 개수 카운트\n",
        "    for j in range(len(date_soup)):\n",
        "        if date_soup[j].text in date_list:\n",
        "            date_count += 1\n",
        "        if date_list[0] in date_soup[j].text:\n",
        "            date_count += 1\n",
        "\n",
        "    # 날짜 기준에 맞도록 날짜, 제목 정보 저장\n",
        "    date_soup = date_soup[:date_count]\n",
        "    title_soup = title_soup[:date_count]\n",
        "    view_soup = view_soup[:date_count]\n",
        "\n",
        "    # 영상 url 저장\n",
        "    for k in range(len(date_soup)):\n",
        "        video_date = date_soup[k].text\n",
        "        video_date_list.append(video_date)\n",
        "\n",
        "        video_view = view_soup[k].text.replace('조회수 ', '').replace('회', '')\n",
        "        video_view_list.append(video_view)\n",
        "\n",
        "        print(video_date, video_view)\n",
        "\n",
        "    youtube_video_url_dic[channel_id_list[i]] = video_date_list\n",
        "    youtube_video_url_dic[channel_id_list[i]] = video_view_list\n",
        "    \n",
        "driver.quit()\n"
      ]
    },
    {
      "cell_type": "code",
      "execution_count": 11,
      "metadata": {
        "id": "nZ541zJgA86Q",
        "outputId": "427a48a5-58cd-4850-a651-8107a058531c"
      },
      "outputs": [
        {
          "data": {
            "text/plain": [
              "270"
            ]
          },
          "execution_count": 11,
          "metadata": {},
          "output_type": "execute_result"
        }
      ],
      "source": [
        "youtube_all_video_df = pd.DataFrame()\n",
        "for i in range(len(youtube_video_url_dic.keys())):\n",
        "    new_youtube_df = pd.DataFrame({'channel id':[list(youtube_video_url_dic.keys())[i]] * len(youtube_video_url_dic[list(youtube_video_url_dic.keys())[i]]),\n",
        "                                  'view': youtube_video_url_dic[list(youtube_video_url_dic.keys())[i]]})\n",
        "    youtube_all_video_df = pd.concat([youtube_all_video_df, new_youtube_df])\n",
        "youtube_all_video_df = youtube_all_video_df.reset_index(drop=True)\n",
        "\n",
        "# 채널id 고유값 개수 확인\n",
        "youtube_all_video_df['channel id'].nunique()"
      ]
    },
    {
      "cell_type": "code",
      "execution_count": 12,
      "metadata": {
        "id": "C8tXf2whA86Q",
        "outputId": "c302d6f7-5782-48c4-dfff-d36df3bb4d7d"
      },
      "outputs": [
        {
          "data": {
            "text/html": [
              "<div>\n",
              "<style scoped>\n",
              "    .dataframe tbody tr th:only-of-type {\n",
              "        vertical-align: middle;\n",
              "    }\n",
              "\n",
              "    .dataframe tbody tr th {\n",
              "        vertical-align: top;\n",
              "    }\n",
              "\n",
              "    .dataframe thead th {\n",
              "        text-align: right;\n",
              "    }\n",
              "</style>\n",
              "<table border=\"1\" class=\"dataframe\">\n",
              "  <thead>\n",
              "    <tr style=\"text-align: right;\">\n",
              "      <th></th>\n",
              "      <th>channel id</th>\n",
              "      <th>view</th>\n",
              "    </tr>\n",
              "  </thead>\n",
              "  <tbody>\n",
              "    <tr>\n",
              "      <th>0</th>\n",
              "      <td>UCe8YEoKunUWyVQQIGeGa-Dg</td>\n",
              "      <td>4800</td>\n",
              "    </tr>\n",
              "    <tr>\n",
              "      <th>1</th>\n",
              "      <td>UCe8YEoKunUWyVQQIGeGa-Dg</td>\n",
              "      <td>4700</td>\n",
              "    </tr>\n",
              "    <tr>\n",
              "      <th>2</th>\n",
              "      <td>UCe8YEoKunUWyVQQIGeGa-Dg</td>\n",
              "      <td>5400</td>\n",
              "    </tr>\n",
              "    <tr>\n",
              "      <th>3</th>\n",
              "      <td>UCe8YEoKunUWyVQQIGeGa-Dg</td>\n",
              "      <td>8000</td>\n",
              "    </tr>\n",
              "    <tr>\n",
              "      <th>4</th>\n",
              "      <td>UCe8YEoKunUWyVQQIGeGa-Dg</td>\n",
              "      <td>6500</td>\n",
              "    </tr>\n",
              "    <tr>\n",
              "      <th>...</th>\n",
              "      <td>...</td>\n",
              "      <td>...</td>\n",
              "    </tr>\n",
              "    <tr>\n",
              "      <th>4359</th>\n",
              "      <td>UC-6DLwseTZG-l4JprVV2MIQ</td>\n",
              "      <td>8100</td>\n",
              "    </tr>\n",
              "    <tr>\n",
              "      <th>4360</th>\n",
              "      <td>UC-6DLwseTZG-l4JprVV2MIQ</td>\n",
              "      <td>13000</td>\n",
              "    </tr>\n",
              "    <tr>\n",
              "      <th>4361</th>\n",
              "      <td>UC-6DLwseTZG-l4JprVV2MIQ</td>\n",
              "      <td>12000</td>\n",
              "    </tr>\n",
              "    <tr>\n",
              "      <th>4362</th>\n",
              "      <td>UCW5FEe1eiOAKzcnhmeI0Mzw</td>\n",
              "      <td>2700</td>\n",
              "    </tr>\n",
              "    <tr>\n",
              "      <th>4363</th>\n",
              "      <td>UCW5FEe1eiOAKzcnhmeI0Mzw</td>\n",
              "      <td>1900</td>\n",
              "    </tr>\n",
              "  </tbody>\n",
              "</table>\n",
              "<p>4364 rows × 2 columns</p>\n",
              "</div>"
            ],
            "text/plain": [
              "                    channel id   view\n",
              "0     UCe8YEoKunUWyVQQIGeGa-Dg   4800\n",
              "1     UCe8YEoKunUWyVQQIGeGa-Dg   4700\n",
              "2     UCe8YEoKunUWyVQQIGeGa-Dg   5400\n",
              "3     UCe8YEoKunUWyVQQIGeGa-Dg   8000\n",
              "4     UCe8YEoKunUWyVQQIGeGa-Dg   6500\n",
              "...                        ...    ...\n",
              "4359  UC-6DLwseTZG-l4JprVV2MIQ   8100\n",
              "4360  UC-6DLwseTZG-l4JprVV2MIQ  13000\n",
              "4361  UC-6DLwseTZG-l4JprVV2MIQ  12000\n",
              "4362  UCW5FEe1eiOAKzcnhmeI0Mzw   2700\n",
              "4363  UCW5FEe1eiOAKzcnhmeI0Mzw   1900\n",
              "\n",
              "[4364 rows x 2 columns]"
            ]
          },
          "execution_count": 12,
          "metadata": {},
          "output_type": "execute_result"
        }
      ],
      "source": [
        "# 조회수 계산\n",
        "for i in range(len(youtube_all_video_df)):\n",
        "    if '천' in str(youtube_all_video_df['view'][i]): # 1,000\n",
        "        k_num = int(float(youtube_all_video_df['view'][i].replace('천', ''))*1000)\n",
        "        youtube_all_video_df.loc[i, 'view'] = format(k_num)\n",
        "    elif '만' in str(youtube_all_video_df['view'][i]): # 10,000\n",
        "        m_num = int(float(youtube_all_video_df['view'][i].replace('만', ''))*10000)\n",
        "        youtube_all_video_df.loc[i, 'view'] = format(m_num)\n",
        "\n",
        "youtube_all_video_df_copy = youtube_all_video_df.copy()\n",
        "youtube_all_video_df_copy"
      ]
    },
    {
      "cell_type": "code",
      "execution_count": 13,
      "metadata": {
        "id": "BL3Y4z0bA86Q",
        "outputId": "9f79fe37-a48c-4420-ccfd-5d8b3360f229"
      },
      "outputs": [
        {
          "name": "stdout",
          "output_type": "stream",
          "text": [
            "<class 'pandas.core.frame.DataFrame'>\n",
            "RangeIndex: 4364 entries, 0 to 4363\n",
            "Data columns (total 2 columns):\n",
            " #   Column      Non-Null Count  Dtype \n",
            "---  ------      --------------  ----- \n",
            " 0   channel id  4364 non-null   object\n",
            " 1   view        4364 non-null   object\n",
            "dtypes: object(2)\n",
            "memory usage: 68.3+ KB\n"
          ]
        }
      ],
      "source": [
        "youtube_all_video_df_copy.info()"
      ]
    },
    {
      "cell_type": "code",
      "execution_count": 14,
      "metadata": {
        "id": "7BOA-IY0A86R",
        "outputId": "088600de-e5d1-419a-cca4-6b4b907ef8c7"
      },
      "outputs": [
        {
          "name": "stdout",
          "output_type": "stream",
          "text": [
            "<class 'pandas.core.frame.DataFrame'>\n",
            "RangeIndex: 4364 entries, 0 to 4363\n",
            "Data columns (total 2 columns):\n",
            " #   Column      Non-Null Count  Dtype \n",
            "---  ------      --------------  ----- \n",
            " 0   channel id  4364 non-null   object\n",
            " 1   view        4364 non-null   int64 \n",
            "dtypes: int64(1), object(1)\n",
            "memory usage: 68.3+ KB\n"
          ]
        }
      ],
      "source": [
        "# 조회수(view) 문자열 -> 숫자\n",
        "youtube_all_video_df_copy['view'] = pd.to_numeric(youtube_all_video_df_copy['view'], errors='coerce')\n",
        "youtube_all_video_df_copy.info()"
      ]
    },
    {
      "cell_type": "code",
      "execution_count": 15,
      "metadata": {
        "id": "NLSt5dCYA86R",
        "outputId": "ea0ede47-5e02-4be4-8834-1ac565e115c0"
      },
      "outputs": [
        {
          "name": "stdout",
          "output_type": "stream",
          "text": [
            "<class 'pandas.core.frame.DataFrame'>\n",
            "RangeIndex: 4364 entries, 0 to 4363\n",
            "Data columns (total 2 columns):\n",
            " #   Column      Non-Null Count  Dtype \n",
            "---  ------      --------------  ----- \n",
            " 0   channel id  4364 non-null   object\n",
            " 1   view        4364 non-null   int64 \n",
            "dtypes: int64(1), object(1)\n",
            "memory usage: 68.3+ KB\n"
          ]
        }
      ],
      "source": [
        "# null 값 삭제\n",
        "youtube_all_video_df_copy.dropna(inplace=True)\n",
        "youtube_all_video_df_copy.info()"
      ]
    },
    {
      "cell_type": "code",
      "execution_count": 16,
      "metadata": {
        "id": "GhrBozlNA86S",
        "outputId": "aee9a376-a256-4430-da57-ed733bd6235c"
      },
      "outputs": [
        {
          "data": {
            "text/html": [
              "<div>\n",
              "<style scoped>\n",
              "    .dataframe tbody tr th:only-of-type {\n",
              "        vertical-align: middle;\n",
              "    }\n",
              "\n",
              "    .dataframe tbody tr th {\n",
              "        vertical-align: top;\n",
              "    }\n",
              "\n",
              "    .dataframe thead th {\n",
              "        text-align: right;\n",
              "    }\n",
              "</style>\n",
              "<table border=\"1\" class=\"dataframe\">\n",
              "  <thead>\n",
              "    <tr style=\"text-align: right;\">\n",
              "      <th></th>\n",
              "      <th>channel id</th>\n",
              "      <th>view</th>\n",
              "    </tr>\n",
              "  </thead>\n",
              "  <tbody>\n",
              "    <tr>\n",
              "      <th>0</th>\n",
              "      <td>UC-6DLwseTZG-l4JprVV2MIQ</td>\n",
              "      <td>8994.444444</td>\n",
              "    </tr>\n",
              "    <tr>\n",
              "      <th>1</th>\n",
              "      <td>UC-AuoahqpeL4yoK4kvu___g</td>\n",
              "      <td>150000.000000</td>\n",
              "    </tr>\n",
              "    <tr>\n",
              "      <th>2</th>\n",
              "      <td>UC-Rr7zYKnRqa_aEDn1KjVkw</td>\n",
              "      <td>8200.000000</td>\n",
              "    </tr>\n",
              "    <tr>\n",
              "      <th>3</th>\n",
              "      <td>UC0IsFqJzKJLRjHIznNNdhxQ</td>\n",
              "      <td>54216.666667</td>\n",
              "    </tr>\n",
              "    <tr>\n",
              "      <th>4</th>\n",
              "      <td>UC0wo7SwsC5dE0nSgBs2M-3A</td>\n",
              "      <td>117000.000000</td>\n",
              "    </tr>\n",
              "    <tr>\n",
              "      <th>...</th>\n",
              "      <td>...</td>\n",
              "      <td>...</td>\n",
              "    </tr>\n",
              "    <tr>\n",
              "      <th>265</th>\n",
              "      <td>UCysSC6UjONpWKMbBupJZjpg</td>\n",
              "      <td>53433.333333</td>\n",
              "    </tr>\n",
              "    <tr>\n",
              "      <th>266</th>\n",
              "      <td>UCyw-SlgJoR9KDaE6TWeYI-A</td>\n",
              "      <td>15808.333333</td>\n",
              "    </tr>\n",
              "    <tr>\n",
              "      <th>267</th>\n",
              "      <td>UCzDkPraY61LFGybv_1tGUvQ</td>\n",
              "      <td>18250.000000</td>\n",
              "    </tr>\n",
              "    <tr>\n",
              "      <th>268</th>\n",
              "      <td>UCzMW83VpZUg5MUc12iFyDiw</td>\n",
              "      <td>5366.666667</td>\n",
              "    </tr>\n",
              "    <tr>\n",
              "      <th>269</th>\n",
              "      <td>UCzjEp3u8RMkOJwpc3RzxmWg</td>\n",
              "      <td>25410.344828</td>\n",
              "    </tr>\n",
              "  </tbody>\n",
              "</table>\n",
              "<p>270 rows × 2 columns</p>\n",
              "</div>"
            ],
            "text/plain": [
              "                   channel id           view\n",
              "0    UC-6DLwseTZG-l4JprVV2MIQ    8994.444444\n",
              "1    UC-AuoahqpeL4yoK4kvu___g  150000.000000\n",
              "2    UC-Rr7zYKnRqa_aEDn1KjVkw    8200.000000\n",
              "3    UC0IsFqJzKJLRjHIznNNdhxQ   54216.666667\n",
              "4    UC0wo7SwsC5dE0nSgBs2M-3A  117000.000000\n",
              "..                        ...            ...\n",
              "265  UCysSC6UjONpWKMbBupJZjpg   53433.333333\n",
              "266  UCyw-SlgJoR9KDaE6TWeYI-A   15808.333333\n",
              "267  UCzDkPraY61LFGybv_1tGUvQ   18250.000000\n",
              "268  UCzMW83VpZUg5MUc12iFyDiw    5366.666667\n",
              "269  UCzjEp3u8RMkOJwpc3RzxmWg   25410.344828\n",
              "\n",
              "[270 rows x 2 columns]"
            ]
          },
          "execution_count": 16,
          "metadata": {},
          "output_type": "execute_result"
        }
      ],
      "source": [
        "# 채널별 평균 조회수 계산\n",
        "channel_avg_view_df = youtube_all_video_df_copy.groupby('channel id')['view'].mean().reset_index()\n",
        "channel_avg_view_df\n",
        "# 데이터프레임 확인 후 구글 시트에 저장!"
      ]
    },
    {
      "cell_type": "code",
      "execution_count": 17,
      "metadata": {
        "id": "5R9FugcOA86S",
        "outputId": "153cd44c-99f8-4eff-8646-36d5febc9c92"
      },
      "outputs": [
        {
          "name": "stdout",
          "output_type": "stream",
          "text": [
            "<class 'pandas.core.frame.DataFrame'>\n",
            "RangeIndex: 270 entries, 0 to 269\n",
            "Data columns (total 2 columns):\n",
            " #   Column      Non-Null Count  Dtype  \n",
            "---  ------      --------------  -----  \n",
            " 0   channel id  270 non-null    object \n",
            " 1   view        270 non-null    float64\n",
            "dtypes: float64(1), object(1)\n",
            "memory usage: 4.3+ KB\n"
          ]
        }
      ],
      "source": [
        "channel_avg_view_df.info()"
      ]
    },
    {
      "cell_type": "code",
      "execution_count": null,
      "metadata": {
        "id": "AmPMW1NgA86S"
      },
      "outputs": [],
      "source": [
        "# 결과 저장\n",
        "gc = pygsheets.authorize(service_account_file='creds.json')\n",
        "sheetname= '크롤링 시도'\n",
        "\n",
        "# 오류 발생 시, worksheet의 행 수 늘려서 재실행\n",
        "sh = gc.open(sheetname)\n",
        "wks = sh.worksheet_by_title('유튜브 평균 조회수')\n",
        "wks.set_dataframe(channel_avg_view_df, 'A1', index=False)"
      ]
    }
  ],
  "metadata": {
    "anaconda-cloud": {},
    "colab": {
      "provenance": []
    },
    "kernelspec": {
      "display_name": "Python 3",
      "language": "python",
      "name": "python3"
    },
    "language_info": {
      "codemirror_mode": {
        "name": "ipython",
        "version": 3
      },
      "file_extension": ".py",
      "mimetype": "text/x-python",
      "name": "python",
      "nbconvert_exporter": "python",
      "pygments_lexer": "ipython3",
      "version": "3.11.5"
    }
  },
  "nbformat": 4,
  "nbformat_minor": 0
}
