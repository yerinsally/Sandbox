{
  "cells": [
    {
      "cell_type": "code",
      "execution_count": 7,
      "metadata": {},
      "outputs": [
        {
          "data": {
            "text/plain": [
              "'c:\\\\Users\\\\SANDBOX\\\\Desktop\\\\Sandbox\\\\crawling'"
            ]
          },
          "execution_count": 7,
          "metadata": {},
          "output_type": "execute_result"
        }
      ],
      "source": [
        "from selenium import webdriver\n",
        "import time\n",
        "from bs4 import BeautifulSoup\n",
        "from selenium.webdriver import ActionChains\n",
        "from selenium.webdriver.common.keys import Keys\n",
        "import math\n",
        "import pandas as pd\n",
        "import numpy as np\n",
        "from tqdm import tqdm\n",
        "import os\n",
        "from selenium.webdriver.common.by import By\n",
        "import json\n",
        "import pygsheets\n",
        "from google.oauth2 import service_account\n",
        "import platform\n",
        "import datetime\n",
        "from dateutil.relativedelta import relativedelta\n",
        "import sys\n",
        "from selenium.webdriver.chrome.service import Service as ChromeService\n",
        "from webdriver_manager.chrome import ChromeDriverManager\n",
        "\n",
        "class MyChromeDriver(webdriver.Chrome):\n",
        "\n",
        "    def __init__(self, headless=False, maximize=True):\n",
        "\n",
        "        options = webdriver.ChromeOptions()\n",
        "        if headless:\n",
        "            options.add_argument('--headless')\n",
        "\n",
        "        webdriver.Chrome.__init__(self, service=ChromeService(ChromeDriverManager().install()), options=options)\n",
        "\n",
        "        if maximize:\n",
        "            self.maximize_window()\n",
        "\n",
        "driver = webdriver.Chrome(service=ChromeService(ChromeDriverManager().install()))\n",
        "\n",
        "if driver is None:\n",
        "        my_driver = MyChromeDriver()\n",
        "        time.sleep(10)\n",
        "else:\n",
        "    my_driver = driver\n",
        "\n",
        "os.getcwd()"
      ]
    },
    {
      "cell_type": "code",
      "execution_count": 8,
      "metadata": {
        "id": "YlyFJaCrA86O",
        "outputId": "49f505fa-18b4-4385-8252-4cbc032434fa"
      },
      "outputs": [
        {
          "data": {
            "text/plain": [
              "1944"
            ]
          },
          "execution_count": 8,
          "metadata": {},
          "output_type": "execute_result"
        }
      ],
      "source": [
        "# # 크롬 드라이버 옵션 설정 : 지정하면 크롬 아예 안보임\n",
        "# chrome_options = webdriver.ChromeOptions()\n",
        "# chrome_options.add_argument('--headless')\n",
        "# chrome_options.add_argument(\"--disable-gpu\")\n",
        "# chrome_options.add_argument('--no-sandbox')\n",
        "# chrome_options.add_argument('--disable-dev-shm-usage')\n",
        "\n",
        "#driver = webdriver.Chrome(options=chrome_options)\n",
        "\n",
        "# 구글 시트 가져오기\n",
        "gc = pygsheets.authorize(service_account_file='creds.json')\n",
        "sheetname= '크롤링 시도'\n",
        "sh = gc.open(sheetname)\n",
        "wks_tag = sh.worksheet_by_title('전체')\n",
        "ncv_df = wks_tag.get_as_df(has_header=True , index_column=None , start='A1', end='AZ100000' , numerize=True , empty_value=np.nan)\n",
        "ncv_df = ncv_df[ncv_df['단가 기준'] >= '2023-09']\n",
        "ncv_df = ncv_df[ncv_df['회사'] != 'Sandbox']\n",
        "ncv_df = ncv_df[ncv_df['평균 조회수(NCV)'].isnull()]\n",
        "len(ncv_df)"
      ]
    },
    {
      "cell_type": "code",
      "execution_count": 10,
      "metadata": {
        "id": "DPG-nyPPA86O",
        "outputId": "76a49231-fde2-489b-ce5e-a97b551ae925"
      },
      "outputs": [
        {
          "name": "stderr",
          "output_type": "stream",
          "text": [
            "  0%|          | 0/1936 [00:00<?, ?it/s]"
          ]
        },
        {
          "name": "stdout",
          "output_type": "stream",
          "text": [
            "0 https://www.youtube.com/channel/UCe8YEoKunUWyVQQIGeGa-Dg/videos\n"
          ]
        },
        {
          "name": "stderr",
          "output_type": "stream",
          "text": [
            "  0%|          | 1/1936 [00:06<3:45:35,  7.00s/it]"
          ]
        },
        {
          "name": "stdout",
          "output_type": "stream",
          "text": [
            "3일 전 4.8천\n",
            "11일 전 4.7천\n",
            "4주 전 5.4천\n",
            "1개월 전 8천\n",
            "1개월 전 6.5천\n",
            "1개월 전 5.3천\n",
            "2개월 전 8.2천\n",
            "2개월 전 8.9천\n",
            "2개월 전 1.3만\n",
            "2개월 전 8.3천\n",
            "3개월 전 9.1천\n",
            "3개월 전 9.4천\n",
            "3개월 전 2만\n",
            "3개월 전 1.7만\n",
            "3개월 전 1.8만\n",
            "3개월 전 9.7천\n",
            "1 https://www.youtube.com/channel/UCWCldx-uKM2wJWVuWk9SAHQ/videos\n"
          ]
        },
        {
          "name": "stderr",
          "output_type": "stream",
          "text": [
            "  0%|          | 2/1936 [00:14<3:49:33,  7.12s/it]"
          ]
        },
        {
          "name": "stdout",
          "output_type": "stream",
          "text": [
            "20시간 전 300\n",
            "3일 전 479\n",
            "6일 전 1천\n",
            "8일 전 438\n",
            "2주 전 463\n",
            "3주 전 349\n",
            "1개월 전 183\n",
            "1개월 전 320\n",
            "1개월 전 170\n",
            "1개월 전 236\n",
            "1개월 전 195\n",
            "1개월 전 332\n",
            "1개월 전 504\n",
            "1개월 전 444\n",
            "1개월 전 252\n",
            "1개월 전 332\n",
            "2개월 전 281\n",
            "2개월 전 428\n",
            "2개월 전 229\n",
            "2개월 전 272\n",
            "2개월 전 740\n",
            "2개월 전 2.4천\n",
            "2개월 전 438\n",
            "2개월 전 721\n",
            "3개월 전 584\n",
            "3개월 전 491\n",
            "3개월 전 715\n",
            "3개월 전 1.4천\n",
            "3개월 전 370\n",
            "2 https://www.youtube.com/channel/UCXCdM6HSQfBiVsOw0vq24kQ/videos\n"
          ]
        },
        {
          "name": "stderr",
          "output_type": "stream",
          "text": [
            "  0%|          | 3/1936 [00:19<3:19:07,  6.18s/it]"
          ]
        },
        {
          "name": "stdout",
          "output_type": "stream",
          "text": [
            "2주 전 2.5만\n",
            "2주 전 3.4천\n",
            "2주 전 6.6천\n",
            "3주 전 4.7천\n",
            "1개월 전 5.1천\n",
            "1개월 전 3.8천\n",
            "1개월 전 4.3천\n",
            "1개월 전 3.1천\n",
            "1개월 전 4.8천\n",
            "1개월 전 8.3천\n",
            "1개월 전 8.7천\n",
            "2개월 전 4.3천\n",
            "2개월 전 1.5만\n",
            "2개월 전 9.7천\n",
            "2개월 전 8.1천\n",
            "2개월 전 7.8천\n",
            "3개월 전 8.9천\n",
            "3개월 전 1.2만\n",
            "3개월 전 5.2천\n",
            "3개월 전 9.7천\n",
            "3개월 전 4.6천\n",
            "3개월 전 3.5만\n",
            "3개월 전 8.6천\n",
            "3개월 전 4천\n",
            "3개월 전 1.3만\n",
            "3개월 전 2.1만\n",
            "3개월 전 3.2천\n",
            "3 https://www.youtube.com/channel/UCIymgWFcVWjbjbh_4YEwSAQ/videos\n"
          ]
        },
        {
          "name": "stderr",
          "output_type": "stream",
          "text": [
            "  0%|          | 4/1936 [00:24<3:07:20,  5.82s/it]"
          ]
        },
        {
          "name": "stdout",
          "output_type": "stream",
          "text": [
            "2주 전 6.3천\n",
            "2주 전 7.1천\n",
            "4주 전 8.4천\n",
            "1개월 전 1.4만\n",
            "1개월 전 4.4천\n",
            "2개월 전 7.1천\n",
            "2개월 전 8.1천\n",
            "2개월 전 5.3천\n",
            "2개월 전 6.6천\n",
            "3개월 전 2.5만\n",
            "3개월 전 6.2천\n",
            "3개월 전 1.6만\n",
            "3개월 전 1.1만\n",
            "4 https://www.youtube.com/channel/UCdcRl-7KIUXRD8MkeaNifyw/videos\n"
          ]
        },
        {
          "name": "stderr",
          "output_type": "stream",
          "text": [
            "  0%|          | 5/1936 [00:29<3:00:02,  5.59s/it]"
          ]
        },
        {
          "name": "stdout",
          "output_type": "stream",
          "text": [
            "6일 전 7.6천\n",
            "2주 전 5.8천\n",
            "2주 전 1만\n",
            "3주 전 7.9천\n",
            "4주 전 7.5천\n",
            "1개월 전 1.5만\n",
            "1개월 전 1만\n",
            "1개월 전 1.7만\n",
            "1개월 전 1.3만\n",
            "1개월 전 1.5만\n",
            "2개월 전 1.3만\n",
            "2개월 전 8.5천\n",
            "2개월 전 1.3만\n",
            "2개월 전 2만\n",
            "2개월 전 1만\n",
            "3개월 전 1.8만\n",
            "3개월 전 1만\n",
            "3개월 전 1.7만\n",
            "5 https://www.youtube.com/channel/UC25-ln3V2q5uOm-l7UIw6vA/videos\n"
          ]
        },
        {
          "name": "stderr",
          "output_type": "stream",
          "text": [
            "  0%|          | 6/1936 [00:34<2:53:44,  5.40s/it]"
          ]
        },
        {
          "name": "stdout",
          "output_type": "stream",
          "text": [
            "1일 전 2.4천\n",
            "2일 전 3.6천\n",
            "3일 전 3.4천\n",
            "5일 전 3.9천\n",
            "10일 전 6.7천\n",
            "13일 전 5.4천\n",
            "2주 전 4.9천\n",
            "2주 전 1만\n",
            "2주 전 5.2천\n",
            "3주 전 4.9천\n",
            "3주 전 4.4천\n",
            "3주 전 5.1천\n",
            "4주 전 5.7천\n",
            "1개월 전 1.8만\n",
            "1개월 전 5.5천\n",
            "1개월 전 4.1천\n",
            "1개월 전 5.6천\n",
            "1개월 전 4천\n",
            "1개월 전 3.4천\n",
            "1개월 전 9.2천\n",
            "1개월 전 5.1천\n",
            "2개월 전 3.8천\n",
            "2개월 전 6.2천\n",
            "2개월 전 1.2만\n",
            "2개월 전 4.8천\n",
            "2개월 전 7.1천\n",
            "3개월 전 5.8천\n",
            "3개월 전 4.1천\n",
            "3개월 전 9.5천\n",
            "3개월 전 2.4만\n",
            "6 https://www.youtube.com/channel/UC0wo7SwsC5dE0nSgBs2M-3A/videos\n"
          ]
        },
        {
          "name": "stderr",
          "output_type": "stream",
          "text": [
            "  0%|          | 7/1936 [00:39<2:51:20,  5.33s/it]"
          ]
        },
        {
          "name": "stdout",
          "output_type": "stream",
          "text": [
            "1개월 전 1.4만\n",
            "3개월 전 22만\n",
            "7 https://www.youtube.com/channel/UC6BOscXzGVkWxTe5T2xeCtw/videos\n"
          ]
        },
        {
          "name": "stderr",
          "output_type": "stream",
          "text": [
            "  0%|          | 8/1936 [00:44<2:42:13,  5.05s/it]"
          ]
        },
        {
          "name": "stdout",
          "output_type": "stream",
          "text": [
            "2주 전 2만\n",
            "3주 전 1.4만\n",
            "4주 전 1.6만\n",
            "2개월 전 2.7만\n",
            "2개월 전 2.1만\n",
            "3개월 전 7만\n",
            "3개월 전 7.3만\n",
            "3개월 전 2.5만\n",
            "8 https://www.youtube.com/channel/UCj8eZWovlTImzGLlCUxFKDg/videos\n"
          ]
        },
        {
          "name": "stderr",
          "output_type": "stream",
          "text": [
            "  0%|          | 9/1936 [00:49<2:44:22,  5.12s/it]"
          ]
        },
        {
          "name": "stdout",
          "output_type": "stream",
          "text": [
            "8일 전 161\n",
            "9 https://www.youtube.com/channel/UChVChXAyUTZjki0NRPlhn-Q/videos\n"
          ]
        },
        {
          "name": "stderr",
          "output_type": "stream",
          "text": [
            "  1%|          | 10/1936 [00:54<2:42:56,  5.08s/it]"
          ]
        },
        {
          "name": "stdout",
          "output_type": "stream",
          "text": [
            "10 https://www.youtube.com/channel/UCyQGr2nhHrapsBZ5o6Xwcng/videos\n"
          ]
        },
        {
          "name": "stderr",
          "output_type": "stream",
          "text": [
            "  1%|          | 11/1936 [00:59<2:44:48,  5.14s/it]"
          ]
        },
        {
          "name": "stdout",
          "output_type": "stream",
          "text": [
            "1개월 전 2.9천\n",
            "1개월 전 4.8천\n",
            "11 https://www.youtube.com/channel/UCvwLzPuKdYVu8SLfrrD0e0w/videos\n"
          ]
        },
        {
          "name": "stderr",
          "output_type": "stream",
          "text": [
            "  1%|          | 12/1936 [01:05<2:46:06,  5.18s/it]"
          ]
        },
        {
          "name": "stdout",
          "output_type": "stream",
          "text": [
            "5일 전 8.1만\n",
            "2주 전 1만\n",
            "2주 전 5.2만\n",
            "1개월 전 1.2만\n",
            "1개월 전 6.6만\n",
            "1개월 전 1.8만\n",
            "3개월 전 1.2만\n",
            "3개월 전 4.9만\n",
            "12 https://www.youtube.com/channel/UCvwi9NIHauxkyLsvODFpAbA/videos\n"
          ]
        },
        {
          "name": "stderr",
          "output_type": "stream",
          "text": [
            "  1%|          | 13/1936 [01:09<2:40:12,  5.00s/it]"
          ]
        },
        {
          "name": "stdout",
          "output_type": "stream",
          "text": [
            "1일 전 266\n",
            "10일 전 229\n",
            "1개월 전 510\n",
            "1개월 전 447\n",
            "2개월 전 1.7천\n",
            "2개월 전 527\n",
            "2개월 전 235\n",
            "2개월 전 262\n",
            "3개월 전 151\n",
            "3개월 전 244\n",
            "3개월 전 715\n",
            "13 https://www.youtube.com/channel/UCHwI71qXzMHQ_m6tOFoU2AA/videos\n"
          ]
        },
        {
          "name": "stderr",
          "output_type": "stream",
          "text": [
            "  1%|          | 14/1936 [01:15<2:42:28,  5.07s/it]"
          ]
        },
        {
          "name": "stdout",
          "output_type": "stream",
          "text": [
            "14 https://www.youtube.com/channel/UCO-JCUvVb8bXg9NOhDrknTg/videos\n"
          ]
        },
        {
          "name": "stderr",
          "output_type": "stream",
          "text": [
            "  1%|          | 15/1936 [01:20<2:43:18,  5.10s/it]"
          ]
        },
        {
          "name": "stdout",
          "output_type": "stream",
          "text": [
            "3개월 전 1.1만\n",
            "15 https://www.youtube.com/channel/UCiKu6JfJFZkRJRAvVi_sdEA/videos\n"
          ]
        },
        {
          "name": "stderr",
          "output_type": "stream",
          "text": [
            "  1%|          | 16/1936 [01:25<2:45:06,  5.16s/it]"
          ]
        },
        {
          "name": "stdout",
          "output_type": "stream",
          "text": [
            "9일 전 2.8천\n",
            "10일 전 4.4천\n",
            "3주 전 1.5천\n",
            "4주 전 4.3천\n",
            "1개월 전 2.8천\n",
            "1개월 전 1.2만\n",
            "1개월 전 482\n",
            "1개월 전 3.3천\n",
            "1개월 전 7.1천\n",
            "2개월 전 383\n",
            "2개월 전 1천\n",
            "2개월 전 6천\n",
            "2개월 전 1.1천\n",
            "2개월 전 2.7천\n",
            "3개월 전 2.8천\n",
            "3개월 전 1.9천\n",
            "3개월 전 1.2천\n",
            "3개월 전 536\n",
            "3개월 전 2.8천\n",
            "3개월 전 5.5천\n",
            "16 https://www.youtube.com/channel/UCt1lsrMsAMhmAh2AIbXDc-A/videos\n"
          ]
        },
        {
          "name": "stderr",
          "output_type": "stream",
          "text": [
            "  1%|          | 17/1936 [01:30<2:46:05,  5.19s/it]"
          ]
        },
        {
          "name": "stdout",
          "output_type": "stream",
          "text": [
            "2주 전 8천\n",
            "3주 전 7.5천\n",
            "1개월 전 1만\n",
            "1개월 전 1.7만\n",
            "1개월 전 6.6천\n",
            "1개월 전 6.9천\n",
            "1개월 전 4.2천\n",
            "1개월 전 5.4천\n",
            "2개월 전 7.1천\n",
            "2개월 전 7.1천\n",
            "2개월 전 1.4만\n",
            "3개월 전 1.3만\n",
            "17 https://www.youtube.com/channel/UCQuit9kuTw6BjmgLyogL3mA/videos\n"
          ]
        },
        {
          "name": "stderr",
          "output_type": "stream",
          "text": [
            "  1%|          | 18/1936 [01:35<2:44:21,  5.14s/it]"
          ]
        },
        {
          "name": "stdout",
          "output_type": "stream",
          "text": [
            "20시간 전 733\n",
            "3일 전 3.5천\n",
            "8일 전 6.6천\n",
            "11일 전 1만\n",
            "2주 전 3.4천\n",
            "2주 전 2천\n",
            "3주 전 4.2천\n",
            "3주 전 3.3천\n",
            "3주 전 687\n",
            "1개월 전 6.7천\n",
            "1개월 전 2.6천\n",
            "1개월 전 2.9천\n",
            "1개월 전 618\n",
            "1개월 전 1.8천\n",
            "1개월 전 2천\n",
            "1개월 전 2.1천\n",
            "1개월 전 1천\n",
            "2개월 전 3.5천\n",
            "2개월 전 1.3천\n",
            "2개월 전 4.3천\n",
            "2개월 전 2.4천\n",
            "2개월 전 1.5천\n",
            "2개월 전 2.2천\n",
            "2개월 전 9.8천\n",
            "2개월 전 1.1천\n",
            "2개월 전 4.2천\n",
            "2개월 전 1.3천\n",
            "2개월 전 800\n",
            "2개월 전 880\n",
            "18 https://www.youtube.com/channel/UCQuY08EEKLFOp0D37Sfpd0A/videos\n"
          ]
        },
        {
          "name": "stderr",
          "output_type": "stream",
          "text": [
            "  1%|          | 19/1936 [01:41<2:46:01,  5.20s/it]"
          ]
        },
        {
          "name": "stdout",
          "output_type": "stream",
          "text": [
            "4일 전 2.3천\n",
            "6일 전 2.1천\n",
            "10일 전 3.8천\n",
            "12일 전 3.2천\n",
            "2주 전 5.5천\n",
            "3주 전 1천\n",
            "3주 전 3.6천\n",
            "4주 전 6.6천\n",
            "1개월 전 5.1천\n",
            "1개월 전 4.1천\n",
            "1개월 전 5.6천\n",
            "1개월 전 2.3천\n",
            "1개월 전 566\n",
            "1개월 전 3.9천\n",
            "1개월 전 2천\n",
            "1개월 전 2.6천\n",
            "1개월 전 8.4천\n",
            "2개월 전 5.3천\n",
            "2개월 전 3.7천\n",
            "2개월 전 6.2천\n",
            "2개월 전 7.5천\n",
            "2개월 전 4.6천\n",
            "2개월 전 6.4천\n",
            "2개월 전 1.4만\n",
            "2개월 전 6.4천\n",
            "2개월 전 1.2만\n",
            "2개월 전 6.2천\n",
            "2개월 전 3.2만\n",
            "3개월 전 1.8천\n",
            "3개월 전 1.6만\n",
            "19 https://www.youtube.com/channel/UCUHUHum4nIT20PbhanJAZvw/videos\n"
          ]
        },
        {
          "name": "stderr",
          "output_type": "stream",
          "text": [
            "  1%|          | 20/1936 [01:45<2:38:27,  4.96s/it]"
          ]
        },
        {
          "name": "stdout",
          "output_type": "stream",
          "text": [
            "3일 전 73\n",
            "7일 전 72\n",
            "2주 전 119\n",
            "3주 전 541\n",
            "1개월 전 830\n",
            "1개월 전 113\n",
            "1개월 전 246\n",
            "1개월 전 913\n",
            "1개월 전 132\n",
            "1개월 전 1.3천\n",
            "1개월 전 107\n",
            "2개월 전 127\n",
            "2개월 전 124\n",
            "2개월 전 101\n",
            "2개월 전 292\n",
            "2개월 전 439\n",
            "3개월 전 498\n",
            "3개월 전 1.1천\n",
            "3개월 전 740\n",
            "3개월 전 513\n",
            "20 https://www.youtube.com/channel/UCApEQvn22KOgaFeLrYEANvA/videos\n"
          ]
        },
        {
          "name": "stderr",
          "output_type": "stream",
          "text": [
            "  1%|          | 21/1936 [01:50<2:39:34,  5.00s/it]"
          ]
        },
        {
          "name": "stdout",
          "output_type": "stream",
          "text": [
            "1개월 전 632\n",
            "2개월 전 622\n",
            "3개월 전 687\n",
            "21 https://www.youtube.com/channel/UCjjrolx39gFEqqHWRYY-0Rw/videos\n"
          ]
        },
        {
          "name": "stderr",
          "output_type": "stream",
          "text": [
            "  1%|          | 22/1936 [01:55<2:40:24,  5.03s/it]"
          ]
        },
        {
          "name": "stdout",
          "output_type": "stream",
          "text": [
            "4일 전 3.9천\n",
            "12일 전 4천\n",
            "13일 전 4.6천\n",
            "1개월 전 6.3만\n",
            "1개월 전 9천\n",
            "2개월 전 1.1만\n",
            "2개월 전 3.1만\n",
            "3개월 전 2.4만\n",
            "3개월 전 6.9만\n",
            "22 https://www.youtube.com/channel/UCp2YXimJGuHP090VuVFXEhg/videos\n"
          ]
        },
        {
          "name": "stderr",
          "output_type": "stream",
          "text": [
            "  1%|          | 23/1936 [02:00<2:42:16,  5.09s/it]"
          ]
        },
        {
          "name": "stdout",
          "output_type": "stream",
          "text": [
            "3개월 전 3.3천\n",
            "23 https://www.youtube.com/channel/UCSzg5Eo44ze027oNrMxC_1w/videos\n"
          ]
        },
        {
          "name": "stderr",
          "output_type": "stream",
          "text": [
            "  1%|          | 24/1936 [02:06<2:46:06,  5.21s/it]"
          ]
        },
        {
          "name": "stdout",
          "output_type": "stream",
          "text": [
            "2일 전 2천\n",
            "6일 전 1.7천\n",
            "6일 전 660\n",
            "2주 전 2.8천\n",
            "2주 전 1.8만\n",
            "2주 전 3.7만\n",
            "2주 전 2.6만\n",
            "2주 전 9.6천\n",
            "3주 전 2천\n",
            "2개월 전 424\n",
            "2개월 전 320\n",
            "2개월 전 468\n",
            "2개월 전 1.3천\n",
            "3개월 전 1.9천\n",
            "3개월 전 1만\n",
            "3개월 전 1.7만\n",
            "3개월 전 1.2천\n",
            "3개월 전 1.8만\n",
            "3개월 전 3.1천\n",
            "3개월 전 2천\n",
            "3개월 전 5.4천\n",
            "24 https://www.youtube.com/channel/UCprGu593Mn3ZzIZwW45zLZA/videos\n"
          ]
        },
        {
          "name": "stderr",
          "output_type": "stream",
          "text": [
            "  1%|▏         | 25/1936 [02:11<2:44:22,  5.16s/it]"
          ]
        },
        {
          "name": "stdout",
          "output_type": "stream",
          "text": [
            "18시간 전 3.3천\n",
            "1일 전 1.8천\n",
            "2일 전 2.7천\n",
            "3일 전 518\n",
            "4일 전 2.6천\n",
            "5일 전 3.6천\n",
            "7일 전 1.3천\n",
            "7일 전 586\n",
            "9일 전 656\n",
            "10일 전 2.1천\n",
            "10일 전 990\n",
            "11일 전 717\n",
            "12일 전 3.1천\n",
            "13일 전 481\n",
            "2주 전 2.6천\n",
            "2주 전 851\n",
            "2주 전 4.7천\n",
            "2주 전 5.4천\n",
            "2주 전 261\n",
            "1개월 전 5.7천\n",
            "1개월 전 6천\n",
            "1개월 전 3.3천\n",
            "1개월 전 1.3천\n",
            "1개월 전 2.5천\n",
            "1개월 전 1만\n",
            "1개월 전 7.1만\n",
            "1개월 전 212\n",
            "1개월 전 5.3천\n",
            "1개월 전 9.8천\n",
            "25 https://www.youtube.com/channel/UCzIxbZOJu5UtOjLvqpDVfBg/videos\n"
          ]
        },
        {
          "name": "stderr",
          "output_type": "stream",
          "text": [
            "  1%|▏         | 26/1936 [02:16<2:43:23,  5.13s/it]"
          ]
        },
        {
          "name": "stdout",
          "output_type": "stream",
          "text": [
            "26 https://www.youtube.com/channel/UCmu_ekYHVR0vjmpyQZp8YwA/videos\n"
          ]
        },
        {
          "name": "stderr",
          "output_type": "stream",
          "text": [
            "  1%|▏         | 27/1936 [02:21<2:44:43,  5.18s/it]"
          ]
        },
        {
          "name": "stdout",
          "output_type": "stream",
          "text": [
            "27 https://www.youtube.com/channel/UC4T3Wn0j97LY8mvLV8v-esg/videos\n"
          ]
        },
        {
          "name": "stderr",
          "output_type": "stream",
          "text": [
            "  1%|▏         | 28/1936 [02:27<2:48:38,  5.30s/it]"
          ]
        },
        {
          "name": "stdout",
          "output_type": "stream",
          "text": [
            "2주 전 4.6천\n",
            "1개월 전 6.4천\n",
            "28 https://www.youtube.com/channel/UCPoWn58htiBko96Ploh_r9Q/videos\n"
          ]
        },
        {
          "name": "stderr",
          "output_type": "stream",
          "text": [
            "  1%|▏         | 29/1936 [02:32<2:47:36,  5.27s/it]"
          ]
        },
        {
          "name": "stdout",
          "output_type": "stream",
          "text": [
            "2일 전 2.5천\n",
            "4일 전 2.4천\n",
            "7일 전 2.1천\n",
            "10일 전 2.7천\n",
            "12일 전 1.9천\n",
            "2주 전 3.4천\n",
            "2주 전 2.1천\n",
            "2주 전 2.1천\n",
            "2주 전 1.6천\n",
            "3주 전 3.2천\n",
            "4주 전 2.7천\n",
            "4주 전 2.3천\n",
            "1개월 전 2.8천\n",
            "1개월 전 3.4천\n",
            "1개월 전 3천\n",
            "1개월 전 3.6천\n",
            "1개월 전 3.8천\n",
            "1개월 전 4.4천\n",
            "1개월 전 2.6천\n",
            "1개월 전 3.6천\n",
            "1개월 전 3.1천\n",
            "1개월 전 3.3천\n",
            "1개월 전 3.1천\n",
            "1개월 전 2.7천\n",
            "1개월 전 3.1천\n",
            "1개월 전 3.4천\n",
            "1개월 전 2.4천\n",
            "1개월 전 3.4천\n",
            "2개월 전 3.9천\n",
            "2개월 전 4천\n",
            "29 https://www.youtube.com/channel/UC5b5m_7xp4OY6JzXc2U00Uw/videos\n"
          ]
        },
        {
          "name": "stderr",
          "output_type": "stream",
          "text": [
            "  2%|▏         | 30/1936 [02:37<2:44:46,  5.19s/it]"
          ]
        },
        {
          "name": "stdout",
          "output_type": "stream",
          "text": [
            "1개월 전 3.3천\n",
            "1개월 전 1.2만\n",
            "1개월 전 3.4천\n",
            "1개월 전 2.8천\n",
            "1개월 전 7.2천\n",
            "1개월 전 3.2천\n",
            "1개월 전 3.1천\n",
            "2개월 전 2.5천\n",
            "2개월 전 2.5천\n",
            "2개월 전 5천\n",
            "2개월 전 6.6천\n",
            "2개월 전 1.8만\n",
            "2개월 전 1.4만\n",
            "2개월 전 1.2만\n",
            "2개월 전 6.4천\n",
            "2개월 전 8.6천\n",
            "2개월 전 1.8천\n",
            "2개월 전 7.9천\n",
            "2개월 전 9.1천\n",
            "2개월 전 4.2천\n",
            "2개월 전 5.3천\n",
            "2개월 전 2.9천\n",
            "2개월 전 1만\n",
            "2개월 전 3.9천\n",
            "2개월 전 3.7천\n",
            "2개월 전 6.5천\n",
            "2개월 전 4.9천\n",
            "2개월 전 3.1천\n",
            "2개월 전 8.5천\n",
            "2개월 전 8.2천\n",
            "30 https://www.youtube.com/channel/UCEGaHKUicHJCgq7j5z58dDw/videos\n"
          ]
        },
        {
          "name": "stderr",
          "output_type": "stream",
          "text": [
            "  2%|▏         | 31/1936 [02:42<2:44:24,  5.18s/it]"
          ]
        },
        {
          "name": "stdout",
          "output_type": "stream",
          "text": [
            "1개월 전 1.3천\n",
            "1개월 전 2.8천\n",
            "1개월 전 3.1천\n",
            "1개월 전 2.4천\n",
            "1개월 전 1.8천\n",
            "1개월 전 4천\n",
            "1개월 전 5.2천\n",
            "3개월 전 1.9천\n",
            "31 https://www.youtube.com/channel/UCvaYqIChEJ35fKyoAk0760A/videos\n"
          ]
        },
        {
          "name": "stderr",
          "output_type": "stream",
          "text": [
            "  2%|▏         | 32/1936 [02:47<2:43:41,  5.16s/it]"
          ]
        },
        {
          "name": "stdout",
          "output_type": "stream",
          "text": [
            "3주 전 1.2만\n",
            "1개월 전 1.1만\n",
            "1개월 전 4.1천\n",
            "1개월 전 1.5만\n",
            "1개월 전 8천\n",
            "2개월 전 2만\n",
            "2개월 전 4.9천\n",
            "2개월 전 1.5만\n",
            "2개월 전 2.2만\n",
            "2개월 전 5천\n",
            "2개월 전 6.3천\n",
            "3개월 전 1.8만\n",
            "3개월 전 1.3만\n",
            "3개월 전 8천\n",
            "3개월 전 1.4만\n",
            "3개월 전 1.9만\n",
            "3개월 전 1.1만\n",
            "3개월 전 8.4천\n",
            "3개월 전 5천\n",
            "32 https://www.youtube.com/channel/UCCJKsts0w-JSpJWqIqzkgeQ/videos\n"
          ]
        },
        {
          "name": "stderr",
          "output_type": "stream",
          "text": [
            "  2%|▏         | 33/1936 [02:53<2:46:06,  5.24s/it]"
          ]
        },
        {
          "name": "stdout",
          "output_type": "stream",
          "text": [
            "4일 전 367\n",
            "6일 전 3.6천\n",
            "7일 전 4.3천\n",
            "8일 전 544\n",
            "13일 전 3.1천\n",
            "13일 전 3.8천\n",
            "2주 전 527\n",
            "2주 전 1.3만\n",
            "2주 전 8.8천\n",
            "2주 전 3.5천\n",
            "2주 전 3.1천\n",
            "3주 전 4.9천\n",
            "4주 전 1.1천\n",
            "1개월 전 1.7천\n",
            "1개월 전 1만\n",
            "1개월 전 1.5만\n",
            "1개월 전 3.8천\n",
            "1개월 전 1.4천\n",
            "1개월 전 4.1천\n",
            "1개월 전 2.5천\n",
            "1개월 전 2.7천\n",
            "1개월 전 2.2천\n",
            "1개월 전 1.6만\n",
            "2개월 전 5.1천\n",
            "2개월 전 1.3만\n",
            "2개월 전 2.6만\n",
            "2개월 전 1.6만\n",
            "2개월 전 3.8천\n",
            "3개월 전 5.2천\n",
            "3개월 전 582\n",
            "33 https://www.youtube.com/channel/UCkRLHkauKujg_qrfgA_FUpg/videos\n"
          ]
        },
        {
          "name": "stderr",
          "output_type": "stream",
          "text": [
            "  2%|▏         | 34/1936 [02:58<2:45:41,  5.23s/it]"
          ]
        },
        {
          "name": "stdout",
          "output_type": "stream",
          "text": [
            "2일 전 1.5만\n",
            "9일 전 2.1만\n",
            "2주 전 2.5만\n",
            "3주 전 3.1만\n",
            "1개월 전 3만\n",
            "1개월 전 2.8만\n",
            "2개월 전 2.5만\n",
            "2개월 전 2.3만\n",
            "2개월 전 3.7만\n",
            "2개월 전 2만\n",
            "3개월 전 2.9만\n",
            "3개월 전 3.8만\n",
            "3개월 전 2.8만\n",
            "3개월 전 3.2만\n",
            "34 https://www.youtube.com/channel/UC2uG3GCFiVbjWm8e3-Drnxg/videos\n"
          ]
        },
        {
          "name": "stderr",
          "output_type": "stream",
          "text": [
            "  2%|▏         | 35/1936 [03:03<2:44:26,  5.19s/it]"
          ]
        },
        {
          "name": "stdout",
          "output_type": "stream",
          "text": [
            "19시간 전 318\n",
            "2일 전 703\n",
            "5일 전 1.1천\n",
            "3주 전 2.3천\n",
            "3주 전 2.2천\n",
            "4주 전 837\n",
            "1개월 전 1.3천\n",
            "1개월 전 801\n",
            "1개월 전 761\n",
            "1개월 전 638\n",
            "2개월 전 552\n",
            "2개월 전 742\n",
            "2개월 전 528\n",
            "2개월 전 1.4천\n",
            "2개월 전 1.3천\n",
            "2개월 전 3천\n",
            "3개월 전 2.6천\n",
            "3개월 전 2.8만\n",
            "3개월 전 2.3천\n",
            "3개월 전 1.3천\n",
            "35 https://www.youtube.com/channel/UC3FKRf9yBdtCvsrB8lcIAKg/videos\n"
          ]
        },
        {
          "name": "stderr",
          "output_type": "stream",
          "text": [
            "  2%|▏         | 36/1936 [03:09<2:49:05,  5.34s/it]"
          ]
        }
      ],
      "source": [
        "# 크롤링\n",
        "channel_id_list = ncv_df['채널 ID'].unique().tolist()\n",
        "youtube_video_url_dic = {}\n",
        "\n",
        "driver = webdriver.Chrome() # 크롬 옵션 지정 시 options=chrome_options 추가\n",
        "\n",
        "for i in tqdm(range(len(channel_id_list))):\n",
        "    url = 'https://www.youtube.com/channel/' + channel_id_list[i] + '/videos'\n",
        "    driver.get(url)\n",
        "    time.sleep(3)\n",
        "    print(i, url)\n",
        "\n",
        "    pageString = driver.page_source\n",
        "    soup = BeautifulSoup(pageString, features='html.parser')\n",
        "\n",
        "    date_count = 0\n",
        "    video_date_list = []\n",
        "    video_view_list = []\n",
        "    date_list = ['분 전', '시간 전', '1일 전', '2일 전', '3일 전', '4일 전', '5일 전', '6일 전', '7일 전', '8일 전', '9일 전',\n",
        "                 '10일 전', '11일 전', '12일 전', '13일 전', '2주 전', '3주 전', '4주 전', '1개월 전', '2개월 전', '3개월 전']\n",
        "\n",
        "    # 날짜, 제목\n",
        "    date_soup = soup.find_all('span', attrs={'class' : 'inline-metadata-item style-scope ytd-video-meta-block'})[1::2]\n",
        "    title_soup = soup.find_all('yt-formatted-string', attrs={'class' : 'style-scope ytd-rich-grid-media'})\n",
        "    view_soup = soup.find_all('span', attrs={'class' : 'inline-metadata-item style-scope ytd-video-meta-block'})[0::2]\n",
        "\n",
        "    # 날짜 기준에 맞는 영상 개수 카운트\n",
        "    for j in range(len(date_soup)):\n",
        "        if date_soup[j].text in date_list:\n",
        "            date_count += 1\n",
        "        if date_list[0] in date_soup[j].text:\n",
        "            date_count += 1\n",
        "\n",
        "    # 날짜 기준에 맞도록 날짜, 제목 정보 저장\n",
        "    date_soup = date_soup[:date_count]\n",
        "    title_soup = title_soup[:date_count]\n",
        "    view_soup = view_soup[:date_count]\n",
        "\n",
        "    # 영상 url 저장\n",
        "    for k in range(len(date_soup)):\n",
        "        video_date = date_soup[k].text\n",
        "        video_date_list.append(video_date)\n",
        "\n",
        "        video_view = view_soup[k].text.replace('조회수 ', '').replace('회', '')\n",
        "        video_view_list.append(video_view)\n",
        "\n",
        "        print(video_date, video_view)\n",
        "\n",
        "    youtube_video_url_dic[channel_id_list[i]] = video_date_list\n",
        "    youtube_video_url_dic[channel_id_list[i]] = video_view_list\n",
        "    \n",
        "driver.quit()"
      ]
    },
    {
      "cell_type": "code",
      "execution_count": null,
      "metadata": {
        "id": "nZ541zJgA86Q",
        "outputId": "427a48a5-58cd-4850-a651-8107a058531c"
      },
      "outputs": [
        {
          "data": {
            "text/plain": [
              "1519"
            ]
          },
          "execution_count": 36,
          "metadata": {},
          "output_type": "execute_result"
        }
      ],
      "source": [
        "youtube_all_video_df = pd.DataFrame()\n",
        "for i in range(len(youtube_video_url_dic.keys())):\n",
        "    new_youtube_df = pd.DataFrame({'channel id':[list(youtube_video_url_dic.keys())[i]] * len(youtube_video_url_dic[list(youtube_video_url_dic.keys())[i]]), \n",
        "                                   'view': youtube_video_url_dic[list(youtube_video_url_dic.keys())[i]]})\n",
        "    youtube_all_video_df = pd.concat([youtube_all_video_df, new_youtube_df])\n",
        "youtube_all_video_df = youtube_all_video_df.reset_index(drop=True)\n",
        "\n",
        "# 채널id 고유값 개수 확인\n",
        "youtube_all_video_df['channel id'].nunique()"
      ]
    },
    {
      "cell_type": "code",
      "execution_count": null,
      "metadata": {
        "id": "C8tXf2whA86Q",
        "outputId": "c302d6f7-5782-48c4-dfff-d36df3bb4d7d"
      },
      "outputs": [
        {
          "data": {
            "text/html": [
              "<div>\n",
              "<style scoped>\n",
              "    .dataframe tbody tr th:only-of-type {\n",
              "        vertical-align: middle;\n",
              "    }\n",
              "\n",
              "    .dataframe tbody tr th {\n",
              "        vertical-align: top;\n",
              "    }\n",
              "\n",
              "    .dataframe thead th {\n",
              "        text-align: right;\n",
              "    }\n",
              "</style>\n",
              "<table border=\"1\" class=\"dataframe\">\n",
              "  <thead>\n",
              "    <tr style=\"text-align: right;\">\n",
              "      <th></th>\n",
              "      <th>channel id</th>\n",
              "      <th>view</th>\n",
              "    </tr>\n",
              "  </thead>\n",
              "  <tbody>\n",
              "    <tr>\n",
              "      <th>0</th>\n",
              "      <td>UCe8YEoKunUWyVQQIGeGa-Dg</td>\n",
              "      <td>3700</td>\n",
              "    </tr>\n",
              "    <tr>\n",
              "      <th>1</th>\n",
              "      <td>UCe8YEoKunUWyVQQIGeGa-Dg</td>\n",
              "      <td>4400</td>\n",
              "    </tr>\n",
              "    <tr>\n",
              "      <th>2</th>\n",
              "      <td>UCe8YEoKunUWyVQQIGeGa-Dg</td>\n",
              "      <td>5400</td>\n",
              "    </tr>\n",
              "    <tr>\n",
              "      <th>3</th>\n",
              "      <td>UCe8YEoKunUWyVQQIGeGa-Dg</td>\n",
              "      <td>7900</td>\n",
              "    </tr>\n",
              "    <tr>\n",
              "      <th>4</th>\n",
              "      <td>UCe8YEoKunUWyVQQIGeGa-Dg</td>\n",
              "      <td>6500</td>\n",
              "    </tr>\n",
              "    <tr>\n",
              "      <th>...</th>\n",
              "      <td>...</td>\n",
              "      <td>...</td>\n",
              "    </tr>\n",
              "    <tr>\n",
              "      <th>26169</th>\n",
              "      <td>UCSHVH_AWVUc-C8-D8mh8W6A</td>\n",
              "      <td>18000</td>\n",
              "    </tr>\n",
              "    <tr>\n",
              "      <th>26170</th>\n",
              "      <td>UCSHVH_AWVUc-C8-D8mh8W6A</td>\n",
              "      <td>13000</td>\n",
              "    </tr>\n",
              "    <tr>\n",
              "      <th>26171</th>\n",
              "      <td>UCSHVH_AWVUc-C8-D8mh8W6A</td>\n",
              "      <td>43000</td>\n",
              "    </tr>\n",
              "    <tr>\n",
              "      <th>26172</th>\n",
              "      <td>UCSHVH_AWVUc-C8-D8mh8W6A</td>\n",
              "      <td>24000</td>\n",
              "    </tr>\n",
              "    <tr>\n",
              "      <th>26173</th>\n",
              "      <td>UCSHVH_AWVUc-C8-D8mh8W6A</td>\n",
              "      <td>21000</td>\n",
              "    </tr>\n",
              "  </tbody>\n",
              "</table>\n",
              "<p>26174 rows × 2 columns</p>\n",
              "</div>"
            ],
            "text/plain": [
              "                     channel id   view\n",
              "0      UCe8YEoKunUWyVQQIGeGa-Dg   3700\n",
              "1      UCe8YEoKunUWyVQQIGeGa-Dg   4400\n",
              "2      UCe8YEoKunUWyVQQIGeGa-Dg   5400\n",
              "3      UCe8YEoKunUWyVQQIGeGa-Dg   7900\n",
              "4      UCe8YEoKunUWyVQQIGeGa-Dg   6500\n",
              "...                         ...    ...\n",
              "26169  UCSHVH_AWVUc-C8-D8mh8W6A  18000\n",
              "26170  UCSHVH_AWVUc-C8-D8mh8W6A  13000\n",
              "26171  UCSHVH_AWVUc-C8-D8mh8W6A  43000\n",
              "26172  UCSHVH_AWVUc-C8-D8mh8W6A  24000\n",
              "26173  UCSHVH_AWVUc-C8-D8mh8W6A  21000\n",
              "\n",
              "[26174 rows x 2 columns]"
            ]
          },
          "execution_count": 37,
          "metadata": {},
          "output_type": "execute_result"
        }
      ],
      "source": [
        "# 조회수 계산\n",
        "for i in range(len(youtube_all_video_df)):\n",
        "    if '천' in str(youtube_all_video_df['view'][i]): # 1,000\n",
        "        k_num = int(float(youtube_all_video_df['view'][i].replace('천', ''))*1000)\n",
        "        youtube_all_video_df.loc[i, 'view'] = format(k_num)\n",
        "    elif '만' in str(youtube_all_video_df['view'][i]): # 10,000\n",
        "        m_num = int(float(youtube_all_video_df['view'][i].replace('만', ''))*10000)\n",
        "        youtube_all_video_df.loc[i, 'view'] = format(m_num)\n",
        "\n",
        "youtube_all_video_df_copy = youtube_all_video_df.copy()\n",
        "youtube_all_video_df_copy"
      ]
    },
    {
      "cell_type": "code",
      "execution_count": null,
      "metadata": {
        "id": "BL3Y4z0bA86Q",
        "outputId": "9f79fe37-a48c-4420-ccfd-5d8b3360f229"
      },
      "outputs": [
        {
          "name": "stdout",
          "output_type": "stream",
          "text": [
            "<class 'pandas.core.frame.DataFrame'>\n",
            "RangeIndex: 26174 entries, 0 to 26173\n",
            "Data columns (total 2 columns):\n",
            " #   Column      Non-Null Count  Dtype \n",
            "---  ------      --------------  ----- \n",
            " 0   channel id  26174 non-null  object\n",
            " 1   view        26174 non-null  object\n",
            "dtypes: object(2)\n",
            "memory usage: 409.1+ KB\n"
          ]
        }
      ],
      "source": [
        "youtube_all_video_df_copy.info()"
      ]
    },
    {
      "cell_type": "code",
      "execution_count": null,
      "metadata": {
        "id": "7BOA-IY0A86R",
        "outputId": "088600de-e5d1-419a-cca4-6b4b907ef8c7"
      },
      "outputs": [
        {
          "name": "stdout",
          "output_type": "stream",
          "text": [
            "<class 'pandas.core.frame.DataFrame'>\n",
            "RangeIndex: 26174 entries, 0 to 26173\n",
            "Data columns (total 2 columns):\n",
            " #   Column      Non-Null Count  Dtype  \n",
            "---  ------      --------------  -----  \n",
            " 0   channel id  26174 non-null  object \n",
            " 1   view        26173 non-null  float64\n",
            "dtypes: float64(1), object(1)\n",
            "memory usage: 409.1+ KB\n"
          ]
        }
      ],
      "source": [
        "# 조회수(view) 문자열 -> 숫자\n",
        "youtube_all_video_df_copy['view'] = pd.to_numeric(youtube_all_video_df_copy['view'], errors='coerce')\n",
        "youtube_all_video_df_copy.info()"
      ]
    },
    {
      "cell_type": "code",
      "execution_count": null,
      "metadata": {
        "id": "NLSt5dCYA86R",
        "outputId": "ea0ede47-5e02-4be4-8834-1ac565e115c0"
      },
      "outputs": [
        {
          "name": "stdout",
          "output_type": "stream",
          "text": [
            "<class 'pandas.core.frame.DataFrame'>\n",
            "Index: 26173 entries, 0 to 26173\n",
            "Data columns (total 2 columns):\n",
            " #   Column      Non-Null Count  Dtype  \n",
            "---  ------      --------------  -----  \n",
            " 0   channel id  26173 non-null  object \n",
            " 1   view        26173 non-null  float64\n",
            "dtypes: float64(1), object(1)\n",
            "memory usage: 613.4+ KB\n"
          ]
        }
      ],
      "source": [
        "# null 값 삭제\n",
        "youtube_all_video_df_copy.dropna(inplace=True)\n",
        "youtube_all_video_df_copy.info()"
      ]
    },
    {
      "cell_type": "code",
      "execution_count": null,
      "metadata": {
        "id": "GhrBozlNA86S",
        "outputId": "aee9a376-a256-4430-da57-ed733bd6235c"
      },
      "outputs": [
        {
          "data": {
            "text/html": [
              "<div>\n",
              "<style scoped>\n",
              "    .dataframe tbody tr th:only-of-type {\n",
              "        vertical-align: middle;\n",
              "    }\n",
              "\n",
              "    .dataframe tbody tr th {\n",
              "        vertical-align: top;\n",
              "    }\n",
              "\n",
              "    .dataframe thead th {\n",
              "        text-align: right;\n",
              "    }\n",
              "</style>\n",
              "<table border=\"1\" class=\"dataframe\">\n",
              "  <thead>\n",
              "    <tr style=\"text-align: right;\">\n",
              "      <th></th>\n",
              "      <th>channel id</th>\n",
              "      <th>view</th>\n",
              "    </tr>\n",
              "  </thead>\n",
              "  <tbody>\n",
              "    <tr>\n",
              "      <th>0</th>\n",
              "      <td>UC-0tICWyA0_AJAVMBHL8GdQ</td>\n",
              "      <td>11088.888889</td>\n",
              "    </tr>\n",
              "    <tr>\n",
              "      <th>1</th>\n",
              "      <td>UC-5acDjU6XFWu-__G17V_YQ</td>\n",
              "      <td>189366.666667</td>\n",
              "    </tr>\n",
              "    <tr>\n",
              "      <th>2</th>\n",
              "      <td>UC-6DLwseTZG-l4JprVV2MIQ</td>\n",
              "      <td>8636.941176</td>\n",
              "    </tr>\n",
              "    <tr>\n",
              "      <th>3</th>\n",
              "      <td>UC-7ZO1RZQq4O_xq9Zu8CyOg</td>\n",
              "      <td>64000.000000</td>\n",
              "    </tr>\n",
              "    <tr>\n",
              "      <th>4</th>\n",
              "      <td>UC-AuoahqpeL4yoK4kvu___g</td>\n",
              "      <td>150000.000000</td>\n",
              "    </tr>\n",
              "    <tr>\n",
              "      <th>...</th>\n",
              "      <td>...</td>\n",
              "      <td>...</td>\n",
              "    </tr>\n",
              "    <tr>\n",
              "      <th>1514</th>\n",
              "      <td>UCzjEp3u8RMkOJwpc3RzxmWg</td>\n",
              "      <td>24817.241379</td>\n",
              "    </tr>\n",
              "    <tr>\n",
              "      <th>1515</th>\n",
              "      <td>UCzjXBk6GY0wHt_iXAvKaaVA</td>\n",
              "      <td>55705.882353</td>\n",
              "    </tr>\n",
              "    <tr>\n",
              "      <th>1516</th>\n",
              "      <td>UCznImSIaxZR7fdLCICLdgaQ</td>\n",
              "      <td>56296.666667</td>\n",
              "    </tr>\n",
              "    <tr>\n",
              "      <th>1517</th>\n",
              "      <td>UCzpOLMBZ6qxhb6GJ5eksq5A</td>\n",
              "      <td>128666.666667</td>\n",
              "    </tr>\n",
              "    <tr>\n",
              "      <th>1518</th>\n",
              "      <td>UCzucXSFjhZb10mqjXHXTo5Q</td>\n",
              "      <td>461666.666667</td>\n",
              "    </tr>\n",
              "  </tbody>\n",
              "</table>\n",
              "<p>1519 rows × 2 columns</p>\n",
              "</div>"
            ],
            "text/plain": [
              "                    channel id           view\n",
              "0     UC-0tICWyA0_AJAVMBHL8GdQ   11088.888889\n",
              "1     UC-5acDjU6XFWu-__G17V_YQ  189366.666667\n",
              "2     UC-6DLwseTZG-l4JprVV2MIQ    8636.941176\n",
              "3     UC-7ZO1RZQq4O_xq9Zu8CyOg   64000.000000\n",
              "4     UC-AuoahqpeL4yoK4kvu___g  150000.000000\n",
              "...                        ...            ...\n",
              "1514  UCzjEp3u8RMkOJwpc3RzxmWg   24817.241379\n",
              "1515  UCzjXBk6GY0wHt_iXAvKaaVA   55705.882353\n",
              "1516  UCznImSIaxZR7fdLCICLdgaQ   56296.666667\n",
              "1517  UCzpOLMBZ6qxhb6GJ5eksq5A  128666.666667\n",
              "1518  UCzucXSFjhZb10mqjXHXTo5Q  461666.666667\n",
              "\n",
              "[1519 rows x 2 columns]"
            ]
          },
          "execution_count": 43,
          "metadata": {},
          "output_type": "execute_result"
        }
      ],
      "source": [
        "# 채널별 평균 조회수 계산\n",
        "channel_avg_view_df = youtube_all_video_df_copy.groupby('channel id')['view'].mean().reset_index()\n",
        "channel_avg_view_df\n",
        "# 데이터프레임 확인 후 구글 시트에 저장!"
      ]
    },
    {
      "cell_type": "code",
      "execution_count": null,
      "metadata": {
        "id": "5R9FugcOA86S",
        "outputId": "153cd44c-99f8-4eff-8646-36d5febc9c92"
      },
      "outputs": [
        {
          "name": "stdout",
          "output_type": "stream",
          "text": [
            "<class 'pandas.core.frame.DataFrame'>\n",
            "RangeIndex: 1519 entries, 0 to 1518\n",
            "Data columns (total 2 columns):\n",
            " #   Column      Non-Null Count  Dtype  \n",
            "---  ------      --------------  -----  \n",
            " 0   channel id  1519 non-null   object \n",
            " 1   view        1519 non-null   float64\n",
            "dtypes: float64(1), object(1)\n",
            "memory usage: 23.9+ KB\n"
          ]
        }
      ],
      "source": [
        "channel_avg_view_df.info()"
      ]
    },
    {
      "cell_type": "code",
      "execution_count": null,
      "metadata": {
        "id": "AmPMW1NgA86S"
      },
      "outputs": [],
      "source": [
        "# 결과 저장\n",
        "gc = pygsheets.authorize(service_account_file='creds.json')\n",
        "sheetname= '단가분석'\n",
        "\n",
        "# 오류 발생 시, worksheet의 행 수 늘려서 재실행\n",
        "sh = gc.open(sheetname)\n",
        "wks = sh.worksheet_by_title('유튜브 평균 조회수')\n",
        "wks.set_dataframe(channel_avg_view_df, 'A1', index=False)"
      ]
    }
  ],
  "metadata": {
    "anaconda-cloud": {},
    "colab": {
      "provenance": []
    },
    "kernelspec": {
      "display_name": "Python 3",
      "language": "python",
      "name": "python3"
    },
    "language_info": {
      "codemirror_mode": {
        "name": "ipython",
        "version": 3
      },
      "file_extension": ".py",
      "mimetype": "text/x-python",
      "name": "python",
      "nbconvert_exporter": "python",
      "pygments_lexer": "ipython3",
      "version": "3.11.5"
    }
  },
  "nbformat": 4,
  "nbformat_minor": 0
}
